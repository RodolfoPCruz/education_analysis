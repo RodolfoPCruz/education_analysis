{
 "cells": [
  {
   "cell_type": "code",
   "execution_count": 1,
   "metadata": {},
   "outputs": [],
   "source": [
    "import numpy as np\n",
    "import pandas as pd\n",
    "import seaborn as sns\n",
    "import plotly.express as px\n",
    "\n",
    "\n",
    "import glob"
   ]
  },
  {
   "cell_type": "markdown",
   "metadata": {},
   "source": [
    "# Ranking Melhores Universidades (2011_2024)\n",
    "\n",
    "# Times Higher Education"
   ]
  },
  {
   "cell_type": "markdown",
   "metadata": {},
   "source": [
    "Times higher education é uma revista britânica que trata sobre assuntos relacionados a educação superior. Ela publica rankings anuais que classificam as melhores universidades ao redor do mundo."
   ]
  },
  {
   "cell_type": "markdown",
   "metadata": {},
   "source": [
    "Sobre os dados:\n",
    "\n",
    "The THE World University Rankings provide the definitive list of the world’s best universities, with an emphasis on the research mission. It is the only global university league table to judge research-intensive universities across all of their core missions: teaching (the learning environment); research (volume, income and reputation); citations (research influence); industry income (knowledge transfer) and international outlook (staff, students and research). It uses 13 carefully calibrated performance indicators to provide the most comprehensive and balanced comparisons. The overall list is accompanied by 11 subject-specific rankings.\n",
    "\n",
    "Original data, as well as ranking methodology described per each year, is available on the official website www.timeshighereducation.com\n",
    " Methodology (2024): https://www.timeshighereducation.com/world-university-rankings/world-university-rankings-2024-methodology\n",
    "\n",
    "\n",
    " Cinco fatores foram considerados para a contrução dos rankings, são eles:\n",
    " Fonte: https://www.timeshighereducation.com/student/news/how-use-rankings-frequently-asked-questions\n",
    "\n",
    "\n",
    "- Teaching is a measure of the learning experience and quality at a university. It is based on the reputation among academics, and statistics about staff, students and research (peso 0.3);\n",
    "- Research is a measure of both the quality and quantity of research output, based on reputation, research income and productivity (peso 0.3);\n",
    "- Citations measures how influential that research is, and counts the number of times work published by academics at the university is cited in other papers (peso 0.3);\n",
    "- International Outlook measures the environment and attitude with respect to international students, staff and research. It is based on international-to-domestic ratios across staff, students and research collaborations (peso 0.075);\n",
    "- Innovation or Industry Income is a measure of innovation at a university, based on how much the university earns from its inventions and industrial work (peso 0.025).\n",
    "\n"
   ]
  },
  {
   "cell_type": "markdown",
   "metadata": {},
   "source": [
    "## Carregar Dados"
   ]
  },
  {
   "cell_type": "code",
   "execution_count": 2,
   "metadata": {},
   "outputs": [
    {
     "data": {
      "text/plain": [
       "['../dados/THE World University Rankings 2011-2024/2015_rankings.csv',\n",
       " '../dados/THE World University Rankings 2011-2024/2019_rankings.csv',\n",
       " '../dados/THE World University Rankings 2011-2024/2024_rankings.csv',\n",
       " '../dados/THE World University Rankings 2011-2024/2011_rankings.csv',\n",
       " '../dados/THE World University Rankings 2011-2024/2016_rankings.csv',\n",
       " '../dados/THE World University Rankings 2011-2024/2014_rankings.csv',\n",
       " '../dados/THE World University Rankings 2011-2024/2023_rankings.csv',\n",
       " '../dados/THE World University Rankings 2011-2024/2012_rankings.csv',\n",
       " '../dados/THE World University Rankings 2011-2024/2020_rankings.csv',\n",
       " '../dados/THE World University Rankings 2011-2024/2017_rankings.csv',\n",
       " '../dados/THE World University Rankings 2011-2024/2022_rankings.csv',\n",
       " '../dados/THE World University Rankings 2011-2024/2013_rankings.csv',\n",
       " '../dados/THE World University Rankings 2011-2024/2021_rankings.csv',\n",
       " '../dados/THE World University Rankings 2011-2024/2018_rankings.csv']"
      ]
     },
     "execution_count": 2,
     "metadata": {},
     "output_type": "execute_result"
    }
   ],
   "source": [
    "#Link para download dos dados: https://www.kaggle.com/datasets/r1chardson/the-world-university-rankings-2011-2023\n",
    "\n",
    "path_the='../dados/THE World University Rankings 2011-2024' #caminho onde estão salvos os dados\n",
    "files_the=glob.glob(path_the+'/*.csv')\n",
    "files_the"
   ]
  },
  {
   "cell_type": "code",
   "execution_count": 3,
   "metadata": {},
   "outputs": [],
   "source": [
    "dados={} #dicionário que receberá os dados dos rankings entre 2011 e 2024, cada key no dicionário será um ano\n",
    "anos=[str(ano) for ano in range(2011,2025,1)] #strings com os anos que serão usadas na contrução do dicionário\n",
    "colunas_ano={} #dicinário com as colunas presentes nos ranking de cada ano. Será criado para avaliar se as métricas são as mesmas em todos os rankings\n",
    "                #nesse dicionário as keys são os anos dos rankings e os valores as colunas presentes nos rankings\n",
    "for index, file_path in enumerate(files_the):\n",
    "    dados[anos[index]]=pd.read_csv(file_path)  #dados carregados no dicionário\n",
    "    colunas_ano[anos[index]]=dados[anos[index]].columns.to_list()"
   ]
  },
  {
   "cell_type": "markdown",
   "metadata": {},
   "source": [
    "## Análise Exploratória"
   ]
  },
  {
   "cell_type": "code",
   "execution_count": 4,
   "metadata": {},
   "outputs": [
    {
     "name": "stdout",
     "output_type": "stream",
     "text": [
      "2011: 20 colunas\n",
      "2012: 24 colunas\n",
      "2013: 25 colunas\n",
      "2014: 20 colunas\n",
      "2015: 24 colunas\n",
      "2016: 20 colunas\n",
      "2017: 24 colunas\n",
      "2018: 20 colunas\n",
      "2019: 24 colunas\n",
      "2020: 24 colunas\n",
      "2021: 24 colunas\n",
      "2022: 20 colunas\n",
      "2023: 24 colunas\n",
      "2024: 24 colunas\n"
     ]
    }
   ],
   "source": [
    "#Nem todas as métricas estão presentes em todos os rankings\n",
    "for ano in anos:\n",
    "    print('{}: {} colunas'.format(ano,len(colunas_ano[ano])))"
   ]
  },
  {
   "cell_type": "code",
   "execution_count": 5,
   "metadata": {},
   "outputs": [
    {
     "name": "stdout",
     "output_type": "stream",
     "text": [
      "2011: 401 universidades no ranking)\n",
      "2012: 1258 universidades no ranking)\n",
      "2013: 2671 universidades no ranking)\n",
      "2014: 200 universidades no ranking)\n",
      "2015: 800 universidades no ranking)\n",
      "2016: 400 universidades no ranking)\n",
      "2017: 2345 universidades no ranking)\n",
      "2018: 402 universidades no ranking)\n",
      "2019: 1397 universidades no ranking)\n",
      "2020: 981 universidades no ranking)\n",
      "2021: 2112 universidades no ranking)\n",
      "2022: 400 universidades no ranking)\n",
      "2023: 1526 universidades no ranking)\n",
      "2024: 1103 universidades no ranking)\n"
     ]
    }
   ],
   "source": [
    "#Número de Universidade avaliadas em cada ano:\n",
    "for ano in anos:\n",
    "    print('{}: {} universidades no ranking)'.format(ano,len(dados[ano])))"
   ]
  },
  {
   "cell_type": "code",
   "execution_count": 6,
   "metadata": {},
   "outputs": [
    {
     "name": "stdout",
     "output_type": "stream",
     "text": [
      "2011: stats_number_students - ausente\n",
      "2011: stats_student_staff_ratio - ausente\n",
      "2011: stats_pc_intl_students - ausente\n",
      "2011: stats_female_male_ratio - ausente\n",
      "\n",
      "\n",
      "\n",
      "2014: stats_number_students - ausente\n",
      "2014: stats_student_staff_ratio - ausente\n",
      "2014: stats_pc_intl_students - ausente\n",
      "2014: stats_female_male_ratio - ausente\n",
      "\n",
      "\n",
      "2016: stats_number_students - ausente\n",
      "2016: stats_student_staff_ratio - ausente\n",
      "2016: stats_pc_intl_students - ausente\n",
      "2016: stats_female_male_ratio - ausente\n",
      "\n",
      "\n",
      "2018: stats_number_students - ausente\n",
      "2018: stats_student_staff_ratio - ausente\n",
      "2018: stats_pc_intl_students - ausente\n",
      "2018: stats_female_male_ratio - ausente\n",
      "\n",
      "\n",
      "\n",
      "\n",
      "2022: stats_number_students - ausente\n",
      "2022: stats_student_staff_ratio - ausente\n",
      "2022: stats_pc_intl_students - ausente\n",
      "2022: stats_female_male_ratio - ausente\n",
      "\n",
      "\n",
      "\n"
     ]
    }
   ],
   "source": [
    "#Métricas que estão presentes no ranking de 2024 mas não estão em outros rankings\n",
    "for ano in anos:\n",
    "    for metric in colunas_ano['2024']:\n",
    "        if metric not in  colunas_ano[ano]:\n",
    "            print('{}: {} - ausente'.format(ano,metric))\n",
    "    print('')"
   ]
  },
  {
   "cell_type": "markdown",
   "metadata": {},
   "source": [
    "Descrição das métricas (colunas nos dataframes): \n",
    "\n",
    "- rank_order: posição geral da universidade, considerando todas as notas atribuídas\n",
    "- rank\n",
    "- name: nome da universidade\n",
    "- scores_overall: pontuação média da universidade considerando todas a métricas\n",
    "- scores_overall_rank: ranking da universidade considerando o overall score\n",
    "- scores_teaching: pontuacao atribuída para ensino\n",
    "- scores_teaching_rank: rankeamento de acordo com o score para ensino\n",
    "- scores_international_outlook: nível de internacionalização da universidade, mede a capacidade da universidade de atrair estudantes estrangeiros\n",
    "- scores_international_outlook_rank: rankeamento de acorde com o nível de internacionalização\n",
    "- scores_industry_income: mede a capacidade da universidede de coloborar com a indústria\n",
    "- scores_industry_income_rank:  ranking criado de acordo com o scores_industry_income\n",
    "- scores_research :avaliação da qualidade da pesquisa realizada na universidade\n",
    "- scores_research_rank: ranking criado de acordo com o scores_research\n",
    "- scores_citations :pontuação atribuída de acordo com as citações recebidas pelos trabalhos produzidos na universidade\n",
    "- scores_citations_rank: ranking criado de acordo com scores_citations\n",
    "- location: localização da universidade\n",
    "- aliases: \n",
    "- subjects_offered': cursos oferecidos\n",
    "- closed: se a universidade está ou não fechada\n",
    "- unaccredited : universidade possui ou não credenciamento formal\n",
    "- stats_proportion_of_isr: intedisciplinidade\n",
    "- stats_female_male_ratio: proporção entre mulheres e homens\n",
    "- stats_pc_intl_students: \n",
    "- stats_student_staff_ratio: proporção entre o número estudantes e de funcionários\n",
    "- stats_number_students: número de estudantes\n",
    "\n"
   ]
  },
  {
   "cell_type": "code",
   "execution_count": 7,
   "metadata": {},
   "outputs": [],
   "source": [
    "#Conversão do dicionário em dataframe\n",
    "df_dados=pd.concat(dados,axis=0)\n",
    "#df_dados é um dataframe com os rankings de 2011 até 2024\n",
    "#O primeiro index de df_dados é o ano do ranking. O ranking de cada ano está ordenado de acordo com a posição das universidade no ranking, da primeira até a última"
   ]
  },
  {
   "cell_type": "code",
   "execution_count": 8,
   "metadata": {},
   "outputs": [
    {
     "name": "stdout",
     "output_type": "stream",
     "text": [
      "<class 'pandas.core.frame.DataFrame'>\n",
      "MultiIndex: 15996 entries, ('2011', np.int64(0)) to ('2024', np.int64(1102))\n",
      "Data columns (total 25 columns):\n",
      " #   Column                             Non-Null Count  Dtype  \n",
      "---  ------                             --------------  -----  \n",
      " 0   rank_order                         15996 non-null  int64  \n",
      " 1   rank                               15996 non-null  object \n",
      " 2   name                               15996 non-null  object \n",
      " 3   scores_overall                     14235 non-null  object \n",
      " 4   scores_overall_rank                15996 non-null  int64  \n",
      " 5   scores_teaching                    14235 non-null  float64\n",
      " 6   scores_teaching_rank               15996 non-null  int64  \n",
      " 7   scores_international_outlook       14235 non-null  object \n",
      " 8   scores_international_outlook_rank  15996 non-null  int64  \n",
      " 9   scores_industry_income             14235 non-null  object \n",
      " 10  scores_industry_income_rank        15996 non-null  int64  \n",
      " 11  scores_research                    14235 non-null  float64\n",
      " 12  scores_research_rank               15996 non-null  int64  \n",
      " 13  scores_citations                   14235 non-null  float64\n",
      " 14  scores_citations_rank              15996 non-null  int64  \n",
      " 15  location                           15995 non-null  object \n",
      " 16  aliases                            15996 non-null  object \n",
      " 17  subjects_offered                   15943 non-null  object \n",
      " 18  closed                             15996 non-null  bool   \n",
      " 19  unaccredited                       15996 non-null  bool   \n",
      " 20  stats_number_students              14193 non-null  object \n",
      " 21  stats_student_staff_ratio          14192 non-null  float64\n",
      " 22  stats_pc_intl_students             14193 non-null  object \n",
      " 23  stats_female_male_ratio            13573 non-null  object \n",
      " 24  stats_proportion_of_isr            2454 non-null   object \n",
      "dtypes: bool(2), float64(4), int64(7), object(12)\n",
      "memory usage: 3.0+ MB\n"
     ]
    }
   ],
   "source": [
    "df_dados.info()"
   ]
  },
  {
   "cell_type": "code",
   "execution_count": 9,
   "metadata": {},
   "outputs": [
    {
     "data": {
      "text/html": [
       "<div>\n",
       "<style scoped>\n",
       "    .dataframe tbody tr th:only-of-type {\n",
       "        vertical-align: middle;\n",
       "    }\n",
       "\n",
       "    .dataframe tbody tr th {\n",
       "        vertical-align: top;\n",
       "    }\n",
       "\n",
       "    .dataframe thead th {\n",
       "        text-align: right;\n",
       "    }\n",
       "</style>\n",
       "<table border=\"1\" class=\"dataframe\">\n",
       "  <thead>\n",
       "    <tr style=\"text-align: right;\">\n",
       "      <th></th>\n",
       "      <th>rank_order</th>\n",
       "      <th>rank</th>\n",
       "      <th>name</th>\n",
       "      <th>scores_overall</th>\n",
       "      <th>scores_overall_rank</th>\n",
       "      <th>scores_teaching</th>\n",
       "      <th>scores_teaching_rank</th>\n",
       "      <th>scores_international_outlook</th>\n",
       "      <th>scores_international_outlook_rank</th>\n",
       "      <th>scores_industry_income</th>\n",
       "      <th>...</th>\n",
       "      <th>location</th>\n",
       "      <th>aliases</th>\n",
       "      <th>subjects_offered</th>\n",
       "      <th>closed</th>\n",
       "      <th>unaccredited</th>\n",
       "      <th>stats_number_students</th>\n",
       "      <th>stats_student_staff_ratio</th>\n",
       "      <th>stats_pc_intl_students</th>\n",
       "      <th>stats_female_male_ratio</th>\n",
       "      <th>stats_proportion_of_isr</th>\n",
       "    </tr>\n",
       "  </thead>\n",
       "  <tbody>\n",
       "    <tr>\n",
       "      <th>0</th>\n",
       "      <td>10</td>\n",
       "      <td>1</td>\n",
       "      <td>University of Oxford</td>\n",
       "      <td>94.3</td>\n",
       "      <td>10</td>\n",
       "      <td>86.7</td>\n",
       "      <td>5</td>\n",
       "      <td>95.0</td>\n",
       "      <td>24</td>\n",
       "      <td>63.7</td>\n",
       "      <td>...</td>\n",
       "      <td>United Kingdom</td>\n",
       "      <td>University of Oxford</td>\n",
       "      <td>Accounting &amp; Finance,General Engineering,Commu...</td>\n",
       "      <td>False</td>\n",
       "      <td>False</td>\n",
       "      <td>20,410</td>\n",
       "      <td>11.2</td>\n",
       "      <td>38%</td>\n",
       "      <td>46 : 54</td>\n",
       "      <td>NaN</td>\n",
       "    </tr>\n",
       "    <tr>\n",
       "      <th>1</th>\n",
       "      <td>20</td>\n",
       "      <td>2</td>\n",
       "      <td>University of Cambridge</td>\n",
       "      <td>93.2</td>\n",
       "      <td>20</td>\n",
       "      <td>87.8</td>\n",
       "      <td>3</td>\n",
       "      <td>93.0</td>\n",
       "      <td>35</td>\n",
       "      <td>51.5</td>\n",
       "      <td>...</td>\n",
       "      <td>United Kingdom</td>\n",
       "      <td>University of Cambridge</td>\n",
       "      <td>Business &amp; Management,General Engineering,Art,...</td>\n",
       "      <td>False</td>\n",
       "      <td>False</td>\n",
       "      <td>18,390</td>\n",
       "      <td>10.9</td>\n",
       "      <td>35%</td>\n",
       "      <td>45 : 55</td>\n",
       "      <td>NaN</td>\n",
       "    </tr>\n",
       "    <tr>\n",
       "      <th>2</th>\n",
       "      <td>30</td>\n",
       "      <td>=3</td>\n",
       "      <td>California Institute of Technology</td>\n",
       "      <td>93.0</td>\n",
       "      <td>30</td>\n",
       "      <td>90.3</td>\n",
       "      <td>1</td>\n",
       "      <td>59.7</td>\n",
       "      <td>322</td>\n",
       "      <td>92.6</td>\n",
       "      <td>...</td>\n",
       "      <td>United States</td>\n",
       "      <td>California Institute of Technology caltech</td>\n",
       "      <td>Languages, Literature &amp; Linguistics,Economics ...</td>\n",
       "      <td>False</td>\n",
       "      <td>False</td>\n",
       "      <td>2,209</td>\n",
       "      <td>6.5</td>\n",
       "      <td>27%</td>\n",
       "      <td>31 : 69</td>\n",
       "      <td>NaN</td>\n",
       "    </tr>\n",
       "    <tr>\n",
       "      <th>3</th>\n",
       "      <td>40</td>\n",
       "      <td>=3</td>\n",
       "      <td>Stanford University</td>\n",
       "      <td>93.0</td>\n",
       "      <td>40</td>\n",
       "      <td>89.1</td>\n",
       "      <td>2</td>\n",
       "      <td>77.6</td>\n",
       "      <td>162</td>\n",
       "      <td>60.5</td>\n",
       "      <td>...</td>\n",
       "      <td>United States</td>\n",
       "      <td>Stanford University</td>\n",
       "      <td>Physics &amp; Astronomy,Computer Science,Politics ...</td>\n",
       "      <td>False</td>\n",
       "      <td>False</td>\n",
       "      <td>15,845</td>\n",
       "      <td>7.5</td>\n",
       "      <td>22%</td>\n",
       "      <td>42 : 58</td>\n",
       "      <td>NaN</td>\n",
       "    </tr>\n",
       "    <tr>\n",
       "      <th>4</th>\n",
       "      <td>50</td>\n",
       "      <td>5</td>\n",
       "      <td>Massachusetts Institute of Technology</td>\n",
       "      <td>92.5</td>\n",
       "      <td>50</td>\n",
       "      <td>87.3</td>\n",
       "      <td>4</td>\n",
       "      <td>87.6</td>\n",
       "      <td>81</td>\n",
       "      <td>88.4</td>\n",
       "      <td>...</td>\n",
       "      <td>United States</td>\n",
       "      <td>Massachusetts Institute of Technology</td>\n",
       "      <td>Mathematics &amp; Statistics,Languages, Literature...</td>\n",
       "      <td>False</td>\n",
       "      <td>False</td>\n",
       "      <td>11,177</td>\n",
       "      <td>8.7</td>\n",
       "      <td>34%</td>\n",
       "      <td>37 : 63</td>\n",
       "      <td>NaN</td>\n",
       "    </tr>\n",
       "  </tbody>\n",
       "</table>\n",
       "<p>5 rows × 25 columns</p>\n",
       "</div>"
      ],
      "text/plain": [
       "   rank_order rank                                   name scores_overall  \\\n",
       "0          10    1                   University of Oxford           94.3   \n",
       "1          20    2                University of Cambridge           93.2   \n",
       "2          30   =3     California Institute of Technology           93.0   \n",
       "3          40   =3                    Stanford University           93.0   \n",
       "4          50    5  Massachusetts Institute of Technology           92.5   \n",
       "\n",
       "   scores_overall_rank  scores_teaching  scores_teaching_rank  \\\n",
       "0                   10             86.7                     5   \n",
       "1                   20             87.8                     3   \n",
       "2                   30             90.3                     1   \n",
       "3                   40             89.1                     2   \n",
       "4                   50             87.3                     4   \n",
       "\n",
       "  scores_international_outlook  scores_international_outlook_rank  \\\n",
       "0                         95.0                                 24   \n",
       "1                         93.0                                 35   \n",
       "2                         59.7                                322   \n",
       "3                         77.6                                162   \n",
       "4                         87.6                                 81   \n",
       "\n",
       "  scores_industry_income  ...        location  \\\n",
       "0                   63.7  ...  United Kingdom   \n",
       "1                   51.5  ...  United Kingdom   \n",
       "2                   92.6  ...   United States   \n",
       "3                   60.5  ...   United States   \n",
       "4                   88.4  ...   United States   \n",
       "\n",
       "                                      aliases  \\\n",
       "0                        University of Oxford   \n",
       "1                     University of Cambridge   \n",
       "2  California Institute of Technology caltech   \n",
       "3                         Stanford University   \n",
       "4       Massachusetts Institute of Technology   \n",
       "\n",
       "                                    subjects_offered  closed  unaccredited  \\\n",
       "0  Accounting & Finance,General Engineering,Commu...   False         False   \n",
       "1  Business & Management,General Engineering,Art,...   False         False   \n",
       "2  Languages, Literature & Linguistics,Economics ...   False         False   \n",
       "3  Physics & Astronomy,Computer Science,Politics ...   False         False   \n",
       "4  Mathematics & Statistics,Languages, Literature...   False         False   \n",
       "\n",
       "  stats_number_students stats_student_staff_ratio stats_pc_intl_students  \\\n",
       "0                20,410                      11.2                    38%   \n",
       "1                18,390                      10.9                    35%   \n",
       "2                 2,209                       6.5                    27%   \n",
       "3                15,845                       7.5                    22%   \n",
       "4                11,177                       8.7                    34%   \n",
       "\n",
       "   stats_female_male_ratio  stats_proportion_of_isr  \n",
       "0                  46 : 54                      NaN  \n",
       "1                  45 : 55                      NaN  \n",
       "2                  31 : 69                      NaN  \n",
       "3                  42 : 58                      NaN  \n",
       "4                  37 : 63                      NaN  \n",
       "\n",
       "[5 rows x 25 columns]"
      ]
     },
     "execution_count": 9,
     "metadata": {},
     "output_type": "execute_result"
    }
   ],
   "source": [
    "#ranking do ano de 2024\n",
    "df_dados.loc['2024',:].head()"
   ]
  },
  {
   "cell_type": "code",
   "execution_count": 10,
   "metadata": {},
   "outputs": [],
   "source": [
    "#criar duas novas colunas, uma com a porcentagem de homens e outra com a porcentagem de mulheres\n",
    "df_dados=pd.concat([df_dados,df_dados['stats_female_male_ratio'].str.split(':',expand=True)],axis=1)\n",
    "df_dados.rename(columns={0:'male proportion',1:'female proportion'},inplace=True)"
   ]
  },
  {
   "cell_type": "code",
   "execution_count": 11,
   "metadata": {},
   "outputs": [
    {
     "data": {
      "text/html": [
       "<div>\n",
       "<style scoped>\n",
       "    .dataframe tbody tr th:only-of-type {\n",
       "        vertical-align: middle;\n",
       "    }\n",
       "\n",
       "    .dataframe tbody tr th {\n",
       "        vertical-align: top;\n",
       "    }\n",
       "\n",
       "    .dataframe thead th {\n",
       "        text-align: right;\n",
       "    }\n",
       "</style>\n",
       "<table border=\"1\" class=\"dataframe\">\n",
       "  <thead>\n",
       "    <tr style=\"text-align: right;\">\n",
       "      <th></th>\n",
       "      <th>rank_order</th>\n",
       "      <th>rank</th>\n",
       "      <th>name</th>\n",
       "      <th>scores_overall</th>\n",
       "      <th>scores_overall_rank</th>\n",
       "      <th>scores_teaching</th>\n",
       "      <th>scores_teaching_rank</th>\n",
       "      <th>scores_international_outlook</th>\n",
       "      <th>scores_international_outlook_rank</th>\n",
       "      <th>scores_industry_income</th>\n",
       "      <th>...</th>\n",
       "      <th>subjects_offered</th>\n",
       "      <th>closed</th>\n",
       "      <th>unaccredited</th>\n",
       "      <th>stats_number_students</th>\n",
       "      <th>stats_student_staff_ratio</th>\n",
       "      <th>stats_pc_intl_students</th>\n",
       "      <th>stats_female_male_ratio</th>\n",
       "      <th>stats_proportion_of_isr</th>\n",
       "      <th>male proportion</th>\n",
       "      <th>female proportion</th>\n",
       "    </tr>\n",
       "  </thead>\n",
       "  <tbody>\n",
       "    <tr>\n",
       "      <th>0</th>\n",
       "      <td>10</td>\n",
       "      <td>1</td>\n",
       "      <td>University of Oxford</td>\n",
       "      <td>94.3</td>\n",
       "      <td>10</td>\n",
       "      <td>86.7</td>\n",
       "      <td>5</td>\n",
       "      <td>95.0</td>\n",
       "      <td>24</td>\n",
       "      <td>63.7</td>\n",
       "      <td>...</td>\n",
       "      <td>Accounting &amp; Finance,General Engineering,Commu...</td>\n",
       "      <td>False</td>\n",
       "      <td>False</td>\n",
       "      <td>20,410</td>\n",
       "      <td>11.2</td>\n",
       "      <td>38%</td>\n",
       "      <td>46 : 54</td>\n",
       "      <td>NaN</td>\n",
       "      <td>46</td>\n",
       "      <td>54</td>\n",
       "    </tr>\n",
       "    <tr>\n",
       "      <th>1</th>\n",
       "      <td>20</td>\n",
       "      <td>2</td>\n",
       "      <td>University of Cambridge</td>\n",
       "      <td>93.2</td>\n",
       "      <td>20</td>\n",
       "      <td>87.8</td>\n",
       "      <td>3</td>\n",
       "      <td>93.0</td>\n",
       "      <td>35</td>\n",
       "      <td>51.5</td>\n",
       "      <td>...</td>\n",
       "      <td>Business &amp; Management,General Engineering,Art,...</td>\n",
       "      <td>False</td>\n",
       "      <td>False</td>\n",
       "      <td>18,390</td>\n",
       "      <td>10.9</td>\n",
       "      <td>35%</td>\n",
       "      <td>45 : 55</td>\n",
       "      <td>NaN</td>\n",
       "      <td>45</td>\n",
       "      <td>55</td>\n",
       "    </tr>\n",
       "    <tr>\n",
       "      <th>2</th>\n",
       "      <td>30</td>\n",
       "      <td>=3</td>\n",
       "      <td>California Institute of Technology</td>\n",
       "      <td>93.0</td>\n",
       "      <td>30</td>\n",
       "      <td>90.3</td>\n",
       "      <td>1</td>\n",
       "      <td>59.7</td>\n",
       "      <td>322</td>\n",
       "      <td>92.6</td>\n",
       "      <td>...</td>\n",
       "      <td>Languages, Literature &amp; Linguistics,Economics ...</td>\n",
       "      <td>False</td>\n",
       "      <td>False</td>\n",
       "      <td>2,209</td>\n",
       "      <td>6.5</td>\n",
       "      <td>27%</td>\n",
       "      <td>31 : 69</td>\n",
       "      <td>NaN</td>\n",
       "      <td>31</td>\n",
       "      <td>69</td>\n",
       "    </tr>\n",
       "    <tr>\n",
       "      <th>3</th>\n",
       "      <td>40</td>\n",
       "      <td>=3</td>\n",
       "      <td>Stanford University</td>\n",
       "      <td>93.0</td>\n",
       "      <td>40</td>\n",
       "      <td>89.1</td>\n",
       "      <td>2</td>\n",
       "      <td>77.6</td>\n",
       "      <td>162</td>\n",
       "      <td>60.5</td>\n",
       "      <td>...</td>\n",
       "      <td>Physics &amp; Astronomy,Computer Science,Politics ...</td>\n",
       "      <td>False</td>\n",
       "      <td>False</td>\n",
       "      <td>15,845</td>\n",
       "      <td>7.5</td>\n",
       "      <td>22%</td>\n",
       "      <td>42 : 58</td>\n",
       "      <td>NaN</td>\n",
       "      <td>42</td>\n",
       "      <td>58</td>\n",
       "    </tr>\n",
       "    <tr>\n",
       "      <th>4</th>\n",
       "      <td>50</td>\n",
       "      <td>5</td>\n",
       "      <td>Massachusetts Institute of Technology</td>\n",
       "      <td>92.5</td>\n",
       "      <td>50</td>\n",
       "      <td>87.3</td>\n",
       "      <td>4</td>\n",
       "      <td>87.6</td>\n",
       "      <td>81</td>\n",
       "      <td>88.4</td>\n",
       "      <td>...</td>\n",
       "      <td>Mathematics &amp; Statistics,Languages, Literature...</td>\n",
       "      <td>False</td>\n",
       "      <td>False</td>\n",
       "      <td>11,177</td>\n",
       "      <td>8.7</td>\n",
       "      <td>34%</td>\n",
       "      <td>37 : 63</td>\n",
       "      <td>NaN</td>\n",
       "      <td>37</td>\n",
       "      <td>63</td>\n",
       "    </tr>\n",
       "  </tbody>\n",
       "</table>\n",
       "<p>5 rows × 27 columns</p>\n",
       "</div>"
      ],
      "text/plain": [
       "   rank_order rank                                   name scores_overall  \\\n",
       "0          10    1                   University of Oxford           94.3   \n",
       "1          20    2                University of Cambridge           93.2   \n",
       "2          30   =3     California Institute of Technology           93.0   \n",
       "3          40   =3                    Stanford University           93.0   \n",
       "4          50    5  Massachusetts Institute of Technology           92.5   \n",
       "\n",
       "   scores_overall_rank  scores_teaching  scores_teaching_rank  \\\n",
       "0                   10             86.7                     5   \n",
       "1                   20             87.8                     3   \n",
       "2                   30             90.3                     1   \n",
       "3                   40             89.1                     2   \n",
       "4                   50             87.3                     4   \n",
       "\n",
       "  scores_international_outlook  scores_international_outlook_rank  \\\n",
       "0                         95.0                                 24   \n",
       "1                         93.0                                 35   \n",
       "2                         59.7                                322   \n",
       "3                         77.6                                162   \n",
       "4                         87.6                                 81   \n",
       "\n",
       "  scores_industry_income  ...  \\\n",
       "0                   63.7  ...   \n",
       "1                   51.5  ...   \n",
       "2                   92.6  ...   \n",
       "3                   60.5  ...   \n",
       "4                   88.4  ...   \n",
       "\n",
       "                                    subjects_offered  closed  unaccredited  \\\n",
       "0  Accounting & Finance,General Engineering,Commu...   False         False   \n",
       "1  Business & Management,General Engineering,Art,...   False         False   \n",
       "2  Languages, Literature & Linguistics,Economics ...   False         False   \n",
       "3  Physics & Astronomy,Computer Science,Politics ...   False         False   \n",
       "4  Mathematics & Statistics,Languages, Literature...   False         False   \n",
       "\n",
       "   stats_number_students  stats_student_staff_ratio stats_pc_intl_students  \\\n",
       "0                 20,410                       11.2                    38%   \n",
       "1                 18,390                       10.9                    35%   \n",
       "2                  2,209                        6.5                    27%   \n",
       "3                 15,845                        7.5                    22%   \n",
       "4                 11,177                        8.7                    34%   \n",
       "\n",
       "  stats_female_male_ratio stats_proportion_of_isr  male proportion  \\\n",
       "0                 46 : 54                     NaN              46    \n",
       "1                 45 : 55                     NaN              45    \n",
       "2                 31 : 69                     NaN              31    \n",
       "3                 42 : 58                     NaN              42    \n",
       "4                 37 : 63                     NaN              37    \n",
       "\n",
       "   female proportion  \n",
       "0                 54  \n",
       "1                 55  \n",
       "2                 69  \n",
       "3                 58  \n",
       "4                 63  \n",
       "\n",
       "[5 rows x 27 columns]"
      ]
     },
     "execution_count": 11,
     "metadata": {},
     "output_type": "execute_result"
    }
   ],
   "source": [
    "df_dados.loc['2024',:].head()"
   ]
  },
  {
   "cell_type": "code",
   "execution_count": 12,
   "metadata": {},
   "outputs": [
    {
     "data": {
      "text/plain": [
       "2011  0          NaN\n",
       "      1          NaN\n",
       "      2          NaN\n",
       "      3          NaN\n",
       "      4          NaN\n",
       "               ...  \n",
       "2024  1098     9.254\n",
       "      1099    15.468\n",
       "      1100    13.600\n",
       "      1101    23.260\n",
       "      1102    10.305\n",
       "Name: stats_number_students, Length: 15996, dtype: object"
      ]
     },
     "execution_count": 12,
     "metadata": {},
     "output_type": "execute_result"
    }
   ],
   "source": [
    "#Substituir as virgulas por pontos na coluna stats_number_students\n",
    "#Essa coluna estão os números de estudantes em cada universidade, portanto são números inteiros\n",
    "\n",
    "df_dados['stats_number_students']=df_dados['stats_number_students'].str.replace(',','.')\n",
    "df_dados['stats_number_students']"
   ]
  },
  {
   "cell_type": "markdown",
   "metadata": {},
   "source": [
    "## Análise dos Rankings "
   ]
  },
  {
   "cell_type": "markdown",
   "metadata": {},
   "source": [
    "### Melhores colocadas ao longo dos anos"
   ]
  },
  {
   "cell_type": "code",
   "execution_count": 13,
   "metadata": {},
   "outputs": [],
   "source": [
    "def select_top_ranking(dados,feature,n_top,anos_selecionados):\n",
    "    '''\n",
    "    Função que seleciona as n primeiras linhas para o ranking de cada ano. \n",
    "    O dataframe dados tem os rankings das universidades entre 2001 a 2024. Os rankings de cada ano estão ordenados de acordo com as posições das universidades no ranking, começando pelo primeiro\n",
    "    lugar.Sendo assim, se fature=name e n_top=9, a função retornará um dataframe com os nomes das universidade que oucuparam as 10 primeiras posições do ranking em cada ano.\n",
    "\n",
    "    dados   - Pandas dataframe com  os rankings\n",
    "    feature - (str) feature desejada. É uma das colunas presente no dataframe\n",
    "    n_top   - (int) Número de linhas que serão selecionadas. \n",
    "    anos_seleciondados - lista com anos em formato string. Definirá os ranking que se deseja analisar. Estão disponíveis os rankings entre os de 2011 e 2024 \n",
    "\n",
    "    '''\n",
    "    top_list=[]\n",
    "    n_top-=1 #subtrair 1. Necessário porque o index do dataframe começa em zero. Sem a subtração, caso n_top=10, seriam seleciondas 11 linhas.\n",
    "    for ano in anos_selecionados: #anos é um lista para selecionar os rankings que serão analisados\n",
    "        top=dados.loc[(ano,slice(0,n_top)),[feature]].rename(columns={feature:ano}) #multiindex: o primeiro index é o ano e o segundo index é selecionado no slice\n",
    "        top.reset_index(drop=True,inplace=True)\n",
    "        top_list.append(top)\n",
    "    top_list=pd.concat(top_list,axis=1) #converter a lista em dataframes\n",
    "    top_list=top_list.transpose() #transpor para que o ranking para cada anos apareça em cada linha\n",
    "    name_columns=[str(i)+'°' for i in range(1,n_top+2)] #NOmes das colunas\n",
    "    top_list.columns=name_columns\n",
    "\n",
    "    return top_list\n"
   ]
  },
  {
   "cell_type": "code",
   "execution_count": 14,
   "metadata": {},
   "outputs": [
    {
     "data": {
      "text/html": [
       "<div>\n",
       "<style scoped>\n",
       "    .dataframe tbody tr th:only-of-type {\n",
       "        vertical-align: middle;\n",
       "    }\n",
       "\n",
       "    .dataframe tbody tr th {\n",
       "        vertical-align: top;\n",
       "    }\n",
       "\n",
       "    .dataframe thead th {\n",
       "        text-align: right;\n",
       "    }\n",
       "</style>\n",
       "<table border=\"1\" class=\"dataframe\">\n",
       "  <thead>\n",
       "    <tr style=\"text-align: right;\">\n",
       "      <th></th>\n",
       "      <th>1°</th>\n",
       "      <th>2°</th>\n",
       "      <th>3°</th>\n",
       "      <th>4°</th>\n",
       "      <th>5°</th>\n",
       "      <th>6°</th>\n",
       "      <th>7°</th>\n",
       "      <th>8°</th>\n",
       "      <th>9°</th>\n",
       "      <th>10°</th>\n",
       "    </tr>\n",
       "  </thead>\n",
       "  <tbody>\n",
       "    <tr>\n",
       "      <th>2011</th>\n",
       "      <td>California Institute of Technology</td>\n",
       "      <td>Harvard University</td>\n",
       "      <td>University of Oxford</td>\n",
       "      <td>Stanford University</td>\n",
       "      <td>University of Cambridge</td>\n",
       "      <td>Massachusetts Institute of Technology</td>\n",
       "      <td>Princeton University</td>\n",
       "      <td>University of California, Berkeley</td>\n",
       "      <td>Yale University</td>\n",
       "      <td>Imperial College London</td>\n",
       "    </tr>\n",
       "    <tr>\n",
       "      <th>2012</th>\n",
       "      <td>University of Oxford</td>\n",
       "      <td>University of Cambridge</td>\n",
       "      <td>Stanford University</td>\n",
       "      <td>Massachusetts Institute of Technology</td>\n",
       "      <td>California Institute of Technology</td>\n",
       "      <td>Harvard University</td>\n",
       "      <td>Princeton University</td>\n",
       "      <td>Yale University</td>\n",
       "      <td>Imperial College London</td>\n",
       "      <td>The University of Chicago</td>\n",
       "    </tr>\n",
       "    <tr>\n",
       "      <th>2013</th>\n",
       "      <td>University of Oxford</td>\n",
       "      <td>Stanford University</td>\n",
       "      <td>Massachusetts Institute of Technology</td>\n",
       "      <td>Harvard University</td>\n",
       "      <td>University of Cambridge</td>\n",
       "      <td>Princeton University</td>\n",
       "      <td>California Institute of Technology</td>\n",
       "      <td>Imperial College London</td>\n",
       "      <td>University of California, Berkeley</td>\n",
       "      <td>Yale University</td>\n",
       "    </tr>\n",
       "    <tr>\n",
       "      <th>2014</th>\n",
       "      <td>Harvard University</td>\n",
       "      <td>California Institute of Technology</td>\n",
       "      <td>Massachusetts Institute of Technology</td>\n",
       "      <td>Stanford University</td>\n",
       "      <td>Princeton University</td>\n",
       "      <td>University of Oxford</td>\n",
       "      <td>University of Cambridge</td>\n",
       "      <td>University of California, Berkeley</td>\n",
       "      <td>Imperial College London</td>\n",
       "      <td>Yale University</td>\n",
       "    </tr>\n",
       "    <tr>\n",
       "      <th>2015</th>\n",
       "      <td>California Institute of Technology</td>\n",
       "      <td>University of Oxford</td>\n",
       "      <td>Stanford University</td>\n",
       "      <td>University of Cambridge</td>\n",
       "      <td>Massachusetts Institute of Technology</td>\n",
       "      <td>Harvard University</td>\n",
       "      <td>Princeton University</td>\n",
       "      <td>Imperial College London</td>\n",
       "      <td>ETH Zurich</td>\n",
       "      <td>The University of Chicago</td>\n",
       "    </tr>\n",
       "    <tr>\n",
       "      <th>2016</th>\n",
       "      <td>California Institute of Technology</td>\n",
       "      <td>Harvard University</td>\n",
       "      <td>University of Oxford</td>\n",
       "      <td>Stanford University</td>\n",
       "      <td>Massachusetts Institute of Technology</td>\n",
       "      <td>Princeton University</td>\n",
       "      <td>University of Cambridge</td>\n",
       "      <td>University of California, Berkeley</td>\n",
       "      <td>The University of Chicago</td>\n",
       "      <td>Imperial College London</td>\n",
       "    </tr>\n",
       "    <tr>\n",
       "      <th>2017</th>\n",
       "      <td>University of Oxford</td>\n",
       "      <td>Harvard University</td>\n",
       "      <td>University of Cambridge</td>\n",
       "      <td>Stanford University</td>\n",
       "      <td>Massachusetts Institute of Technology</td>\n",
       "      <td>California Institute of Technology</td>\n",
       "      <td>Princeton University</td>\n",
       "      <td>University of California, Berkeley</td>\n",
       "      <td>Yale University</td>\n",
       "      <td>Imperial College London</td>\n",
       "    </tr>\n",
       "    <tr>\n",
       "      <th>2018</th>\n",
       "      <td>California Institute of Technology</td>\n",
       "      <td>Harvard University</td>\n",
       "      <td>Stanford University</td>\n",
       "      <td>University of Oxford</td>\n",
       "      <td>Princeton University</td>\n",
       "      <td>University of Cambridge</td>\n",
       "      <td>Massachusetts Institute of Technology</td>\n",
       "      <td>Imperial College London</td>\n",
       "      <td>The University of Chicago</td>\n",
       "      <td>University of California, Berkeley</td>\n",
       "    </tr>\n",
       "    <tr>\n",
       "      <th>2019</th>\n",
       "      <td>University of Oxford</td>\n",
       "      <td>California Institute of Technology</td>\n",
       "      <td>University of Cambridge</td>\n",
       "      <td>Stanford University</td>\n",
       "      <td>Massachusetts Institute of Technology</td>\n",
       "      <td>Princeton University</td>\n",
       "      <td>Harvard University</td>\n",
       "      <td>Yale University</td>\n",
       "      <td>The University of Chicago</td>\n",
       "      <td>Imperial College London</td>\n",
       "    </tr>\n",
       "    <tr>\n",
       "      <th>2020</th>\n",
       "      <td>University of Oxford</td>\n",
       "      <td>California Institute of Technology</td>\n",
       "      <td>Stanford University</td>\n",
       "      <td>University of Cambridge</td>\n",
       "      <td>Massachusetts Institute of Technology</td>\n",
       "      <td>Harvard University</td>\n",
       "      <td>Princeton University</td>\n",
       "      <td>Imperial College London</td>\n",
       "      <td>ETH Zurich</td>\n",
       "      <td>University of California, Berkeley</td>\n",
       "    </tr>\n",
       "    <tr>\n",
       "      <th>2021</th>\n",
       "      <td>University of Oxford</td>\n",
       "      <td>California Institute of Technology</td>\n",
       "      <td>Harvard University</td>\n",
       "      <td>Stanford University</td>\n",
       "      <td>University of Cambridge</td>\n",
       "      <td>Massachusetts Institute of Technology</td>\n",
       "      <td>Princeton University</td>\n",
       "      <td>University of California, Berkeley</td>\n",
       "      <td>Yale University</td>\n",
       "      <td>The University of Chicago</td>\n",
       "    </tr>\n",
       "    <tr>\n",
       "      <th>2022</th>\n",
       "      <td>California Institute of Technology</td>\n",
       "      <td>Stanford University</td>\n",
       "      <td>University of Oxford</td>\n",
       "      <td>Harvard University</td>\n",
       "      <td>Massachusetts Institute of Technology</td>\n",
       "      <td>Princeton University</td>\n",
       "      <td>University of Cambridge</td>\n",
       "      <td>Imperial College London</td>\n",
       "      <td>University of California, Berkeley</td>\n",
       "      <td>The University of Chicago</td>\n",
       "    </tr>\n",
       "    <tr>\n",
       "      <th>2023</th>\n",
       "      <td>University of Oxford</td>\n",
       "      <td>Stanford University</td>\n",
       "      <td>Harvard University</td>\n",
       "      <td>California Institute of Technology</td>\n",
       "      <td>Massachusetts Institute of Technology</td>\n",
       "      <td>University of Cambridge</td>\n",
       "      <td>University of California, Berkeley</td>\n",
       "      <td>Yale University</td>\n",
       "      <td>Princeton University</td>\n",
       "      <td>The University of Chicago</td>\n",
       "    </tr>\n",
       "    <tr>\n",
       "      <th>2024</th>\n",
       "      <td>University of Oxford</td>\n",
       "      <td>University of Cambridge</td>\n",
       "      <td>California Institute of Technology</td>\n",
       "      <td>Stanford University</td>\n",
       "      <td>Massachusetts Institute of Technology</td>\n",
       "      <td>Harvard University</td>\n",
       "      <td>Princeton University</td>\n",
       "      <td>Imperial College London</td>\n",
       "      <td>The University of Chicago</td>\n",
       "      <td>ETH Zurich</td>\n",
       "    </tr>\n",
       "  </tbody>\n",
       "</table>\n",
       "</div>"
      ],
      "text/plain": [
       "                                      1°                                  2°  \\\n",
       "2011  California Institute of Technology                  Harvard University   \n",
       "2012                University of Oxford             University of Cambridge   \n",
       "2013                University of Oxford                 Stanford University   \n",
       "2014                  Harvard University  California Institute of Technology   \n",
       "2015  California Institute of Technology                University of Oxford   \n",
       "2016  California Institute of Technology                  Harvard University   \n",
       "2017                University of Oxford                  Harvard University   \n",
       "2018  California Institute of Technology                  Harvard University   \n",
       "2019                University of Oxford  California Institute of Technology   \n",
       "2020                University of Oxford  California Institute of Technology   \n",
       "2021                University of Oxford  California Institute of Technology   \n",
       "2022  California Institute of Technology                 Stanford University   \n",
       "2023                University of Oxford                 Stanford University   \n",
       "2024                University of Oxford             University of Cambridge   \n",
       "\n",
       "                                         3°  \\\n",
       "2011                   University of Oxford   \n",
       "2012                    Stanford University   \n",
       "2013  Massachusetts Institute of Technology   \n",
       "2014  Massachusetts Institute of Technology   \n",
       "2015                    Stanford University   \n",
       "2016                   University of Oxford   \n",
       "2017                University of Cambridge   \n",
       "2018                    Stanford University   \n",
       "2019                University of Cambridge   \n",
       "2020                    Stanford University   \n",
       "2021                     Harvard University   \n",
       "2022                   University of Oxford   \n",
       "2023                     Harvard University   \n",
       "2024     California Institute of Technology   \n",
       "\n",
       "                                         4°  \\\n",
       "2011                    Stanford University   \n",
       "2012  Massachusetts Institute of Technology   \n",
       "2013                     Harvard University   \n",
       "2014                    Stanford University   \n",
       "2015                University of Cambridge   \n",
       "2016                    Stanford University   \n",
       "2017                    Stanford University   \n",
       "2018                   University of Oxford   \n",
       "2019                    Stanford University   \n",
       "2020                University of Cambridge   \n",
       "2021                    Stanford University   \n",
       "2022                     Harvard University   \n",
       "2023     California Institute of Technology   \n",
       "2024                    Stanford University   \n",
       "\n",
       "                                         5°  \\\n",
       "2011                University of Cambridge   \n",
       "2012     California Institute of Technology   \n",
       "2013                University of Cambridge   \n",
       "2014                   Princeton University   \n",
       "2015  Massachusetts Institute of Technology   \n",
       "2016  Massachusetts Institute of Technology   \n",
       "2017  Massachusetts Institute of Technology   \n",
       "2018                   Princeton University   \n",
       "2019  Massachusetts Institute of Technology   \n",
       "2020  Massachusetts Institute of Technology   \n",
       "2021                University of Cambridge   \n",
       "2022  Massachusetts Institute of Technology   \n",
       "2023  Massachusetts Institute of Technology   \n",
       "2024  Massachusetts Institute of Technology   \n",
       "\n",
       "                                         6°  \\\n",
       "2011  Massachusetts Institute of Technology   \n",
       "2012                     Harvard University   \n",
       "2013                   Princeton University   \n",
       "2014                   University of Oxford   \n",
       "2015                     Harvard University   \n",
       "2016                   Princeton University   \n",
       "2017     California Institute of Technology   \n",
       "2018                University of Cambridge   \n",
       "2019                   Princeton University   \n",
       "2020                     Harvard University   \n",
       "2021  Massachusetts Institute of Technology   \n",
       "2022                   Princeton University   \n",
       "2023                University of Cambridge   \n",
       "2024                     Harvard University   \n",
       "\n",
       "                                         7°  \\\n",
       "2011                   Princeton University   \n",
       "2012                   Princeton University   \n",
       "2013     California Institute of Technology   \n",
       "2014                University of Cambridge   \n",
       "2015                   Princeton University   \n",
       "2016                University of Cambridge   \n",
       "2017                   Princeton University   \n",
       "2018  Massachusetts Institute of Technology   \n",
       "2019                     Harvard University   \n",
       "2020                   Princeton University   \n",
       "2021                   Princeton University   \n",
       "2022                University of Cambridge   \n",
       "2023     University of California, Berkeley   \n",
       "2024                   Princeton University   \n",
       "\n",
       "                                      8°                                  9°  \\\n",
       "2011  University of California, Berkeley                     Yale University   \n",
       "2012                     Yale University             Imperial College London   \n",
       "2013             Imperial College London  University of California, Berkeley   \n",
       "2014  University of California, Berkeley             Imperial College London   \n",
       "2015             Imperial College London                          ETH Zurich   \n",
       "2016  University of California, Berkeley           The University of Chicago   \n",
       "2017  University of California, Berkeley                     Yale University   \n",
       "2018             Imperial College London           The University of Chicago   \n",
       "2019                     Yale University           The University of Chicago   \n",
       "2020             Imperial College London                          ETH Zurich   \n",
       "2021  University of California, Berkeley                     Yale University   \n",
       "2022             Imperial College London  University of California, Berkeley   \n",
       "2023                     Yale University                Princeton University   \n",
       "2024             Imperial College London           The University of Chicago   \n",
       "\n",
       "                                     10°  \n",
       "2011             Imperial College London  \n",
       "2012           The University of Chicago  \n",
       "2013                     Yale University  \n",
       "2014                     Yale University  \n",
       "2015           The University of Chicago  \n",
       "2016             Imperial College London  \n",
       "2017             Imperial College London  \n",
       "2018  University of California, Berkeley  \n",
       "2019             Imperial College London  \n",
       "2020  University of California, Berkeley  \n",
       "2021           The University of Chicago  \n",
       "2022           The University of Chicago  \n",
       "2023           The University of Chicago  \n",
       "2024                          ETH Zurich  "
      ]
     },
     "execution_count": 14,
     "metadata": {},
     "output_type": "execute_result"
    }
   ],
   "source": [
    "#Selecionar as universidade que oucuparam as 10 primeiras posições do ranking entre os anos de 2011 e 2024\n",
    "top_universidades=select_top_ranking(df_dados,'name',10,anos)\n",
    "top_universidades"
   ]
  },
  {
   "cell_type": "code",
   "execution_count": 15,
   "metadata": {},
   "outputs": [
    {
     "data": {
      "text/html": [
       "<div>\n",
       "<style scoped>\n",
       "    .dataframe tbody tr th:only-of-type {\n",
       "        vertical-align: middle;\n",
       "    }\n",
       "\n",
       "    .dataframe tbody tr th {\n",
       "        vertical-align: top;\n",
       "    }\n",
       "\n",
       "    .dataframe thead th {\n",
       "        text-align: right;\n",
       "    }\n",
       "</style>\n",
       "<table border=\"1\" class=\"dataframe\">\n",
       "  <thead>\n",
       "    <tr style=\"text-align: right;\">\n",
       "      <th></th>\n",
       "      <th>Universidades</th>\n",
       "      <th>Número de vezez na 1° posição do ranking entre 2011 e 2024</th>\n",
       "    </tr>\n",
       "  </thead>\n",
       "  <tbody>\n",
       "    <tr>\n",
       "      <th>0</th>\n",
       "      <td>University of Oxford</td>\n",
       "      <td>8</td>\n",
       "    </tr>\n",
       "    <tr>\n",
       "      <th>1</th>\n",
       "      <td>California Institute of Technology</td>\n",
       "      <td>5</td>\n",
       "    </tr>\n",
       "    <tr>\n",
       "      <th>2</th>\n",
       "      <td>Harvard University</td>\n",
       "      <td>1</td>\n",
       "    </tr>\n",
       "  </tbody>\n",
       "</table>\n",
       "</div>"
      ],
      "text/plain": [
       "                        Universidades  \\\n",
       "0                University of Oxford   \n",
       "1  California Institute of Technology   \n",
       "2                  Harvard University   \n",
       "\n",
       "   Número de vezez na 1° posição do ranking entre 2011 e 2024  \n",
       "0                                                  8           \n",
       "1                                                  5           \n",
       "2                                                  1           "
      ]
     },
     "execution_count": 15,
     "metadata": {},
     "output_type": "execute_result"
    }
   ],
   "source": [
    "top_1=top_universidades['1°'].value_counts() #top_1 é um dataframe com a contagem do número de vezes que cada universidade oucupou a primeira posição do ranking\n",
    "top_1=pd.DataFrame(top_1)\n",
    "top_1.reset_index(inplace=True)\n",
    "top_1.rename(columns={'1°':'Universidades','count':'Número de vezez na 1° posição do ranking entre 2011 e 2024'},inplace=True)\n",
    "top_1"
   ]
  },
  {
   "cell_type": "markdown",
   "metadata": {},
   "source": [
    "### Localização das primeiras colocadas no ranking"
   ]
  },
  {
   "cell_type": "markdown",
   "metadata": {},
   "source": [
    "##### Top 10"
   ]
  },
  {
   "cell_type": "code",
   "execution_count": 16,
   "metadata": {},
   "outputs": [],
   "source": [
    "#Localização da 10 universidade melhores colocadas nos rankings de 2011 a 2024\n",
    "top_paises=select_top_ranking(df_dados,'location',10,anos)"
   ]
  },
  {
   "cell_type": "code",
   "execution_count": 17,
   "metadata": {},
   "outputs": [
    {
     "data": {
      "text/html": [
       "<div>\n",
       "<style scoped>\n",
       "    .dataframe tbody tr th:only-of-type {\n",
       "        vertical-align: middle;\n",
       "    }\n",
       "\n",
       "    .dataframe tbody tr th {\n",
       "        vertical-align: top;\n",
       "    }\n",
       "\n",
       "    .dataframe thead th {\n",
       "        text-align: right;\n",
       "    }\n",
       "</style>\n",
       "<table border=\"1\" class=\"dataframe\">\n",
       "  <thead>\n",
       "    <tr style=\"text-align: right;\">\n",
       "      <th></th>\n",
       "      <th>1°</th>\n",
       "      <th>2°</th>\n",
       "      <th>3°</th>\n",
       "      <th>4°</th>\n",
       "      <th>5°</th>\n",
       "      <th>6°</th>\n",
       "      <th>7°</th>\n",
       "      <th>8°</th>\n",
       "      <th>9°</th>\n",
       "      <th>10°</th>\n",
       "    </tr>\n",
       "  </thead>\n",
       "  <tbody>\n",
       "    <tr>\n",
       "      <th>2011</th>\n",
       "      <td>United States</td>\n",
       "      <td>United States</td>\n",
       "      <td>United Kingdom</td>\n",
       "      <td>United States</td>\n",
       "      <td>United Kingdom</td>\n",
       "      <td>United States</td>\n",
       "      <td>United States</td>\n",
       "      <td>United States</td>\n",
       "      <td>United States</td>\n",
       "      <td>United Kingdom</td>\n",
       "    </tr>\n",
       "    <tr>\n",
       "      <th>2012</th>\n",
       "      <td>United Kingdom</td>\n",
       "      <td>United Kingdom</td>\n",
       "      <td>United States</td>\n",
       "      <td>United States</td>\n",
       "      <td>United States</td>\n",
       "      <td>United States</td>\n",
       "      <td>United States</td>\n",
       "      <td>United States</td>\n",
       "      <td>United Kingdom</td>\n",
       "      <td>United States</td>\n",
       "    </tr>\n",
       "    <tr>\n",
       "      <th>2013</th>\n",
       "      <td>United Kingdom</td>\n",
       "      <td>United States</td>\n",
       "      <td>United States</td>\n",
       "      <td>United States</td>\n",
       "      <td>United Kingdom</td>\n",
       "      <td>United States</td>\n",
       "      <td>United States</td>\n",
       "      <td>United Kingdom</td>\n",
       "      <td>United States</td>\n",
       "      <td>United States</td>\n",
       "    </tr>\n",
       "    <tr>\n",
       "      <th>2014</th>\n",
       "      <td>United States</td>\n",
       "      <td>United States</td>\n",
       "      <td>United States</td>\n",
       "      <td>United States</td>\n",
       "      <td>United States</td>\n",
       "      <td>United Kingdom</td>\n",
       "      <td>United Kingdom</td>\n",
       "      <td>United States</td>\n",
       "      <td>United Kingdom</td>\n",
       "      <td>United States</td>\n",
       "    </tr>\n",
       "    <tr>\n",
       "      <th>2015</th>\n",
       "      <td>United States</td>\n",
       "      <td>United Kingdom</td>\n",
       "      <td>United States</td>\n",
       "      <td>United Kingdom</td>\n",
       "      <td>United States</td>\n",
       "      <td>United States</td>\n",
       "      <td>United States</td>\n",
       "      <td>United Kingdom</td>\n",
       "      <td>Switzerland</td>\n",
       "      <td>United States</td>\n",
       "    </tr>\n",
       "    <tr>\n",
       "      <th>2016</th>\n",
       "      <td>United States</td>\n",
       "      <td>United States</td>\n",
       "      <td>United Kingdom</td>\n",
       "      <td>United States</td>\n",
       "      <td>United States</td>\n",
       "      <td>United States</td>\n",
       "      <td>United Kingdom</td>\n",
       "      <td>United States</td>\n",
       "      <td>United States</td>\n",
       "      <td>United Kingdom</td>\n",
       "    </tr>\n",
       "    <tr>\n",
       "      <th>2017</th>\n",
       "      <td>United Kingdom</td>\n",
       "      <td>United States</td>\n",
       "      <td>United Kingdom</td>\n",
       "      <td>United States</td>\n",
       "      <td>United States</td>\n",
       "      <td>United States</td>\n",
       "      <td>United States</td>\n",
       "      <td>United States</td>\n",
       "      <td>United States</td>\n",
       "      <td>United Kingdom</td>\n",
       "    </tr>\n",
       "    <tr>\n",
       "      <th>2018</th>\n",
       "      <td>United States</td>\n",
       "      <td>United States</td>\n",
       "      <td>United States</td>\n",
       "      <td>United Kingdom</td>\n",
       "      <td>United States</td>\n",
       "      <td>United Kingdom</td>\n",
       "      <td>United States</td>\n",
       "      <td>United Kingdom</td>\n",
       "      <td>United States</td>\n",
       "      <td>United States</td>\n",
       "    </tr>\n",
       "    <tr>\n",
       "      <th>2019</th>\n",
       "      <td>United Kingdom</td>\n",
       "      <td>United States</td>\n",
       "      <td>United Kingdom</td>\n",
       "      <td>United States</td>\n",
       "      <td>United States</td>\n",
       "      <td>United States</td>\n",
       "      <td>United States</td>\n",
       "      <td>United States</td>\n",
       "      <td>United States</td>\n",
       "      <td>United Kingdom</td>\n",
       "    </tr>\n",
       "    <tr>\n",
       "      <th>2020</th>\n",
       "      <td>United Kingdom</td>\n",
       "      <td>United States</td>\n",
       "      <td>United States</td>\n",
       "      <td>United Kingdom</td>\n",
       "      <td>United States</td>\n",
       "      <td>United States</td>\n",
       "      <td>United States</td>\n",
       "      <td>United Kingdom</td>\n",
       "      <td>Switzerland</td>\n",
       "      <td>United States</td>\n",
       "    </tr>\n",
       "    <tr>\n",
       "      <th>2021</th>\n",
       "      <td>United Kingdom</td>\n",
       "      <td>United States</td>\n",
       "      <td>United States</td>\n",
       "      <td>United States</td>\n",
       "      <td>United Kingdom</td>\n",
       "      <td>United States</td>\n",
       "      <td>United States</td>\n",
       "      <td>United States</td>\n",
       "      <td>United States</td>\n",
       "      <td>United States</td>\n",
       "    </tr>\n",
       "    <tr>\n",
       "      <th>2022</th>\n",
       "      <td>United States</td>\n",
       "      <td>United States</td>\n",
       "      <td>United Kingdom</td>\n",
       "      <td>United States</td>\n",
       "      <td>United States</td>\n",
       "      <td>United States</td>\n",
       "      <td>United Kingdom</td>\n",
       "      <td>United Kingdom</td>\n",
       "      <td>United States</td>\n",
       "      <td>United States</td>\n",
       "    </tr>\n",
       "    <tr>\n",
       "      <th>2023</th>\n",
       "      <td>United Kingdom</td>\n",
       "      <td>United States</td>\n",
       "      <td>United States</td>\n",
       "      <td>United States</td>\n",
       "      <td>United States</td>\n",
       "      <td>United Kingdom</td>\n",
       "      <td>United States</td>\n",
       "      <td>United States</td>\n",
       "      <td>United States</td>\n",
       "      <td>United States</td>\n",
       "    </tr>\n",
       "    <tr>\n",
       "      <th>2024</th>\n",
       "      <td>United Kingdom</td>\n",
       "      <td>United Kingdom</td>\n",
       "      <td>United States</td>\n",
       "      <td>United States</td>\n",
       "      <td>United States</td>\n",
       "      <td>United States</td>\n",
       "      <td>United States</td>\n",
       "      <td>United Kingdom</td>\n",
       "      <td>United States</td>\n",
       "      <td>Switzerland</td>\n",
       "    </tr>\n",
       "  </tbody>\n",
       "</table>\n",
       "</div>"
      ],
      "text/plain": [
       "                  1°              2°              3°              4°  \\\n",
       "2011   United States   United States  United Kingdom   United States   \n",
       "2012  United Kingdom  United Kingdom   United States   United States   \n",
       "2013  United Kingdom   United States   United States   United States   \n",
       "2014   United States   United States   United States   United States   \n",
       "2015   United States  United Kingdom   United States  United Kingdom   \n",
       "2016   United States   United States  United Kingdom   United States   \n",
       "2017  United Kingdom   United States  United Kingdom   United States   \n",
       "2018   United States   United States   United States  United Kingdom   \n",
       "2019  United Kingdom   United States  United Kingdom   United States   \n",
       "2020  United Kingdom   United States   United States  United Kingdom   \n",
       "2021  United Kingdom   United States   United States   United States   \n",
       "2022   United States   United States  United Kingdom   United States   \n",
       "2023  United Kingdom   United States   United States   United States   \n",
       "2024  United Kingdom  United Kingdom   United States   United States   \n",
       "\n",
       "                  5°              6°              7°              8°  \\\n",
       "2011  United Kingdom   United States   United States   United States   \n",
       "2012   United States   United States   United States   United States   \n",
       "2013  United Kingdom   United States   United States  United Kingdom   \n",
       "2014   United States  United Kingdom  United Kingdom   United States   \n",
       "2015   United States   United States   United States  United Kingdom   \n",
       "2016   United States   United States  United Kingdom   United States   \n",
       "2017   United States   United States   United States   United States   \n",
       "2018   United States  United Kingdom   United States  United Kingdom   \n",
       "2019   United States   United States   United States   United States   \n",
       "2020   United States   United States   United States  United Kingdom   \n",
       "2021  United Kingdom   United States   United States   United States   \n",
       "2022   United States   United States  United Kingdom  United Kingdom   \n",
       "2023   United States  United Kingdom   United States   United States   \n",
       "2024   United States   United States   United States  United Kingdom   \n",
       "\n",
       "                  9°             10°  \n",
       "2011   United States  United Kingdom  \n",
       "2012  United Kingdom   United States  \n",
       "2013   United States   United States  \n",
       "2014  United Kingdom   United States  \n",
       "2015     Switzerland   United States  \n",
       "2016   United States  United Kingdom  \n",
       "2017   United States  United Kingdom  \n",
       "2018   United States   United States  \n",
       "2019   United States  United Kingdom  \n",
       "2020     Switzerland   United States  \n",
       "2021   United States   United States  \n",
       "2022   United States   United States  \n",
       "2023   United States   United States  \n",
       "2024   United States     Switzerland  "
      ]
     },
     "execution_count": 17,
     "metadata": {},
     "output_type": "execute_result"
    }
   ],
   "source": [
    "top_paises"
   ]
  },
  {
   "cell_type": "code",
   "execution_count": 18,
   "metadata": {},
   "outputs": [
    {
     "data": {
      "text/html": [
       "<div>\n",
       "<style scoped>\n",
       "    .dataframe tbody tr th:only-of-type {\n",
       "        vertical-align: middle;\n",
       "    }\n",
       "\n",
       "    .dataframe tbody tr th {\n",
       "        vertical-align: top;\n",
       "    }\n",
       "\n",
       "    .dataframe thead th {\n",
       "        text-align: right;\n",
       "    }\n",
       "</style>\n",
       "<table border=\"1\" class=\"dataframe\">\n",
       "  <thead>\n",
       "    <tr style=\"text-align: right;\">\n",
       "      <th></th>\n",
       "      <th>1°</th>\n",
       "      <th>2°</th>\n",
       "      <th>3°</th>\n",
       "      <th>4°</th>\n",
       "      <th>5°</th>\n",
       "      <th>6°</th>\n",
       "      <th>7°</th>\n",
       "      <th>8°</th>\n",
       "      <th>9°</th>\n",
       "      <th>10°</th>\n",
       "    </tr>\n",
       "  </thead>\n",
       "  <tbody>\n",
       "    <tr>\n",
       "      <th>Switzerland</th>\n",
       "      <td>NaN</td>\n",
       "      <td>NaN</td>\n",
       "      <td>NaN</td>\n",
       "      <td>NaN</td>\n",
       "      <td>NaN</td>\n",
       "      <td>NaN</td>\n",
       "      <td>NaN</td>\n",
       "      <td>NaN</td>\n",
       "      <td>2</td>\n",
       "      <td>1</td>\n",
       "    </tr>\n",
       "    <tr>\n",
       "      <th>United Kingdom</th>\n",
       "      <td>8.0</td>\n",
       "      <td>3.0</td>\n",
       "      <td>5.0</td>\n",
       "      <td>3.0</td>\n",
       "      <td>3.0</td>\n",
       "      <td>3.0</td>\n",
       "      <td>3.0</td>\n",
       "      <td>6.0</td>\n",
       "      <td>2</td>\n",
       "      <td>4</td>\n",
       "    </tr>\n",
       "    <tr>\n",
       "      <th>United States</th>\n",
       "      <td>6.0</td>\n",
       "      <td>11.0</td>\n",
       "      <td>9.0</td>\n",
       "      <td>11.0</td>\n",
       "      <td>11.0</td>\n",
       "      <td>11.0</td>\n",
       "      <td>11.0</td>\n",
       "      <td>8.0</td>\n",
       "      <td>10</td>\n",
       "      <td>9</td>\n",
       "    </tr>\n",
       "  </tbody>\n",
       "</table>\n",
       "</div>"
      ],
      "text/plain": [
       "                 1°    2°   3°    4°    5°    6°    7°   8°  9°  10°\n",
       "Switzerland     NaN   NaN  NaN   NaN   NaN   NaN   NaN  NaN   2    1\n",
       "United Kingdom  8.0   3.0  5.0   3.0   3.0   3.0   3.0  6.0   2    4\n",
       "United States   6.0  11.0  9.0  11.0  11.0  11.0  11.0  8.0  10    9"
      ]
     },
     "execution_count": 18,
     "metadata": {},
     "output_type": "execute_result"
    }
   ],
   "source": [
    "#Número de vezes que cada país apareceu nas dez primeiras posições do ranking entre 2011 e 2024\n",
    "#Somente universidade de três países oucuparam as 10 primeiras colocações nos anos considerados\n",
    "#Por exemplo, no 14 rankings em 8 deles uma universidade do Reino Unido oucupou a primeira colocação, enquanto nos 6 restantes a primeira colocação coube a uma universidade americana\n",
    "top_paises.apply(pd.Series.value_counts)\n"
   ]
  },
  {
   "cell_type": "code",
   "execution_count": 19,
   "metadata": {},
   "outputs": [],
   "source": [
    "count_paises_top_10=top_paises.apply(pd.Series.value_counts).sum(axis=1)\n",
    "count_paises_top_10=pd.DataFrame(count_paises_top_10)\n",
    "count_paises_top_10.index.names=['País de origem']\n",
    "count_paises_top_10.rename(columns={0:\"Número de universidades entre as 10 primeiras colocadas nos rankings entre 2011 e 2024\"},inplace=True)"
   ]
  },
  {
   "cell_type": "code",
   "execution_count": 20,
   "metadata": {},
   "outputs": [
    {
     "data": {
      "text/html": [
       "<div>\n",
       "<style scoped>\n",
       "    .dataframe tbody tr th:only-of-type {\n",
       "        vertical-align: middle;\n",
       "    }\n",
       "\n",
       "    .dataframe tbody tr th {\n",
       "        vertical-align: top;\n",
       "    }\n",
       "\n",
       "    .dataframe thead th {\n",
       "        text-align: right;\n",
       "    }\n",
       "</style>\n",
       "<table border=\"1\" class=\"dataframe\">\n",
       "  <thead>\n",
       "    <tr style=\"text-align: right;\">\n",
       "      <th></th>\n",
       "      <th>Número de universidades entre as 10 primeiras colocadas nos rankings entre 2011 e 2024</th>\n",
       "    </tr>\n",
       "    <tr>\n",
       "      <th>País de origem</th>\n",
       "      <th></th>\n",
       "    </tr>\n",
       "  </thead>\n",
       "  <tbody>\n",
       "    <tr>\n",
       "      <th>Switzerland</th>\n",
       "      <td>3.0</td>\n",
       "    </tr>\n",
       "    <tr>\n",
       "      <th>United Kingdom</th>\n",
       "      <td>40.0</td>\n",
       "    </tr>\n",
       "    <tr>\n",
       "      <th>United States</th>\n",
       "      <td>97.0</td>\n",
       "    </tr>\n",
       "  </tbody>\n",
       "</table>\n",
       "</div>"
      ],
      "text/plain": [
       "                Número de universidades entre as 10 primeiras colocadas nos rankings entre 2011 e 2024\n",
       "País de origem                                                                                        \n",
       "Switzerland                                                   3.0                                     \n",
       "United Kingdom                                               40.0                                     \n",
       "United States                                                97.0                                     "
      ]
     },
     "execution_count": 20,
     "metadata": {},
     "output_type": "execute_result"
    }
   ],
   "source": [
    "#count_paises_top_10 é um dataframe com o número de vezes que universidades de cada país apareceram no top 10 das melhores \n",
    "#do mundo\n",
    "count_paises_top_10"
   ]
  },
  {
   "cell_type": "markdown",
   "metadata": {},
   "source": [
    "##### Top 100"
   ]
  },
  {
   "cell_type": "code",
   "execution_count": 21,
   "metadata": {},
   "outputs": [],
   "source": [
    "#Pais de origem das 100 melhores universidade nos rankings de 2011 a 2024\n",
    "top_100_paises=select_top_ranking(df_dados,'location',100,anos)"
   ]
  },
  {
   "cell_type": "code",
   "execution_count": 22,
   "metadata": {},
   "outputs": [],
   "source": [
    "top_100_paises=top_100_paises.transpose()"
   ]
  },
  {
   "cell_type": "code",
   "execution_count": 23,
   "metadata": {},
   "outputs": [
    {
     "data": {
      "text/html": [
       "<div>\n",
       "<style scoped>\n",
       "    .dataframe tbody tr th:only-of-type {\n",
       "        vertical-align: middle;\n",
       "    }\n",
       "\n",
       "    .dataframe tbody tr th {\n",
       "        vertical-align: top;\n",
       "    }\n",
       "\n",
       "    .dataframe thead th {\n",
       "        text-align: right;\n",
       "    }\n",
       "</style>\n",
       "<table border=\"1\" class=\"dataframe\">\n",
       "  <thead>\n",
       "    <tr style=\"text-align: right;\">\n",
       "      <th></th>\n",
       "      <th>2011</th>\n",
       "      <th>2012</th>\n",
       "      <th>2013</th>\n",
       "      <th>2014</th>\n",
       "      <th>2015</th>\n",
       "      <th>2016</th>\n",
       "      <th>2017</th>\n",
       "      <th>2018</th>\n",
       "      <th>2019</th>\n",
       "      <th>2020</th>\n",
       "      <th>2021</th>\n",
       "      <th>2022</th>\n",
       "      <th>2023</th>\n",
       "      <th>2024</th>\n",
       "    </tr>\n",
       "  </thead>\n",
       "  <tbody>\n",
       "    <tr>\n",
       "      <th>1°</th>\n",
       "      <td>United States</td>\n",
       "      <td>United Kingdom</td>\n",
       "      <td>United Kingdom</td>\n",
       "      <td>United States</td>\n",
       "      <td>United States</td>\n",
       "      <td>United States</td>\n",
       "      <td>United Kingdom</td>\n",
       "      <td>United States</td>\n",
       "      <td>United Kingdom</td>\n",
       "      <td>United Kingdom</td>\n",
       "      <td>United Kingdom</td>\n",
       "      <td>United States</td>\n",
       "      <td>United Kingdom</td>\n",
       "      <td>United Kingdom</td>\n",
       "    </tr>\n",
       "    <tr>\n",
       "      <th>2°</th>\n",
       "      <td>United States</td>\n",
       "      <td>United Kingdom</td>\n",
       "      <td>United States</td>\n",
       "      <td>United States</td>\n",
       "      <td>United Kingdom</td>\n",
       "      <td>United States</td>\n",
       "      <td>United States</td>\n",
       "      <td>United States</td>\n",
       "      <td>United States</td>\n",
       "      <td>United States</td>\n",
       "      <td>United States</td>\n",
       "      <td>United States</td>\n",
       "      <td>United States</td>\n",
       "      <td>United Kingdom</td>\n",
       "    </tr>\n",
       "    <tr>\n",
       "      <th>3°</th>\n",
       "      <td>United Kingdom</td>\n",
       "      <td>United States</td>\n",
       "      <td>United States</td>\n",
       "      <td>United States</td>\n",
       "      <td>United States</td>\n",
       "      <td>United Kingdom</td>\n",
       "      <td>United Kingdom</td>\n",
       "      <td>United States</td>\n",
       "      <td>United Kingdom</td>\n",
       "      <td>United States</td>\n",
       "      <td>United States</td>\n",
       "      <td>United Kingdom</td>\n",
       "      <td>United States</td>\n",
       "      <td>United States</td>\n",
       "    </tr>\n",
       "    <tr>\n",
       "      <th>4°</th>\n",
       "      <td>United States</td>\n",
       "      <td>United States</td>\n",
       "      <td>United States</td>\n",
       "      <td>United States</td>\n",
       "      <td>United Kingdom</td>\n",
       "      <td>United States</td>\n",
       "      <td>United States</td>\n",
       "      <td>United Kingdom</td>\n",
       "      <td>United States</td>\n",
       "      <td>United Kingdom</td>\n",
       "      <td>United States</td>\n",
       "      <td>United States</td>\n",
       "      <td>United States</td>\n",
       "      <td>United States</td>\n",
       "    </tr>\n",
       "    <tr>\n",
       "      <th>5°</th>\n",
       "      <td>United Kingdom</td>\n",
       "      <td>United States</td>\n",
       "      <td>United Kingdom</td>\n",
       "      <td>United States</td>\n",
       "      <td>United States</td>\n",
       "      <td>United States</td>\n",
       "      <td>United States</td>\n",
       "      <td>United States</td>\n",
       "      <td>United States</td>\n",
       "      <td>United States</td>\n",
       "      <td>United Kingdom</td>\n",
       "      <td>United States</td>\n",
       "      <td>United States</td>\n",
       "      <td>United States</td>\n",
       "    </tr>\n",
       "    <tr>\n",
       "      <th>...</th>\n",
       "      <td>...</td>\n",
       "      <td>...</td>\n",
       "      <td>...</td>\n",
       "      <td>...</td>\n",
       "      <td>...</td>\n",
       "      <td>...</td>\n",
       "      <td>...</td>\n",
       "      <td>...</td>\n",
       "      <td>...</td>\n",
       "      <td>...</td>\n",
       "      <td>...</td>\n",
       "      <td>...</td>\n",
       "      <td>...</td>\n",
       "      <td>...</td>\n",
       "    </tr>\n",
       "    <tr>\n",
       "      <th>96°</th>\n",
       "      <td>United States</td>\n",
       "      <td>United States</td>\n",
       "      <td>Germany</td>\n",
       "      <td>United States</td>\n",
       "      <td>Canada</td>\n",
       "      <td>France</td>\n",
       "      <td>France</td>\n",
       "      <td>United States</td>\n",
       "      <td>United States</td>\n",
       "      <td>United Kingdom</td>\n",
       "      <td>Denmark</td>\n",
       "      <td>United States</td>\n",
       "      <td>South Korea</td>\n",
       "      <td>South Korea</td>\n",
       "    </tr>\n",
       "    <tr>\n",
       "      <th>97°</th>\n",
       "      <td>United States</td>\n",
       "      <td>Australia</td>\n",
       "      <td>Sweden</td>\n",
       "      <td>United States</td>\n",
       "      <td>United Kingdom</td>\n",
       "      <td>United States</td>\n",
       "      <td>China</td>\n",
       "      <td>United States</td>\n",
       "      <td>Finland</td>\n",
       "      <td>Sweden</td>\n",
       "      <td>Belgium</td>\n",
       "      <td>United States</td>\n",
       "      <td>Taiwan</td>\n",
       "      <td>United Kingdom</td>\n",
       "    </tr>\n",
       "    <tr>\n",
       "      <th>98°</th>\n",
       "      <td>Sweden</td>\n",
       "      <td>Sweden</td>\n",
       "      <td>United Kingdom</td>\n",
       "      <td>United States</td>\n",
       "      <td>United Kingdom</td>\n",
       "      <td>Netherlands</td>\n",
       "      <td>United States</td>\n",
       "      <td>United States</td>\n",
       "      <td>Sweden</td>\n",
       "      <td>Denmark</td>\n",
       "      <td>United States</td>\n",
       "      <td>United States</td>\n",
       "      <td>United States</td>\n",
       "      <td>United States</td>\n",
       "    </tr>\n",
       "    <tr>\n",
       "      <th>99°</th>\n",
       "      <td>Germany</td>\n",
       "      <td>United States</td>\n",
       "      <td>Netherlands</td>\n",
       "      <td>United States</td>\n",
       "      <td>Germany</td>\n",
       "      <td>Netherlands</td>\n",
       "      <td>Hong Kong</td>\n",
       "      <td>United Kingdom</td>\n",
       "      <td>United Kingdom</td>\n",
       "      <td>Switzerland</td>\n",
       "      <td>United States</td>\n",
       "      <td>Germany</td>\n",
       "      <td>Finland</td>\n",
       "      <td>United States</td>\n",
       "    </tr>\n",
       "    <tr>\n",
       "      <th>100°</th>\n",
       "      <td>Sweden</td>\n",
       "      <td>Finland</td>\n",
       "      <td>United States</td>\n",
       "      <td>France</td>\n",
       "      <td>United States</td>\n",
       "      <td>United Kingdom</td>\n",
       "      <td>Germany</td>\n",
       "      <td>Canada</td>\n",
       "      <td>Germany</td>\n",
       "      <td>United States</td>\n",
       "      <td>South Korea</td>\n",
       "      <td>Australia</td>\n",
       "      <td>China</td>\n",
       "      <td>Germany</td>\n",
       "    </tr>\n",
       "  </tbody>\n",
       "</table>\n",
       "<p>100 rows × 14 columns</p>\n",
       "</div>"
      ],
      "text/plain": [
       "                2011            2012            2013           2014  \\\n",
       "1°     United States  United Kingdom  United Kingdom  United States   \n",
       "2°     United States  United Kingdom   United States  United States   \n",
       "3°    United Kingdom   United States   United States  United States   \n",
       "4°     United States   United States   United States  United States   \n",
       "5°    United Kingdom   United States  United Kingdom  United States   \n",
       "...              ...             ...             ...            ...   \n",
       "96°    United States   United States         Germany  United States   \n",
       "97°    United States       Australia          Sweden  United States   \n",
       "98°           Sweden          Sweden  United Kingdom  United States   \n",
       "99°          Germany   United States     Netherlands  United States   \n",
       "100°          Sweden         Finland   United States         France   \n",
       "\n",
       "                2015            2016            2017            2018  \\\n",
       "1°     United States   United States  United Kingdom   United States   \n",
       "2°    United Kingdom   United States   United States   United States   \n",
       "3°     United States  United Kingdom  United Kingdom   United States   \n",
       "4°    United Kingdom   United States   United States  United Kingdom   \n",
       "5°     United States   United States   United States   United States   \n",
       "...              ...             ...             ...             ...   \n",
       "96°           Canada          France          France   United States   \n",
       "97°   United Kingdom   United States           China   United States   \n",
       "98°   United Kingdom     Netherlands   United States   United States   \n",
       "99°          Germany     Netherlands       Hong Kong  United Kingdom   \n",
       "100°   United States  United Kingdom         Germany          Canada   \n",
       "\n",
       "                2019            2020            2021            2022  \\\n",
       "1°    United Kingdom  United Kingdom  United Kingdom   United States   \n",
       "2°     United States   United States   United States   United States   \n",
       "3°    United Kingdom   United States   United States  United Kingdom   \n",
       "4°     United States  United Kingdom   United States   United States   \n",
       "5°     United States   United States  United Kingdom   United States   \n",
       "...              ...             ...             ...             ...   \n",
       "96°    United States  United Kingdom         Denmark   United States   \n",
       "97°          Finland          Sweden         Belgium   United States   \n",
       "98°           Sweden         Denmark   United States   United States   \n",
       "99°   United Kingdom     Switzerland   United States         Germany   \n",
       "100°         Germany   United States     South Korea       Australia   \n",
       "\n",
       "                2023            2024  \n",
       "1°    United Kingdom  United Kingdom  \n",
       "2°     United States  United Kingdom  \n",
       "3°     United States   United States  \n",
       "4°     United States   United States  \n",
       "5°     United States   United States  \n",
       "...              ...             ...  \n",
       "96°      South Korea     South Korea  \n",
       "97°           Taiwan  United Kingdom  \n",
       "98°    United States   United States  \n",
       "99°          Finland   United States  \n",
       "100°           China         Germany  \n",
       "\n",
       "[100 rows x 14 columns]"
      ]
     },
     "execution_count": 23,
     "metadata": {},
     "output_type": "execute_result"
    }
   ],
   "source": [
    "top_100_paises"
   ]
  },
  {
   "cell_type": "code",
   "execution_count": 24,
   "metadata": {},
   "outputs": [
    {
     "data": {
      "text/plain": [
       "'\\nNo ano de 2024, dentre as 100 melhores univrsidade classificadas no ranking, 45 delas são dos Estados Unidos\\n'"
      ]
     },
     "execution_count": 24,
     "metadata": {},
     "output_type": "execute_result"
    }
   ],
   "source": [
    "'''\n",
    "paises_top_100 é um dicionário onde as keys são os anos dos rankings\n",
    "os valores são os números de universidade de cada pais entre as 100 melhores classificadas no ranking considerado\n",
    "'''\n",
    "paises_top_100={}\n",
    "for ano in anos:\n",
    "    paises_top_100[ano]=pd.DataFrame(top_100_paises[ano].value_counts()).rename(columns={'count':\"Número de apariçoes no top 100\"})\n",
    "\n",
    "#2024\n",
    "paises_top_100['2024']\n",
    "'''\n",
    "No ano de 2024, dentre as 100 melhores univrsidade classificadas no ranking, 45 delas são dos Estados Unidos\n",
    "'''"
   ]
  },
  {
   "cell_type": "code",
   "execution_count": 25,
   "metadata": {},
   "outputs": [
    {
     "data": {
      "text/plain": [
       "'\\nPara o ano de 2024, as 100 melhores colocadas no ranking estão localizadas em 17 países\\n'"
      ]
     },
     "execution_count": 25,
     "metadata": {},
     "output_type": "execute_result"
    }
   ],
   "source": [
    "'''\n",
    "paises_diferentes_top_100 é um dicionário onde as keys são os anos dos rankings\n",
    "os valores são os números de diferentes paises de origem para as 100 melhores colocadas n ano considerado\n",
    "'''\n",
    "paises_diferentes_top_100={}\n",
    "for ano in anos:\n",
    "    paises_diferentes_top_100[ano]=len(paises_top_100[ano])\n",
    "\n",
    "paises_diferentes_top_100\n",
    "'''\n",
    "Para o ano de 2024, as 100 melhores colocadas no ranking estão localizadas em 17 países\n",
    "'''"
   ]
  },
  {
   "cell_type": "markdown",
   "metadata": {},
   "source": [
    "### Análise dos Fatores Considerados para Construção dos Rankings"
   ]
  },
  {
   "cell_type": "code",
   "execution_count": 26,
   "metadata": {},
   "outputs": [
    {
     "data": {
      "text/plain": [
       "Index(['rank_order', 'rank', 'name', 'scores_overall', 'scores_overall_rank',\n",
       "       'scores_teaching', 'scores_teaching_rank',\n",
       "       'scores_international_outlook', 'scores_international_outlook_rank',\n",
       "       'scores_industry_income', 'scores_industry_income_rank',\n",
       "       'scores_research', 'scores_research_rank', 'scores_citations',\n",
       "       'scores_citations_rank', 'location', 'aliases', 'subjects_offered',\n",
       "       'closed', 'unaccredited', 'stats_number_students',\n",
       "       'stats_student_staff_ratio', 'stats_pc_intl_students',\n",
       "       'stats_female_male_ratio', 'stats_proportion_of_isr', 'male proportion',\n",
       "       'female proportion'],\n",
       "      dtype='object')"
      ]
     },
     "execution_count": 26,
     "metadata": {},
     "output_type": "execute_result"
    }
   ],
   "source": [
    "df_dados.columns"
   ]
  },
  {
   "cell_type": "markdown",
   "metadata": {},
   "source": [
    "#### Correlação"
   ]
  },
  {
   "cell_type": "markdown",
   "metadata": {},
   "source": [
    "Correlação entre seis fatores:\n",
    "\n",
    "- scores_overall (pontuação média)\n",
    "- scores_teaching (pontuação para ensino)\n",
    "- scores_international_outlook (internacionalização)\n",
    "- scores_industry_income (intercâmbio com indústria)\n",
    "- scores_research (pesquisa)\n",
    "- scores_citations (impacto da pesquisa, medido pela citações)\n",
    "- stats_number_students (número de estudantes)\n",
    "- stats_student_staff_ratio (proporção entre estudantes e funcionários)"
   ]
  },
  {
   "cell_type": "code",
   "execution_count": 27,
   "metadata": {},
   "outputs": [],
   "source": [
    "# 2024\n",
    "#ranking para o ano de 2024\n",
    "dados_2024=df_dados.loc['2024',:]"
   ]
  },
  {
   "cell_type": "code",
   "execution_count": 28,
   "metadata": {},
   "outputs": [],
   "source": [
    "#fatores que serão analisados através da correlação \n",
    "fatores_analisados=['scores_overall','scores_teaching','scores_research','scores_citations','scores_international_outlook',\n",
    "                'scores_industry_income','stats_number_students','stats_student_staff_ratio']"
   ]
  },
  {
   "cell_type": "code",
   "execution_count": 29,
   "metadata": {},
   "outputs": [
    {
     "name": "stdout",
     "output_type": "stream",
     "text": [
      "scores_overall univerisade na posição 199: 51.7\n",
      "scores_overall univerisade na posição 200: 48.3–51.6\n"
     ]
    }
   ],
   "source": [
    "#A partir da posição 200 o scores_overall é um intervalo de valores\n",
    "print('scores_overall univerisade na posição 199: {}'.format(dados_2024.loc[199,'scores_overall']))\n",
    "print('scores_overall univerisade na posição 200: {}'.format(dados_2024.loc[200,'scores_overall']))"
   ]
  },
  {
   "cell_type": "code",
   "execution_count": 30,
   "metadata": {},
   "outputs": [
    {
     "data": {
      "text/html": [
       "<div>\n",
       "<style scoped>\n",
       "    .dataframe tbody tr th:only-of-type {\n",
       "        vertical-align: middle;\n",
       "    }\n",
       "\n",
       "    .dataframe tbody tr th {\n",
       "        vertical-align: top;\n",
       "    }\n",
       "\n",
       "    .dataframe thead th {\n",
       "        text-align: right;\n",
       "    }\n",
       "</style>\n",
       "<table border=\"1\" class=\"dataframe\">\n",
       "  <thead>\n",
       "    <tr style=\"text-align: right;\">\n",
       "      <th></th>\n",
       "      <th>scores_overall</th>\n",
       "      <th>scores_teaching</th>\n",
       "      <th>scores_research</th>\n",
       "      <th>scores_citations</th>\n",
       "      <th>scores_international_outlook</th>\n",
       "      <th>scores_industry_income</th>\n",
       "      <th>stats_number_students</th>\n",
       "      <th>stats_student_staff_ratio</th>\n",
       "    </tr>\n",
       "  </thead>\n",
       "  <tbody>\n",
       "    <tr>\n",
       "      <th>scores_overall</th>\n",
       "      <td>1.000000</td>\n",
       "      <td>0.893388</td>\n",
       "      <td>0.928402</td>\n",
       "      <td>0.467274</td>\n",
       "      <td>0.133871</td>\n",
       "      <td>0.128120</td>\n",
       "      <td>-0.072460</td>\n",
       "      <td>-0.196090</td>\n",
       "    </tr>\n",
       "    <tr>\n",
       "      <th>scores_teaching</th>\n",
       "      <td>0.893388</td>\n",
       "      <td>1.000000</td>\n",
       "      <td>0.902332</td>\n",
       "      <td>0.138380</td>\n",
       "      <td>-0.134167</td>\n",
       "      <td>0.162395</td>\n",
       "      <td>0.002313</td>\n",
       "      <td>-0.239156</td>\n",
       "    </tr>\n",
       "    <tr>\n",
       "      <th>scores_research</th>\n",
       "      <td>0.928402</td>\n",
       "      <td>0.902332</td>\n",
       "      <td>1.000000</td>\n",
       "      <td>0.155400</td>\n",
       "      <td>0.008889</td>\n",
       "      <td>0.248841</td>\n",
       "      <td>-0.071587</td>\n",
       "      <td>-0.103662</td>\n",
       "    </tr>\n",
       "    <tr>\n",
       "      <th>scores_citations</th>\n",
       "      <td>0.467274</td>\n",
       "      <td>0.138380</td>\n",
       "      <td>0.155400</td>\n",
       "      <td>1.000000</td>\n",
       "      <td>0.202925</td>\n",
       "      <td>-0.281984</td>\n",
       "      <td>-0.059594</td>\n",
       "      <td>-0.177767</td>\n",
       "    </tr>\n",
       "    <tr>\n",
       "      <th>scores_international_outlook</th>\n",
       "      <td>0.133871</td>\n",
       "      <td>-0.134167</td>\n",
       "      <td>0.008889</td>\n",
       "      <td>0.202925</td>\n",
       "      <td>1.000000</td>\n",
       "      <td>-0.154003</td>\n",
       "      <td>-0.169658</td>\n",
       "      <td>-0.002865</td>\n",
       "    </tr>\n",
       "    <tr>\n",
       "      <th>scores_industry_income</th>\n",
       "      <td>0.128120</td>\n",
       "      <td>0.162395</td>\n",
       "      <td>0.248841</td>\n",
       "      <td>-0.281984</td>\n",
       "      <td>-0.154003</td>\n",
       "      <td>1.000000</td>\n",
       "      <td>0.046597</td>\n",
       "      <td>0.241106</td>\n",
       "    </tr>\n",
       "    <tr>\n",
       "      <th>stats_number_students</th>\n",
       "      <td>-0.072460</td>\n",
       "      <td>0.002313</td>\n",
       "      <td>-0.071587</td>\n",
       "      <td>-0.059594</td>\n",
       "      <td>-0.169658</td>\n",
       "      <td>0.046597</td>\n",
       "      <td>1.000000</td>\n",
       "      <td>-0.015265</td>\n",
       "    </tr>\n",
       "    <tr>\n",
       "      <th>stats_student_staff_ratio</th>\n",
       "      <td>-0.196090</td>\n",
       "      <td>-0.239156</td>\n",
       "      <td>-0.103662</td>\n",
       "      <td>-0.177767</td>\n",
       "      <td>-0.002865</td>\n",
       "      <td>0.241106</td>\n",
       "      <td>-0.015265</td>\n",
       "      <td>1.000000</td>\n",
       "    </tr>\n",
       "  </tbody>\n",
       "</table>\n",
       "</div>"
      ],
      "text/plain": [
       "                              scores_overall  scores_teaching  \\\n",
       "scores_overall                      1.000000         0.893388   \n",
       "scores_teaching                     0.893388         1.000000   \n",
       "scores_research                     0.928402         0.902332   \n",
       "scores_citations                    0.467274         0.138380   \n",
       "scores_international_outlook        0.133871        -0.134167   \n",
       "scores_industry_income              0.128120         0.162395   \n",
       "stats_number_students              -0.072460         0.002313   \n",
       "stats_student_staff_ratio          -0.196090        -0.239156   \n",
       "\n",
       "                              scores_research  scores_citations  \\\n",
       "scores_overall                       0.928402          0.467274   \n",
       "scores_teaching                      0.902332          0.138380   \n",
       "scores_research                      1.000000          0.155400   \n",
       "scores_citations                     0.155400          1.000000   \n",
       "scores_international_outlook         0.008889          0.202925   \n",
       "scores_industry_income               0.248841         -0.281984   \n",
       "stats_number_students               -0.071587         -0.059594   \n",
       "stats_student_staff_ratio           -0.103662         -0.177767   \n",
       "\n",
       "                              scores_international_outlook  \\\n",
       "scores_overall                                    0.133871   \n",
       "scores_teaching                                  -0.134167   \n",
       "scores_research                                   0.008889   \n",
       "scores_citations                                  0.202925   \n",
       "scores_international_outlook                      1.000000   \n",
       "scores_industry_income                           -0.154003   \n",
       "stats_number_students                            -0.169658   \n",
       "stats_student_staff_ratio                        -0.002865   \n",
       "\n",
       "                              scores_industry_income  stats_number_students  \\\n",
       "scores_overall                              0.128120              -0.072460   \n",
       "scores_teaching                             0.162395               0.002313   \n",
       "scores_research                             0.248841              -0.071587   \n",
       "scores_citations                           -0.281984              -0.059594   \n",
       "scores_international_outlook               -0.154003              -0.169658   \n",
       "scores_industry_income                      1.000000               0.046597   \n",
       "stats_number_students                       0.046597               1.000000   \n",
       "stats_student_staff_ratio                   0.241106              -0.015265   \n",
       "\n",
       "                              stats_student_staff_ratio  \n",
       "scores_overall                                -0.196090  \n",
       "scores_teaching                               -0.239156  \n",
       "scores_research                               -0.103662  \n",
       "scores_citations                              -0.177767  \n",
       "scores_international_outlook                  -0.002865  \n",
       "scores_industry_income                         0.241106  \n",
       "stats_number_students                         -0.015265  \n",
       "stats_student_staff_ratio                      1.000000  "
      ]
     },
     "execution_count": 30,
     "metadata": {},
     "output_type": "execute_result"
    }
   ],
   "source": [
    "#Calcular a correlação para os 6 fatores considerados\n",
    "dados_2024.loc[:199,fatores_analisados].corr()"
   ]
  },
  {
   "cell_type": "markdown",
   "metadata": {},
   "source": [
    "Análise da correlação linear da pontuação geral:\n",
    "\n",
    "- Existe uma correlação positiva muito forte com a qualidade do ensino e da pesquisa;\n",
    "- Existe uma correlação positiva moderada com o impacto das pesquisas (citations);\n",
    "- Existe uma correlação positiva muito fraca com a internacionalização e com o intercâmbio com a indústria;\n",
    "- Praticamente não existe correlação com o número de estudantes;\n",
    "- Correlação negativa muito fraca com a proporção entre alunos e funcionários.\n"
   ]
  },
  {
   "cell_type": "markdown",
   "metadata": {},
   "source": [
    "Alguns pontos interessantes verificados no cálculo da correlação linear:\n",
    "\n",
    "- A qualidade do ensino e da pesquisa caminham juntas (correlação positiva muito forte);\n",
    "- A qualidade do ensino cai quando aumenta o número de alunos para cada funcionário (correlação negativa fraca);\n",
    "- O intercâmbio com a indústria favorece a pesquisa (correlação positiva fraca), porém influencia negativamente no impacto da pesquisa produzida (correlação negativa fraca). Para o cálculo da pontuação da pesquisa são levados em conta diversas fatores. Por exemplo, um intercâmbio maior com a indústria pode gerar maiores receitas para a universidade (impacto positivo na pesquisa) ao mesmo tempo que reduz o impacto da pesquisa produzida;\n",
    "- A internacionalização na tem influência na pesquisa produzida e impacta negativamente na qualidade do ensino (correlção negativa muito fraca);\n",
    "- O número de estudantes não tem relação com os demais fatores considerados. Já o aumento da proporção de estudantes em relação a funcionários favorece o intercâmbio com a indústria, porém influencia negativamente na qualidade do ensino."
   ]
  },
  {
   "cell_type": "code",
   "execution_count": 31,
   "metadata": {},
   "outputs": [
    {
     "data": {
      "text/plain": [
       "<Axes: >"
      ]
     },
     "execution_count": 31,
     "metadata": {},
     "output_type": "execute_result"
    },
    {
     "data": {
      "image/png": "[encoded data removed]",
      "text/plain": [
       "<Figure size 640x480 with 2 Axes>"
      ]
     },
     "metadata": {},
     "output_type": "display_data"
    }
   ],
   "source": [
    "#plotar correlação entre os seis fatores considerados usando seaborn\n",
    "import matplotlib.pyplot as plt\n",
    "sns.heatmap(dados_2024.loc[:199,fatores_analisados].corr(), annot=True,cmap=\"crest\")\n"
   ]
  },
  {
   "cell_type": "code",
   "execution_count": 32,
   "metadata": {},
   "outputs": [
    {
     "data": {
      "application/vnd.plotly.v1+json": {
       "config": {
        "plotlyServerURL": "https://plot.ly"
       },
       "data": [
        {
         "coloraxis": "coloraxis",
         "hovertemplate": "x: %{x}<br>y: %{y}<br>color: %{z}<extra></extra>",
         "name": "0",
         "texttemplate": "%{z}",
         "type": "heatmap",
         "x": [
          "scores_overall",
          "scores_teaching",
          "scores_research",
          "scores_citations",
          "scores_international_outlook",
          "scores_industry_income",
          "stats_number_students",
          "stats_student_staff_ratio"
         ],
         "xaxis": "x",
         "y": [
          "scores_overall",
          "scores_teaching",
          "scores_research",
          "scores_citations",
          "scores_international_outlook",
          "scores_industry_income",
          "stats_number_students",
          "stats_student_staff_ratio"
         ],
         "yaxis": "y",
         "z": [
          [
           1,
           0.8933882098017928,
           0.9284022755666496,
           0.4672744472432761,
           0.1338709487382797,
           0.12812035349762038,
           -0.07246017946057048,
           -0.19608966268186223
          ],
          [
           0.8933882098017928,
           1,
           0.9023324607576311,
           0.13838020106834498,
           -0.13416726653037955,
           0.16239515395486867,
           0.002312614330645668,
           -0.23915577916837352
          ],
          [
           0.9284022755666496,
           0.9023324607576311,
           1,
           0.15540038210001686,
           0.008888755921628615,
           0.2488412386010223,
           -0.07158661169176198,
           -0.1036620006795781
          ],
          [
           0.4672744472432761,
           0.13838020106834498,
           0.15540038210001686,
           1,
           0.20292466609290966,
           -0.2819842839540157,
           -0.05959391440779487,
           -0.1777671343776449
          ],
          [
           0.1338709487382797,
           -0.13416726653037955,
           0.008888755921628615,
           0.20292466609290966,
           1,
           -0.15400259000960262,
           -0.1696581359670942,
           -0.0028645690698689582
          ],
          [
           0.12812035349762038,
           0.16239515395486867,
           0.2488412386010223,
           -0.2819842839540157,
           -0.15400259000960262,
           1,
           0.046596596084349795,
           0.24110638767028428
          ],
          [
           -0.07246017946057048,
           0.002312614330645668,
           -0.07158661169176198,
           -0.05959391440779487,
           -0.1696581359670942,
           0.046596596084349795,
           1,
           -0.015264569783094942
          ],
          [
           -0.19608966268186223,
           -0.23915577916837352,
           -0.1036620006795781,
           -0.1777671343776449,
           -0.0028645690698689582,
           0.24110638767028428,
           -0.015264569783094942,
           1
          ]
         ]
        }
       ],
       "layout": {
        "coloraxis": {
         "colorscale": [
          [
           0,
           "rgb(5,48,97)"
          ],
          [
           0.1,
           "rgb(33,102,172)"
          ],
          [
           0.2,
           "rgb(67,147,195)"
          ],
          [
           0.3,
           "rgb(146,197,222)"
          ],
          [
           0.4,
           "rgb(209,229,240)"
          ],
          [
           0.5,
           "rgb(247,247,247)"
          ],
          [
           0.6,
           "rgb(253,219,199)"
          ],
          [
           0.7,
           "rgb(244,165,130)"
          ],
          [
           0.8,
           "rgb(214,96,77)"
          ],
          [
           0.9,
           "rgb(178,24,43)"
          ],
          [
           1,
           "rgb(103,0,31)"
          ]
         ]
        },
        "margin": {
         "t": 60
        },
        "template": {
         "data": {
          "bar": [
           {
            "error_x": {
             "color": "#2a3f5f"
            },
            "error_y": {
             "color": "#2a3f5f"
            },
            "marker": {
             "line": {
              "color": "#E5ECF6",
              "width": 0.5
             },
             "pattern": {
              "fillmode": "overlay",
              "size": 10,
              "solidity": 0.2
             }
            },
            "type": "bar"
           }
          ],
          "barpolar": [
           {
            "marker": {
             "line": {
              "color": "#E5ECF6",
              "width": 0.5
             },
             "pattern": {
              "fillmode": "overlay",
              "size": 10,
              "solidity": 0.2
             }
            },
            "type": "barpolar"
           }
          ],
          "carpet": [
           {
            "aaxis": {
             "endlinecolor": "#2a3f5f",
             "gridcolor": "white",
             "linecolor": "white",
             "minorgridcolor": "white",
             "startlinecolor": "#2a3f5f"
            },
            "baxis": {
             "endlinecolor": "#2a3f5f",
             "gridcolor": "white",
             "linecolor": "white",
             "minorgridcolor": "white",
             "startlinecolor": "#2a3f5f"
            },
            "type": "carpet"
           }
          ],
          "choropleth": [
           {
            "colorbar": {
             "outlinewidth": 0,
             "ticks": ""
            },
            "type": "choropleth"
           }
          ],
          "contour": [
           {
            "colorbar": {
             "outlinewidth": 0,
             "ticks": ""
            },
            "colorscale": [
             [
              0,
              "#0d0887"
             ],
             [
              0.1111111111111111,
              "#46039f"
             ],
             [
              0.2222222222222222,
              "#7201a8"
             ],
             [
              0.3333333333333333,
              "#9c179e"
             ],
             [
              0.4444444444444444,
              "#bd3786"
             ],
             [
              0.5555555555555556,
              "#d8576b"
             ],
             [
              0.6666666666666666,
              "#ed7953"
             ],
             [
              0.7777777777777778,
              "#fb9f3a"
             ],
             [
              0.8888888888888888,
              "#fdca26"
             ],
             [
              1,
              "#f0f921"
             ]
            ],
            "type": "contour"
           }
          ],
          "contourcarpet": [
           {
            "colorbar": {
             "outlinewidth": 0,
             "ticks": ""
            },
            "type": "contourcarpet"
           }
          ],
          "heatmap": [
           {
            "colorbar": {
             "outlinewidth": 0,
             "ticks": ""
            },
            "colorscale": [
             [
              0,
              "#0d0887"
             ],
             [
              0.1111111111111111,
              "#46039f"
             ],
             [
              0.2222222222222222,
              "#7201a8"
             ],
             [
              0.3333333333333333,
              "#9c179e"
             ],
             [
              0.4444444444444444,
              "#bd3786"
             ],
             [
              0.5555555555555556,
              "#d8576b"
             ],
             [
              0.6666666666666666,
              "#ed7953"
             ],
             [
              0.7777777777777778,
              "#fb9f3a"
             ],
             [
              0.8888888888888888,
              "#fdca26"
             ],
             [
              1,
              "#f0f921"
             ]
            ],
            "type": "heatmap"
           }
          ],
          "heatmapgl": [
           {
            "colorbar": {
             "outlinewidth": 0,
             "ticks": ""
            },
            "colorscale": [
             [
              0,
              "#0d0887"
             ],
             [
              0.1111111111111111,
              "#46039f"
             ],
             [
              0.2222222222222222,
              "#7201a8"
             ],
             [
              0.3333333333333333,
              "#9c179e"
             ],
             [
              0.4444444444444444,
              "#bd3786"
             ],
             [
              0.5555555555555556,
              "#d8576b"
             ],
             [
              0.6666666666666666,
              "#ed7953"
             ],
             [
              0.7777777777777778,
              "#fb9f3a"
             ],
             [
              0.8888888888888888,
              "#fdca26"
             ],
             [
              1,
              "#f0f921"
             ]
            ],
            "type": "heatmapgl"
           }
          ],
          "histogram": [
           {
            "marker": {
             "pattern": {
              "fillmode": "overlay",
              "size": 10,
              "solidity": 0.2
             }
            },
            "type": "histogram"
           }
          ],
          "histogram2d": [
           {
            "colorbar": {
             "outlinewidth": 0,
             "ticks": ""
            },
            "colorscale": [
             [
              0,
              "#0d0887"
             ],
             [
              0.1111111111111111,
              "#46039f"
             ],
             [
              0.2222222222222222,
              "#7201a8"
             ],
             [
              0.3333333333333333,
              "#9c179e"
             ],
             [
              0.4444444444444444,
              "#bd3786"
             ],
             [
              0.5555555555555556,
              "#d8576b"
             ],
             [
              0.6666666666666666,
              "#ed7953"
             ],
             [
              0.7777777777777778,
              "#fb9f3a"
             ],
             [
              0.8888888888888888,
              "#fdca26"
             ],
             [
              1,
              "#f0f921"
             ]
            ],
            "type": "histogram2d"
           }
          ],
          "histogram2dcontour": [
           {
            "colorbar": {
             "outlinewidth": 0,
             "ticks": ""
            },
            "colorscale": [
             [
              0,
              "#0d0887"
             ],
             [
              0.1111111111111111,
              "#46039f"
             ],
             [
              0.2222222222222222,
              "#7201a8"
             ],
             [
              0.3333333333333333,
              "#9c179e"
             ],
             [
              0.4444444444444444,
              "#bd3786"
             ],
             [
              0.5555555555555556,
              "#d8576b"
             ],
             [
              0.6666666666666666,
              "#ed7953"
             ],
             [
              0.7777777777777778,
              "#fb9f3a"
             ],
             [
              0.8888888888888888,
              "#fdca26"
             ],
             [
              1,
              "#f0f921"
             ]
            ],
            "type": "histogram2dcontour"
           }
          ],
          "mesh3d": [
           {
            "colorbar": {
             "outlinewidth": 0,
             "ticks": ""
            },
            "type": "mesh3d"
           }
          ],
          "parcoords": [
           {
            "line": {
             "colorbar": {
              "outlinewidth": 0,
              "ticks": ""
             }
            },
            "type": "parcoords"
           }
          ],
          "pie": [
           {
            "automargin": true,
            "type": "pie"
           }
          ],
          "scatter": [
           {
            "fillpattern": {
             "fillmode": "overlay",
             "size": 10,
             "solidity": 0.2
            },
            "type": "scatter"
           }
          ],
          "scatter3d": [
           {
            "line": {
             "colorbar": {
              "outlinewidth": 0,
              "ticks": ""
             }
            },
            "marker": {
             "colorbar": {
              "outlinewidth": 0,
              "ticks": ""
             }
            },
            "type": "scatter3d"
           }
          ],
          "scattercarpet": [
           {
            "marker": {
             "colorbar": {
              "outlinewidth": 0,
              "ticks": ""
             }
            },
            "type": "scattercarpet"
           }
          ],
          "scattergeo": [
           {
            "marker": {
             "colorbar": {
              "outlinewidth": 0,
              "ticks": ""
             }
            },
            "type": "scattergeo"
           }
          ],
          "scattergl": [
           {
            "marker": {
             "colorbar": {
              "outlinewidth": 0,
              "ticks": ""
             }
            },
            "type": "scattergl"
           }
          ],
          "scattermapbox": [
           {
            "marker": {
             "colorbar": {
              "outlinewidth": 0,
              "ticks": ""
             }
            },
            "type": "scattermapbox"
           }
          ],
          "scatterpolar": [
           {
            "marker": {
             "colorbar": {
              "outlinewidth": 0,
              "ticks": ""
             }
            },
            "type": "scatterpolar"
           }
          ],
          "scatterpolargl": [
           {
            "marker": {
             "colorbar": {
              "outlinewidth": 0,
              "ticks": ""
             }
            },
            "type": "scatterpolargl"
           }
          ],
          "scatterternary": [
           {
            "marker": {
             "colorbar": {
              "outlinewidth": 0,
              "ticks": ""
             }
            },
            "type": "scatterternary"
           }
          ],
          "surface": [
           {
            "colorbar": {
             "outlinewidth": 0,
             "ticks": ""
            },
            "colorscale": [
             [
              0,
              "#0d0887"
             ],
             [
              0.1111111111111111,
              "#46039f"
             ],
             [
              0.2222222222222222,
              "#7201a8"
             ],
             [
              0.3333333333333333,
              "#9c179e"
             ],
             [
              0.4444444444444444,
              "#bd3786"
             ],
             [
              0.5555555555555556,
              "#d8576b"
             ],
             [
              0.6666666666666666,
              "#ed7953"
             ],
             [
              0.7777777777777778,
              "#fb9f3a"
             ],
             [
              0.8888888888888888,
              "#fdca26"
             ],
             [
              1,
              "#f0f921"
             ]
            ],
            "type": "surface"
           }
          ],
          "table": [
           {
            "cells": {
             "fill": {
              "color": "#EBF0F8"
             },
             "line": {
              "color": "white"
             }
            },
            "header": {
             "fill": {
              "color": "#C8D4E3"
             },
             "line": {
              "color": "white"
             }
            },
            "type": "table"
           }
          ]
         },
         "layout": {
          "annotationdefaults": {
           "arrowcolor": "#2a3f5f",
           "arrowhead": 0,
           "arrowwidth": 1
          },
          "autotypenumbers": "strict",
          "coloraxis": {
           "colorbar": {
            "outlinewidth": 0,
            "ticks": ""
           }
          },
          "colorscale": {
           "diverging": [
            [
             0,
             "#8e0152"
            ],
            [
             0.1,
             "#c51b7d"
            ],
            [
             0.2,
             "#de77ae"
            ],
            [
             0.3,
             "#f1b6da"
            ],
            [
             0.4,
             "#fde0ef"
            ],
            [
             0.5,
             "#f7f7f7"
            ],
            [
             0.6,
             "#e6f5d0"
            ],
            [
             0.7,
             "#b8e186"
            ],
            [
             0.8,
             "#7fbc41"
            ],
            [
             0.9,
             "#4d9221"
            ],
            [
             1,
             "#276419"
            ]
           ],
           "sequential": [
            [
             0,
             "#0d0887"
            ],
            [
             0.1111111111111111,
             "#46039f"
            ],
            [
             0.2222222222222222,
             "#7201a8"
            ],
            [
             0.3333333333333333,
             "#9c179e"
            ],
            [
             0.4444444444444444,
             "#bd3786"
            ],
            [
             0.5555555555555556,
             "#d8576b"
            ],
            [
             0.6666666666666666,
             "#ed7953"
            ],
            [
             0.7777777777777778,
             "#fb9f3a"
            ],
            [
             0.8888888888888888,
             "#fdca26"
            ],
            [
             1,
             "#f0f921"
            ]
           ],
           "sequentialminus": [
            [
             0,
             "#0d0887"
            ],
            [
             0.1111111111111111,
             "#46039f"
            ],
            [
             0.2222222222222222,
             "#7201a8"
            ],
            [
             0.3333333333333333,
             "#9c179e"
            ],
            [
             0.4444444444444444,
             "#bd3786"
            ],
            [
             0.5555555555555556,
             "#d8576b"
            ],
            [
             0.6666666666666666,
             "#ed7953"
            ],
            [
             0.7777777777777778,
             "#fb9f3a"
            ],
            [
             0.8888888888888888,
             "#fdca26"
            ],
            [
             1,
             "#f0f921"
            ]
           ]
          },
          "colorway": [
           "#636efa",
           "#EF553B",
           "#00cc96",
           "#ab63fa",
           "#FFA15A",
           "#19d3f3",
           "#FF6692",
           "#B6E880",
           "#FF97FF",
           "#FECB52"
          ],
          "font": {
           "color": "#2a3f5f"
          },
          "geo": {
           "bgcolor": "white",
           "lakecolor": "white",
           "landcolor": "#E5ECF6",
           "showlakes": true,
           "showland": true,
           "subunitcolor": "white"
          },
          "hoverlabel": {
           "align": "left"
          },
          "hovermode": "closest",
          "mapbox": {
           "style": "light"
          },
          "paper_bgcolor": "white",
          "plot_bgcolor": "#E5ECF6",
          "polar": {
           "angularaxis": {
            "gridcolor": "white",
            "linecolor": "white",
            "ticks": ""
           },
           "bgcolor": "#E5ECF6",
           "radialaxis": {
            "gridcolor": "white",
            "linecolor": "white",
            "ticks": ""
           }
          },
          "scene": {
           "xaxis": {
            "backgroundcolor": "#E5ECF6",
            "gridcolor": "white",
            "gridwidth": 2,
            "linecolor": "white",
            "showbackground": true,
            "ticks": "",
            "zerolinecolor": "white"
           },
           "yaxis": {
            "backgroundcolor": "#E5ECF6",
            "gridcolor": "white",
            "gridwidth": 2,
            "linecolor": "white",
            "showbackground": true,
            "ticks": "",
            "zerolinecolor": "white"
           },
           "zaxis": {
            "backgroundcolor": "#E5ECF6",
            "gridcolor": "white",
            "gridwidth": 2,
            "linecolor": "white",
            "showbackground": true,
            "ticks": "",
            "zerolinecolor": "white"
           }
          },
          "shapedefaults": {
           "line": {
            "color": "#2a3f5f"
           }
          },
          "ternary": {
           "aaxis": {
            "gridcolor": "white",
            "linecolor": "white",
            "ticks": ""
           },
           "baxis": {
            "gridcolor": "white",
            "linecolor": "white",
            "ticks": ""
           },
           "bgcolor": "#E5ECF6",
           "caxis": {
            "gridcolor": "white",
            "linecolor": "white",
            "ticks": ""
           }
          },
          "title": {
           "x": 0.05
          },
          "xaxis": {
           "automargin": true,
           "gridcolor": "white",
           "linecolor": "white",
           "ticks": "",
           "title": {
            "standoff": 15
           },
           "zerolinecolor": "white",
           "zerolinewidth": 2
          },
          "yaxis": {
           "automargin": true,
           "gridcolor": "white",
           "linecolor": "white",
           "ticks": "",
           "title": {
            "standoff": 15
           },
           "zerolinecolor": "white",
           "zerolinewidth": 2
          }
         }
        },
        "xaxis": {
         "anchor": "y",
         "constrain": "domain",
         "domain": [
          0,
          1
         ],
         "scaleanchor": "y"
        },
        "yaxis": {
         "anchor": "x",
         "autorange": "reversed",
         "constrain": "domain",
         "domain": [
          0,
          1
         ]
        }
       }
      }
     },
     "metadata": {},
     "output_type": "display_data"
    }
   ],
   "source": [
    "##plotar correlação entre os seis fatores considerados usando plotly\n",
    "fig = px.imshow(dados_2024.loc[:199,fatores_analisados].corr(),text_auto=True,color_continuous_scale='RdBu_r')\n",
    "fig.show()"
   ]
  },
  {
   "cell_type": "markdown",
   "metadata": {},
   "source": [
    "### Construção de rankings baseados em outros fatores"
   ]
  },
  {
   "cell_type": "markdown",
   "metadata": {},
   "source": [
    "Função para criação de ranking de acordo com um dos seguintes indicadores:\n",
    " \n",
    " - teaching;\n",
    " - research;\n",
    " - citations;\n",
    " - international_outlook;\n",
    " - industry_income."
   ]
  },
  {
   "cell_type": "code",
   "execution_count": 33,
   "metadata": {},
   "outputs": [],
   "source": [
    "def ranking_fator_selecinado(dados,ano,fator,n_posicoes,overall_ranking='rank',name_universities='name',location='location'):\n",
    "    '''\n",
    "    Função para gerar uma ranking para o fator desejado\n",
    "\n",
    "    Inputs:\n",
    "        dados             - Pandas dataframe com os rankings para cada ano\n",
    "        ano               - (str) ano selecionado para o qual o ranking será criado\n",
    "        fator             - (str) nome do fator considerado na contrucao do ranking. Fatores aceitos são: 'scores_teaching_rank',\n",
    "                                  'scores_international_outlook_rank','scores_industry_income_rank','scores_research_rank','scores_citations_rank'\n",
    "        n_posicoes        - (int) número de posições no ranking gerado. Serão incluídas desde a posição 1 até n_posicões\n",
    "        overall_ranking   - (str) nome da coluna do dataframe dados que contem a posição das universidade no ranking geral\n",
    "        name_universities - (str) nome da coluna do dataframe dados que contem o nome das universidade\n",
    "        location          - (str) nome da coluna no dataframe com os paises de origem das universidades\n",
    "\n",
    "    \n",
    "    '''\n",
    "    if fator not in ['scores_teaching_rank','scores_international_outlook_rank','scores_industry_income_rank',\n",
    "                    'scores_research_rank','scores_citations_rank']:\n",
    "        raise Exception('Fator selecionador deve ser um dos seguintes: scores_international_outlook_rank,scores_teaching_rank,scores_international_outlook_rank,scores_industry_income_rank,scores_research_rank,scores_citations_rank')\n",
    "\n",
    "    dados=dados.loc[ano,:] #selecionar o ano\n",
    "    dados_ordenados=dados.sort_values(by=fator).reset_index(drop=True)\n",
    "    dados_ordenados=dados_ordenados.loc[:(n_posicoes-1),[overall_ranking,name_universities,'location']] #ordenar os valores de acordo com o fator selecionado\n",
    "    dados_ordenados.rename(columns={overall_ranking:'Ranking Geral',location:'Location',name_universities:'Top '+str(n_posicoes)+' '+fator.split('_')[1]},inplace=True)\n",
    "    dados_ordenados.index=np.arange(1,n_posicoes+1) #index começando em zero\n",
    "    return dados_ordenados"
   ]
  },
  {
   "cell_type": "code",
   "execution_count": 34,
   "metadata": {},
   "outputs": [
    {
     "data": {
      "text/html": [
       "<div>\n",
       "<style scoped>\n",
       "    .dataframe tbody tr th:only-of-type {\n",
       "        vertical-align: middle;\n",
       "    }\n",
       "\n",
       "    .dataframe tbody tr th {\n",
       "        vertical-align: top;\n",
       "    }\n",
       "\n",
       "    .dataframe thead th {\n",
       "        text-align: right;\n",
       "    }\n",
       "</style>\n",
       "<table border=\"1\" class=\"dataframe\">\n",
       "  <thead>\n",
       "    <tr style=\"text-align: right;\">\n",
       "      <th></th>\n",
       "      <th>Ranking Geral</th>\n",
       "      <th>Top 20 research</th>\n",
       "      <th>Location</th>\n",
       "    </tr>\n",
       "  </thead>\n",
       "  <tbody>\n",
       "    <tr>\n",
       "      <th>1</th>\n",
       "      <td>1</td>\n",
       "      <td>University of Oxford</td>\n",
       "      <td>United Kingdom</td>\n",
       "    </tr>\n",
       "    <tr>\n",
       "      <th>2</th>\n",
       "      <td>6</td>\n",
       "      <td>Harvard University</td>\n",
       "      <td>United States</td>\n",
       "    </tr>\n",
       "    <tr>\n",
       "      <th>3</th>\n",
       "      <td>2</td>\n",
       "      <td>University of Cambridge</td>\n",
       "      <td>United Kingdom</td>\n",
       "    </tr>\n",
       "    <tr>\n",
       "      <th>4</th>\n",
       "      <td>=3</td>\n",
       "      <td>California Institute of Technology</td>\n",
       "      <td>United States</td>\n",
       "    </tr>\n",
       "    <tr>\n",
       "      <th>5</th>\n",
       "      <td>=3</td>\n",
       "      <td>Stanford University</td>\n",
       "      <td>United States</td>\n",
       "    </tr>\n",
       "    <tr>\n",
       "      <th>6</th>\n",
       "      <td>7</td>\n",
       "      <td>Princeton University</td>\n",
       "      <td>United States</td>\n",
       "    </tr>\n",
       "    <tr>\n",
       "      <th>7</th>\n",
       "      <td>30</td>\n",
       "      <td>Tsinghua University</td>\n",
       "      <td>China</td>\n",
       "    </tr>\n",
       "    <tr>\n",
       "      <th>8</th>\n",
       "      <td>=10</td>\n",
       "      <td>ETH Zurich</td>\n",
       "      <td>Switzerland</td>\n",
       "    </tr>\n",
       "    <tr>\n",
       "      <th>9</th>\n",
       "      <td>5</td>\n",
       "      <td>Massachusetts Institute of Technology</td>\n",
       "      <td>United States</td>\n",
       "    </tr>\n",
       "    <tr>\n",
       "      <th>10</th>\n",
       "      <td>9</td>\n",
       "      <td>The University of Chicago</td>\n",
       "      <td>United States</td>\n",
       "    </tr>\n",
       "    <tr>\n",
       "      <th>11</th>\n",
       "      <td>=10</td>\n",
       "      <td>University of Pennsylvania</td>\n",
       "      <td>United States</td>\n",
       "    </tr>\n",
       "    <tr>\n",
       "      <th>12</th>\n",
       "      <td>8</td>\n",
       "      <td>Imperial College London</td>\n",
       "      <td>United Kingdom</td>\n",
       "    </tr>\n",
       "    <tr>\n",
       "      <th>13</th>\n",
       "      <td>=22</td>\n",
       "      <td>National University of Singapore</td>\n",
       "      <td>Singapore</td>\n",
       "    </tr>\n",
       "    <tr>\n",
       "      <th>14</th>\n",
       "      <td>16</td>\n",
       "      <td>UCL</td>\n",
       "      <td>United Kingdom</td>\n",
       "    </tr>\n",
       "    <tr>\n",
       "      <th>15</th>\n",
       "      <td>15</td>\n",
       "      <td>University of California, Los Angeles</td>\n",
       "      <td>United States</td>\n",
       "    </tr>\n",
       "    <tr>\n",
       "      <th>16</th>\n",
       "      <td>13</td>\n",
       "      <td>Johns Hopkins University</td>\n",
       "      <td>United States</td>\n",
       "    </tr>\n",
       "    <tr>\n",
       "      <th>17</th>\n",
       "      <td>12</td>\n",
       "      <td>Yale University</td>\n",
       "      <td>United States</td>\n",
       "    </tr>\n",
       "    <tr>\n",
       "      <th>18</th>\n",
       "      <td>20</td>\n",
       "      <td>Northwestern University</td>\n",
       "      <td>United States</td>\n",
       "    </tr>\n",
       "    <tr>\n",
       "      <th>19</th>\n",
       "      <td>19</td>\n",
       "      <td>Cornell University</td>\n",
       "      <td>United States</td>\n",
       "    </tr>\n",
       "    <tr>\n",
       "      <th>20</th>\n",
       "      <td>21</td>\n",
       "      <td>University of Michigan-Ann Arbor</td>\n",
       "      <td>United States</td>\n",
       "    </tr>\n",
       "  </tbody>\n",
       "</table>\n",
       "</div>"
      ],
      "text/plain": [
       "   Ranking Geral                        Top 20 research        Location\n",
       "1              1                   University of Oxford  United Kingdom\n",
       "2              6                     Harvard University   United States\n",
       "3              2                University of Cambridge  United Kingdom\n",
       "4             =3     California Institute of Technology   United States\n",
       "5             =3                    Stanford University   United States\n",
       "6              7                   Princeton University   United States\n",
       "7             30                    Tsinghua University           China\n",
       "8            =10                             ETH Zurich     Switzerland\n",
       "9              5  Massachusetts Institute of Technology   United States\n",
       "10             9              The University of Chicago   United States\n",
       "11           =10             University of Pennsylvania   United States\n",
       "12             8                Imperial College London  United Kingdom\n",
       "13           =22       National University of Singapore       Singapore\n",
       "14            16                                    UCL  United Kingdom\n",
       "15            15  University of California, Los Angeles   United States\n",
       "16            13               Johns Hopkins University   United States\n",
       "17            12                        Yale University   United States\n",
       "18            20                Northwestern University   United States\n",
       "19            19                     Cornell University   United States\n",
       "20            21       University of Michigan-Ann Arbor   United States"
      ]
     },
     "execution_count": 34,
     "metadata": {},
     "output_type": "execute_result"
    }
   ],
   "source": [
    "#Exemplo: 20 mlehores universidades de acordo com o critério pesquisa e suas posições no ranking geral\n",
    "ranking_2024_research=ranking_fator_selecinado(df_dados,'2024','scores_research_rank',20)\n",
    "ranking_2024_research"
   ]
  },
  {
   "cell_type": "markdown",
   "metadata": {},
   "source": [
    "Função para criação de um dataframe com universidades em cada coluna rankeadas de acordo com os seguintes fatores:\n",
    "\n",
    " - geral\n",
    " - teaching;\n",
    " - research;\n",
    " - citations;\n",
    " - international_outlook;\n",
    " - industry_income."
   ]
  },
  {
   "cell_type": "code",
   "execution_count": 47,
   "metadata": {},
   "outputs": [],
   "source": [
    "def ranking_seis_fatores(dados,ano,n_posicoes,coluna_names='name'):\n",
    "    \"\"\"\n",
    "    Função para crição de um dataframe com 6 colunas, em cala uma delas as universidade aparecem rankeadas de acordo com um dos 6 fatores:\n",
    "        -Geral;\n",
    "        -Teaching;\n",
    "        -Research;\n",
    "        -International outlook;\n",
    "        -Industry income\n",
    "\n",
    "    Inputs:\n",
    "        dados        - Pandas dataframe com os rankings para todos os anos\n",
    "        ano          - (str) Ranking relativos ao ano especificado\n",
    "        n_posicoes   - (int) Número de posições que aparecerão no ranking\n",
    "        coluna_names - (str) Nome da coluna com o nome das universidades\n",
    "\n",
    "    Outpout:\n",
    "        Pandas dataframe com 6 colunas,são elas:\n",
    "            Ranking Geral: Universidade rankeadas de acordo com a média de todos os fatores (calculados pelo THE)\n",
    "            Ranking Teaching: Universidades rankeadas de acordo com o score obtido para ensino\n",
    "            Ranking Research: Universidade rankeadas de acordo com o score obtido para pesquisa\n",
    "            Ranking International outlook: Universidade rankeadas de acordo com o score obtido para internacionalização\n",
    "            Ranking Industry Income: Universidade rankeadas de acordo com o score obtido relação com indústria\n",
    "    \"\"\"\n",
    "    #nome das colunas do dataframe original que serão usadas para criação dos rankings\n",
    "    fatores=['scores_teaching_rank','scores_research_rank','scores_citations_rank','scores_international_outlook_rank','scores_industry_income_rank']\n",
    "\n",
    "    name=['Geral','Teaching','Reasearch','Citations','International Outlook',\"Industry Income\"] #nome dos fatores como aparecerão no dataframe\n",
    "    dados_ano_selecionado=df_dados.loc[ano,:] #seleção dos dados para o ano especificado\n",
    "    ranking_fatores=dados_ano_selecionado.loc[:n_posicoes-1,['name']] #universidades ordenadas de acordo com overall ranking\n",
    "    ranking_fatores.rename(columns={coluna_names: 'Ranking '+name[0]},inplace=True)\n",
    "    for num,factor in enumerate(fatores):\n",
    "        dados_fator=dados_ano_selecionado.sort_values(by=factor).reset_index(drop=True)\n",
    "        dados_fator=dados_fator.loc[:n_posicoes-1,['name']]\n",
    "        dados_fator.rename(columns={coluna_names:'Ranking '+name[num+1]},inplace=True)\n",
    "        ranking_fatores=pd.concat([ranking_fatores,dados_fator],axis=1)\n",
    "    ranking_fatores.index=np.arange(1,n_posicoes+1)\n",
    "    return ranking_fatores"
   ]
  },
  {
   "cell_type": "code",
   "execution_count": 50,
   "metadata": {},
   "outputs": [
    {
     "data": {
      "text/html": [
       "<div>\n",
       "<style scoped>\n",
       "    .dataframe tbody tr th:only-of-type {\n",
       "        vertical-align: middle;\n",
       "    }\n",
       "\n",
       "    .dataframe tbody tr th {\n",
       "        vertical-align: top;\n",
       "    }\n",
       "\n",
       "    .dataframe thead th {\n",
       "        text-align: right;\n",
       "    }\n",
       "</style>\n",
       "<table border=\"1\" class=\"dataframe\">\n",
       "  <thead>\n",
       "    <tr style=\"text-align: right;\">\n",
       "      <th></th>\n",
       "      <th>Ranking Geral</th>\n",
       "      <th>Ranking Teaching</th>\n",
       "      <th>Ranking Reasearch</th>\n",
       "      <th>Ranking Citations</th>\n",
       "      <th>Ranking International Outlook</th>\n",
       "      <th>Ranking Industry Income</th>\n",
       "    </tr>\n",
       "  </thead>\n",
       "  <tbody>\n",
       "    <tr>\n",
       "      <th>1</th>\n",
       "      <td>University of Oxford</td>\n",
       "      <td>California Institute of Technology</td>\n",
       "      <td>University of Oxford</td>\n",
       "      <td>Massachusetts Institute of Technology</td>\n",
       "      <td>University of Luxembourg</td>\n",
       "      <td>Duke University</td>\n",
       "    </tr>\n",
       "    <tr>\n",
       "      <th>2</th>\n",
       "      <td>University of Cambridge</td>\n",
       "      <td>Stanford University</td>\n",
       "      <td>Harvard University</td>\n",
       "      <td>St George’s, University of London</td>\n",
       "      <td>Qatar University</td>\n",
       "      <td>Eindhoven University of Technology</td>\n",
       "    </tr>\n",
       "    <tr>\n",
       "      <th>3</th>\n",
       "      <td>California Institute of Technology</td>\n",
       "      <td>University of Cambridge</td>\n",
       "      <td>University of Cambridge</td>\n",
       "      <td>University of California, Santa Cruz</td>\n",
       "      <td>University of Hong Kong</td>\n",
       "      <td>Federal University of Itajubá</td>\n",
       "    </tr>\n",
       "    <tr>\n",
       "      <th>4</th>\n",
       "      <td>Stanford University</td>\n",
       "      <td>Massachusetts Institute of Technology</td>\n",
       "      <td>California Institute of Technology</td>\n",
       "      <td>Stanford University</td>\n",
       "      <td>University of Sharjah</td>\n",
       "      <td>University of Freiburg</td>\n",
       "    </tr>\n",
       "    <tr>\n",
       "      <th>5</th>\n",
       "      <td>Massachusetts Institute of Technology</td>\n",
       "      <td>University of Oxford</td>\n",
       "      <td>Stanford University</td>\n",
       "      <td>University of California, Berkeley</td>\n",
       "      <td>École Polytechnique Fédérale de Lausanne</td>\n",
       "      <td>Istanbul Technical University</td>\n",
       "    </tr>\n",
       "    <tr>\n",
       "      <th>6</th>\n",
       "      <td>Harvard University</td>\n",
       "      <td>Yale University</td>\n",
       "      <td>Princeton University</td>\n",
       "      <td>Brandeis University</td>\n",
       "      <td>University of Macau</td>\n",
       "      <td>Korea Advanced Institute of Science and Techno...</td>\n",
       "    </tr>\n",
       "    <tr>\n",
       "      <th>7</th>\n",
       "      <td>Princeton University</td>\n",
       "      <td>Princeton University</td>\n",
       "      <td>Tsinghua University</td>\n",
       "      <td>Carnegie Mellon University</td>\n",
       "      <td>University of Geneva</td>\n",
       "      <td>LMU Munich</td>\n",
       "    </tr>\n",
       "    <tr>\n",
       "      <th>8</th>\n",
       "      <td>Imperial College London</td>\n",
       "      <td>The University of Chicago</td>\n",
       "      <td>ETH Zurich</td>\n",
       "      <td>Harvard University</td>\n",
       "      <td>ETH Zurich</td>\n",
       "      <td>Peking University</td>\n",
       "    </tr>\n",
       "    <tr>\n",
       "      <th>9</th>\n",
       "      <td>The University of Chicago</td>\n",
       "      <td>Harvard University</td>\n",
       "      <td>Massachusetts Institute of Technology</td>\n",
       "      <td>Princeton University</td>\n",
       "      <td>Khalifa University</td>\n",
       "      <td>Technical University of Munich</td>\n",
       "    </tr>\n",
       "    <tr>\n",
       "      <th>10</th>\n",
       "      <td>ETH Zurich</td>\n",
       "      <td>University of Pennsylvania</td>\n",
       "      <td>The University of Chicago</td>\n",
       "      <td>California Institute of Technology</td>\n",
       "      <td>Alfaisal University</td>\n",
       "      <td>Wageningen University &amp; Research</td>\n",
       "    </tr>\n",
       "    <tr>\n",
       "      <th>11</th>\n",
       "      <td>University of Pennsylvania</td>\n",
       "      <td>Peking University</td>\n",
       "      <td>University of Pennsylvania</td>\n",
       "      <td>Anglia Ruskin University (ARU)</td>\n",
       "      <td>University of Innsbruck</td>\n",
       "      <td>University of Basel</td>\n",
       "    </tr>\n",
       "    <tr>\n",
       "      <th>12</th>\n",
       "      <td>Yale University</td>\n",
       "      <td>Columbia University</td>\n",
       "      <td>Imperial College London</td>\n",
       "      <td>The University of Chicago</td>\n",
       "      <td>Maastricht University</td>\n",
       "      <td>KU Leuven</td>\n",
       "    </tr>\n",
       "    <tr>\n",
       "      <th>13</th>\n",
       "      <td>Johns Hopkins University</td>\n",
       "      <td>Imperial College London</td>\n",
       "      <td>National University of Singapore</td>\n",
       "      <td>Washington University in St Louis</td>\n",
       "      <td>Imperial College London</td>\n",
       "      <td>Moscow Institute of Physics and Technology (MIPT)</td>\n",
       "    </tr>\n",
       "    <tr>\n",
       "      <th>14</th>\n",
       "      <td>Columbia University</td>\n",
       "      <td>University of California, Los Angeles</td>\n",
       "      <td>UCL</td>\n",
       "      <td>Babol Noshirvani University of Technology</td>\n",
       "      <td>American University of Sharjah</td>\n",
       "      <td>University of the Witwatersrand</td>\n",
       "    </tr>\n",
       "    <tr>\n",
       "      <th>15</th>\n",
       "      <td>University of California, Los Angeles</td>\n",
       "      <td>Duke University</td>\n",
       "      <td>University of California, Los Angeles</td>\n",
       "      <td>University of Oxford</td>\n",
       "      <td>Auckland University of Technology</td>\n",
       "      <td>Delft University of Technology</td>\n",
       "    </tr>\n",
       "    <tr>\n",
       "      <th>16</th>\n",
       "      <td>UCL</td>\n",
       "      <td>Tsinghua University</td>\n",
       "      <td>Johns Hopkins University</td>\n",
       "      <td>Oregon Health and Science University</td>\n",
       "      <td>University of St Gallen</td>\n",
       "      <td>National Cheng Kung University (NCKU)</td>\n",
       "    </tr>\n",
       "    <tr>\n",
       "      <th>17</th>\n",
       "      <td>Duke University</td>\n",
       "      <td>The University of Tokyo</td>\n",
       "      <td>Yale University</td>\n",
       "      <td>University of Washington</td>\n",
       "      <td>University of Basel</td>\n",
       "      <td>Pohang University of Science and Technology (P...</td>\n",
       "    </tr>\n",
       "    <tr>\n",
       "      <th>18</th>\n",
       "      <td>University of California, Berkeley</td>\n",
       "      <td>University of California, Berkeley</td>\n",
       "      <td>Northwestern University</td>\n",
       "      <td>University of California, Santa Barbara</td>\n",
       "      <td>Nanyang Technological University, Singapore</td>\n",
       "      <td>Pontifical Catholic University of Rio de Janei...</td>\n",
       "    </tr>\n",
       "    <tr>\n",
       "      <th>19</th>\n",
       "      <td>Cornell University</td>\n",
       "      <td>National University of Singapore</td>\n",
       "      <td>Cornell University</td>\n",
       "      <td>Columbia University</td>\n",
       "      <td>University of Essex</td>\n",
       "      <td>Tsinghua University</td>\n",
       "    </tr>\n",
       "    <tr>\n",
       "      <th>20</th>\n",
       "      <td>Northwestern University</td>\n",
       "      <td>University of Michigan-Ann Arbor</td>\n",
       "      <td>University of Michigan-Ann Arbor</td>\n",
       "      <td>Rice University</td>\n",
       "      <td>National University of Singapore</td>\n",
       "      <td>Akdeniz University</td>\n",
       "    </tr>\n",
       "  </tbody>\n",
       "</table>\n",
       "</div>"
      ],
      "text/plain": [
       "                            Ranking Geral  \\\n",
       "1                    University of Oxford   \n",
       "2                 University of Cambridge   \n",
       "3      California Institute of Technology   \n",
       "4                     Stanford University   \n",
       "5   Massachusetts Institute of Technology   \n",
       "6                      Harvard University   \n",
       "7                    Princeton University   \n",
       "8                 Imperial College London   \n",
       "9               The University of Chicago   \n",
       "10                             ETH Zurich   \n",
       "11             University of Pennsylvania   \n",
       "12                        Yale University   \n",
       "13               Johns Hopkins University   \n",
       "14                    Columbia University   \n",
       "15  University of California, Los Angeles   \n",
       "16                                    UCL   \n",
       "17                        Duke University   \n",
       "18     University of California, Berkeley   \n",
       "19                     Cornell University   \n",
       "20                Northwestern University   \n",
       "\n",
       "                         Ranking Teaching  \\\n",
       "1      California Institute of Technology   \n",
       "2                     Stanford University   \n",
       "3                 University of Cambridge   \n",
       "4   Massachusetts Institute of Technology   \n",
       "5                    University of Oxford   \n",
       "6                         Yale University   \n",
       "7                    Princeton University   \n",
       "8               The University of Chicago   \n",
       "9                      Harvard University   \n",
       "10             University of Pennsylvania   \n",
       "11                      Peking University   \n",
       "12                    Columbia University   \n",
       "13                Imperial College London   \n",
       "14  University of California, Los Angeles   \n",
       "15                        Duke University   \n",
       "16                    Tsinghua University   \n",
       "17                The University of Tokyo   \n",
       "18     University of California, Berkeley   \n",
       "19       National University of Singapore   \n",
       "20       University of Michigan-Ann Arbor   \n",
       "\n",
       "                        Ranking Reasearch  \\\n",
       "1                    University of Oxford   \n",
       "2                      Harvard University   \n",
       "3                 University of Cambridge   \n",
       "4      California Institute of Technology   \n",
       "5                     Stanford University   \n",
       "6                    Princeton University   \n",
       "7                     Tsinghua University   \n",
       "8                              ETH Zurich   \n",
       "9   Massachusetts Institute of Technology   \n",
       "10              The University of Chicago   \n",
       "11             University of Pennsylvania   \n",
       "12                Imperial College London   \n",
       "13       National University of Singapore   \n",
       "14                                    UCL   \n",
       "15  University of California, Los Angeles   \n",
       "16               Johns Hopkins University   \n",
       "17                        Yale University   \n",
       "18                Northwestern University   \n",
       "19                     Cornell University   \n",
       "20       University of Michigan-Ann Arbor   \n",
       "\n",
       "                            Ranking Citations  \\\n",
       "1       Massachusetts Institute of Technology   \n",
       "2           St George’s, University of London   \n",
       "3        University of California, Santa Cruz   \n",
       "4                         Stanford University   \n",
       "5          University of California, Berkeley   \n",
       "6                         Brandeis University   \n",
       "7                  Carnegie Mellon University   \n",
       "8                          Harvard University   \n",
       "9                        Princeton University   \n",
       "10         California Institute of Technology   \n",
       "11             Anglia Ruskin University (ARU)   \n",
       "12                  The University of Chicago   \n",
       "13          Washington University in St Louis   \n",
       "14  Babol Noshirvani University of Technology   \n",
       "15                       University of Oxford   \n",
       "16       Oregon Health and Science University   \n",
       "17                   University of Washington   \n",
       "18    University of California, Santa Barbara   \n",
       "19                        Columbia University   \n",
       "20                            Rice University   \n",
       "\n",
       "                  Ranking International Outlook  \\\n",
       "1                      University of Luxembourg   \n",
       "2                              Qatar University   \n",
       "3                       University of Hong Kong   \n",
       "4                         University of Sharjah   \n",
       "5      École Polytechnique Fédérale de Lausanne   \n",
       "6                           University of Macau   \n",
       "7                          University of Geneva   \n",
       "8                                    ETH Zurich   \n",
       "9                            Khalifa University   \n",
       "10                          Alfaisal University   \n",
       "11                      University of Innsbruck   \n",
       "12                        Maastricht University   \n",
       "13                      Imperial College London   \n",
       "14               American University of Sharjah   \n",
       "15            Auckland University of Technology   \n",
       "16                      University of St Gallen   \n",
       "17                          University of Basel   \n",
       "18  Nanyang Technological University, Singapore   \n",
       "19                          University of Essex   \n",
       "20             National University of Singapore   \n",
       "\n",
       "                              Ranking Industry Income  \n",
       "1                                     Duke University  \n",
       "2                  Eindhoven University of Technology  \n",
       "3                       Federal University of Itajubá  \n",
       "4                              University of Freiburg  \n",
       "5                       Istanbul Technical University  \n",
       "6   Korea Advanced Institute of Science and Techno...  \n",
       "7                                          LMU Munich  \n",
       "8                                   Peking University  \n",
       "9                      Technical University of Munich  \n",
       "10                   Wageningen University & Research  \n",
       "11                                University of Basel  \n",
       "12                                          KU Leuven  \n",
       "13  Moscow Institute of Physics and Technology (MIPT)  \n",
       "14                    University of the Witwatersrand  \n",
       "15                     Delft University of Technology  \n",
       "16              National Cheng Kung University (NCKU)  \n",
       "17  Pohang University of Science and Technology (P...  \n",
       "18  Pontifical Catholic University of Rio de Janei...  \n",
       "19                                Tsinghua University  \n",
       "20                                 Akdeniz University  "
      ]
     },
     "execution_count": 50,
     "metadata": {},
     "output_type": "execute_result"
    }
   ],
   "source": [
    "#Exemplo: Top 20 para o ano de 2024\n",
    "\n",
    "top_20_2024=ranking_seis_fatores(df_dados,'2024',20)\n",
    "top_20_2024"
   ]
  }
 ],
 "metadata": {
  "kernelspec": {
   "display_name": "estudo",
   "language": "python",
   "name": "python3"
  },
  "language_info": {
   "codemirror_mode": {
    "name": "ipython",
    "version": 3
   },
   "file_extension": ".py",
   "mimetype": "text/x-python",
   "name": "python",
   "nbconvert_exporter": "python",
   "pygments_lexer": "ipython3",
   "version": "3.12.4"
  }
 },
 "nbformat": 4,
 "nbformat_minor": 2
}
