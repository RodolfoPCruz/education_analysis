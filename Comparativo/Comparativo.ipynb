{
 "cells": [
  {
   "cell_type": "code",
   "execution_count": 144,
   "metadata": {},
   "outputs": [],
   "source": [
    "import numpy as np\n",
    "import pandas as pd"
   ]
  },
  {
   "cell_type": "markdown",
   "metadata": {},
   "source": [
    "# Carregar Dados"
   ]
  },
  {
   "cell_type": "markdown",
   "metadata": {},
   "source": [
    "## Dados Educacionais\n"
   ]
  },
  {
   "cell_type": "markdown",
   "metadata": {},
   "source": [
    "- Fonte dos dados:\n",
    "\n",
    "    - investimentos_publicos_privados : https://nces.ed.gov/programs/digest/d14/tables/dt14_605.20.asp\n",
    "    - restante: http://data.uis.unesco.org/\n"
   ]
  },
  {
   "cell_type": "code",
   "execution_count": 145,
   "metadata": {},
   "outputs": [],
   "source": [
    "#Caminho onde estão as pastas com os dados\n",
    "path='/home/rodolfo/Insync/rodolfopcruz2@gmail.com/Google Drive/Estudo/Python_Projects/education_data/dados/Comparativo/'"
   ]
  },
  {
   "cell_type": "code",
   "execution_count": 146,
   "metadata": {},
   "outputs": [],
   "source": [
    "mean_year_schooling=pd.read_excel(path+'Mean_Years_Of_Schooling/mean_years.xlsx') #escolaridade média em anos de pessoas acima de 25 anos\n",
    "investimentos_publicos_privados =pd.read_excel(path+'Public and private direct expenditures on education/public_private_expenditure.xlsx')# investimento publicos e privados diretos em educação\n",
    "investimento_em_milhoes =pd.read_excel(path+'Government expenditure on education in constant US$/gasto_educacao_ajustado_inflacao.xlsx')#investimento público em educação ajustado pela inflação\n"
   ]
  },
  {
   "cell_type": "code",
   "execution_count": 147,
   "metadata": {},
   "outputs": [],
   "source": [
    "#Número total de alunos matriculados\n",
    "\n",
    "matriculas_primario=pd.read_excel(path+'Enrollment-Number/enrollment-primary-education-number.xlsx') #total de alunos matriculados no ensino primário\n",
    "matriculas_secundario=pd.read_excel(path+'Enrollment-Number/enrollment-secondary-education-number.xlsx') #total de alunos matriculados no ensino secundário\n",
    "matriculas_tecnico=pd.read_excel(path+'Enrollment-Number/enrollment-post_secondary-non-terciary-education-number.xlsx') #total de alunos matriculados no ensino técnico\n",
    "matriculas_universitario=pd.read_excel(path+'Enrollment-Number/enrollment-terciary-education-number.xlsx') #total de alunos matriculados no ensino terciário"
   ]
  },
  {
   "cell_type": "code",
   "execution_count": 148,
   "metadata": {},
   "outputs": [],
   "source": [
    "#Proporcao de alunos matriculados\n",
    "proporcao_matriculados_primario=pd.read_excel(path+'Enrollment-Ratio/enrollment-ratio-primary.xlsx') #proporcao de matriculados no ensino primario\n",
    "proporcao_matriculados_secundario=pd.read_excel(path+'Enrollment-Ratio/enrollment-ratio-upper-secondary.xlsx') #proporcao de matriculados no ensino médio"
   ]
  },
  {
   "cell_type": "code",
   "execution_count": 149,
   "metadata": {},
   "outputs": [],
   "source": [
    "#Investimentos em educação como proporcao do PIB\n",
    "\n",
    "investimeto_por_PIB_pre_primario=pd.read_excel(path+'Government expenditure on education as a percentage of GDP/pre-primario.xlsx') #investimento público em ensino pré-primário\n",
    "investimeto_por_PIB_primario=pd.read_excel(path+'Government expenditure on education as a percentage of GDP/primario.xlsx') #investimento público em ensino primário\n",
    "investimeto_por_PIB_lower_secondary=pd.read_excel(path+'Government expenditure on education as a percentage of GDP/lower-secondary.xlsx') #investimento público em ensino lower-secondary\n",
    "investimeto_por_PIB_upper_secondary=pd.read_excel(path+'Government expenditure on education as a percentage of GDP/upper-secondary.xlsx') #investimento público em ensino upper-secondary\n",
    "investimeto_por_PIB_secondary=pd.read_excel(path+'Government expenditure on education as a percentage of GDP/secondary.xlsx') #investimento público em ensino secondary\n",
    "investimeto_por_PIB_tecnico=pd.read_excel(path+'Government expenditure on education as a percentage of GDP/post-secondary-non-terciary.xlsx') #investimento público em ensino técnico\n",
    "investimeto_por_PIB_terciary=pd.read_excel(path+'Government expenditure on education as a percentage of GDP/terciary.xlsx') #investimento público em ensino universitário"
   ]
  },
  {
   "cell_type": "code",
   "execution_count": 150,
   "metadata": {},
   "outputs": [],
   "source": [
    "#Estudantes estrangerios\n",
    "#Diferença entre o número de alunos estrangeiros no paíse e o número de alunos do país estudanto fora\n",
    "\n",
    "entrada_menos_saida_alunos=pd.read_excel(path+'Mobile Students/net-flow-internationally-mobile-students.xlsx') #investimento público em ensino pré-primário\n"
   ]
  },
  {
   "cell_type": "markdown",
   "metadata": {},
   "source": [
    "## Rankings"
   ]
  },
  {
   "cell_type": "markdown",
   "metadata": {},
   "source": [
    "#todo"
   ]
  },
  {
   "cell_type": "markdown",
   "metadata": {},
   "source": [
    "# Pré-Processamento"
   ]
  },
  {
   "cell_type": "code",
   "execution_count": 151,
   "metadata": {},
   "outputs": [],
   "source": [
    "#Nos valores provenientes da Unesco nos valores ausentes está a string \"..\"\n",
    "#Substituir a string por NAN para permitir operações matemáticas nas colunas\n",
    "\n",
    "#A função foi criada para evitar problemas com downcasting no uso do replace. PAra maiores informações consultar o link:\n",
    "#https://medium.com/@felipecaballero/deciphering-the-cryptic-futurewarning-for-fillna-in-pandas-2-01deb4e411a1\n",
    "def replace_string_nan_unesco(x):\n",
    "    with pd.option_context('future.no_silent_downcasting', True):\n",
    "        x.replace('..',np.nan,inplace=True)\n",
    "    return x\n"
   ]
  },
  {
   "cell_type": "code",
   "execution_count": 152,
   "metadata": {},
   "outputs": [
    {
     "data": {
      "text/html": [
       "<div>\n",
       "<style scoped>\n",
       "    .dataframe tbody tr th:only-of-type {\n",
       "        vertical-align: middle;\n",
       "    }\n",
       "\n",
       "    .dataframe tbody tr th {\n",
       "        vertical-align: top;\n",
       "    }\n",
       "\n",
       "    .dataframe thead th {\n",
       "        text-align: right;\n",
       "    }\n",
       "</style>\n",
       "<table border=\"1\" class=\"dataframe\">\n",
       "  <thead>\n",
       "    <tr style=\"text-align: right;\">\n",
       "      <th></th>\n",
       "      <th>Country</th>\n",
       "      <th>2017</th>\n",
       "      <th>2018</th>\n",
       "      <th>2019</th>\n",
       "      <th>2020</th>\n",
       "      <th>2021</th>\n",
       "      <th>2022</th>\n",
       "      <th>2023</th>\n",
       "    </tr>\n",
       "  </thead>\n",
       "  <tbody>\n",
       "    <tr>\n",
       "      <th>0</th>\n",
       "      <td>Estonia</td>\n",
       "      <td>13.55548</td>\n",
       "      <td>13.65631</td>\n",
       "      <td>NaN</td>\n",
       "      <td>13.54843</td>\n",
       "      <td>NaN</td>\n",
       "      <td>NaN</td>\n",
       "      <td>NaN</td>\n",
       "    </tr>\n",
       "    <tr>\n",
       "      <th>1</th>\n",
       "      <td>United States of America</td>\n",
       "      <td>13.41329</td>\n",
       "      <td>13.50162</td>\n",
       "      <td>NaN</td>\n",
       "      <td>13.68343</td>\n",
       "      <td>13.5755</td>\n",
       "      <td>13.9142</td>\n",
       "      <td>NaN</td>\n",
       "    </tr>\n",
       "    <tr>\n",
       "      <th>2</th>\n",
       "      <td>Lithuania</td>\n",
       "      <td>13.18839</td>\n",
       "      <td>NaN</td>\n",
       "      <td>NaN</td>\n",
       "      <td>13.4981</td>\n",
       "      <td>NaN</td>\n",
       "      <td>NaN</td>\n",
       "      <td>NaN</td>\n",
       "    </tr>\n",
       "    <tr>\n",
       "      <th>3</th>\n",
       "      <td>United Kingdom of Great Britain and Northern I...</td>\n",
       "      <td>13.16133</td>\n",
       "      <td>NaN</td>\n",
       "      <td>NaN</td>\n",
       "      <td>13.40612</td>\n",
       "      <td>13.4929</td>\n",
       "      <td>NaN</td>\n",
       "      <td>NaN</td>\n",
       "    </tr>\n",
       "    <tr>\n",
       "      <th>4</th>\n",
       "      <td>Norway</td>\n",
       "      <td>12.94716</td>\n",
       "      <td>NaN</td>\n",
       "      <td>13.00363</td>\n",
       "      <td>NaN</td>\n",
       "      <td>NaN</td>\n",
       "      <td>NaN</td>\n",
       "      <td>NaN</td>\n",
       "    </tr>\n",
       "  </tbody>\n",
       "</table>\n",
       "</div>"
      ],
      "text/plain": [
       "                                             Country      2017      2018  \\\n",
       "0                                            Estonia  13.55548  13.65631   \n",
       "1                           United States of America  13.41329  13.50162   \n",
       "2                                          Lithuania  13.18839       NaN   \n",
       "3  United Kingdom of Great Britain and Northern I...  13.16133       NaN   \n",
       "4                                             Norway  12.94716       NaN   \n",
       "\n",
       "       2019      2020     2021     2022 2023  \n",
       "0       NaN  13.54843      NaN      NaN  NaN  \n",
       "1       NaN  13.68343  13.5755  13.9142  NaN  \n",
       "2       NaN   13.4981      NaN      NaN  NaN  \n",
       "3       NaN  13.40612  13.4929      NaN  NaN  \n",
       "4  13.00363       NaN      NaN      NaN  NaN  "
      ]
     },
     "execution_count": 152,
     "metadata": {},
     "output_type": "execute_result"
    }
   ],
   "source": [
    "#Escolaridade média (em anos) para pessoas acima de 25 anos\n",
    "mean_year_schooling=replace_string_nan_unesco(mean_year_schooling)\n",
    "mean_year_schooling.head()"
   ]
  },
  {
   "cell_type": "code",
   "execution_count": 160,
   "metadata": {},
   "outputs": [
    {
     "name": "stdout",
     "output_type": "stream",
     "text": [
      "<class 'pandas.core.frame.DataFrame'>\n",
      "RangeIndex: 279 entries, 0 to 278\n",
      "Data columns (total 8 columns):\n",
      " #   Column   Non-Null Count  Dtype \n",
      "---  ------   --------------  ----- \n",
      " 0   Country  279 non-null    object\n",
      " 1   2017     63 non-null     object\n",
      " 2   2018     67 non-null     object\n",
      " 3   2019     70 non-null     object\n",
      " 4   2020     56 non-null     object\n",
      " 5   2021     23 non-null     object\n",
      " 6   2022     28 non-null     object\n",
      " 7   2023     1 non-null      object\n",
      "dtypes: object(8)\n",
      "memory usage: 17.6+ KB\n"
     ]
    }
   ],
   "source": [
    "mean_year_schooling.info()"
   ]
  },
  {
   "cell_type": "code",
   "execution_count": 155,
   "metadata": {},
   "outputs": [
    {
     "data": {
      "text/html": [
       "<div>\n",
       "<style scoped>\n",
       "    .dataframe tbody tr th:only-of-type {\n",
       "        vertical-align: middle;\n",
       "    }\n",
       "\n",
       "    .dataframe tbody tr th {\n",
       "        vertical-align: top;\n",
       "    }\n",
       "\n",
       "    .dataframe thead th {\n",
       "        text-align: right;\n",
       "    }\n",
       "</style>\n",
       "<table border=\"1\" class=\"dataframe\">\n",
       "  <thead>\n",
       "    <tr style=\"text-align: right;\">\n",
       "      <th></th>\n",
       "      <th>Country</th>\n",
       "      <th>2017</th>\n",
       "      <th>2018</th>\n",
       "      <th>2019</th>\n",
       "      <th>2020</th>\n",
       "      <th>2021</th>\n",
       "      <th>2022</th>\n",
       "      <th>2023</th>\n",
       "      <th>Nivel de Ensino</th>\n",
       "    </tr>\n",
       "  </thead>\n",
       "  <tbody>\n",
       "    <tr>\n",
       "      <th>0</th>\n",
       "      <td>Afghanistan</td>\n",
       "      <td>6350404</td>\n",
       "      <td>6544906</td>\n",
       "      <td>6777785</td>\n",
       "      <td>NaN</td>\n",
       "      <td>NaN</td>\n",
       "      <td>NaN</td>\n",
       "      <td>NaN</td>\n",
       "      <td>Primario</td>\n",
       "    </tr>\n",
       "    <tr>\n",
       "      <th>1</th>\n",
       "      <td>Åland Islands</td>\n",
       "      <td>NaN</td>\n",
       "      <td>NaN</td>\n",
       "      <td>NaN</td>\n",
       "      <td>NaN</td>\n",
       "      <td>NaN</td>\n",
       "      <td>NaN</td>\n",
       "      <td>NaN</td>\n",
       "      <td>Primario</td>\n",
       "    </tr>\n",
       "    <tr>\n",
       "      <th>2</th>\n",
       "      <td>Albania</td>\n",
       "      <td>174836</td>\n",
       "      <td>170861</td>\n",
       "      <td>167104</td>\n",
       "      <td>162170</td>\n",
       "      <td>158528</td>\n",
       "      <td>154140</td>\n",
       "      <td>NaN</td>\n",
       "      <td>Primario</td>\n",
       "    </tr>\n",
       "    <tr>\n",
       "      <th>3</th>\n",
       "      <td>Algeria</td>\n",
       "      <td>4283207</td>\n",
       "      <td>4429994</td>\n",
       "      <td>4580288</td>\n",
       "      <td>4852322</td>\n",
       "      <td>4852322</td>\n",
       "      <td>5050667</td>\n",
       "      <td>5187616</td>\n",
       "      <td>Primario</td>\n",
       "    </tr>\n",
       "    <tr>\n",
       "      <th>4</th>\n",
       "      <td>American Samoa</td>\n",
       "      <td>NaN</td>\n",
       "      <td>NaN</td>\n",
       "      <td>NaN</td>\n",
       "      <td>NaN</td>\n",
       "      <td>NaN</td>\n",
       "      <td>NaN</td>\n",
       "      <td>NaN</td>\n",
       "      <td>Primario</td>\n",
       "    </tr>\n",
       "  </tbody>\n",
       "</table>\n",
       "</div>"
      ],
      "text/plain": [
       "          Country     2017     2018     2019     2020     2021     2022  \\\n",
       "0     Afghanistan  6350404  6544906  6777785      NaN      NaN      NaN   \n",
       "1   Åland Islands      NaN      NaN      NaN      NaN      NaN      NaN   \n",
       "2         Albania   174836   170861   167104   162170   158528   154140   \n",
       "3         Algeria  4283207  4429994  4580288  4852322  4852322  5050667   \n",
       "4  American Samoa      NaN      NaN      NaN      NaN      NaN      NaN   \n",
       "\n",
       "      2023 Nivel de Ensino  \n",
       "0      NaN        Primario  \n",
       "1      NaN        Primario  \n",
       "2      NaN        Primario  \n",
       "3  5187616        Primario  \n",
       "4      NaN        Primario  "
      ]
     },
     "execution_count": 155,
     "metadata": {},
     "output_type": "execute_result"
    }
   ],
   "source": [
    "#Total de alunos matriculados em cada nivel educacinal\n",
    "#Dados estão em 4 dataframe, um para cada nivel educacional\n",
    "#Criar um coluna em cada dataframe para permitir a concatenação em um único\n",
    "\n",
    "matriculas_primario[\"Nivel de Ensino\"]='Primario'\n",
    "matriculas_secundario['Nivel de Ensino']='Secundario'\n",
    "matriculas_tecnico['Nivel de Ensino']='Tecnico'\n",
    "matriculas_universitario['Nivel de Ensino']='Universitario'\n",
    "\n",
    "numero_matriculados=pd.concat([matriculas_primario,matriculas_secundario,matriculas_tecnico,matriculas_universitario],axis=0)\n",
    "\n",
    "#Substituir strings nos valores ausentes\n",
    "numero_matriculados=replace_string_nan_unesco(numero_matriculados)\n",
    "numero_matriculados.head()"
   ]
  },
  {
   "cell_type": "code",
   "execution_count": 158,
   "metadata": {},
   "outputs": [],
   "source": [
    "#Investimentos publicos e privados diretos em educação\n",
    "\n",
    "#Nos valores ausentes desse conjunto de dados (o único que não foi baixado do site da Unesco) nos valores ausentes está a string '---'\n",
    "\n",
    "with pd.option_context('future.no_silent_downcasting', True):\n",
    "    investimentos_publicos_privados.replace('---',np.nan,inplace=True)"
   ]
  }
 ],
 "metadata": {
  "kernelspec": {
   "display_name": "education",
   "language": "python",
   "name": "python3"
  },
  "language_info": {
   "codemirror_mode": {
    "name": "ipython",
    "version": 3
   },
   "file_extension": ".py",
   "mimetype": "text/x-python",
   "name": "python",
   "nbconvert_exporter": "python",
   "pygments_lexer": "ipython3",
   "version": "3.12.4"
  }
 },
 "nbformat": 4,
 "nbformat_minor": 2
}
