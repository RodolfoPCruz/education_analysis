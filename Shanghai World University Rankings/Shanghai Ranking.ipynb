{
 "cells": [
  {
   "cell_type": "code",
   "execution_count": 24,
   "metadata": {},
   "outputs": [],
   "source": [
    "import numpy as np\n",
    "import pandas as pd\n",
    "import seaborn as sns\n",
    "import plotly.express as px\n",
    "import matplotlib.pyplot as plt\n",
    "\n",
    "import dataframe_image as dfi\n",
    "import glob\n",
    "import pycountry"
   ]
  },
  {
   "cell_type": "markdown",
   "metadata": {},
   "source": [
    "# Shanghai World University Rankings\n"
   ]
  },
  {
   "cell_type": "markdown",
   "metadata": {},
   "source": [
    "O Academic Ranking of World Universities (ARWU), também conhecido como Shanghai Ranking, foi o primeiro ranking global de univerisidades baseado em um conjunto de indicadores. Foi criado em 2003 plea Shanghai Jiao Tong University. Desde 2009 vem sendo publicado pela Shanghai Ranking Consultancy, uma consultoria focada em educação superior não vinculada a nenhuma universidade ou agência governamental. Informações a repeito desse ranking podem ser encontradas no seguintes links:\n",
    "\n",
    "- https://en.wikipedia.org/wiki/Academic_Ranking_of_World_Universities\n",
    "- https://www.shanghairanking.com/about-arwu\n",
    "\n"
   ]
  },
  {
   "cell_type": "markdown",
   "metadata": {},
   "source": [
    "Metodologia para o ranking publicado em 2023:\n",
    "\n",
    "Para a contrução dos rankings são analisados os fatores:\n",
    "\n",
    "- Quality of Education (peso 10%): medida pelo número de ex-alunos vencedores de prêmios Nobel e Field Medals;\n",
    "- Quality of Faculty :\n",
    "    - Medido pelo número de professores e pesquisadores da universidades vencedores de prêmios Nobel e Field Medals (peso 20%);\n",
    "    - Outro fator é a presença de pesquisadores com grande número de citações (peso 20%).\n",
    "- Research Output:\n",
    "    - Quantidade de artigos publicados na Nature e Science (peso 20%);\n",
    "    - Número de artigos publicados indexados na Science Citation Index-Expanded e Social Science Citation Index in 2022;\n",
    "- Per Capita Performance:\n",
    "    - PErformance per capita da instituição. As métrica citadas acima são divididas pleo número total de professores e pesquisadores na instituição.\n",
    "\n",
    "\n",
    "Informações a respeito da metodologia podem ser encontradas no seguinte link\n",
    "\n",
    "- https://www.shanghairanking.com/methodology/arwu/2023\n",
    "\n",
    "\n",
    "\n",
    "\n",
    "\n",
    "\n",
    "\n"
   ]
  },
  {
   "cell_type": "markdown",
   "metadata": {},
   "source": [
    "## Carregar Dados\n"
   ]
  },
  {
   "cell_type": "code",
   "execution_count": 25,
   "metadata": {},
   "outputs": [],
   "source": [
    "#Link para download dos dados: \n",
    "\n",
    "'''\n",
    "Os dados foram obtidos diretamente da página do Shaghai ranking:\n",
    "\n",
    "https://www.shanghairanking.com/rankings/arwu/2023\n",
    "\n",
    "Os dados foram coletados através de web scraping usando a biblioteca selenium. O scrip criado para coletar os dados está disponível neste repositório.\n",
    "Foram coletados os dados para os anos de 2004 até 2023\n",
    "\n",
    "'''\n",
    "path='/home/rodolfo/Insync/rodolfopcruz2@gmail.com/Google Drive/Estudo/Python_Projects/education_data/dados/Shanghai World University Rankings/web_scraping/'\n",
    "#Os rankings de cada anos estão salvos em arquivos separados. Os nomes estão no seuinte padrão:\n",
    "#ranking_20xx.csv\n",
    "\n",
    "\n",
    "dados={} # as keys dos dicionários serão os anos dos rankings\n",
    "anos=[str(i) for i in range(2004,2024)] #lista com os nos dos rankings\n",
    "for ano in anos:\n",
    "    dados[ano]=pd.read_csv(path+'ranking_'+ano+'.csv')\n",
    "\n",
    "\n"
   ]
  },
  {
   "cell_type": "code",
   "execution_count": 26,
   "metadata": {},
   "outputs": [
    {
     "data": {
      "text/html": [
       "<div>\n",
       "<style scoped>\n",
       "    .dataframe tbody tr th:only-of-type {\n",
       "        vertical-align: middle;\n",
       "    }\n",
       "\n",
       "    .dataframe tbody tr th {\n",
       "        vertical-align: top;\n",
       "    }\n",
       "\n",
       "    .dataframe thead th {\n",
       "        text-align: right;\n",
       "    }\n",
       "</style>\n",
       "<table border=\"1\" class=\"dataframe\">\n",
       "  <thead>\n",
       "    <tr style=\"text-align: right;\">\n",
       "      <th></th>\n",
       "      <th>World Rank</th>\n",
       "      <th>Institution</th>\n",
       "      <th>Country</th>\n",
       "      <th>Regional Rank</th>\n",
       "      <th>Total Score</th>\n",
       "      <th>Alumni</th>\n",
       "      <th>Award</th>\n",
       "      <th>HiCi</th>\n",
       "      <th>N&amp;S</th>\n",
       "      <th>PUB</th>\n",
       "      <th>PCP</th>\n",
       "      <th>Year</th>\n",
       "    </tr>\n",
       "  </thead>\n",
       "  <tbody>\n",
       "    <tr>\n",
       "      <th>0</th>\n",
       "      <td>1</td>\n",
       "      <td>Harvard University</td>\n",
       "      <td>us</td>\n",
       "      <td>1</td>\n",
       "      <td>100.0</td>\n",
       "      <td>98.6</td>\n",
       "      <td>100.0</td>\n",
       "      <td>100.0</td>\n",
       "      <td>100.0</td>\n",
       "      <td>100.0</td>\n",
       "      <td>60.6</td>\n",
       "      <td>2004</td>\n",
       "    </tr>\n",
       "    <tr>\n",
       "      <th>1</th>\n",
       "      <td>2</td>\n",
       "      <td>Stanford University</td>\n",
       "      <td>us</td>\n",
       "      <td>2</td>\n",
       "      <td>77.2</td>\n",
       "      <td>41.2</td>\n",
       "      <td>72.2</td>\n",
       "      <td>96.1</td>\n",
       "      <td>75.2</td>\n",
       "      <td>72.3</td>\n",
       "      <td>68.1</td>\n",
       "      <td>2004</td>\n",
       "    </tr>\n",
       "    <tr>\n",
       "      <th>2</th>\n",
       "      <td>3</td>\n",
       "      <td>University of Cambridge</td>\n",
       "      <td>gb</td>\n",
       "      <td>1</td>\n",
       "      <td>76.2</td>\n",
       "      <td>100.0</td>\n",
       "      <td>93.4</td>\n",
       "      <td>56.6</td>\n",
       "      <td>58.5</td>\n",
       "      <td>70.2</td>\n",
       "      <td>73.2</td>\n",
       "      <td>2004</td>\n",
       "    </tr>\n",
       "    <tr>\n",
       "      <th>3</th>\n",
       "      <td>4</td>\n",
       "      <td>University of California, Berkeley</td>\n",
       "      <td>us</td>\n",
       "      <td>3</td>\n",
       "      <td>74.2</td>\n",
       "      <td>70.0</td>\n",
       "      <td>76.0</td>\n",
       "      <td>74.1</td>\n",
       "      <td>75.6</td>\n",
       "      <td>72.7</td>\n",
       "      <td>45.1</td>\n",
       "      <td>2004</td>\n",
       "    </tr>\n",
       "    <tr>\n",
       "      <th>4</th>\n",
       "      <td>5</td>\n",
       "      <td>Massachusetts Institute of Technology (MIT)</td>\n",
       "      <td>us</td>\n",
       "      <td>4</td>\n",
       "      <td>72.4</td>\n",
       "      <td>74.1</td>\n",
       "      <td>78.9</td>\n",
       "      <td>73.6</td>\n",
       "      <td>69.1</td>\n",
       "      <td>64.6</td>\n",
       "      <td>47.5</td>\n",
       "      <td>2004</td>\n",
       "    </tr>\n",
       "  </tbody>\n",
       "</table>\n",
       "</div>"
      ],
      "text/plain": [
       "  World Rank                                  Institution Country  \\\n",
       "0          1                           Harvard University      us   \n",
       "1          2                          Stanford University      us   \n",
       "2          3                      University of Cambridge      gb   \n",
       "3          4           University of California, Berkeley      us   \n",
       "4          5  Massachusetts Institute of Technology (MIT)      us   \n",
       "\n",
       "  Regional Rank  Total Score  Alumni  Award   HiCi    N&S    PUB   PCP  Year  \n",
       "0             1        100.0    98.6  100.0  100.0  100.0  100.0  60.6  2004  \n",
       "1             2         77.2    41.2   72.2   96.1   75.2   72.3  68.1  2004  \n",
       "2             1         76.2   100.0   93.4   56.6   58.5   70.2  73.2  2004  \n",
       "3             3         74.2    70.0   76.0   74.1   75.6   72.7  45.1  2004  \n",
       "4             4         72.4    74.1   78.9   73.6   69.1   64.6  47.5  2004  "
      ]
     },
     "execution_count": 26,
     "metadata": {},
     "output_type": "execute_result"
    }
   ],
   "source": [
    "#Criar um único dataframe com todos os rankings\n",
    "for ano in anos:\n",
    "    dados[ano]['Year']=ano #criar coluna com ano do ranking\n",
    "\n",
    "df_dados=pd.concat(dados,axis=0) #concatenar todos os dados em um único dataframe\n",
    "df_dados.reset_index(drop=True,inplace=True) #Remover multiindex\n",
    "df_dados.head()"
   ]
  },
  {
   "cell_type": "markdown",
   "metadata": {},
   "source": [
    "## Análise Exploratória"
   ]
  },
  {
   "cell_type": "code",
   "execution_count": 27,
   "metadata": {},
   "outputs": [
    {
     "name": "stdout",
     "output_type": "stream",
     "text": [
      "<class 'pandas.core.frame.DataFrame'>\n",
      "RangeIndex: 13316 entries, 0 to 13315\n",
      "Data columns (total 12 columns):\n",
      " #   Column         Non-Null Count  Dtype  \n",
      "---  ------         --------------  -----  \n",
      " 0   World Rank     13316 non-null  object \n",
      " 1   Institution    13316 non-null  object \n",
      " 2   Country        13316 non-null  object \n",
      " 3   Regional Rank  13316 non-null  object \n",
      " 4   Total Score    2003 non-null   float64\n",
      " 5   Alumni         13315 non-null  float64\n",
      " 6   Award          13315 non-null  float64\n",
      " 7   HiCi           13315 non-null  float64\n",
      " 8   N&S            13212 non-null  float64\n",
      " 9   PUB            13315 non-null  float64\n",
      " 10  PCP            13315 non-null  float64\n",
      " 11  Year           13316 non-null  object \n",
      "dtypes: float64(7), object(5)\n",
      "memory usage: 1.2+ MB\n"
     ]
    }
   ],
   "source": [
    "df_dados.info()\n",
    "#o total score está disponível para as primeiras 100 colocadas de cada ranking"
   ]
  },
  {
   "cell_type": "code",
   "execution_count": 28,
   "metadata": {},
   "outputs": [
    {
     "data": {
      "text/plain": [
       "Index(['World Rank', 'Institution', 'Country', 'Regional Rank', 'Total Score',\n",
       "       'Alumni', 'Award', 'HiCi', 'N&S', 'PUB', 'PCP', 'Year'],\n",
       "      dtype='object')"
      ]
     },
     "execution_count": 28,
     "metadata": {},
     "output_type": "execute_result"
    }
   ],
   "source": [
    "#Os mesmo fatores foram considerados para os calculos dos rankings desde 2024\n",
    "df_dados.columns"
   ]
  },
  {
   "cell_type": "markdown",
   "metadata": {},
   "source": [
    "- Colunas no dataframe:\n",
    "    - World Rank: classificação da universidade no ranking mundial no ano especificado na coluna \"Year\"\n",
    "    - Institution: nome da universidades\n",
    "    - Country: pais de origem da universidade, no formato iso alpha-2\n",
    "    - Regional Rank: posição da universidade no ranking de seu próprio país\n",
    "    - Total Score: pontuação geral da universidade considerando todos os fatores da metodologia\n",
    "    - Alumni : Relacionado a Quality of Education. Mede a quantiade de ex-alunos que receberam premiações.As premiações consideradas são prêmio Nobel em Física,Química, Medicina e Economia e Medalhas Field para a Matemática. ;\n",
    "    - Award  : Relacionado a Quality of Falculty. Referente a quantidade de profissionais da instituições que receberam premiações. As premiações consideradas são prêmio Nobel em Física,Química, Medicina e Economia e Medalhas Field para a Matemática. \n",
    "    - Hi Ci  : Relacionado a Quality of Falculty. Mede o número de pesquisadores com grande número de citações;\n",
    "    - N&S\t : Relacionado a Research Output. Mede a quantidade de artigos publicado na Nature e Science;\n",
    "    - PUB    : Relacionado a Research Output. Mede a quantidade de artigos indexados na  Science Citation Index-Expanded e Social Science Citation Index;\n",
    "    - PCP    : Per Capita Performance. Performance relativa ao tamanho da instituição.\n",
    "    "
   ]
  },
  {
   "cell_type": "markdown",
   "metadata": {},
   "source": [
    "### Criar coluna com nomes dos países\n",
    "\n",
    "Na coluna Country estão os códigos dos países no formato ISO alpha2. Será criada uma nova coluna com o nome dos países por extenso"
   ]
  },
  {
   "cell_type": "code",
   "execution_count": 29,
   "metadata": {},
   "outputs": [],
   "source": [
    "df_dados['Country_Names']=df_dados[\"Country\"].apply(lambda x : pycountry.countries.get(alpha_2=x).name )"
   ]
  },
  {
   "cell_type": "code",
   "execution_count": 30,
   "metadata": {},
   "outputs": [
    {
     "data": {
      "text/html": [
       "<div>\n",
       "<style scoped>\n",
       "    .dataframe tbody tr th:only-of-type {\n",
       "        vertical-align: middle;\n",
       "    }\n",
       "\n",
       "    .dataframe tbody tr th {\n",
       "        vertical-align: top;\n",
       "    }\n",
       "\n",
       "    .dataframe thead th {\n",
       "        text-align: right;\n",
       "    }\n",
       "</style>\n",
       "<table border=\"1\" class=\"dataframe\">\n",
       "  <thead>\n",
       "    <tr style=\"text-align: right;\">\n",
       "      <th></th>\n",
       "      <th>World Rank</th>\n",
       "      <th>Institution</th>\n",
       "      <th>Country</th>\n",
       "      <th>Regional Rank</th>\n",
       "      <th>Total Score</th>\n",
       "      <th>Alumni</th>\n",
       "      <th>Award</th>\n",
       "      <th>HiCi</th>\n",
       "      <th>N&amp;S</th>\n",
       "      <th>PUB</th>\n",
       "      <th>PCP</th>\n",
       "      <th>Year</th>\n",
       "      <th>Country_Names</th>\n",
       "    </tr>\n",
       "  </thead>\n",
       "  <tbody>\n",
       "    <tr>\n",
       "      <th>0</th>\n",
       "      <td>1</td>\n",
       "      <td>Harvard University</td>\n",
       "      <td>us</td>\n",
       "      <td>1</td>\n",
       "      <td>100.0</td>\n",
       "      <td>98.6</td>\n",
       "      <td>100.0</td>\n",
       "      <td>100.0</td>\n",
       "      <td>100.0</td>\n",
       "      <td>100.0</td>\n",
       "      <td>60.6</td>\n",
       "      <td>2004</td>\n",
       "      <td>United States</td>\n",
       "    </tr>\n",
       "    <tr>\n",
       "      <th>1</th>\n",
       "      <td>2</td>\n",
       "      <td>Stanford University</td>\n",
       "      <td>us</td>\n",
       "      <td>2</td>\n",
       "      <td>77.2</td>\n",
       "      <td>41.2</td>\n",
       "      <td>72.2</td>\n",
       "      <td>96.1</td>\n",
       "      <td>75.2</td>\n",
       "      <td>72.3</td>\n",
       "      <td>68.1</td>\n",
       "      <td>2004</td>\n",
       "      <td>United States</td>\n",
       "    </tr>\n",
       "    <tr>\n",
       "      <th>2</th>\n",
       "      <td>3</td>\n",
       "      <td>University of Cambridge</td>\n",
       "      <td>gb</td>\n",
       "      <td>1</td>\n",
       "      <td>76.2</td>\n",
       "      <td>100.0</td>\n",
       "      <td>93.4</td>\n",
       "      <td>56.6</td>\n",
       "      <td>58.5</td>\n",
       "      <td>70.2</td>\n",
       "      <td>73.2</td>\n",
       "      <td>2004</td>\n",
       "      <td>United Kingdom</td>\n",
       "    </tr>\n",
       "    <tr>\n",
       "      <th>3</th>\n",
       "      <td>4</td>\n",
       "      <td>University of California, Berkeley</td>\n",
       "      <td>us</td>\n",
       "      <td>3</td>\n",
       "      <td>74.2</td>\n",
       "      <td>70.0</td>\n",
       "      <td>76.0</td>\n",
       "      <td>74.1</td>\n",
       "      <td>75.6</td>\n",
       "      <td>72.7</td>\n",
       "      <td>45.1</td>\n",
       "      <td>2004</td>\n",
       "      <td>United States</td>\n",
       "    </tr>\n",
       "    <tr>\n",
       "      <th>4</th>\n",
       "      <td>5</td>\n",
       "      <td>Massachusetts Institute of Technology (MIT)</td>\n",
       "      <td>us</td>\n",
       "      <td>4</td>\n",
       "      <td>72.4</td>\n",
       "      <td>74.1</td>\n",
       "      <td>78.9</td>\n",
       "      <td>73.6</td>\n",
       "      <td>69.1</td>\n",
       "      <td>64.6</td>\n",
       "      <td>47.5</td>\n",
       "      <td>2004</td>\n",
       "      <td>United States</td>\n",
       "    </tr>\n",
       "  </tbody>\n",
       "</table>\n",
       "</div>"
      ],
      "text/plain": [
       "  World Rank                                  Institution Country  \\\n",
       "0          1                           Harvard University      us   \n",
       "1          2                          Stanford University      us   \n",
       "2          3                      University of Cambridge      gb   \n",
       "3          4           University of California, Berkeley      us   \n",
       "4          5  Massachusetts Institute of Technology (MIT)      us   \n",
       "\n",
       "  Regional Rank  Total Score  Alumni  Award   HiCi    N&S    PUB   PCP  Year  \\\n",
       "0             1        100.0    98.6  100.0  100.0  100.0  100.0  60.6  2004   \n",
       "1             2         77.2    41.2   72.2   96.1   75.2   72.3  68.1  2004   \n",
       "2             1         76.2   100.0   93.4   56.6   58.5   70.2  73.2  2004   \n",
       "3             3         74.2    70.0   76.0   74.1   75.6   72.7  45.1  2004   \n",
       "4             4         72.4    74.1   78.9   73.6   69.1   64.6  47.5  2004   \n",
       "\n",
       "    Country_Names  \n",
       "0   United States  \n",
       "1   United States  \n",
       "2  United Kingdom  \n",
       "3   United States  \n",
       "4   United States  "
      ]
     },
     "execution_count": 30,
     "metadata": {},
     "output_type": "execute_result"
    }
   ],
   "source": [
    "df_dados.head()"
   ]
  },
  {
   "cell_type": "markdown",
   "metadata": {},
   "source": [
    "## Análise dos Rankings "
   ]
  },
  {
   "cell_type": "markdown",
   "metadata": {},
   "source": [
    "### Melhores colocadas ao longo dos anos"
   ]
  },
  {
   "cell_type": "code",
   "execution_count": 31,
   "metadata": {},
   "outputs": [],
   "source": [
    "def create_top_ranking(dados,n_top,coluna_ano=\"Year\",output='Institution'):\n",
    "    '''\n",
    "    Função que cria um dataframe em que em cada coluna aparecem as n_top primeiras colocadas no ranking de cada ano. \n",
    "\n",
    "    Inputs:\n",
    "        dados      - Pandas dataframe com  os rankings. Todos os rankings estão em um unico dataframe. O ano do ranking está especificado\n",
    "                    em uma coluna\n",
    "        n_top      - (int) Número de universidades que entrarão nos rankings de cada ano \n",
    "        coluna_ano - (str) Nome da coluna onde está especificado o ano do ranking\n",
    "        rank_geral - (str) Nome da coluna onde estão as posições de cada univrsidade nos rankings\n",
    "        output     - (str) Define a informação contida no dataframe que será retornado. Se output='University' no dataframe\n",
    "                        retornado estarão os nomes das universidades melhores colocadas. Se output='Country' a informação contida\n",
    "                        será os países de origem das universidades melhreos colocadas\n",
    "\n",
    "    Outputs:\n",
    "        Pandas dataframe com as n_melhores colocadas nos rankings de cada ano. Cada coluna é relativa ao ranking de um ano. As informações \n",
    "        nas linhas podem ser os nomes das universidades ous seus países de origem\n",
    "    '''\n",
    "    top_list=[]\n",
    "    anos=dados[coluna_ano].unique() #ano do ranking\n",
    "    anos.sort()\n",
    "    for ano in anos: #anos é um lista para selecionar o ranking\n",
    "        top=dados[dados[coluna_ano]==ano].reset_index().loc[:,[output]] #nos rankings de cada ano as universidades estão ordenadas de acordo com suas posições no rankng gerl\n",
    "        top.rename(columns={output:str(ano)},inplace=True) #o nome da coluna será o ano do ranking\n",
    "        top.reset_index(drop=True,inplace=True)\n",
    "        top=top.iloc[:n_top,:]\n",
    "        top_list.append(top)\n",
    "    top_list=pd.concat(top_list,axis=1) #converter a lista em dataframe\n",
    "    top_list.index=np.arange(1,n_top+1) #alterar index para que comece em 1\n",
    "\n",
    "    return top_list\n"
   ]
  },
  {
   "cell_type": "markdown",
   "metadata": {},
   "source": [
    "A universidade de Harvard é hegêmônica no ranking Shanghai, mantendo a 1° posição em todos os rankings publicados desde 2004."
   ]
  },
  {
   "cell_type": "code",
   "execution_count": 32,
   "metadata": {},
   "outputs": [
    {
     "data": {
      "text/html": [
       "<div>\n",
       "<style scoped>\n",
       "    .dataframe tbody tr th:only-of-type {\n",
       "        vertical-align: middle;\n",
       "    }\n",
       "\n",
       "    .dataframe tbody tr th {\n",
       "        vertical-align: top;\n",
       "    }\n",
       "\n",
       "    .dataframe thead th {\n",
       "        text-align: right;\n",
       "    }\n",
       "</style>\n",
       "<table border=\"1\" class=\"dataframe\">\n",
       "  <thead>\n",
       "    <tr style=\"text-align: right;\">\n",
       "      <th></th>\n",
       "      <th>2004</th>\n",
       "      <th>2005</th>\n",
       "      <th>2006</th>\n",
       "      <th>2007</th>\n",
       "      <th>2008</th>\n",
       "      <th>2009</th>\n",
       "      <th>2010</th>\n",
       "      <th>2011</th>\n",
       "      <th>2012</th>\n",
       "      <th>2013</th>\n",
       "      <th>2014</th>\n",
       "      <th>2015</th>\n",
       "      <th>2016</th>\n",
       "      <th>2017</th>\n",
       "      <th>2018</th>\n",
       "      <th>2019</th>\n",
       "      <th>2020</th>\n",
       "      <th>2021</th>\n",
       "      <th>2022</th>\n",
       "      <th>2023</th>\n",
       "    </tr>\n",
       "  </thead>\n",
       "  <tbody>\n",
       "    <tr>\n",
       "      <th>1</th>\n",
       "      <td>Harvard University</td>\n",
       "      <td>Harvard University</td>\n",
       "      <td>Harvard University</td>\n",
       "      <td>Harvard University</td>\n",
       "      <td>Harvard University</td>\n",
       "      <td>Harvard University</td>\n",
       "      <td>Harvard University</td>\n",
       "      <td>Harvard University</td>\n",
       "      <td>Harvard University</td>\n",
       "      <td>Harvard University</td>\n",
       "      <td>Harvard University</td>\n",
       "      <td>Harvard University</td>\n",
       "      <td>Harvard University</td>\n",
       "      <td>Harvard University</td>\n",
       "      <td>Harvard University</td>\n",
       "      <td>Harvard University</td>\n",
       "      <td>Harvard University</td>\n",
       "      <td>Harvard University</td>\n",
       "      <td>Harvard University</td>\n",
       "      <td>Harvard University</td>\n",
       "    </tr>\n",
       "    <tr>\n",
       "      <th>2</th>\n",
       "      <td>Stanford University</td>\n",
       "      <td>University of Cambridge</td>\n",
       "      <td>University of Cambridge</td>\n",
       "      <td>Stanford University</td>\n",
       "      <td>Stanford University</td>\n",
       "      <td>Stanford University</td>\n",
       "      <td>University of California, Berkeley</td>\n",
       "      <td>Stanford University</td>\n",
       "      <td>Stanford University</td>\n",
       "      <td>Stanford University</td>\n",
       "      <td>Stanford University</td>\n",
       "      <td>Stanford University</td>\n",
       "      <td>Stanford University</td>\n",
       "      <td>Stanford University</td>\n",
       "      <td>Stanford University</td>\n",
       "      <td>Stanford University</td>\n",
       "      <td>Stanford University</td>\n",
       "      <td>Stanford University</td>\n",
       "      <td>Stanford University</td>\n",
       "      <td>Stanford University</td>\n",
       "    </tr>\n",
       "    <tr>\n",
       "      <th>3</th>\n",
       "      <td>University of Cambridge</td>\n",
       "      <td>Stanford University</td>\n",
       "      <td>Stanford University</td>\n",
       "      <td>University of California, Berkeley</td>\n",
       "      <td>University of California, Berkeley</td>\n",
       "      <td>University of California, Berkeley</td>\n",
       "      <td>Stanford University</td>\n",
       "      <td>Massachusetts Institute of Technology (MIT)</td>\n",
       "      <td>Massachusetts Institute of Technology (MIT)</td>\n",
       "      <td>University of California, Berkeley</td>\n",
       "      <td>Massachusetts Institute of Technology (MIT)</td>\n",
       "      <td>Massachusetts Institute of Technology (MIT)</td>\n",
       "      <td>University of California, Berkeley</td>\n",
       "      <td>University of Cambridge</td>\n",
       "      <td>University of Cambridge</td>\n",
       "      <td>University of Cambridge</td>\n",
       "      <td>University of Cambridge</td>\n",
       "      <td>University of Cambridge</td>\n",
       "      <td>Massachusetts Institute of Technology (MIT)</td>\n",
       "      <td>Massachusetts Institute of Technology (MIT)</td>\n",
       "    </tr>\n",
       "    <tr>\n",
       "      <th>4</th>\n",
       "      <td>University of California, Berkeley</td>\n",
       "      <td>University of California, Berkeley</td>\n",
       "      <td>University of California, Berkeley</td>\n",
       "      <td>University of Cambridge</td>\n",
       "      <td>University of Cambridge</td>\n",
       "      <td>University of Cambridge</td>\n",
       "      <td>Massachusetts Institute of Technology (MIT)</td>\n",
       "      <td>University of California, Berkeley</td>\n",
       "      <td>University of California, Berkeley</td>\n",
       "      <td>Massachusetts Institute of Technology (MIT)</td>\n",
       "      <td>University of California-Berkeley</td>\n",
       "      <td>University of California, Berkeley</td>\n",
       "      <td>University of Cambridge</td>\n",
       "      <td>Massachusetts Institute of Technology (MIT)</td>\n",
       "      <td>Massachusetts Institute of Technology (MIT)</td>\n",
       "      <td>Massachusetts Institute of Technology (MIT)</td>\n",
       "      <td>Massachusetts Institute of Technology (MIT)</td>\n",
       "      <td>Massachusetts Institute of Technology (MIT)</td>\n",
       "      <td>University of Cambridge</td>\n",
       "      <td>University of Cambridge</td>\n",
       "    </tr>\n",
       "    <tr>\n",
       "      <th>5</th>\n",
       "      <td>Massachusetts Institute of Technology (MIT)</td>\n",
       "      <td>Massachusetts Institute of Technology (MIT)</td>\n",
       "      <td>Massachusetts Institute of Technology (MIT)</td>\n",
       "      <td>Massachusetts Institute of Technology (MIT)</td>\n",
       "      <td>Massachusetts Institute of Technology (MIT)</td>\n",
       "      <td>Massachusetts Institute of Technology (MIT)</td>\n",
       "      <td>University of Cambridge</td>\n",
       "      <td>University of Cambridge</td>\n",
       "      <td>University of Cambridge</td>\n",
       "      <td>University of Cambridge</td>\n",
       "      <td>University of Cambridge</td>\n",
       "      <td>University of Cambridge</td>\n",
       "      <td>Massachusetts Institute of Technology (MIT)</td>\n",
       "      <td>University of California, Berkeley</td>\n",
       "      <td>University of California, Berkeley</td>\n",
       "      <td>University of California, Berkeley</td>\n",
       "      <td>University of California, Berkeley</td>\n",
       "      <td>University of California, Berkeley</td>\n",
       "      <td>University of California, Berkeley</td>\n",
       "      <td>University of California, Berkeley</td>\n",
       "    </tr>\n",
       "    <tr>\n",
       "      <th>6</th>\n",
       "      <td>California Institute of Technology</td>\n",
       "      <td>California Institute of Technology</td>\n",
       "      <td>California Institute of Technology</td>\n",
       "      <td>California Institute of Technology</td>\n",
       "      <td>California Institute of Technology</td>\n",
       "      <td>California Institute of Technology</td>\n",
       "      <td>California Institute of Technology</td>\n",
       "      <td>California Institute of Technology</td>\n",
       "      <td>California Institute of Technology</td>\n",
       "      <td>California Institute of Technology</td>\n",
       "      <td>Princeton University</td>\n",
       "      <td>Princeton University</td>\n",
       "      <td>Princeton University</td>\n",
       "      <td>Princeton University</td>\n",
       "      <td>Princeton University</td>\n",
       "      <td>Princeton University</td>\n",
       "      <td>Princeton University</td>\n",
       "      <td>Princeton University</td>\n",
       "      <td>Princeton University</td>\n",
       "      <td>Princeton University</td>\n",
       "    </tr>\n",
       "    <tr>\n",
       "      <th>7</th>\n",
       "      <td>Princeton University</td>\n",
       "      <td>Columbia University</td>\n",
       "      <td>Columbia University</td>\n",
       "      <td>Columbia University</td>\n",
       "      <td>Columbia University</td>\n",
       "      <td>Columbia University</td>\n",
       "      <td>Princeton University</td>\n",
       "      <td>Princeton University</td>\n",
       "      <td>Princeton University</td>\n",
       "      <td>Princeton University</td>\n",
       "      <td>California Institute of Technology</td>\n",
       "      <td>California Institute of Technology</td>\n",
       "      <td>University of Oxford</td>\n",
       "      <td>University of Oxford</td>\n",
       "      <td>University of Oxford</td>\n",
       "      <td>University of Oxford</td>\n",
       "      <td>Columbia University</td>\n",
       "      <td>University of Oxford</td>\n",
       "      <td>University of Oxford</td>\n",
       "      <td>University of Oxford</td>\n",
       "    </tr>\n",
       "    <tr>\n",
       "      <th>8</th>\n",
       "      <td>University of Oxford</td>\n",
       "      <td>Princeton University</td>\n",
       "      <td>Princeton University</td>\n",
       "      <td>Princeton University</td>\n",
       "      <td>Princeton University</td>\n",
       "      <td>Princeton University</td>\n",
       "      <td>Columbia University</td>\n",
       "      <td>Columbia University</td>\n",
       "      <td>Columbia University</td>\n",
       "      <td>Columbia University</td>\n",
       "      <td>Columbia University</td>\n",
       "      <td>Columbia University</td>\n",
       "      <td>California Institute of Technology</td>\n",
       "      <td>Columbia University</td>\n",
       "      <td>Columbia University</td>\n",
       "      <td>Columbia University</td>\n",
       "      <td>California Institute of Technology</td>\n",
       "      <td>Columbia University</td>\n",
       "      <td>Columbia University</td>\n",
       "      <td>Columbia University</td>\n",
       "    </tr>\n",
       "    <tr>\n",
       "      <th>9</th>\n",
       "      <td>Columbia University</td>\n",
       "      <td>University of Chicago</td>\n",
       "      <td>University of Chicago</td>\n",
       "      <td>University of Chicago</td>\n",
       "      <td>University of Chicago</td>\n",
       "      <td>University of Chicago</td>\n",
       "      <td>University of Chicago</td>\n",
       "      <td>University of Chicago</td>\n",
       "      <td>University of Chicago</td>\n",
       "      <td>University of Chicago</td>\n",
       "      <td>University of Chicago</td>\n",
       "      <td>University of Chicago</td>\n",
       "      <td>Columbia University</td>\n",
       "      <td>California Institute of Technology</td>\n",
       "      <td>California Institute of Technology</td>\n",
       "      <td>California Institute of Technology</td>\n",
       "      <td>University of Oxford</td>\n",
       "      <td>California Institute of Technology</td>\n",
       "      <td>California Institute of Technology</td>\n",
       "      <td>California Institute of Technology</td>\n",
       "    </tr>\n",
       "    <tr>\n",
       "      <th>10</th>\n",
       "      <td>University of Chicago</td>\n",
       "      <td>University of Oxford</td>\n",
       "      <td>University of Oxford</td>\n",
       "      <td>University of Oxford</td>\n",
       "      <td>University of Oxford</td>\n",
       "      <td>University of Oxford</td>\n",
       "      <td>University of Oxford</td>\n",
       "      <td>University of Oxford</td>\n",
       "      <td>University of Oxford</td>\n",
       "      <td>University of Oxford</td>\n",
       "      <td>University of Oxford</td>\n",
       "      <td>University of Oxford</td>\n",
       "      <td>University of Chicago</td>\n",
       "      <td>University of Chicago</td>\n",
       "      <td>University of Chicago</td>\n",
       "      <td>University of Chicago</td>\n",
       "      <td>University of Chicago</td>\n",
       "      <td>University of Chicago</td>\n",
       "      <td>University of Chicago</td>\n",
       "      <td>University of Chicago</td>\n",
       "    </tr>\n",
       "  </tbody>\n",
       "</table>\n",
       "</div>"
      ],
      "text/plain": [
       "                                           2004  \\\n",
       "1                            Harvard University   \n",
       "2                           Stanford University   \n",
       "3                       University of Cambridge   \n",
       "4            University of California, Berkeley   \n",
       "5   Massachusetts Institute of Technology (MIT)   \n",
       "6            California Institute of Technology   \n",
       "7                          Princeton University   \n",
       "8                          University of Oxford   \n",
       "9                           Columbia University   \n",
       "10                        University of Chicago   \n",
       "\n",
       "                                           2005  \\\n",
       "1                            Harvard University   \n",
       "2                       University of Cambridge   \n",
       "3                           Stanford University   \n",
       "4            University of California, Berkeley   \n",
       "5   Massachusetts Institute of Technology (MIT)   \n",
       "6            California Institute of Technology   \n",
       "7                           Columbia University   \n",
       "8                          Princeton University   \n",
       "9                         University of Chicago   \n",
       "10                         University of Oxford   \n",
       "\n",
       "                                           2006  \\\n",
       "1                            Harvard University   \n",
       "2                       University of Cambridge   \n",
       "3                           Stanford University   \n",
       "4            University of California, Berkeley   \n",
       "5   Massachusetts Institute of Technology (MIT)   \n",
       "6            California Institute of Technology   \n",
       "7                           Columbia University   \n",
       "8                          Princeton University   \n",
       "9                         University of Chicago   \n",
       "10                         University of Oxford   \n",
       "\n",
       "                                           2007  \\\n",
       "1                            Harvard University   \n",
       "2                           Stanford University   \n",
       "3            University of California, Berkeley   \n",
       "4                       University of Cambridge   \n",
       "5   Massachusetts Institute of Technology (MIT)   \n",
       "6            California Institute of Technology   \n",
       "7                           Columbia University   \n",
       "8                          Princeton University   \n",
       "9                         University of Chicago   \n",
       "10                         University of Oxford   \n",
       "\n",
       "                                           2008  \\\n",
       "1                            Harvard University   \n",
       "2                           Stanford University   \n",
       "3            University of California, Berkeley   \n",
       "4                       University of Cambridge   \n",
       "5   Massachusetts Institute of Technology (MIT)   \n",
       "6            California Institute of Technology   \n",
       "7                           Columbia University   \n",
       "8                          Princeton University   \n",
       "9                         University of Chicago   \n",
       "10                         University of Oxford   \n",
       "\n",
       "                                           2009  \\\n",
       "1                            Harvard University   \n",
       "2                           Stanford University   \n",
       "3            University of California, Berkeley   \n",
       "4                       University of Cambridge   \n",
       "5   Massachusetts Institute of Technology (MIT)   \n",
       "6            California Institute of Technology   \n",
       "7                           Columbia University   \n",
       "8                          Princeton University   \n",
       "9                         University of Chicago   \n",
       "10                         University of Oxford   \n",
       "\n",
       "                                           2010  \\\n",
       "1                            Harvard University   \n",
       "2            University of California, Berkeley   \n",
       "3                           Stanford University   \n",
       "4   Massachusetts Institute of Technology (MIT)   \n",
       "5                       University of Cambridge   \n",
       "6            California Institute of Technology   \n",
       "7                          Princeton University   \n",
       "8                           Columbia University   \n",
       "9                         University of Chicago   \n",
       "10                         University of Oxford   \n",
       "\n",
       "                                           2011  \\\n",
       "1                            Harvard University   \n",
       "2                           Stanford University   \n",
       "3   Massachusetts Institute of Technology (MIT)   \n",
       "4            University of California, Berkeley   \n",
       "5                       University of Cambridge   \n",
       "6            California Institute of Technology   \n",
       "7                          Princeton University   \n",
       "8                           Columbia University   \n",
       "9                         University of Chicago   \n",
       "10                         University of Oxford   \n",
       "\n",
       "                                           2012  \\\n",
       "1                            Harvard University   \n",
       "2                           Stanford University   \n",
       "3   Massachusetts Institute of Technology (MIT)   \n",
       "4            University of California, Berkeley   \n",
       "5                       University of Cambridge   \n",
       "6            California Institute of Technology   \n",
       "7                          Princeton University   \n",
       "8                           Columbia University   \n",
       "9                         University of Chicago   \n",
       "10                         University of Oxford   \n",
       "\n",
       "                                           2013  \\\n",
       "1                            Harvard University   \n",
       "2                           Stanford University   \n",
       "3            University of California, Berkeley   \n",
       "4   Massachusetts Institute of Technology (MIT)   \n",
       "5                       University of Cambridge   \n",
       "6            California Institute of Technology   \n",
       "7                          Princeton University   \n",
       "8                           Columbia University   \n",
       "9                         University of Chicago   \n",
       "10                         University of Oxford   \n",
       "\n",
       "                                           2014  \\\n",
       "1                            Harvard University   \n",
       "2                           Stanford University   \n",
       "3   Massachusetts Institute of Technology (MIT)   \n",
       "4             University of California-Berkeley   \n",
       "5                       University of Cambridge   \n",
       "6                          Princeton University   \n",
       "7            California Institute of Technology   \n",
       "8                           Columbia University   \n",
       "9                         University of Chicago   \n",
       "10                         University of Oxford   \n",
       "\n",
       "                                           2015  \\\n",
       "1                            Harvard University   \n",
       "2                           Stanford University   \n",
       "3   Massachusetts Institute of Technology (MIT)   \n",
       "4            University of California, Berkeley   \n",
       "5                       University of Cambridge   \n",
       "6                          Princeton University   \n",
       "7            California Institute of Technology   \n",
       "8                           Columbia University   \n",
       "9                         University of Chicago   \n",
       "10                         University of Oxford   \n",
       "\n",
       "                                           2016  \\\n",
       "1                            Harvard University   \n",
       "2                           Stanford University   \n",
       "3            University of California, Berkeley   \n",
       "4                       University of Cambridge   \n",
       "5   Massachusetts Institute of Technology (MIT)   \n",
       "6                          Princeton University   \n",
       "7                          University of Oxford   \n",
       "8            California Institute of Technology   \n",
       "9                           Columbia University   \n",
       "10                        University of Chicago   \n",
       "\n",
       "                                           2017  \\\n",
       "1                            Harvard University   \n",
       "2                           Stanford University   \n",
       "3                       University of Cambridge   \n",
       "4   Massachusetts Institute of Technology (MIT)   \n",
       "5            University of California, Berkeley   \n",
       "6                          Princeton University   \n",
       "7                          University of Oxford   \n",
       "8                           Columbia University   \n",
       "9            California Institute of Technology   \n",
       "10                        University of Chicago   \n",
       "\n",
       "                                           2018  \\\n",
       "1                            Harvard University   \n",
       "2                           Stanford University   \n",
       "3                       University of Cambridge   \n",
       "4   Massachusetts Institute of Technology (MIT)   \n",
       "5            University of California, Berkeley   \n",
       "6                          Princeton University   \n",
       "7                          University of Oxford   \n",
       "8                           Columbia University   \n",
       "9            California Institute of Technology   \n",
       "10                        University of Chicago   \n",
       "\n",
       "                                           2019  \\\n",
       "1                            Harvard University   \n",
       "2                           Stanford University   \n",
       "3                       University of Cambridge   \n",
       "4   Massachusetts Institute of Technology (MIT)   \n",
       "5            University of California, Berkeley   \n",
       "6                          Princeton University   \n",
       "7                          University of Oxford   \n",
       "8                           Columbia University   \n",
       "9            California Institute of Technology   \n",
       "10                        University of Chicago   \n",
       "\n",
       "                                           2020  \\\n",
       "1                            Harvard University   \n",
       "2                           Stanford University   \n",
       "3                       University of Cambridge   \n",
       "4   Massachusetts Institute of Technology (MIT)   \n",
       "5            University of California, Berkeley   \n",
       "6                          Princeton University   \n",
       "7                           Columbia University   \n",
       "8            California Institute of Technology   \n",
       "9                          University of Oxford   \n",
       "10                        University of Chicago   \n",
       "\n",
       "                                           2021  \\\n",
       "1                            Harvard University   \n",
       "2                           Stanford University   \n",
       "3                       University of Cambridge   \n",
       "4   Massachusetts Institute of Technology (MIT)   \n",
       "5            University of California, Berkeley   \n",
       "6                          Princeton University   \n",
       "7                          University of Oxford   \n",
       "8                           Columbia University   \n",
       "9            California Institute of Technology   \n",
       "10                        University of Chicago   \n",
       "\n",
       "                                           2022  \\\n",
       "1                            Harvard University   \n",
       "2                           Stanford University   \n",
       "3   Massachusetts Institute of Technology (MIT)   \n",
       "4                       University of Cambridge   \n",
       "5            University of California, Berkeley   \n",
       "6                          Princeton University   \n",
       "7                          University of Oxford   \n",
       "8                           Columbia University   \n",
       "9            California Institute of Technology   \n",
       "10                        University of Chicago   \n",
       "\n",
       "                                           2023  \n",
       "1                            Harvard University  \n",
       "2                           Stanford University  \n",
       "3   Massachusetts Institute of Technology (MIT)  \n",
       "4                       University of Cambridge  \n",
       "5            University of California, Berkeley  \n",
       "6                          Princeton University  \n",
       "7                          University of Oxford  \n",
       "8                           Columbia University  \n",
       "9            California Institute of Technology  \n",
       "10                        University of Chicago  "
      ]
     },
     "execution_count": 32,
     "metadata": {},
     "output_type": "execute_result"
    }
   ],
   "source": [
    "#10 melhores colocadas nos rankings de cada ano\n",
    "top_10=create_top_ranking(df_dados,10)\n",
    "top_10"
   ]
  },
  {
   "cell_type": "code",
   "execution_count": 33,
   "metadata": {},
   "outputs": [
    {
     "data": {
      "text/html": [
       "<div>\n",
       "<style scoped>\n",
       "    .dataframe tbody tr th:only-of-type {\n",
       "        vertical-align: middle;\n",
       "    }\n",
       "\n",
       "    .dataframe tbody tr th {\n",
       "        vertical-align: top;\n",
       "    }\n",
       "\n",
       "    .dataframe thead th {\n",
       "        text-align: right;\n",
       "    }\n",
       "</style>\n",
       "<table border=\"1\" class=\"dataframe\">\n",
       "  <thead>\n",
       "    <tr style=\"text-align: right;\">\n",
       "      <th></th>\n",
       "      <th>Aparições no top 10 entre 2004 e 2023</th>\n",
       "    </tr>\n",
       "    <tr>\n",
       "      <th>Instituição</th>\n",
       "      <th></th>\n",
       "    </tr>\n",
       "  </thead>\n",
       "  <tbody>\n",
       "    <tr>\n",
       "      <th>California Institute of Technology</th>\n",
       "      <td>20</td>\n",
       "    </tr>\n",
       "    <tr>\n",
       "      <th>Columbia University</th>\n",
       "      <td>20</td>\n",
       "    </tr>\n",
       "    <tr>\n",
       "      <th>Harvard University</th>\n",
       "      <td>20</td>\n",
       "    </tr>\n",
       "    <tr>\n",
       "      <th>Massachusetts Institute of Technology (MIT)</th>\n",
       "      <td>20</td>\n",
       "    </tr>\n",
       "    <tr>\n",
       "      <th>Princeton University</th>\n",
       "      <td>20</td>\n",
       "    </tr>\n",
       "    <tr>\n",
       "      <th>Stanford University</th>\n",
       "      <td>20</td>\n",
       "    </tr>\n",
       "    <tr>\n",
       "      <th>University of Cambridge</th>\n",
       "      <td>20</td>\n",
       "    </tr>\n",
       "    <tr>\n",
       "      <th>University of Oxford</th>\n",
       "      <td>20</td>\n",
       "    </tr>\n",
       "    <tr>\n",
       "      <th>University of Chicago</th>\n",
       "      <td>20</td>\n",
       "    </tr>\n",
       "    <tr>\n",
       "      <th>University of California, Berkeley</th>\n",
       "      <td>19</td>\n",
       "    </tr>\n",
       "    <tr>\n",
       "      <th>University of California-Berkeley</th>\n",
       "      <td>1</td>\n",
       "    </tr>\n",
       "  </tbody>\n",
       "</table>\n",
       "</div>"
      ],
      "text/plain": [
       "                                             Aparições no top 10 entre 2004 e 2023\n",
       "Instituição                                                                       \n",
       "California Institute of Technology                                              20\n",
       "Columbia University                                                             20\n",
       "Harvard University                                                              20\n",
       "Massachusetts Institute of Technology (MIT)                                     20\n",
       "Princeton University                                                            20\n",
       "Stanford University                                                             20\n",
       "University of Cambridge                                                         20\n",
       "University of Oxford                                                            20\n",
       "University of Chicago                                                           20\n",
       "University of California, Berkeley                                              19\n",
       "University of California-Berkeley                                                1"
      ]
     },
     "execution_count": 33,
     "metadata": {},
     "output_type": "execute_result"
    }
   ],
   "source": [
    "#Contar numero de universidades diferentes que já entraram no top 10 entre 2004 e 2023\n",
    "#As mesmas universidades oucuparam o top 10 em todos os rankingsentre 2004 e 2023\n",
    "\n",
    "aparicoes_top10_2004_2023=np.array(top_10)\n",
    "aparicoes_top10_2004_2023=aparicoes_top10_2004_2023.reshape([-1,1])\n",
    "aparicoes_top10_2004_2023=pd.DataFrame(aparicoes_top10_2004_2023)\n",
    "aparicoes_top10_2004_2023=pd.DataFrame(aparicoes_top10_2004_2023.value_counts())\n",
    "aparicoes_top10_2004_2023.index.names=['Instituição']\n",
    "aparicoes_top10_2004_2023.rename(columns={'count':'Aparições no top 10 entre 2004 e 2023'})"
   ]
  },
  {
   "cell_type": "markdown",
   "metadata": {},
   "source": [
    "### Localização das primeiras colocadas no ranking"
   ]
  },
  {
   "cell_type": "markdown",
   "metadata": {},
   "source": [
    "##### Top 10"
   ]
  },
  {
   "cell_type": "code",
   "execution_count": 34,
   "metadata": {},
   "outputs": [
    {
     "data": {
      "text/html": [
       "<div>\n",
       "<style scoped>\n",
       "    .dataframe tbody tr th:only-of-type {\n",
       "        vertical-align: middle;\n",
       "    }\n",
       "\n",
       "    .dataframe tbody tr th {\n",
       "        vertical-align: top;\n",
       "    }\n",
       "\n",
       "    .dataframe thead th {\n",
       "        text-align: right;\n",
       "    }\n",
       "</style>\n",
       "<table border=\"1\" class=\"dataframe\">\n",
       "  <thead>\n",
       "    <tr style=\"text-align: right;\">\n",
       "      <th></th>\n",
       "      <th>2004</th>\n",
       "      <th>2005</th>\n",
       "      <th>2006</th>\n",
       "      <th>2007</th>\n",
       "      <th>2008</th>\n",
       "      <th>2009</th>\n",
       "      <th>2010</th>\n",
       "      <th>2011</th>\n",
       "      <th>2012</th>\n",
       "      <th>2013</th>\n",
       "      <th>2014</th>\n",
       "      <th>2015</th>\n",
       "      <th>2016</th>\n",
       "      <th>2017</th>\n",
       "      <th>2018</th>\n",
       "      <th>2019</th>\n",
       "      <th>2020</th>\n",
       "      <th>2021</th>\n",
       "      <th>2022</th>\n",
       "      <th>2023</th>\n",
       "    </tr>\n",
       "  </thead>\n",
       "  <tbody>\n",
       "    <tr>\n",
       "      <th>1</th>\n",
       "      <td>United States</td>\n",
       "      <td>United States</td>\n",
       "      <td>United States</td>\n",
       "      <td>United States</td>\n",
       "      <td>United States</td>\n",
       "      <td>United States</td>\n",
       "      <td>United States</td>\n",
       "      <td>United States</td>\n",
       "      <td>United States</td>\n",
       "      <td>United States</td>\n",
       "      <td>United States</td>\n",
       "      <td>United States</td>\n",
       "      <td>United States</td>\n",
       "      <td>United States</td>\n",
       "      <td>United States</td>\n",
       "      <td>United States</td>\n",
       "      <td>United States</td>\n",
       "      <td>United States</td>\n",
       "      <td>United States</td>\n",
       "      <td>United States</td>\n",
       "    </tr>\n",
       "    <tr>\n",
       "      <th>2</th>\n",
       "      <td>United States</td>\n",
       "      <td>United Kingdom</td>\n",
       "      <td>United Kingdom</td>\n",
       "      <td>United States</td>\n",
       "      <td>United States</td>\n",
       "      <td>United States</td>\n",
       "      <td>United States</td>\n",
       "      <td>United States</td>\n",
       "      <td>United States</td>\n",
       "      <td>United States</td>\n",
       "      <td>United States</td>\n",
       "      <td>United States</td>\n",
       "      <td>United States</td>\n",
       "      <td>United States</td>\n",
       "      <td>United States</td>\n",
       "      <td>United States</td>\n",
       "      <td>United States</td>\n",
       "      <td>United States</td>\n",
       "      <td>United States</td>\n",
       "      <td>United States</td>\n",
       "    </tr>\n",
       "    <tr>\n",
       "      <th>3</th>\n",
       "      <td>United Kingdom</td>\n",
       "      <td>United States</td>\n",
       "      <td>United States</td>\n",
       "      <td>United States</td>\n",
       "      <td>United States</td>\n",
       "      <td>United States</td>\n",
       "      <td>United States</td>\n",
       "      <td>United States</td>\n",
       "      <td>United States</td>\n",
       "      <td>United States</td>\n",
       "      <td>United States</td>\n",
       "      <td>United States</td>\n",
       "      <td>United States</td>\n",
       "      <td>United Kingdom</td>\n",
       "      <td>United Kingdom</td>\n",
       "      <td>United Kingdom</td>\n",
       "      <td>United Kingdom</td>\n",
       "      <td>United Kingdom</td>\n",
       "      <td>United States</td>\n",
       "      <td>United States</td>\n",
       "    </tr>\n",
       "    <tr>\n",
       "      <th>4</th>\n",
       "      <td>United States</td>\n",
       "      <td>United States</td>\n",
       "      <td>United States</td>\n",
       "      <td>United Kingdom</td>\n",
       "      <td>United Kingdom</td>\n",
       "      <td>United Kingdom</td>\n",
       "      <td>United States</td>\n",
       "      <td>United States</td>\n",
       "      <td>United States</td>\n",
       "      <td>United States</td>\n",
       "      <td>United States</td>\n",
       "      <td>United States</td>\n",
       "      <td>United Kingdom</td>\n",
       "      <td>United States</td>\n",
       "      <td>United States</td>\n",
       "      <td>United States</td>\n",
       "      <td>United States</td>\n",
       "      <td>United States</td>\n",
       "      <td>United Kingdom</td>\n",
       "      <td>United Kingdom</td>\n",
       "    </tr>\n",
       "    <tr>\n",
       "      <th>5</th>\n",
       "      <td>United States</td>\n",
       "      <td>United States</td>\n",
       "      <td>United States</td>\n",
       "      <td>United States</td>\n",
       "      <td>United States</td>\n",
       "      <td>United States</td>\n",
       "      <td>United Kingdom</td>\n",
       "      <td>United Kingdom</td>\n",
       "      <td>United Kingdom</td>\n",
       "      <td>United Kingdom</td>\n",
       "      <td>United Kingdom</td>\n",
       "      <td>United Kingdom</td>\n",
       "      <td>United States</td>\n",
       "      <td>United States</td>\n",
       "      <td>United States</td>\n",
       "      <td>United States</td>\n",
       "      <td>United States</td>\n",
       "      <td>United States</td>\n",
       "      <td>United States</td>\n",
       "      <td>United States</td>\n",
       "    </tr>\n",
       "    <tr>\n",
       "      <th>6</th>\n",
       "      <td>United States</td>\n",
       "      <td>United States</td>\n",
       "      <td>United States</td>\n",
       "      <td>United States</td>\n",
       "      <td>United States</td>\n",
       "      <td>United States</td>\n",
       "      <td>United States</td>\n",
       "      <td>United States</td>\n",
       "      <td>United States</td>\n",
       "      <td>United States</td>\n",
       "      <td>United States</td>\n",
       "      <td>United States</td>\n",
       "      <td>United States</td>\n",
       "      <td>United States</td>\n",
       "      <td>United States</td>\n",
       "      <td>United States</td>\n",
       "      <td>United States</td>\n",
       "      <td>United States</td>\n",
       "      <td>United States</td>\n",
       "      <td>United States</td>\n",
       "    </tr>\n",
       "    <tr>\n",
       "      <th>7</th>\n",
       "      <td>United States</td>\n",
       "      <td>United States</td>\n",
       "      <td>United States</td>\n",
       "      <td>United States</td>\n",
       "      <td>United States</td>\n",
       "      <td>United States</td>\n",
       "      <td>United States</td>\n",
       "      <td>United States</td>\n",
       "      <td>United States</td>\n",
       "      <td>United States</td>\n",
       "      <td>United States</td>\n",
       "      <td>United States</td>\n",
       "      <td>United Kingdom</td>\n",
       "      <td>United Kingdom</td>\n",
       "      <td>United Kingdom</td>\n",
       "      <td>United Kingdom</td>\n",
       "      <td>United States</td>\n",
       "      <td>United Kingdom</td>\n",
       "      <td>United Kingdom</td>\n",
       "      <td>United Kingdom</td>\n",
       "    </tr>\n",
       "    <tr>\n",
       "      <th>8</th>\n",
       "      <td>United Kingdom</td>\n",
       "      <td>United States</td>\n",
       "      <td>United States</td>\n",
       "      <td>United States</td>\n",
       "      <td>United States</td>\n",
       "      <td>United States</td>\n",
       "      <td>United States</td>\n",
       "      <td>United States</td>\n",
       "      <td>United States</td>\n",
       "      <td>United States</td>\n",
       "      <td>United States</td>\n",
       "      <td>United States</td>\n",
       "      <td>United States</td>\n",
       "      <td>United States</td>\n",
       "      <td>United States</td>\n",
       "      <td>United States</td>\n",
       "      <td>United States</td>\n",
       "      <td>United States</td>\n",
       "      <td>United States</td>\n",
       "      <td>United States</td>\n",
       "    </tr>\n",
       "    <tr>\n",
       "      <th>9</th>\n",
       "      <td>United States</td>\n",
       "      <td>United States</td>\n",
       "      <td>United States</td>\n",
       "      <td>United States</td>\n",
       "      <td>United States</td>\n",
       "      <td>United States</td>\n",
       "      <td>United States</td>\n",
       "      <td>United States</td>\n",
       "      <td>United States</td>\n",
       "      <td>United States</td>\n",
       "      <td>United States</td>\n",
       "      <td>United States</td>\n",
       "      <td>United States</td>\n",
       "      <td>United States</td>\n",
       "      <td>United States</td>\n",
       "      <td>United States</td>\n",
       "      <td>United Kingdom</td>\n",
       "      <td>United States</td>\n",
       "      <td>United States</td>\n",
       "      <td>United States</td>\n",
       "    </tr>\n",
       "    <tr>\n",
       "      <th>10</th>\n",
       "      <td>United States</td>\n",
       "      <td>United Kingdom</td>\n",
       "      <td>United Kingdom</td>\n",
       "      <td>United Kingdom</td>\n",
       "      <td>United Kingdom</td>\n",
       "      <td>United Kingdom</td>\n",
       "      <td>United Kingdom</td>\n",
       "      <td>United Kingdom</td>\n",
       "      <td>United Kingdom</td>\n",
       "      <td>United Kingdom</td>\n",
       "      <td>United Kingdom</td>\n",
       "      <td>United Kingdom</td>\n",
       "      <td>United States</td>\n",
       "      <td>United States</td>\n",
       "      <td>United States</td>\n",
       "      <td>United States</td>\n",
       "      <td>United States</td>\n",
       "      <td>United States</td>\n",
       "      <td>United States</td>\n",
       "      <td>United States</td>\n",
       "    </tr>\n",
       "  </tbody>\n",
       "</table>\n",
       "</div>"
      ],
      "text/plain": [
       "              2004            2005            2006            2007  \\\n",
       "1    United States   United States   United States   United States   \n",
       "2    United States  United Kingdom  United Kingdom   United States   \n",
       "3   United Kingdom   United States   United States   United States   \n",
       "4    United States   United States   United States  United Kingdom   \n",
       "5    United States   United States   United States   United States   \n",
       "6    United States   United States   United States   United States   \n",
       "7    United States   United States   United States   United States   \n",
       "8   United Kingdom   United States   United States   United States   \n",
       "9    United States   United States   United States   United States   \n",
       "10   United States  United Kingdom  United Kingdom  United Kingdom   \n",
       "\n",
       "              2008            2009            2010            2011  \\\n",
       "1    United States   United States   United States   United States   \n",
       "2    United States   United States   United States   United States   \n",
       "3    United States   United States   United States   United States   \n",
       "4   United Kingdom  United Kingdom   United States   United States   \n",
       "5    United States   United States  United Kingdom  United Kingdom   \n",
       "6    United States   United States   United States   United States   \n",
       "7    United States   United States   United States   United States   \n",
       "8    United States   United States   United States   United States   \n",
       "9    United States   United States   United States   United States   \n",
       "10  United Kingdom  United Kingdom  United Kingdom  United Kingdom   \n",
       "\n",
       "              2012            2013            2014            2015  \\\n",
       "1    United States   United States   United States   United States   \n",
       "2    United States   United States   United States   United States   \n",
       "3    United States   United States   United States   United States   \n",
       "4    United States   United States   United States   United States   \n",
       "5   United Kingdom  United Kingdom  United Kingdom  United Kingdom   \n",
       "6    United States   United States   United States   United States   \n",
       "7    United States   United States   United States   United States   \n",
       "8    United States   United States   United States   United States   \n",
       "9    United States   United States   United States   United States   \n",
       "10  United Kingdom  United Kingdom  United Kingdom  United Kingdom   \n",
       "\n",
       "              2016            2017            2018            2019  \\\n",
       "1    United States   United States   United States   United States   \n",
       "2    United States   United States   United States   United States   \n",
       "3    United States  United Kingdom  United Kingdom  United Kingdom   \n",
       "4   United Kingdom   United States   United States   United States   \n",
       "5    United States   United States   United States   United States   \n",
       "6    United States   United States   United States   United States   \n",
       "7   United Kingdom  United Kingdom  United Kingdom  United Kingdom   \n",
       "8    United States   United States   United States   United States   \n",
       "9    United States   United States   United States   United States   \n",
       "10   United States   United States   United States   United States   \n",
       "\n",
       "              2020            2021            2022            2023  \n",
       "1    United States   United States   United States   United States  \n",
       "2    United States   United States   United States   United States  \n",
       "3   United Kingdom  United Kingdom   United States   United States  \n",
       "4    United States   United States  United Kingdom  United Kingdom  \n",
       "5    United States   United States   United States   United States  \n",
       "6    United States   United States   United States   United States  \n",
       "7    United States  United Kingdom  United Kingdom  United Kingdom  \n",
       "8    United States   United States   United States   United States  \n",
       "9   United Kingdom   United States   United States   United States  \n",
       "10   United States   United States   United States   United States  "
      ]
     },
     "execution_count": 34,
     "metadata": {},
     "output_type": "execute_result"
    }
   ],
   "source": [
    "#Localização da 10 universidade melhores colocadas nos rankings de 2011 a 2024\n",
    "top_10_location=create_top_ranking(df_dados,10,output='Country_Names')\n",
    "top_10_location"
   ]
  },
  {
   "cell_type": "code",
   "execution_count": 35,
   "metadata": {},
   "outputs": [
    {
     "data": {
      "text/html": [
       "<div>\n",
       "<style scoped>\n",
       "    .dataframe tbody tr th:only-of-type {\n",
       "        vertical-align: middle;\n",
       "    }\n",
       "\n",
       "    .dataframe tbody tr th {\n",
       "        vertical-align: top;\n",
       "    }\n",
       "\n",
       "    .dataframe thead th {\n",
       "        text-align: right;\n",
       "    }\n",
       "</style>\n",
       "<table border=\"1\" class=\"dataframe\">\n",
       "  <thead>\n",
       "    <tr style=\"text-align: right;\">\n",
       "      <th></th>\n",
       "      <th>2004</th>\n",
       "      <th>2005</th>\n",
       "      <th>2006</th>\n",
       "      <th>2007</th>\n",
       "      <th>2008</th>\n",
       "      <th>2009</th>\n",
       "      <th>2010</th>\n",
       "      <th>2011</th>\n",
       "      <th>2012</th>\n",
       "      <th>2013</th>\n",
       "      <th>2014</th>\n",
       "      <th>2015</th>\n",
       "      <th>2016</th>\n",
       "      <th>2017</th>\n",
       "      <th>2018</th>\n",
       "      <th>2019</th>\n",
       "      <th>2020</th>\n",
       "      <th>2021</th>\n",
       "      <th>2022</th>\n",
       "      <th>2023</th>\n",
       "    </tr>\n",
       "  </thead>\n",
       "  <tbody>\n",
       "    <tr>\n",
       "      <th>United States</th>\n",
       "      <td>8</td>\n",
       "      <td>8</td>\n",
       "      <td>8</td>\n",
       "      <td>8</td>\n",
       "      <td>8</td>\n",
       "      <td>8</td>\n",
       "      <td>8</td>\n",
       "      <td>8</td>\n",
       "      <td>8</td>\n",
       "      <td>8</td>\n",
       "      <td>8</td>\n",
       "      <td>8</td>\n",
       "      <td>8</td>\n",
       "      <td>8</td>\n",
       "      <td>8</td>\n",
       "      <td>8</td>\n",
       "      <td>8</td>\n",
       "      <td>8</td>\n",
       "      <td>8</td>\n",
       "      <td>8</td>\n",
       "    </tr>\n",
       "    <tr>\n",
       "      <th>United Kingdom</th>\n",
       "      <td>2</td>\n",
       "      <td>2</td>\n",
       "      <td>2</td>\n",
       "      <td>2</td>\n",
       "      <td>2</td>\n",
       "      <td>2</td>\n",
       "      <td>2</td>\n",
       "      <td>2</td>\n",
       "      <td>2</td>\n",
       "      <td>2</td>\n",
       "      <td>2</td>\n",
       "      <td>2</td>\n",
       "      <td>2</td>\n",
       "      <td>2</td>\n",
       "      <td>2</td>\n",
       "      <td>2</td>\n",
       "      <td>2</td>\n",
       "      <td>2</td>\n",
       "      <td>2</td>\n",
       "      <td>2</td>\n",
       "    </tr>\n",
       "  </tbody>\n",
       "</table>\n",
       "</div>"
      ],
      "text/plain": [
       "                2004  2005  2006  2007  2008  2009  2010  2011  2012  2013  \\\n",
       "United States      8     8     8     8     8     8     8     8     8     8   \n",
       "United Kingdom     2     2     2     2     2     2     2     2     2     2   \n",
       "\n",
       "                2014  2015  2016  2017  2018  2019  2020  2021  2022  2023  \n",
       "United States      8     8     8     8     8     8     8     8     8     8  \n",
       "United Kingdom     2     2     2     2     2     2     2     2     2     2  "
      ]
     },
     "execution_count": 35,
     "metadata": {},
     "output_type": "execute_result"
    }
   ],
   "source": [
    "#Número de vezes que cada país apareceu nas dez primeiras posições dos rankings \n",
    "#Somente universidades americanas e do Reino Unido no top 10 de todos os rankings\n",
    "\n",
    "paises_aparicoes_top_10=top_10_location.apply(pd.Series.value_counts)\n",
    "paises_aparicoes_top_10"
   ]
  },
  {
   "cell_type": "code",
   "execution_count": 36,
   "metadata": {},
   "outputs": [
    {
     "data": {
      "text/html": [
       "<div>\n",
       "<style scoped>\n",
       "    .dataframe tbody tr th:only-of-type {\n",
       "        vertical-align: middle;\n",
       "    }\n",
       "\n",
       "    .dataframe tbody tr th {\n",
       "        vertical-align: top;\n",
       "    }\n",
       "\n",
       "    .dataframe thead th {\n",
       "        text-align: right;\n",
       "    }\n",
       "</style>\n",
       "<table border=\"1\" class=\"dataframe\">\n",
       "  <thead>\n",
       "    <tr style=\"text-align: right;\">\n",
       "      <th></th>\n",
       "      <th>World Rank</th>\n",
       "      <th>Institution</th>\n",
       "      <th>Country</th>\n",
       "      <th>Regional Rank</th>\n",
       "      <th>Total Score</th>\n",
       "      <th>Alumni</th>\n",
       "      <th>Award</th>\n",
       "      <th>HiCi</th>\n",
       "      <th>N&amp;S</th>\n",
       "      <th>PUB</th>\n",
       "      <th>PCP</th>\n",
       "      <th>Year</th>\n",
       "      <th>Country_Names</th>\n",
       "    </tr>\n",
       "  </thead>\n",
       "  <tbody>\n",
       "    <tr>\n",
       "      <th>0</th>\n",
       "      <td>1</td>\n",
       "      <td>Harvard University</td>\n",
       "      <td>us</td>\n",
       "      <td>1</td>\n",
       "      <td>100.0</td>\n",
       "      <td>98.6</td>\n",
       "      <td>100.0</td>\n",
       "      <td>100.0</td>\n",
       "      <td>100.0</td>\n",
       "      <td>100.0</td>\n",
       "      <td>60.6</td>\n",
       "      <td>2004</td>\n",
       "      <td>United States</td>\n",
       "    </tr>\n",
       "    <tr>\n",
       "      <th>1</th>\n",
       "      <td>2</td>\n",
       "      <td>Stanford University</td>\n",
       "      <td>us</td>\n",
       "      <td>2</td>\n",
       "      <td>77.2</td>\n",
       "      <td>41.2</td>\n",
       "      <td>72.2</td>\n",
       "      <td>96.1</td>\n",
       "      <td>75.2</td>\n",
       "      <td>72.3</td>\n",
       "      <td>68.1</td>\n",
       "      <td>2004</td>\n",
       "      <td>United States</td>\n",
       "    </tr>\n",
       "    <tr>\n",
       "      <th>2</th>\n",
       "      <td>3</td>\n",
       "      <td>University of Cambridge</td>\n",
       "      <td>gb</td>\n",
       "      <td>1</td>\n",
       "      <td>76.2</td>\n",
       "      <td>100.0</td>\n",
       "      <td>93.4</td>\n",
       "      <td>56.6</td>\n",
       "      <td>58.5</td>\n",
       "      <td>70.2</td>\n",
       "      <td>73.2</td>\n",
       "      <td>2004</td>\n",
       "      <td>United Kingdom</td>\n",
       "    </tr>\n",
       "    <tr>\n",
       "      <th>3</th>\n",
       "      <td>4</td>\n",
       "      <td>University of California, Berkeley</td>\n",
       "      <td>us</td>\n",
       "      <td>3</td>\n",
       "      <td>74.2</td>\n",
       "      <td>70.0</td>\n",
       "      <td>76.0</td>\n",
       "      <td>74.1</td>\n",
       "      <td>75.6</td>\n",
       "      <td>72.7</td>\n",
       "      <td>45.1</td>\n",
       "      <td>2004</td>\n",
       "      <td>United States</td>\n",
       "    </tr>\n",
       "    <tr>\n",
       "      <th>4</th>\n",
       "      <td>5</td>\n",
       "      <td>Massachusetts Institute of Technology (MIT)</td>\n",
       "      <td>us</td>\n",
       "      <td>4</td>\n",
       "      <td>72.4</td>\n",
       "      <td>74.1</td>\n",
       "      <td>78.9</td>\n",
       "      <td>73.6</td>\n",
       "      <td>69.1</td>\n",
       "      <td>64.6</td>\n",
       "      <td>47.5</td>\n",
       "      <td>2004</td>\n",
       "      <td>United States</td>\n",
       "    </tr>\n",
       "  </tbody>\n",
       "</table>\n",
       "</div>"
      ],
      "text/plain": [
       "  World Rank                                  Institution Country  \\\n",
       "0          1                           Harvard University      us   \n",
       "1          2                          Stanford University      us   \n",
       "2          3                      University of Cambridge      gb   \n",
       "3          4           University of California, Berkeley      us   \n",
       "4          5  Massachusetts Institute of Technology (MIT)      us   \n",
       "\n",
       "  Regional Rank  Total Score  Alumni  Award   HiCi    N&S    PUB   PCP  Year  \\\n",
       "0             1        100.0    98.6  100.0  100.0  100.0  100.0  60.6  2004   \n",
       "1             2         77.2    41.2   72.2   96.1   75.2   72.3  68.1  2004   \n",
       "2             1         76.2   100.0   93.4   56.6   58.5   70.2  73.2  2004   \n",
       "3             3         74.2    70.0   76.0   74.1   75.6   72.7  45.1  2004   \n",
       "4             4         72.4    74.1   78.9   73.6   69.1   64.6  47.5  2004   \n",
       "\n",
       "    Country_Names  \n",
       "0   United States  \n",
       "1   United States  \n",
       "2  United Kingdom  \n",
       "3   United States  \n",
       "4   United States  "
      ]
     },
     "execution_count": 36,
     "metadata": {},
     "output_type": "execute_result"
    }
   ],
   "source": [
    "df_dados.head()"
   ]
  },
  {
   "cell_type": "code",
   "execution_count": 37,
   "metadata": {},
   "outputs": [
    {
     "data": {
      "text/html": [
       "<style type=\"text/css\">\n",
       "</style>\n",
       "<table id=\"T_8e5ff\">\n",
       "  <thead>\n",
       "    <tr>\n",
       "      <th id=\"T_8e5ff_level0_col0\" class=\"col_heading level0 col0\" >Posição no Ranking</th>\n",
       "      <th id=\"T_8e5ff_level0_col1\" class=\"col_heading level0 col1\" >Universidade</th>\n",
       "      <th id=\"T_8e5ff_level0_col2\" class=\"col_heading level0 col2\" >País</th>\n",
       "    </tr>\n",
       "  </thead>\n",
       "  <tbody>\n",
       "    <tr>\n",
       "      <td id=\"T_8e5ff_row0_col0\" class=\"data row0 col0\" >1°</td>\n",
       "      <td id=\"T_8e5ff_row0_col1\" class=\"data row0 col1\" >Harvard University</td>\n",
       "      <td id=\"T_8e5ff_row0_col2\" class=\"data row0 col2\" >United States</td>\n",
       "    </tr>\n",
       "    <tr>\n",
       "      <td id=\"T_8e5ff_row1_col0\" class=\"data row1 col0\" >2°</td>\n",
       "      <td id=\"T_8e5ff_row1_col1\" class=\"data row1 col1\" >Stanford University</td>\n",
       "      <td id=\"T_8e5ff_row1_col2\" class=\"data row1 col2\" >United States</td>\n",
       "    </tr>\n",
       "    <tr>\n",
       "      <td id=\"T_8e5ff_row2_col0\" class=\"data row2 col0\" >3°</td>\n",
       "      <td id=\"T_8e5ff_row2_col1\" class=\"data row2 col1\" >Massachusetts Institute of Technology (MIT)</td>\n",
       "      <td id=\"T_8e5ff_row2_col2\" class=\"data row2 col2\" >United States</td>\n",
       "    </tr>\n",
       "    <tr>\n",
       "      <td id=\"T_8e5ff_row3_col0\" class=\"data row3 col0\" >4°</td>\n",
       "      <td id=\"T_8e5ff_row3_col1\" class=\"data row3 col1\" >University of Cambridge</td>\n",
       "      <td id=\"T_8e5ff_row3_col2\" class=\"data row3 col2\" >United Kingdom</td>\n",
       "    </tr>\n",
       "    <tr>\n",
       "      <td id=\"T_8e5ff_row4_col0\" class=\"data row4 col0\" >5°</td>\n",
       "      <td id=\"T_8e5ff_row4_col1\" class=\"data row4 col1\" >University of California, Berkeley</td>\n",
       "      <td id=\"T_8e5ff_row4_col2\" class=\"data row4 col2\" >United States</td>\n",
       "    </tr>\n",
       "    <tr>\n",
       "      <td id=\"T_8e5ff_row5_col0\" class=\"data row5 col0\" >6°</td>\n",
       "      <td id=\"T_8e5ff_row5_col1\" class=\"data row5 col1\" >Princeton University</td>\n",
       "      <td id=\"T_8e5ff_row5_col2\" class=\"data row5 col2\" >United States</td>\n",
       "    </tr>\n",
       "    <tr>\n",
       "      <td id=\"T_8e5ff_row6_col0\" class=\"data row6 col0\" >7°</td>\n",
       "      <td id=\"T_8e5ff_row6_col1\" class=\"data row6 col1\" >University of Oxford</td>\n",
       "      <td id=\"T_8e5ff_row6_col2\" class=\"data row6 col2\" >United Kingdom</td>\n",
       "    </tr>\n",
       "    <tr>\n",
       "      <td id=\"T_8e5ff_row7_col0\" class=\"data row7 col0\" >8°</td>\n",
       "      <td id=\"T_8e5ff_row7_col1\" class=\"data row7 col1\" >Columbia University</td>\n",
       "      <td id=\"T_8e5ff_row7_col2\" class=\"data row7 col2\" >United States</td>\n",
       "    </tr>\n",
       "    <tr>\n",
       "      <td id=\"T_8e5ff_row8_col0\" class=\"data row8 col0\" >9°</td>\n",
       "      <td id=\"T_8e5ff_row8_col1\" class=\"data row8 col1\" >California Institute of Technology</td>\n",
       "      <td id=\"T_8e5ff_row8_col2\" class=\"data row8 col2\" >United States</td>\n",
       "    </tr>\n",
       "    <tr>\n",
       "      <td id=\"T_8e5ff_row9_col0\" class=\"data row9 col0\" >10°</td>\n",
       "      <td id=\"T_8e5ff_row9_col1\" class=\"data row9 col1\" >University of Chicago</td>\n",
       "      <td id=\"T_8e5ff_row9_col2\" class=\"data row9 col2\" >United States</td>\n",
       "    </tr>\n",
       "  </tbody>\n",
       "</table>\n"
      ],
      "text/plain": [
       "<pandas.io.formats.style.Styler at 0x7f9edadd84a0>"
      ]
     },
     "execution_count": 37,
     "metadata": {},
     "output_type": "execute_result"
    }
   ],
   "source": [
    "#Criação de dataframe formatado para ser incluído no readme\n",
    "\n",
    "\n",
    "x=df_dados.loc[df_dados[\"Year\"]=='2023',:].reset_index().loc[:9,['World Rank','Institution','Country_Names']].rename(columns={'Institution':'Universidade','Country_Names':'País','World Rank':'Posição no Ranking'})\n",
    "pos=[str(i)+'°' for i in range(1,11)]\n",
    "x['Posição no Ranking']=pos\n",
    "x=x.style.format().hide(axis='index')\n",
    "path_to_save='/home/rodolfo/Insync/rodolfopcruz2@gmail.com/Google Drive/Estudo/Python_Projects/education_data/education_analysis/Shanghai World University Rankings/images/'\n",
    "\n",
    "dfi.export(x,path_to_save+'top10_2023.png')\n",
    "x\n"
   ]
  },
  {
   "cell_type": "markdown",
   "metadata": {},
   "source": [
    "##### Top 100"
   ]
  },
  {
   "cell_type": "code",
   "execution_count": 38,
   "metadata": {},
   "outputs": [
    {
     "data": {
      "text/html": [
       "<div>\n",
       "<style scoped>\n",
       "    .dataframe tbody tr th:only-of-type {\n",
       "        vertical-align: middle;\n",
       "    }\n",
       "\n",
       "    .dataframe tbody tr th {\n",
       "        vertical-align: top;\n",
       "    }\n",
       "\n",
       "    .dataframe thead th {\n",
       "        text-align: right;\n",
       "    }\n",
       "</style>\n",
       "<table border=\"1\" class=\"dataframe\">\n",
       "  <thead>\n",
       "    <tr style=\"text-align: right;\">\n",
       "      <th></th>\n",
       "      <th>2004</th>\n",
       "      <th>2005</th>\n",
       "      <th>2006</th>\n",
       "      <th>2007</th>\n",
       "      <th>2008</th>\n",
       "      <th>2009</th>\n",
       "      <th>2010</th>\n",
       "      <th>2011</th>\n",
       "      <th>2012</th>\n",
       "      <th>2013</th>\n",
       "      <th>2014</th>\n",
       "      <th>2015</th>\n",
       "      <th>2016</th>\n",
       "      <th>2017</th>\n",
       "      <th>2018</th>\n",
       "      <th>2019</th>\n",
       "      <th>2020</th>\n",
       "      <th>2021</th>\n",
       "      <th>2022</th>\n",
       "      <th>2023</th>\n",
       "    </tr>\n",
       "  </thead>\n",
       "  <tbody>\n",
       "    <tr>\n",
       "      <th>1</th>\n",
       "      <td>United States</td>\n",
       "      <td>United States</td>\n",
       "      <td>United States</td>\n",
       "      <td>United States</td>\n",
       "      <td>United States</td>\n",
       "      <td>United States</td>\n",
       "      <td>United States</td>\n",
       "      <td>United States</td>\n",
       "      <td>United States</td>\n",
       "      <td>United States</td>\n",
       "      <td>United States</td>\n",
       "      <td>United States</td>\n",
       "      <td>United States</td>\n",
       "      <td>United States</td>\n",
       "      <td>United States</td>\n",
       "      <td>United States</td>\n",
       "      <td>United States</td>\n",
       "      <td>United States</td>\n",
       "      <td>United States</td>\n",
       "      <td>United States</td>\n",
       "    </tr>\n",
       "    <tr>\n",
       "      <th>2</th>\n",
       "      <td>United States</td>\n",
       "      <td>United Kingdom</td>\n",
       "      <td>United Kingdom</td>\n",
       "      <td>United States</td>\n",
       "      <td>United States</td>\n",
       "      <td>United States</td>\n",
       "      <td>United States</td>\n",
       "      <td>United States</td>\n",
       "      <td>United States</td>\n",
       "      <td>United States</td>\n",
       "      <td>United States</td>\n",
       "      <td>United States</td>\n",
       "      <td>United States</td>\n",
       "      <td>United States</td>\n",
       "      <td>United States</td>\n",
       "      <td>United States</td>\n",
       "      <td>United States</td>\n",
       "      <td>United States</td>\n",
       "      <td>United States</td>\n",
       "      <td>United States</td>\n",
       "    </tr>\n",
       "    <tr>\n",
       "      <th>3</th>\n",
       "      <td>United Kingdom</td>\n",
       "      <td>United States</td>\n",
       "      <td>United States</td>\n",
       "      <td>United States</td>\n",
       "      <td>United States</td>\n",
       "      <td>United States</td>\n",
       "      <td>United States</td>\n",
       "      <td>United States</td>\n",
       "      <td>United States</td>\n",
       "      <td>United States</td>\n",
       "      <td>United States</td>\n",
       "      <td>United States</td>\n",
       "      <td>United States</td>\n",
       "      <td>United Kingdom</td>\n",
       "      <td>United Kingdom</td>\n",
       "      <td>United Kingdom</td>\n",
       "      <td>United Kingdom</td>\n",
       "      <td>United Kingdom</td>\n",
       "      <td>United States</td>\n",
       "      <td>United States</td>\n",
       "    </tr>\n",
       "    <tr>\n",
       "      <th>4</th>\n",
       "      <td>United States</td>\n",
       "      <td>United States</td>\n",
       "      <td>United States</td>\n",
       "      <td>United Kingdom</td>\n",
       "      <td>United Kingdom</td>\n",
       "      <td>United Kingdom</td>\n",
       "      <td>United States</td>\n",
       "      <td>United States</td>\n",
       "      <td>United States</td>\n",
       "      <td>United States</td>\n",
       "      <td>United States</td>\n",
       "      <td>United States</td>\n",
       "      <td>United Kingdom</td>\n",
       "      <td>United States</td>\n",
       "      <td>United States</td>\n",
       "      <td>United States</td>\n",
       "      <td>United States</td>\n",
       "      <td>United States</td>\n",
       "      <td>United Kingdom</td>\n",
       "      <td>United Kingdom</td>\n",
       "    </tr>\n",
       "    <tr>\n",
       "      <th>5</th>\n",
       "      <td>United States</td>\n",
       "      <td>United States</td>\n",
       "      <td>United States</td>\n",
       "      <td>United States</td>\n",
       "      <td>United States</td>\n",
       "      <td>United States</td>\n",
       "      <td>United Kingdom</td>\n",
       "      <td>United Kingdom</td>\n",
       "      <td>United Kingdom</td>\n",
       "      <td>United Kingdom</td>\n",
       "      <td>United Kingdom</td>\n",
       "      <td>United Kingdom</td>\n",
       "      <td>United States</td>\n",
       "      <td>United States</td>\n",
       "      <td>United States</td>\n",
       "      <td>United States</td>\n",
       "      <td>United States</td>\n",
       "      <td>United States</td>\n",
       "      <td>United States</td>\n",
       "      <td>United States</td>\n",
       "    </tr>\n",
       "    <tr>\n",
       "      <th>...</th>\n",
       "      <td>...</td>\n",
       "      <td>...</td>\n",
       "      <td>...</td>\n",
       "      <td>...</td>\n",
       "      <td>...</td>\n",
       "      <td>...</td>\n",
       "      <td>...</td>\n",
       "      <td>...</td>\n",
       "      <td>...</td>\n",
       "      <td>...</td>\n",
       "      <td>...</td>\n",
       "      <td>...</td>\n",
       "      <td>...</td>\n",
       "      <td>...</td>\n",
       "      <td>...</td>\n",
       "      <td>...</td>\n",
       "      <td>...</td>\n",
       "      <td>...</td>\n",
       "      <td>...</td>\n",
       "      <td>...</td>\n",
       "    </tr>\n",
       "    <tr>\n",
       "      <th>96</th>\n",
       "      <td>United States</td>\n",
       "      <td>United States</td>\n",
       "      <td>France</td>\n",
       "      <td>United States</td>\n",
       "      <td>Germany</td>\n",
       "      <td>Australia</td>\n",
       "      <td>United States</td>\n",
       "      <td>Australia</td>\n",
       "      <td>United States</td>\n",
       "      <td>Israel</td>\n",
       "      <td>Belgium</td>\n",
       "      <td>Canada</td>\n",
       "      <td>Japan</td>\n",
       "      <td>Germany</td>\n",
       "      <td>Singapore</td>\n",
       "      <td>United States</td>\n",
       "      <td>United States</td>\n",
       "      <td>Australia</td>\n",
       "      <td>China</td>\n",
       "      <td>China</td>\n",
       "    </tr>\n",
       "    <tr>\n",
       "      <th>97</th>\n",
       "      <td>Japan</td>\n",
       "      <td>Italy</td>\n",
       "      <td>United States</td>\n",
       "      <td>Sweden</td>\n",
       "      <td>Sweden</td>\n",
       "      <td>Denmark</td>\n",
       "      <td>United States</td>\n",
       "      <td>United States</td>\n",
       "      <td>Japan</td>\n",
       "      <td>France</td>\n",
       "      <td>Switzerland</td>\n",
       "      <td>Germany</td>\n",
       "      <td>United States</td>\n",
       "      <td>Australia</td>\n",
       "      <td>Switzerland</td>\n",
       "      <td>United States</td>\n",
       "      <td>Belgium</td>\n",
       "      <td>United States</td>\n",
       "      <td>Hong Kong</td>\n",
       "      <td>United States</td>\n",
       "    </tr>\n",
       "    <tr>\n",
       "      <th>98</th>\n",
       "      <td>Sweden</td>\n",
       "      <td>United Kingdom</td>\n",
       "      <td>Japan</td>\n",
       "      <td>United States</td>\n",
       "      <td>United States</td>\n",
       "      <td>Germany</td>\n",
       "      <td>Denmark</td>\n",
       "      <td>United Kingdom</td>\n",
       "      <td>Australia</td>\n",
       "      <td>Australia</td>\n",
       "      <td>United States</td>\n",
       "      <td>Netherlands</td>\n",
       "      <td>United States</td>\n",
       "      <td>United States</td>\n",
       "      <td>United States</td>\n",
       "      <td>United States</td>\n",
       "      <td>Canada</td>\n",
       "      <td>Russian Federation</td>\n",
       "      <td>Korea, Republic of</td>\n",
       "      <td>United States</td>\n",
       "    </tr>\n",
       "    <tr>\n",
       "      <th>99</th>\n",
       "      <td>United States</td>\n",
       "      <td>Sweden</td>\n",
       "      <td>France</td>\n",
       "      <td>Japan</td>\n",
       "      <td>Germany</td>\n",
       "      <td>United States</td>\n",
       "      <td>United States</td>\n",
       "      <td>Japan</td>\n",
       "      <td>United States</td>\n",
       "      <td>United States</td>\n",
       "      <td>United States</td>\n",
       "      <td>United States</td>\n",
       "      <td>Australia</td>\n",
       "      <td>United Kingdom</td>\n",
       "      <td>Germany</td>\n",
       "      <td>Australia</td>\n",
       "      <td>France</td>\n",
       "      <td>United States</td>\n",
       "      <td>United States</td>\n",
       "      <td>Canada</td>\n",
       "    </tr>\n",
       "    <tr>\n",
       "      <th>100</th>\n",
       "      <td>Germany</td>\n",
       "      <td>United States</td>\n",
       "      <td>United States</td>\n",
       "      <td>Germany</td>\n",
       "      <td>Australia</td>\n",
       "      <td>United States</td>\n",
       "      <td>United Kingdom</td>\n",
       "      <td>United States</td>\n",
       "      <td>Germany</td>\n",
       "      <td>Germany</td>\n",
       "      <td>Netherlands</td>\n",
       "      <td>United States</td>\n",
       "      <td>United States</td>\n",
       "      <td>United States</td>\n",
       "      <td>United States</td>\n",
       "      <td>United States</td>\n",
       "      <td>China</td>\n",
       "      <td>United States</td>\n",
       "      <td>Australia</td>\n",
       "      <td>Sweden</td>\n",
       "    </tr>\n",
       "  </tbody>\n",
       "</table>\n",
       "<p>100 rows × 20 columns</p>\n",
       "</div>"
      ],
      "text/plain": [
       "               2004            2005            2006            2007  \\\n",
       "1     United States   United States   United States   United States   \n",
       "2     United States  United Kingdom  United Kingdom   United States   \n",
       "3    United Kingdom   United States   United States   United States   \n",
       "4     United States   United States   United States  United Kingdom   \n",
       "5     United States   United States   United States   United States   \n",
       "..              ...             ...             ...             ...   \n",
       "96    United States   United States          France   United States   \n",
       "97            Japan           Italy   United States          Sweden   \n",
       "98           Sweden  United Kingdom           Japan   United States   \n",
       "99    United States          Sweden          France           Japan   \n",
       "100         Germany   United States   United States         Germany   \n",
       "\n",
       "               2008            2009            2010            2011  \\\n",
       "1     United States   United States   United States   United States   \n",
       "2     United States   United States   United States   United States   \n",
       "3     United States   United States   United States   United States   \n",
       "4    United Kingdom  United Kingdom   United States   United States   \n",
       "5     United States   United States  United Kingdom  United Kingdom   \n",
       "..              ...             ...             ...             ...   \n",
       "96          Germany       Australia   United States       Australia   \n",
       "97           Sweden         Denmark   United States   United States   \n",
       "98    United States         Germany         Denmark  United Kingdom   \n",
       "99          Germany   United States   United States           Japan   \n",
       "100       Australia   United States  United Kingdom   United States   \n",
       "\n",
       "               2012            2013            2014            2015  \\\n",
       "1     United States   United States   United States   United States   \n",
       "2     United States   United States   United States   United States   \n",
       "3     United States   United States   United States   United States   \n",
       "4     United States   United States   United States   United States   \n",
       "5    United Kingdom  United Kingdom  United Kingdom  United Kingdom   \n",
       "..              ...             ...             ...             ...   \n",
       "96    United States          Israel         Belgium          Canada   \n",
       "97            Japan          France     Switzerland         Germany   \n",
       "98        Australia       Australia   United States     Netherlands   \n",
       "99    United States   United States   United States   United States   \n",
       "100         Germany         Germany     Netherlands   United States   \n",
       "\n",
       "               2016            2017            2018            2019  \\\n",
       "1     United States   United States   United States   United States   \n",
       "2     United States   United States   United States   United States   \n",
       "3     United States  United Kingdom  United Kingdom  United Kingdom   \n",
       "4    United Kingdom   United States   United States   United States   \n",
       "5     United States   United States   United States   United States   \n",
       "..              ...             ...             ...             ...   \n",
       "96            Japan         Germany       Singapore   United States   \n",
       "97    United States       Australia     Switzerland   United States   \n",
       "98    United States   United States   United States   United States   \n",
       "99        Australia  United Kingdom         Germany       Australia   \n",
       "100   United States   United States   United States   United States   \n",
       "\n",
       "               2020                2021                2022            2023  \n",
       "1     United States       United States       United States   United States  \n",
       "2     United States       United States       United States   United States  \n",
       "3    United Kingdom      United Kingdom       United States   United States  \n",
       "4     United States       United States      United Kingdom  United Kingdom  \n",
       "5     United States       United States       United States   United States  \n",
       "..              ...                 ...                 ...             ...  \n",
       "96    United States           Australia               China           China  \n",
       "97          Belgium       United States           Hong Kong   United States  \n",
       "98           Canada  Russian Federation  Korea, Republic of   United States  \n",
       "99           France       United States       United States          Canada  \n",
       "100           China       United States           Australia          Sweden  \n",
       "\n",
       "[100 rows x 20 columns]"
      ]
     },
     "execution_count": 38,
     "metadata": {},
     "output_type": "execute_result"
    }
   ],
   "source": [
    "#Paises de origem das 100 melhores universidade nos rankings de 2004 a 2023\n",
    "\n",
    "top_100_location=create_top_ranking(df_dados,100,output='Country_Names')\n",
    "top_100_location"
   ]
  },
  {
   "cell_type": "code",
   "execution_count": 39,
   "metadata": {},
   "outputs": [
    {
     "data": {
      "text/html": [
       "<div>\n",
       "<style scoped>\n",
       "    .dataframe tbody tr th:only-of-type {\n",
       "        vertical-align: middle;\n",
       "    }\n",
       "\n",
       "    .dataframe tbody tr th {\n",
       "        vertical-align: top;\n",
       "    }\n",
       "\n",
       "    .dataframe thead th {\n",
       "        text-align: right;\n",
       "    }\n",
       "</style>\n",
       "<table border=\"1\" class=\"dataframe\">\n",
       "  <thead>\n",
       "    <tr style=\"text-align: right;\">\n",
       "      <th></th>\n",
       "      <th>2004</th>\n",
       "      <th>2005</th>\n",
       "      <th>2006</th>\n",
       "      <th>2007</th>\n",
       "      <th>2008</th>\n",
       "      <th>2009</th>\n",
       "      <th>2010</th>\n",
       "      <th>2011</th>\n",
       "      <th>2012</th>\n",
       "      <th>2013</th>\n",
       "      <th>2014</th>\n",
       "      <th>2015</th>\n",
       "      <th>2016</th>\n",
       "      <th>2017</th>\n",
       "      <th>2018</th>\n",
       "      <th>2019</th>\n",
       "      <th>2020</th>\n",
       "      <th>2021</th>\n",
       "      <th>2022</th>\n",
       "      <th>2023</th>\n",
       "    </tr>\n",
       "  </thead>\n",
       "  <tbody>\n",
       "    <tr>\n",
       "      <th>United States</th>\n",
       "      <td>51</td>\n",
       "      <td>53</td>\n",
       "      <td>54</td>\n",
       "      <td>54</td>\n",
       "      <td>54</td>\n",
       "      <td>55</td>\n",
       "      <td>54</td>\n",
       "      <td>53</td>\n",
       "      <td>53</td>\n",
       "      <td>52</td>\n",
       "      <td>52</td>\n",
       "      <td>51</td>\n",
       "      <td>50</td>\n",
       "      <td>48</td>\n",
       "      <td>46</td>\n",
       "      <td>45</td>\n",
       "      <td>41</td>\n",
       "      <td>40</td>\n",
       "      <td>39</td>\n",
       "      <td>38</td>\n",
       "    </tr>\n",
       "    <tr>\n",
       "      <th>China</th>\n",
       "      <td>0</td>\n",
       "      <td>0</td>\n",
       "      <td>0</td>\n",
       "      <td>0</td>\n",
       "      <td>0</td>\n",
       "      <td>0</td>\n",
       "      <td>0</td>\n",
       "      <td>0</td>\n",
       "      <td>0</td>\n",
       "      <td>0</td>\n",
       "      <td>0</td>\n",
       "      <td>0</td>\n",
       "      <td>2</td>\n",
       "      <td>2</td>\n",
       "      <td>3</td>\n",
       "      <td>4</td>\n",
       "      <td>6</td>\n",
       "      <td>7</td>\n",
       "      <td>8</td>\n",
       "      <td>10</td>\n",
       "    </tr>\n",
       "    <tr>\n",
       "      <th>United Kingdom</th>\n",
       "      <td>11</td>\n",
       "      <td>11</td>\n",
       "      <td>11</td>\n",
       "      <td>11</td>\n",
       "      <td>11</td>\n",
       "      <td>11</td>\n",
       "      <td>11</td>\n",
       "      <td>10</td>\n",
       "      <td>9</td>\n",
       "      <td>9</td>\n",
       "      <td>8</td>\n",
       "      <td>9</td>\n",
       "      <td>8</td>\n",
       "      <td>9</td>\n",
       "      <td>8</td>\n",
       "      <td>8</td>\n",
       "      <td>8</td>\n",
       "      <td>8</td>\n",
       "      <td>8</td>\n",
       "      <td>8</td>\n",
       "    </tr>\n",
       "    <tr>\n",
       "      <th>Australia</th>\n",
       "      <td>2</td>\n",
       "      <td>2</td>\n",
       "      <td>2</td>\n",
       "      <td>2</td>\n",
       "      <td>3</td>\n",
       "      <td>3</td>\n",
       "      <td>3</td>\n",
       "      <td>4</td>\n",
       "      <td>5</td>\n",
       "      <td>5</td>\n",
       "      <td>4</td>\n",
       "      <td>4</td>\n",
       "      <td>6</td>\n",
       "      <td>6</td>\n",
       "      <td>6</td>\n",
       "      <td>7</td>\n",
       "      <td>7</td>\n",
       "      <td>7</td>\n",
       "      <td>7</td>\n",
       "      <td>6</td>\n",
       "    </tr>\n",
       "    <tr>\n",
       "      <th>Canada</th>\n",
       "      <td>4</td>\n",
       "      <td>4</td>\n",
       "      <td>4</td>\n",
       "      <td>4</td>\n",
       "      <td>4</td>\n",
       "      <td>4</td>\n",
       "      <td>4</td>\n",
       "      <td>4</td>\n",
       "      <td>4</td>\n",
       "      <td>4</td>\n",
       "      <td>4</td>\n",
       "      <td>4</td>\n",
       "      <td>4</td>\n",
       "      <td>4</td>\n",
       "      <td>4</td>\n",
       "      <td>4</td>\n",
       "      <td>4</td>\n",
       "      <td>4</td>\n",
       "      <td>5</td>\n",
       "      <td>5</td>\n",
       "    </tr>\n",
       "    <tr>\n",
       "      <th>Switzerland</th>\n",
       "      <td>3</td>\n",
       "      <td>3</td>\n",
       "      <td>3</td>\n",
       "      <td>3</td>\n",
       "      <td>3</td>\n",
       "      <td>3</td>\n",
       "      <td>3</td>\n",
       "      <td>4</td>\n",
       "      <td>4</td>\n",
       "      <td>4</td>\n",
       "      <td>5</td>\n",
       "      <td>4</td>\n",
       "      <td>4</td>\n",
       "      <td>5</td>\n",
       "      <td>5</td>\n",
       "      <td>5</td>\n",
       "      <td>5</td>\n",
       "      <td>5</td>\n",
       "      <td>4</td>\n",
       "      <td>5</td>\n",
       "    </tr>\n",
       "    <tr>\n",
       "      <th>Germany</th>\n",
       "      <td>7</td>\n",
       "      <td>5</td>\n",
       "      <td>5</td>\n",
       "      <td>6</td>\n",
       "      <td>6</td>\n",
       "      <td>5</td>\n",
       "      <td>5</td>\n",
       "      <td>5</td>\n",
       "      <td>4</td>\n",
       "      <td>4</td>\n",
       "      <td>4</td>\n",
       "      <td>4</td>\n",
       "      <td>3</td>\n",
       "      <td>4</td>\n",
       "      <td>4</td>\n",
       "      <td>4</td>\n",
       "      <td>4</td>\n",
       "      <td>4</td>\n",
       "      <td>4</td>\n",
       "      <td>4</td>\n",
       "    </tr>\n",
       "    <tr>\n",
       "      <th>France</th>\n",
       "      <td>4</td>\n",
       "      <td>4</td>\n",
       "      <td>4</td>\n",
       "      <td>3</td>\n",
       "      <td>3</td>\n",
       "      <td>3</td>\n",
       "      <td>3</td>\n",
       "      <td>3</td>\n",
       "      <td>3</td>\n",
       "      <td>4</td>\n",
       "      <td>4</td>\n",
       "      <td>4</td>\n",
       "      <td>3</td>\n",
       "      <td>3</td>\n",
       "      <td>3</td>\n",
       "      <td>3</td>\n",
       "      <td>5</td>\n",
       "      <td>4</td>\n",
       "      <td>4</td>\n",
       "      <td>4</td>\n",
       "    </tr>\n",
       "    <tr>\n",
       "      <th>Israel</th>\n",
       "      <td>1</td>\n",
       "      <td>1</td>\n",
       "      <td>1</td>\n",
       "      <td>1</td>\n",
       "      <td>1</td>\n",
       "      <td>1</td>\n",
       "      <td>1</td>\n",
       "      <td>1</td>\n",
       "      <td>3</td>\n",
       "      <td>3</td>\n",
       "      <td>2</td>\n",
       "      <td>2</td>\n",
       "      <td>2</td>\n",
       "      <td>1</td>\n",
       "      <td>2</td>\n",
       "      <td>1</td>\n",
       "      <td>1</td>\n",
       "      <td>3</td>\n",
       "      <td>3</td>\n",
       "      <td>3</td>\n",
       "    </tr>\n",
       "    <tr>\n",
       "      <th>Netherlands</th>\n",
       "      <td>2</td>\n",
       "      <td>2</td>\n",
       "      <td>2</td>\n",
       "      <td>2</td>\n",
       "      <td>2</td>\n",
       "      <td>2</td>\n",
       "      <td>2</td>\n",
       "      <td>2</td>\n",
       "      <td>2</td>\n",
       "      <td>3</td>\n",
       "      <td>4</td>\n",
       "      <td>4</td>\n",
       "      <td>3</td>\n",
       "      <td>4</td>\n",
       "      <td>4</td>\n",
       "      <td>4</td>\n",
       "      <td>4</td>\n",
       "      <td>3</td>\n",
       "      <td>3</td>\n",
       "      <td>3</td>\n",
       "    </tr>\n",
       "    <tr>\n",
       "      <th>Sweden</th>\n",
       "      <td>4</td>\n",
       "      <td>4</td>\n",
       "      <td>4</td>\n",
       "      <td>4</td>\n",
       "      <td>4</td>\n",
       "      <td>3</td>\n",
       "      <td>3</td>\n",
       "      <td>3</td>\n",
       "      <td>3</td>\n",
       "      <td>3</td>\n",
       "      <td>3</td>\n",
       "      <td>3</td>\n",
       "      <td>3</td>\n",
       "      <td>3</td>\n",
       "      <td>3</td>\n",
       "      <td>3</td>\n",
       "      <td>3</td>\n",
       "      <td>3</td>\n",
       "      <td>3</td>\n",
       "      <td>3</td>\n",
       "    </tr>\n",
       "    <tr>\n",
       "      <th>Japan</th>\n",
       "      <td>5</td>\n",
       "      <td>5</td>\n",
       "      <td>6</td>\n",
       "      <td>6</td>\n",
       "      <td>4</td>\n",
       "      <td>5</td>\n",
       "      <td>5</td>\n",
       "      <td>5</td>\n",
       "      <td>4</td>\n",
       "      <td>3</td>\n",
       "      <td>3</td>\n",
       "      <td>4</td>\n",
       "      <td>4</td>\n",
       "      <td>3</td>\n",
       "      <td>3</td>\n",
       "      <td>3</td>\n",
       "      <td>3</td>\n",
       "      <td>3</td>\n",
       "      <td>2</td>\n",
       "      <td>2</td>\n",
       "    </tr>\n",
       "    <tr>\n",
       "      <th>Belgium</th>\n",
       "      <td>0</td>\n",
       "      <td>0</td>\n",
       "      <td>0</td>\n",
       "      <td>0</td>\n",
       "      <td>0</td>\n",
       "      <td>0</td>\n",
       "      <td>1</td>\n",
       "      <td>1</td>\n",
       "      <td>1</td>\n",
       "      <td>1</td>\n",
       "      <td>2</td>\n",
       "      <td>2</td>\n",
       "      <td>2</td>\n",
       "      <td>2</td>\n",
       "      <td>2</td>\n",
       "      <td>2</td>\n",
       "      <td>2</td>\n",
       "      <td>2</td>\n",
       "      <td>2</td>\n",
       "      <td>2</td>\n",
       "    </tr>\n",
       "    <tr>\n",
       "      <th>Denmark</th>\n",
       "      <td>1</td>\n",
       "      <td>1</td>\n",
       "      <td>1</td>\n",
       "      <td>1</td>\n",
       "      <td>2</td>\n",
       "      <td>2</td>\n",
       "      <td>2</td>\n",
       "      <td>2</td>\n",
       "      <td>2</td>\n",
       "      <td>2</td>\n",
       "      <td>2</td>\n",
       "      <td>2</td>\n",
       "      <td>2</td>\n",
       "      <td>2</td>\n",
       "      <td>2</td>\n",
       "      <td>2</td>\n",
       "      <td>2</td>\n",
       "      <td>2</td>\n",
       "      <td>2</td>\n",
       "      <td>2</td>\n",
       "    </tr>\n",
       "    <tr>\n",
       "      <th>Singapore</th>\n",
       "      <td>0</td>\n",
       "      <td>0</td>\n",
       "      <td>0</td>\n",
       "      <td>0</td>\n",
       "      <td>0</td>\n",
       "      <td>0</td>\n",
       "      <td>0</td>\n",
       "      <td>0</td>\n",
       "      <td>0</td>\n",
       "      <td>0</td>\n",
       "      <td>0</td>\n",
       "      <td>0</td>\n",
       "      <td>1</td>\n",
       "      <td>1</td>\n",
       "      <td>2</td>\n",
       "      <td>2</td>\n",
       "      <td>2</td>\n",
       "      <td>2</td>\n",
       "      <td>2</td>\n",
       "      <td>2</td>\n",
       "    </tr>\n",
       "    <tr>\n",
       "      <th>Norway</th>\n",
       "      <td>1</td>\n",
       "      <td>1</td>\n",
       "      <td>1</td>\n",
       "      <td>1</td>\n",
       "      <td>1</td>\n",
       "      <td>1</td>\n",
       "      <td>1</td>\n",
       "      <td>1</td>\n",
       "      <td>1</td>\n",
       "      <td>1</td>\n",
       "      <td>1</td>\n",
       "      <td>1</td>\n",
       "      <td>1</td>\n",
       "      <td>1</td>\n",
       "      <td>1</td>\n",
       "      <td>1</td>\n",
       "      <td>1</td>\n",
       "      <td>1</td>\n",
       "      <td>1</td>\n",
       "      <td>1</td>\n",
       "    </tr>\n",
       "    <tr>\n",
       "      <th>Hong Kong</th>\n",
       "      <td>0</td>\n",
       "      <td>0</td>\n",
       "      <td>0</td>\n",
       "      <td>0</td>\n",
       "      <td>0</td>\n",
       "      <td>0</td>\n",
       "      <td>0</td>\n",
       "      <td>0</td>\n",
       "      <td>0</td>\n",
       "      <td>0</td>\n",
       "      <td>0</td>\n",
       "      <td>0</td>\n",
       "      <td>0</td>\n",
       "      <td>0</td>\n",
       "      <td>0</td>\n",
       "      <td>0</td>\n",
       "      <td>0</td>\n",
       "      <td>0</td>\n",
       "      <td>1</td>\n",
       "      <td>1</td>\n",
       "    </tr>\n",
       "    <tr>\n",
       "      <th>Korea, Republic of</th>\n",
       "      <td>0</td>\n",
       "      <td>0</td>\n",
       "      <td>0</td>\n",
       "      <td>0</td>\n",
       "      <td>0</td>\n",
       "      <td>0</td>\n",
       "      <td>0</td>\n",
       "      <td>0</td>\n",
       "      <td>0</td>\n",
       "      <td>0</td>\n",
       "      <td>0</td>\n",
       "      <td>0</td>\n",
       "      <td>0</td>\n",
       "      <td>0</td>\n",
       "      <td>0</td>\n",
       "      <td>0</td>\n",
       "      <td>0</td>\n",
       "      <td>0</td>\n",
       "      <td>1</td>\n",
       "      <td>1</td>\n",
       "    </tr>\n",
       "    <tr>\n",
       "      <th>Austria</th>\n",
       "      <td>1</td>\n",
       "      <td>1</td>\n",
       "      <td>0</td>\n",
       "      <td>0</td>\n",
       "      <td>0</td>\n",
       "      <td>0</td>\n",
       "      <td>0</td>\n",
       "      <td>0</td>\n",
       "      <td>0</td>\n",
       "      <td>0</td>\n",
       "      <td>0</td>\n",
       "      <td>0</td>\n",
       "      <td>0</td>\n",
       "      <td>0</td>\n",
       "      <td>0</td>\n",
       "      <td>0</td>\n",
       "      <td>0</td>\n",
       "      <td>0</td>\n",
       "      <td>0</td>\n",
       "      <td>0</td>\n",
       "    </tr>\n",
       "    <tr>\n",
       "      <th>Finland</th>\n",
       "      <td>1</td>\n",
       "      <td>1</td>\n",
       "      <td>1</td>\n",
       "      <td>1</td>\n",
       "      <td>1</td>\n",
       "      <td>1</td>\n",
       "      <td>1</td>\n",
       "      <td>1</td>\n",
       "      <td>1</td>\n",
       "      <td>1</td>\n",
       "      <td>1</td>\n",
       "      <td>1</td>\n",
       "      <td>1</td>\n",
       "      <td>1</td>\n",
       "      <td>1</td>\n",
       "      <td>1</td>\n",
       "      <td>1</td>\n",
       "      <td>1</td>\n",
       "      <td>1</td>\n",
       "      <td>0</td>\n",
       "    </tr>\n",
       "    <tr>\n",
       "      <th>Italy</th>\n",
       "      <td>1</td>\n",
       "      <td>1</td>\n",
       "      <td>0</td>\n",
       "      <td>0</td>\n",
       "      <td>0</td>\n",
       "      <td>0</td>\n",
       "      <td>0</td>\n",
       "      <td>0</td>\n",
       "      <td>0</td>\n",
       "      <td>0</td>\n",
       "      <td>0</td>\n",
       "      <td>0</td>\n",
       "      <td>0</td>\n",
       "      <td>0</td>\n",
       "      <td>0</td>\n",
       "      <td>0</td>\n",
       "      <td>0</td>\n",
       "      <td>0</td>\n",
       "      <td>0</td>\n",
       "      <td>0</td>\n",
       "    </tr>\n",
       "    <tr>\n",
       "      <th>Russian Federation</th>\n",
       "      <td>1</td>\n",
       "      <td>1</td>\n",
       "      <td>1</td>\n",
       "      <td>1</td>\n",
       "      <td>1</td>\n",
       "      <td>1</td>\n",
       "      <td>1</td>\n",
       "      <td>1</td>\n",
       "      <td>1</td>\n",
       "      <td>1</td>\n",
       "      <td>1</td>\n",
       "      <td>1</td>\n",
       "      <td>1</td>\n",
       "      <td>1</td>\n",
       "      <td>1</td>\n",
       "      <td>1</td>\n",
       "      <td>1</td>\n",
       "      <td>1</td>\n",
       "      <td>0</td>\n",
       "      <td>0</td>\n",
       "    </tr>\n",
       "  </tbody>\n",
       "</table>\n",
       "</div>"
      ],
      "text/plain": [
       "                    2004  2005  2006  2007  2008  2009  2010  2011  2012  \\\n",
       "United States         51    53    54    54    54    55    54    53    53   \n",
       "China                  0     0     0     0     0     0     0     0     0   \n",
       "United Kingdom        11    11    11    11    11    11    11    10     9   \n",
       "Australia              2     2     2     2     3     3     3     4     5   \n",
       "Canada                 4     4     4     4     4     4     4     4     4   \n",
       "Switzerland            3     3     3     3     3     3     3     4     4   \n",
       "Germany                7     5     5     6     6     5     5     5     4   \n",
       "France                 4     4     4     3     3     3     3     3     3   \n",
       "Israel                 1     1     1     1     1     1     1     1     3   \n",
       "Netherlands            2     2     2     2     2     2     2     2     2   \n",
       "Sweden                 4     4     4     4     4     3     3     3     3   \n",
       "Japan                  5     5     6     6     4     5     5     5     4   \n",
       "Belgium                0     0     0     0     0     0     1     1     1   \n",
       "Denmark                1     1     1     1     2     2     2     2     2   \n",
       "Singapore              0     0     0     0     0     0     0     0     0   \n",
       "Norway                 1     1     1     1     1     1     1     1     1   \n",
       "Hong Kong              0     0     0     0     0     0     0     0     0   \n",
       "Korea, Republic of     0     0     0     0     0     0     0     0     0   \n",
       "Austria                1     1     0     0     0     0     0     0     0   \n",
       "Finland                1     1     1     1     1     1     1     1     1   \n",
       "Italy                  1     1     0     0     0     0     0     0     0   \n",
       "Russian Federation     1     1     1     1     1     1     1     1     1   \n",
       "\n",
       "                    2013  2014  2015  2016  2017  2018  2019  2020  2021  \\\n",
       "United States         52    52    51    50    48    46    45    41    40   \n",
       "China                  0     0     0     2     2     3     4     6     7   \n",
       "United Kingdom         9     8     9     8     9     8     8     8     8   \n",
       "Australia              5     4     4     6     6     6     7     7     7   \n",
       "Canada                 4     4     4     4     4     4     4     4     4   \n",
       "Switzerland            4     5     4     4     5     5     5     5     5   \n",
       "Germany                4     4     4     3     4     4     4     4     4   \n",
       "France                 4     4     4     3     3     3     3     5     4   \n",
       "Israel                 3     2     2     2     1     2     1     1     3   \n",
       "Netherlands            3     4     4     3     4     4     4     4     3   \n",
       "Sweden                 3     3     3     3     3     3     3     3     3   \n",
       "Japan                  3     3     4     4     3     3     3     3     3   \n",
       "Belgium                1     2     2     2     2     2     2     2     2   \n",
       "Denmark                2     2     2     2     2     2     2     2     2   \n",
       "Singapore              0     0     0     1     1     2     2     2     2   \n",
       "Norway                 1     1     1     1     1     1     1     1     1   \n",
       "Hong Kong              0     0     0     0     0     0     0     0     0   \n",
       "Korea, Republic of     0     0     0     0     0     0     0     0     0   \n",
       "Austria                0     0     0     0     0     0     0     0     0   \n",
       "Finland                1     1     1     1     1     1     1     1     1   \n",
       "Italy                  0     0     0     0     0     0     0     0     0   \n",
       "Russian Federation     1     1     1     1     1     1     1     1     1   \n",
       "\n",
       "                    2022  2023  \n",
       "United States         39    38  \n",
       "China                  8    10  \n",
       "United Kingdom         8     8  \n",
       "Australia              7     6  \n",
       "Canada                 5     5  \n",
       "Switzerland            4     5  \n",
       "Germany                4     4  \n",
       "France                 4     4  \n",
       "Israel                 3     3  \n",
       "Netherlands            3     3  \n",
       "Sweden                 3     3  \n",
       "Japan                  2     2  \n",
       "Belgium                2     2  \n",
       "Denmark                2     2  \n",
       "Singapore              2     2  \n",
       "Norway                 1     1  \n",
       "Hong Kong              1     1  \n",
       "Korea, Republic of     1     1  \n",
       "Austria                0     0  \n",
       "Finland                1     0  \n",
       "Italy                  0     0  \n",
       "Russian Federation     0     0  "
      ]
     },
     "execution_count": 39,
     "metadata": {},
     "output_type": "execute_result"
    }
   ],
   "source": [
    "#Número de universidades de cada país no top 100 do ranking de cada ano\n",
    "\n",
    "paises_aparicoes_top_100=top_100_location.apply(pd.Series.value_counts)\n",
    "paises_aparicoes_top_100.fillna(value=0,inplace=True)\n",
    "paises_aparicoes_top_100.sort_values(by='2023',ascending=False,inplace=True)\n",
    "paises_aparicoes_top_100=paises_aparicoes_top_100.astype('int',copy=True)\n",
    "paises_aparicoes_top_100"
   ]
  },
  {
   "cell_type": "code",
   "execution_count": 40,
   "metadata": {},
   "outputs": [
    {
     "data": {
      "text/plain": [
       "2004    17\n",
       "2005    17\n",
       "2006    15\n",
       "2007    15\n",
       "2008    15\n",
       "2009    15\n",
       "2010    16\n",
       "2011    16\n",
       "2012    16\n",
       "2013    16\n",
       "2014    16\n",
       "2015    16\n",
       "2016    18\n",
       "2017    18\n",
       "2018    18\n",
       "2019    18\n",
       "2020    18\n",
       "2021    18\n",
       "2022    19\n",
       "2023    18\n",
       "dtype: int64"
      ]
     },
     "execution_count": 40,
     "metadata": {},
     "output_type": "execute_result"
    }
   ],
   "source": [
    "#número de países diferentes com universidades no top 100 para cada ano\n",
    "\n",
    "(paises_aparicoes_top_100>0).sum(axis=0)"
   ]
  },
  {
   "cell_type": "code",
   "execution_count": 41,
   "metadata": {},
   "outputs": [
    {
     "data": {
      "text/html": [
       "<div>\n",
       "<style scoped>\n",
       "    .dataframe tbody tr th:only-of-type {\n",
       "        vertical-align: middle;\n",
       "    }\n",
       "\n",
       "    .dataframe tbody tr th {\n",
       "        vertical-align: top;\n",
       "    }\n",
       "\n",
       "    .dataframe thead th {\n",
       "        text-align: right;\n",
       "    }\n",
       "</style>\n",
       "<table border=\"1\" class=\"dataframe\">\n",
       "  <thead>\n",
       "    <tr style=\"text-align: right;\">\n",
       "      <th></th>\n",
       "      <th>Número de universidades no top 100</th>\n",
       "      <th>Codigo paises</th>\n",
       "    </tr>\n",
       "  </thead>\n",
       "  <tbody>\n",
       "    <tr>\n",
       "      <th>United States</th>\n",
       "      <td>38</td>\n",
       "      <td>USA</td>\n",
       "    </tr>\n",
       "    <tr>\n",
       "      <th>China</th>\n",
       "      <td>10</td>\n",
       "      <td>CHN</td>\n",
       "    </tr>\n",
       "    <tr>\n",
       "      <th>United Kingdom</th>\n",
       "      <td>8</td>\n",
       "      <td>GBR</td>\n",
       "    </tr>\n",
       "    <tr>\n",
       "      <th>Australia</th>\n",
       "      <td>6</td>\n",
       "      <td>AUS</td>\n",
       "    </tr>\n",
       "    <tr>\n",
       "      <th>Canada</th>\n",
       "      <td>5</td>\n",
       "      <td>CAN</td>\n",
       "    </tr>\n",
       "    <tr>\n",
       "      <th>Switzerland</th>\n",
       "      <td>5</td>\n",
       "      <td>CHE</td>\n",
       "    </tr>\n",
       "    <tr>\n",
       "      <th>Germany</th>\n",
       "      <td>4</td>\n",
       "      <td>DEU</td>\n",
       "    </tr>\n",
       "    <tr>\n",
       "      <th>France</th>\n",
       "      <td>4</td>\n",
       "      <td>FRA</td>\n",
       "    </tr>\n",
       "    <tr>\n",
       "      <th>Israel</th>\n",
       "      <td>3</td>\n",
       "      <td>ISR</td>\n",
       "    </tr>\n",
       "    <tr>\n",
       "      <th>Netherlands</th>\n",
       "      <td>3</td>\n",
       "      <td>NLD</td>\n",
       "    </tr>\n",
       "    <tr>\n",
       "      <th>Sweden</th>\n",
       "      <td>3</td>\n",
       "      <td>SWE</td>\n",
       "    </tr>\n",
       "    <tr>\n",
       "      <th>Japan</th>\n",
       "      <td>2</td>\n",
       "      <td>JPN</td>\n",
       "    </tr>\n",
       "    <tr>\n",
       "      <th>Belgium</th>\n",
       "      <td>2</td>\n",
       "      <td>BEL</td>\n",
       "    </tr>\n",
       "    <tr>\n",
       "      <th>Denmark</th>\n",
       "      <td>2</td>\n",
       "      <td>DNK</td>\n",
       "    </tr>\n",
       "    <tr>\n",
       "      <th>Singapore</th>\n",
       "      <td>2</td>\n",
       "      <td>SGP</td>\n",
       "    </tr>\n",
       "    <tr>\n",
       "      <th>Norway</th>\n",
       "      <td>1</td>\n",
       "      <td>NOR</td>\n",
       "    </tr>\n",
       "    <tr>\n",
       "      <th>Hong Kong</th>\n",
       "      <td>1</td>\n",
       "      <td>HKG</td>\n",
       "    </tr>\n",
       "    <tr>\n",
       "      <th>Korea, Republic of</th>\n",
       "      <td>1</td>\n",
       "      <td>KOR</td>\n",
       "    </tr>\n",
       "    <tr>\n",
       "      <th>Austria</th>\n",
       "      <td>0</td>\n",
       "      <td>AUT</td>\n",
       "    </tr>\n",
       "    <tr>\n",
       "      <th>Finland</th>\n",
       "      <td>0</td>\n",
       "      <td>FIN</td>\n",
       "    </tr>\n",
       "    <tr>\n",
       "      <th>Italy</th>\n",
       "      <td>0</td>\n",
       "      <td>ITA</td>\n",
       "    </tr>\n",
       "    <tr>\n",
       "      <th>Russian Federation</th>\n",
       "      <td>0</td>\n",
       "      <td>RUS</td>\n",
       "    </tr>\n",
       "  </tbody>\n",
       "</table>\n",
       "</div>"
      ],
      "text/plain": [
       "                    Número de universidades no top 100 Codigo paises\n",
       "United States                                       38           USA\n",
       "China                                               10           CHN\n",
       "United Kingdom                                       8           GBR\n",
       "Australia                                            6           AUS\n",
       "Canada                                               5           CAN\n",
       "Switzerland                                          5           CHE\n",
       "Germany                                              4           DEU\n",
       "France                                               4           FRA\n",
       "Israel                                               3           ISR\n",
       "Netherlands                                          3           NLD\n",
       "Sweden                                               3           SWE\n",
       "Japan                                                2           JPN\n",
       "Belgium                                              2           BEL\n",
       "Denmark                                              2           DNK\n",
       "Singapore                                            2           SGP\n",
       "Norway                                               1           NOR\n",
       "Hong Kong                                            1           HKG\n",
       "Korea, Republic of                                   1           KOR\n",
       "Austria                                              0           AUT\n",
       "Finland                                              0           FIN\n",
       "Italy                                                0           ITA\n",
       "Russian Federation                                   0           RUS"
      ]
     },
     "execution_count": 41,
     "metadata": {},
     "output_type": "execute_result"
    }
   ],
   "source": [
    "#Plotar mapa mundi com os países coloridos de acordo com o número de universidades no top 100  \n",
    "\n",
    "ano_selecionado='2023'\n",
    "paises_top_100_ano_selecionado=paises_aparicoes_top_100.loc[:,[ano_selecionado]] #numero de aparições de universidade de cada pais no top 100 no último ranking publicado (2023)\n",
    "#Criar coluna com código dos países para possibilitar a plotagem em mapa\n",
    "codigos=[]\n",
    "for nome_pais in paises_top_100_ano_selecionado.index:\n",
    "    try:\n",
    "        codigos.append(pycountry.countries.get(name=nome_pais).alpha_3)\n",
    "    except:\n",
    "        codigos.append(None)\n",
    "paises_top_100_ano_selecionado['Codigo paises']=codigos\n",
    "paises_top_100_ano_selecionado.rename(columns={ano_selecionado:\"Número de universidades no top 100\"},inplace =True)\n",
    "#paises_top_100_2024.loc['South Korea','Codigo paises']='KOR'\n",
    "#paises_top_100_2024\n",
    "paises_top_100_ano_selecionado"
   ]
  },
  {
   "cell_type": "code",
   "execution_count": 42,
   "metadata": {},
   "outputs": [
    {
     "data": {
      "application/vnd.plotly.v1+json": {
       "config": {
        "plotlyServerURL": "https://plot.ly"
       },
       "data": [
        {
         "coloraxis": "coloraxis",
         "geo": "geo",
         "hovertemplate": "<b>%{hovertext}</b><br><br>Codigo paises=%{location}<br>Número de universidades no top 100=%{z}<extra></extra>",
         "hovertext": [
          "United States",
          "China",
          "United Kingdom",
          "Australia",
          "Canada",
          "Switzerland",
          "Germany",
          "France",
          "Israel",
          "Netherlands",
          "Sweden",
          "Japan",
          "Belgium",
          "Denmark",
          "Singapore",
          "Norway",
          "Hong Kong",
          "Korea, Republic of",
          "Austria",
          "Finland",
          "Italy",
          "Russian Federation"
         ],
         "locations": [
          "USA",
          "CHN",
          "GBR",
          "AUS",
          "CAN",
          "CHE",
          "DEU",
          "FRA",
          "ISR",
          "NLD",
          "SWE",
          "JPN",
          "BEL",
          "DNK",
          "SGP",
          "NOR",
          "HKG",
          "KOR",
          "AUT",
          "FIN",
          "ITA",
          "RUS"
         ],
         "name": "",
         "type": "choropleth",
         "z": [
          38,
          10,
          8,
          6,
          5,
          5,
          4,
          4,
          3,
          3,
          3,
          2,
          2,
          2,
          2,
          1,
          1,
          1,
          0,
          0,
          0,
          0
         ]
        }
       ],
       "layout": {
        "coloraxis": {
         "colorbar": {
          "title": {
           "text": "Número de universidades no top 100"
          },
          "x": 0.7
         },
         "colorscale": [
          [
           0,
           "#0d0887"
          ],
          [
           0.1111111111111111,
           "#46039f"
          ],
          [
           0.2222222222222222,
           "#7201a8"
          ],
          [
           0.3333333333333333,
           "#9c179e"
          ],
          [
           0.4444444444444444,
           "#bd3786"
          ],
          [
           0.5555555555555556,
           "#d8576b"
          ],
          [
           0.6666666666666666,
           "#ed7953"
          ],
          [
           0.7777777777777778,
           "#fb9f3a"
          ],
          [
           0.8888888888888888,
           "#fdca26"
          ],
          [
           1,
           "#f0f921"
          ]
         ]
        },
        "geo": {
         "center": {},
         "domain": {
          "x": [
           0,
           1
          ],
          "y": [
           0,
           1
          ]
         },
         "projection": {
          "type": "natural earth"
         }
        },
        "legend": {
         "tracegroupgap": 0
        },
        "margin": {
         "b": 0,
         "l": 0,
         "r": 0,
         "t": 40
        },
        "template": {
         "data": {
          "bar": [
           {
            "error_x": {
             "color": "#2a3f5f"
            },
            "error_y": {
             "color": "#2a3f5f"
            },
            "marker": {
             "line": {
              "color": "#E5ECF6",
              "width": 0.5
             },
             "pattern": {
              "fillmode": "overlay",
              "size": 10,
              "solidity": 0.2
             }
            },
            "type": "bar"
           }
          ],
          "barpolar": [
           {
            "marker": {
             "line": {
              "color": "#E5ECF6",
              "width": 0.5
             },
             "pattern": {
              "fillmode": "overlay",
              "size": 10,
              "solidity": 0.2
             }
            },
            "type": "barpolar"
           }
          ],
          "carpet": [
           {
            "aaxis": {
             "endlinecolor": "#2a3f5f",
             "gridcolor": "white",
             "linecolor": "white",
             "minorgridcolor": "white",
             "startlinecolor": "#2a3f5f"
            },
            "baxis": {
             "endlinecolor": "#2a3f5f",
             "gridcolor": "white",
             "linecolor": "white",
             "minorgridcolor": "white",
             "startlinecolor": "#2a3f5f"
            },
            "type": "carpet"
           }
          ],
          "choropleth": [
           {
            "colorbar": {
             "outlinewidth": 0,
             "ticks": ""
            },
            "type": "choropleth"
           }
          ],
          "contour": [
           {
            "colorbar": {
             "outlinewidth": 0,
             "ticks": ""
            },
            "colorscale": [
             [
              0,
              "#0d0887"
             ],
             [
              0.1111111111111111,
              "#46039f"
             ],
             [
              0.2222222222222222,
              "#7201a8"
             ],
             [
              0.3333333333333333,
              "#9c179e"
             ],
             [
              0.4444444444444444,
              "#bd3786"
             ],
             [
              0.5555555555555556,
              "#d8576b"
             ],
             [
              0.6666666666666666,
              "#ed7953"
             ],
             [
              0.7777777777777778,
              "#fb9f3a"
             ],
             [
              0.8888888888888888,
              "#fdca26"
             ],
             [
              1,
              "#f0f921"
             ]
            ],
            "type": "contour"
           }
          ],
          "contourcarpet": [
           {
            "colorbar": {
             "outlinewidth": 0,
             "ticks": ""
            },
            "type": "contourcarpet"
           }
          ],
          "heatmap": [
           {
            "colorbar": {
             "outlinewidth": 0,
             "ticks": ""
            },
            "colorscale": [
             [
              0,
              "#0d0887"
             ],
             [
              0.1111111111111111,
              "#46039f"
             ],
             [
              0.2222222222222222,
              "#7201a8"
             ],
             [
              0.3333333333333333,
              "#9c179e"
             ],
             [
              0.4444444444444444,
              "#bd3786"
             ],
             [
              0.5555555555555556,
              "#d8576b"
             ],
             [
              0.6666666666666666,
              "#ed7953"
             ],
             [
              0.7777777777777778,
              "#fb9f3a"
             ],
             [
              0.8888888888888888,
              "#fdca26"
             ],
             [
              1,
              "#f0f921"
             ]
            ],
            "type": "heatmap"
           }
          ],
          "heatmapgl": [
           {
            "colorbar": {
             "outlinewidth": 0,
             "ticks": ""
            },
            "colorscale": [
             [
              0,
              "#0d0887"
             ],
             [
              0.1111111111111111,
              "#46039f"
             ],
             [
              0.2222222222222222,
              "#7201a8"
             ],
             [
              0.3333333333333333,
              "#9c179e"
             ],
             [
              0.4444444444444444,
              "#bd3786"
             ],
             [
              0.5555555555555556,
              "#d8576b"
             ],
             [
              0.6666666666666666,
              "#ed7953"
             ],
             [
              0.7777777777777778,
              "#fb9f3a"
             ],
             [
              0.8888888888888888,
              "#fdca26"
             ],
             [
              1,
              "#f0f921"
             ]
            ],
            "type": "heatmapgl"
           }
          ],
          "histogram": [
           {
            "marker": {
             "pattern": {
              "fillmode": "overlay",
              "size": 10,
              "solidity": 0.2
             }
            },
            "type": "histogram"
           }
          ],
          "histogram2d": [
           {
            "colorbar": {
             "outlinewidth": 0,
             "ticks": ""
            },
            "colorscale": [
             [
              0,
              "#0d0887"
             ],
             [
              0.1111111111111111,
              "#46039f"
             ],
             [
              0.2222222222222222,
              "#7201a8"
             ],
             [
              0.3333333333333333,
              "#9c179e"
             ],
             [
              0.4444444444444444,
              "#bd3786"
             ],
             [
              0.5555555555555556,
              "#d8576b"
             ],
             [
              0.6666666666666666,
              "#ed7953"
             ],
             [
              0.7777777777777778,
              "#fb9f3a"
             ],
             [
              0.8888888888888888,
              "#fdca26"
             ],
             [
              1,
              "#f0f921"
             ]
            ],
            "type": "histogram2d"
           }
          ],
          "histogram2dcontour": [
           {
            "colorbar": {
             "outlinewidth": 0,
             "ticks": ""
            },
            "colorscale": [
             [
              0,
              "#0d0887"
             ],
             [
              0.1111111111111111,
              "#46039f"
             ],
             [
              0.2222222222222222,
              "#7201a8"
             ],
             [
              0.3333333333333333,
              "#9c179e"
             ],
             [
              0.4444444444444444,
              "#bd3786"
             ],
             [
              0.5555555555555556,
              "#d8576b"
             ],
             [
              0.6666666666666666,
              "#ed7953"
             ],
             [
              0.7777777777777778,
              "#fb9f3a"
             ],
             [
              0.8888888888888888,
              "#fdca26"
             ],
             [
              1,
              "#f0f921"
             ]
            ],
            "type": "histogram2dcontour"
           }
          ],
          "mesh3d": [
           {
            "colorbar": {
             "outlinewidth": 0,
             "ticks": ""
            },
            "type": "mesh3d"
           }
          ],
          "parcoords": [
           {
            "line": {
             "colorbar": {
              "outlinewidth": 0,
              "ticks": ""
             }
            },
            "type": "parcoords"
           }
          ],
          "pie": [
           {
            "automargin": true,
            "type": "pie"
           }
          ],
          "scatter": [
           {
            "fillpattern": {
             "fillmode": "overlay",
             "size": 10,
             "solidity": 0.2
            },
            "type": "scatter"
           }
          ],
          "scatter3d": [
           {
            "line": {
             "colorbar": {
              "outlinewidth": 0,
              "ticks": ""
             }
            },
            "marker": {
             "colorbar": {
              "outlinewidth": 0,
              "ticks": ""
             }
            },
            "type": "scatter3d"
           }
          ],
          "scattercarpet": [
           {
            "marker": {
             "colorbar": {
              "outlinewidth": 0,
              "ticks": ""
             }
            },
            "type": "scattercarpet"
           }
          ],
          "scattergeo": [
           {
            "marker": {
             "colorbar": {
              "outlinewidth": 0,
              "ticks": ""
             }
            },
            "type": "scattergeo"
           }
          ],
          "scattergl": [
           {
            "marker": {
             "colorbar": {
              "outlinewidth": 0,
              "ticks": ""
             }
            },
            "type": "scattergl"
           }
          ],
          "scattermapbox": [
           {
            "marker": {
             "colorbar": {
              "outlinewidth": 0,
              "ticks": ""
             }
            },
            "type": "scattermapbox"
           }
          ],
          "scatterpolar": [
           {
            "marker": {
             "colorbar": {
              "outlinewidth": 0,
              "ticks": ""
             }
            },
            "type": "scatterpolar"
           }
          ],
          "scatterpolargl": [
           {
            "marker": {
             "colorbar": {
              "outlinewidth": 0,
              "ticks": ""
             }
            },
            "type": "scatterpolargl"
           }
          ],
          "scatterternary": [
           {
            "marker": {
             "colorbar": {
              "outlinewidth": 0,
              "ticks": ""
             }
            },
            "type": "scatterternary"
           }
          ],
          "surface": [
           {
            "colorbar": {
             "outlinewidth": 0,
             "ticks": ""
            },
            "colorscale": [
             [
              0,
              "#0d0887"
             ],
             [
              0.1111111111111111,
              "#46039f"
             ],
             [
              0.2222222222222222,
              "#7201a8"
             ],
             [
              0.3333333333333333,
              "#9c179e"
             ],
             [
              0.4444444444444444,
              "#bd3786"
             ],
             [
              0.5555555555555556,
              "#d8576b"
             ],
             [
              0.6666666666666666,
              "#ed7953"
             ],
             [
              0.7777777777777778,
              "#fb9f3a"
             ],
             [
              0.8888888888888888,
              "#fdca26"
             ],
             [
              1,
              "#f0f921"
             ]
            ],
            "type": "surface"
           }
          ],
          "table": [
           {
            "cells": {
             "fill": {
              "color": "#EBF0F8"
             },
             "line": {
              "color": "white"
             }
            },
            "header": {
             "fill": {
              "color": "#C8D4E3"
             },
             "line": {
              "color": "white"
             }
            },
            "type": "table"
           }
          ]
         },
         "layout": {
          "annotationdefaults": {
           "arrowcolor": "#2a3f5f",
           "arrowhead": 0,
           "arrowwidth": 1
          },
          "autotypenumbers": "strict",
          "coloraxis": {
           "colorbar": {
            "outlinewidth": 0,
            "ticks": ""
           }
          },
          "colorscale": {
           "diverging": [
            [
             0,
             "#8e0152"
            ],
            [
             0.1,
             "#c51b7d"
            ],
            [
             0.2,
             "#de77ae"
            ],
            [
             0.3,
             "#f1b6da"
            ],
            [
             0.4,
             "#fde0ef"
            ],
            [
             0.5,
             "#f7f7f7"
            ],
            [
             0.6,
             "#e6f5d0"
            ],
            [
             0.7,
             "#b8e186"
            ],
            [
             0.8,
             "#7fbc41"
            ],
            [
             0.9,
             "#4d9221"
            ],
            [
             1,
             "#276419"
            ]
           ],
           "sequential": [
            [
             0,
             "#0d0887"
            ],
            [
             0.1111111111111111,
             "#46039f"
            ],
            [
             0.2222222222222222,
             "#7201a8"
            ],
            [
             0.3333333333333333,
             "#9c179e"
            ],
            [
             0.4444444444444444,
             "#bd3786"
            ],
            [
             0.5555555555555556,
             "#d8576b"
            ],
            [
             0.6666666666666666,
             "#ed7953"
            ],
            [
             0.7777777777777778,
             "#fb9f3a"
            ],
            [
             0.8888888888888888,
             "#fdca26"
            ],
            [
             1,
             "#f0f921"
            ]
           ],
           "sequentialminus": [
            [
             0,
             "#0d0887"
            ],
            [
             0.1111111111111111,
             "#46039f"
            ],
            [
             0.2222222222222222,
             "#7201a8"
            ],
            [
             0.3333333333333333,
             "#9c179e"
            ],
            [
             0.4444444444444444,
             "#bd3786"
            ],
            [
             0.5555555555555556,
             "#d8576b"
            ],
            [
             0.6666666666666666,
             "#ed7953"
            ],
            [
             0.7777777777777778,
             "#fb9f3a"
            ],
            [
             0.8888888888888888,
             "#fdca26"
            ],
            [
             1,
             "#f0f921"
            ]
           ]
          },
          "colorway": [
           "#636efa",
           "#EF553B",
           "#00cc96",
           "#ab63fa",
           "#FFA15A",
           "#19d3f3",
           "#FF6692",
           "#B6E880",
           "#FF97FF",
           "#FECB52"
          ],
          "font": {
           "color": "#2a3f5f"
          },
          "geo": {
           "bgcolor": "white",
           "lakecolor": "white",
           "landcolor": "#E5ECF6",
           "showlakes": true,
           "showland": true,
           "subunitcolor": "white"
          },
          "hoverlabel": {
           "align": "left"
          },
          "hovermode": "closest",
          "mapbox": {
           "style": "light"
          },
          "paper_bgcolor": "white",
          "plot_bgcolor": "#E5ECF6",
          "polar": {
           "angularaxis": {
            "gridcolor": "white",
            "linecolor": "white",
            "ticks": ""
           },
           "bgcolor": "#E5ECF6",
           "radialaxis": {
            "gridcolor": "white",
            "linecolor": "white",
            "ticks": ""
           }
          },
          "scene": {
           "xaxis": {
            "backgroundcolor": "#E5ECF6",
            "gridcolor": "white",
            "gridwidth": 2,
            "linecolor": "white",
            "showbackground": true,
            "ticks": "",
            "zerolinecolor": "white"
           },
           "yaxis": {
            "backgroundcolor": "#E5ECF6",
            "gridcolor": "white",
            "gridwidth": 2,
            "linecolor": "white",
            "showbackground": true,
            "ticks": "",
            "zerolinecolor": "white"
           },
           "zaxis": {
            "backgroundcolor": "#E5ECF6",
            "gridcolor": "white",
            "gridwidth": 2,
            "linecolor": "white",
            "showbackground": true,
            "ticks": "",
            "zerolinecolor": "white"
           }
          },
          "shapedefaults": {
           "line": {
            "color": "#2a3f5f"
           }
          },
          "ternary": {
           "aaxis": {
            "gridcolor": "white",
            "linecolor": "white",
            "ticks": ""
           },
           "baxis": {
            "gridcolor": "white",
            "linecolor": "white",
            "ticks": ""
           },
           "bgcolor": "#E5ECF6",
           "caxis": {
            "gridcolor": "white",
            "linecolor": "white",
            "ticks": ""
           }
          },
          "title": {
           "x": 0.05
          },
          "xaxis": {
           "automargin": true,
           "gridcolor": "white",
           "linecolor": "white",
           "ticks": "",
           "title": {
            "standoff": 15
           },
           "zerolinecolor": "white",
           "zerolinewidth": 2
          },
          "yaxis": {
           "automargin": true,
           "gridcolor": "white",
           "linecolor": "white",
           "ticks": "",
           "title": {
            "standoff": 15
           },
           "zerolinecolor": "white",
           "zerolinewidth": 2
          }
         }
        },
        "title": {
         "text": "Número de universidades por país no top 100 no ranking de 2023",
         "x": 0.45,
         "xanchor": "center"
        }
       }
      }
     },
     "metadata": {},
     "output_type": "display_data"
    }
   ],
   "source": [
    "#Plotagem dos paises com maiores número de universidade no top 100 no ano de 2024\n",
    "\n",
    "fig = px.choropleth(paises_top_100_ano_selecionado, locations='Codigo paises', color='Número de universidades no top 100',hover_name=paises_top_100_ano_selecionado.index.to_list(),\n",
    "            projection='natural earth')\n",
    "title='Número de universidades por país no top 100 no ranking de '+ano_selecionado  #titulo do grafico\n",
    "fig.update_layout(margin={\"r\":0,\"t\":40,\"l\":0,\"b\":0},title={'text':title,'x':0.45,'xanchor':'center'},coloraxis_colorbar_x=0.70) #configuraçoes das margens do mapa, do titulo do gráfico e da posição do colorbar\n",
    "\n",
    "fig.show()"
   ]
  },
  {
   "cell_type": "markdown",
   "metadata": {},
   "source": [
    "### Análise dos Fatores Considerados para Construção dos Rankings"
   ]
  },
  {
   "cell_type": "code",
   "execution_count": 43,
   "metadata": {},
   "outputs": [
    {
     "data": {
      "text/plain": [
       "Index(['World Rank', 'Institution', 'Country', 'Regional Rank', 'Total Score',\n",
       "       'Alumni', 'Award', 'HiCi', 'N&S', 'PUB', 'PCP', 'Year',\n",
       "       'Country_Names'],\n",
       "      dtype='object')"
      ]
     },
     "execution_count": 43,
     "metadata": {},
     "output_type": "execute_result"
    }
   ],
   "source": [
    "df_dados.columns"
   ]
  },
  {
   "cell_type": "code",
   "execution_count": 44,
   "metadata": {},
   "outputs": [
    {
     "name": "stdout",
     "output_type": "stream",
     "text": [
      "<class 'pandas.core.frame.DataFrame'>\n",
      "RangeIndex: 13316 entries, 0 to 13315\n",
      "Data columns (total 13 columns):\n",
      " #   Column         Non-Null Count  Dtype  \n",
      "---  ------         --------------  -----  \n",
      " 0   World Rank     13316 non-null  object \n",
      " 1   Institution    13316 non-null  object \n",
      " 2   Country        13316 non-null  object \n",
      " 3   Regional Rank  13316 non-null  object \n",
      " 4   Total Score    2003 non-null   float64\n",
      " 5   Alumni         13315 non-null  float64\n",
      " 6   Award          13315 non-null  float64\n",
      " 7   HiCi           13315 non-null  float64\n",
      " 8   N&S            13212 non-null  float64\n",
      " 9   PUB            13315 non-null  float64\n",
      " 10  PCP            13315 non-null  float64\n",
      " 11  Year           13316 non-null  object \n",
      " 12  Country_Names  13316 non-null  object \n",
      "dtypes: float64(7), object(6)\n",
      "memory usage: 1.3+ MB\n"
     ]
    }
   ],
   "source": [
    "df_dados.info()"
   ]
  },
  {
   "cell_type": "markdown",
   "metadata": {},
   "source": [
    "#### Correlação"
   ]
  },
  {
   "cell_type": "markdown",
   "metadata": {},
   "source": [
    "Correlação entre 7 fatores:\n",
    "\n",
    "- Total score \n",
    "- Alumni\n",
    "- Award \n",
    "- HiCi \n",
    "- N&S\t\n",
    "- PUB   \n",
    "- PCP\n"
   ]
  },
  {
   "cell_type": "code",
   "execution_count": 45,
   "metadata": {},
   "outputs": [],
   "source": [
    "#ranking para o ano de 2023 - ranking mais recente\n",
    "\n",
    "ranking_2023=dados['2023']"
   ]
  },
  {
   "cell_type": "code",
   "execution_count": 46,
   "metadata": {},
   "outputs": [],
   "source": [
    "#fatores que serão analisados através da correlação \n",
    "\n",
    "fatores_analisados=['Total Score','Alumni','Award','HiCi','N&S','PUB','PCP']"
   ]
  },
  {
   "cell_type": "code",
   "execution_count": 47,
   "metadata": {},
   "outputs": [],
   "source": [
    "#Calcular a correlação entre os fatores considerados\n",
    "\n",
    "correlation=ranking_2023.loc[:,fatores_analisados].corr()"
   ]
  },
  {
   "cell_type": "markdown",
   "metadata": {},
   "source": [
    "Análise da correlação linear da pontuação geral:\n",
    "\n",
    "- Existe uma correlação positiva muito forte com a quantidade de artigos publicados na Nature e na Science (N&S),com a quantidade de professores que já receberam premiações (Awards) e com a quantidade de ex-alunos que já receberam premiações (Alumni). Ou seja, a pontuação de uma instituição está fortemente correlacionada com a qualidade da pesquisa produzida, medida pelo número de publicações nas duas revistas científicas de maior prestígio, pela qualidade da educação fornecida, medido pelo sucesso dos ex-alunos, e pela qualidade dos professores e pesquisadores da instituição, medida pelas premiações ;\n",
    "- Existe uma correlação positiva forte com HiCi e com PCP. O primeiro fator mede a presença de pesquisadores com grande número de citações e o segundo a produtividade da instituição."
   ]
  },
  {
   "cell_type": "markdown",
   "metadata": {},
   "source": [
    "Alguns pontos interessantes verificados no cálculo da correlação linear:\n",
    "\n",
    "- A qualidade da educação, medida pelas premiações obtidas por ex-alunos (Alumni), tem as maiores correlações com Award e N&S, que são fatores relacionados respectivamente a qualidade dos membros (pesquisadores e professores) da instituição, medida pelas premiações recebidas, e a qualidade da pesquisa produzida, medida pelo número de publicações na revistas Science e Nature;\n",
    "\n",
    "- O indicador Award tem correlação positiva forte com a quantidade de artigos publicados na Science e na Nature, mas correlação positiva muito fraca com PUB. Provavelmene os pesquisadores premiados direcionam a publicações de seus trabalhos  para as revistas Science e Nature;\n",
    "- HiCi tem correlação positiva forte com N&S. Artigos na melhores revistas tendem a receber grande quantidade de citações.\n"
   ]
  },
  {
   "cell_type": "code",
   "execution_count": 48,
   "metadata": {},
   "outputs": [
    {
     "data": {
      "text/plain": [
       "<Axes: >"
      ]
     },
     "execution_count": 48,
     "metadata": {},
     "output_type": "execute_result"
    },
    {
     "data": {
      "image/png": "[encoded data removed]",
      "text/plain": [
       "<Figure size 640x480 with 2 Axes>"
      ]
     },
     "metadata": {},
     "output_type": "display_data"
    }
   ],
   "source": [
    "#plotar correlação entre os  fatores considerados usando seaborn\n",
    "\n",
    "import matplotlib.pyplot as plt\n",
    "sns.heatmap(correlation, annot=True,cmap=\"crest\")\n"
   ]
  },
  {
   "cell_type": "code",
   "execution_count": 49,
   "metadata": {},
   "outputs": [
    {
     "data": {
      "application/vnd.plotly.v1+json": {
       "config": {
        "plotlyServerURL": "https://plot.ly"
       },
       "data": [
        {
         "coloraxis": "coloraxis",
         "hovertemplate": "x: %{x}<br>y: %{y}<br>color: %{z}<extra></extra>",
         "name": "0",
         "texttemplate": "%{z}",
         "type": "heatmap",
         "x": [
          "Total Score",
          "Alumni",
          "Award",
          "HiCi",
          "N&S",
          "PUB",
          "PCP"
         ],
         "xaxis": "x",
         "y": [
          "Total Score",
          "Alumni",
          "Award",
          "HiCi",
          "N&S",
          "PUB",
          "PCP"
         ],
         "yaxis": "y",
         "z": [
          [
           1,
           0.8024374021108519,
           0.8180335279914052,
           0.7699563596513292,
           0.9260919026484998,
           0.37241020795532775,
           0.711813882117922
          ],
          [
           0.8024374021108519,
           1,
           0.7786849108421118,
           0.49262199287322317,
           0.7108402352986886,
           0.38877070000784025,
           0.6108456651514785
          ],
          [
           0.8180335279914052,
           0.7786849108421118,
           1,
           0.548816386058773,
           0.7534487464409082,
           0.3813694284987058,
           0.6771452185378491
          ],
          [
           0.7699563596513292,
           0.49262199287322317,
           0.548816386058773,
           1,
           0.7853994717730752,
           0.7143107270509321,
           0.6598934999810874
          ],
          [
           0.9260919026484998,
           0.7108402352986886,
           0.7534487464409082,
           0.7853994717730752,
           1,
           0.6354169789459313,
           0.7361927238027829
          ],
          [
           0.37241020795532775,
           0.38877070000784025,
           0.3813694284987058,
           0.7143107270509321,
           0.6354169789459313,
           1,
           0.4526841274913068
          ],
          [
           0.711813882117922,
           0.6108456651514785,
           0.6771452185378491,
           0.6598934999810874,
           0.7361927238027829,
           0.4526841274913068,
           1
          ]
         ]
        }
       ],
       "layout": {
        "coloraxis": {
         "colorscale": [
          [
           0,
           "rgb(5,48,97)"
          ],
          [
           0.1,
           "rgb(33,102,172)"
          ],
          [
           0.2,
           "rgb(67,147,195)"
          ],
          [
           0.3,
           "rgb(146,197,222)"
          ],
          [
           0.4,
           "rgb(209,229,240)"
          ],
          [
           0.5,
           "rgb(247,247,247)"
          ],
          [
           0.6,
           "rgb(253,219,199)"
          ],
          [
           0.7,
           "rgb(244,165,130)"
          ],
          [
           0.8,
           "rgb(214,96,77)"
          ],
          [
           0.9,
           "rgb(178,24,43)"
          ],
          [
           1,
           "rgb(103,0,31)"
          ]
         ]
        },
        "margin": {
         "t": 60
        },
        "template": {
         "data": {
          "bar": [
           {
            "error_x": {
             "color": "#2a3f5f"
            },
            "error_y": {
             "color": "#2a3f5f"
            },
            "marker": {
             "line": {
              "color": "#E5ECF6",
              "width": 0.5
             },
             "pattern": {
              "fillmode": "overlay",
              "size": 10,
              "solidity": 0.2
             }
            },
            "type": "bar"
           }
          ],
          "barpolar": [
           {
            "marker": {
             "line": {
              "color": "#E5ECF6",
              "width": 0.5
             },
             "pattern": {
              "fillmode": "overlay",
              "size": 10,
              "solidity": 0.2
             }
            },
            "type": "barpolar"
           }
          ],
          "carpet": [
           {
            "aaxis": {
             "endlinecolor": "#2a3f5f",
             "gridcolor": "white",
             "linecolor": "white",
             "minorgridcolor": "white",
             "startlinecolor": "#2a3f5f"
            },
            "baxis": {
             "endlinecolor": "#2a3f5f",
             "gridcolor": "white",
             "linecolor": "white",
             "minorgridcolor": "white",
             "startlinecolor": "#2a3f5f"
            },
            "type": "carpet"
           }
          ],
          "choropleth": [
           {
            "colorbar": {
             "outlinewidth": 0,
             "ticks": ""
            },
            "type": "choropleth"
           }
          ],
          "contour": [
           {
            "colorbar": {
             "outlinewidth": 0,
             "ticks": ""
            },
            "colorscale": [
             [
              0,
              "#0d0887"
             ],
             [
              0.1111111111111111,
              "#46039f"
             ],
             [
              0.2222222222222222,
              "#7201a8"
             ],
             [
              0.3333333333333333,
              "#9c179e"
             ],
             [
              0.4444444444444444,
              "#bd3786"
             ],
             [
              0.5555555555555556,
              "#d8576b"
             ],
             [
              0.6666666666666666,
              "#ed7953"
             ],
             [
              0.7777777777777778,
              "#fb9f3a"
             ],
             [
              0.8888888888888888,
              "#fdca26"
             ],
             [
              1,
              "#f0f921"
             ]
            ],
            "type": "contour"
           }
          ],
          "contourcarpet": [
           {
            "colorbar": {
             "outlinewidth": 0,
             "ticks": ""
            },
            "type": "contourcarpet"
           }
          ],
          "heatmap": [
           {
            "colorbar": {
             "outlinewidth": 0,
             "ticks": ""
            },
            "colorscale": [
             [
              0,
              "#0d0887"
             ],
             [
              0.1111111111111111,
              "#46039f"
             ],
             [
              0.2222222222222222,
              "#7201a8"
             ],
             [
              0.3333333333333333,
              "#9c179e"
             ],
             [
              0.4444444444444444,
              "#bd3786"
             ],
             [
              0.5555555555555556,
              "#d8576b"
             ],
             [
              0.6666666666666666,
              "#ed7953"
             ],
             [
              0.7777777777777778,
              "#fb9f3a"
             ],
             [
              0.8888888888888888,
              "#fdca26"
             ],
             [
              1,
              "#f0f921"
             ]
            ],
            "type": "heatmap"
           }
          ],
          "heatmapgl": [
           {
            "colorbar": {
             "outlinewidth": 0,
             "ticks": ""
            },
            "colorscale": [
             [
              0,
              "#0d0887"
             ],
             [
              0.1111111111111111,
              "#46039f"
             ],
             [
              0.2222222222222222,
              "#7201a8"
             ],
             [
              0.3333333333333333,
              "#9c179e"
             ],
             [
              0.4444444444444444,
              "#bd3786"
             ],
             [
              0.5555555555555556,
              "#d8576b"
             ],
             [
              0.6666666666666666,
              "#ed7953"
             ],
             [
              0.7777777777777778,
              "#fb9f3a"
             ],
             [
              0.8888888888888888,
              "#fdca26"
             ],
             [
              1,
              "#f0f921"
             ]
            ],
            "type": "heatmapgl"
           }
          ],
          "histogram": [
           {
            "marker": {
             "pattern": {
              "fillmode": "overlay",
              "size": 10,
              "solidity": 0.2
             }
            },
            "type": "histogram"
           }
          ],
          "histogram2d": [
           {
            "colorbar": {
             "outlinewidth": 0,
             "ticks": ""
            },
            "colorscale": [
             [
              0,
              "#0d0887"
             ],
             [
              0.1111111111111111,
              "#46039f"
             ],
             [
              0.2222222222222222,
              "#7201a8"
             ],
             [
              0.3333333333333333,
              "#9c179e"
             ],
             [
              0.4444444444444444,
              "#bd3786"
             ],
             [
              0.5555555555555556,
              "#d8576b"
             ],
             [
              0.6666666666666666,
              "#ed7953"
             ],
             [
              0.7777777777777778,
              "#fb9f3a"
             ],
             [
              0.8888888888888888,
              "#fdca26"
             ],
             [
              1,
              "#f0f921"
             ]
            ],
            "type": "histogram2d"
           }
          ],
          "histogram2dcontour": [
           {
            "colorbar": {
             "outlinewidth": 0,
             "ticks": ""
            },
            "colorscale": [
             [
              0,
              "#0d0887"
             ],
             [
              0.1111111111111111,
              "#46039f"
             ],
             [
              0.2222222222222222,
              "#7201a8"
             ],
             [
              0.3333333333333333,
              "#9c179e"
             ],
             [
              0.4444444444444444,
              "#bd3786"
             ],
             [
              0.5555555555555556,
              "#d8576b"
             ],
             [
              0.6666666666666666,
              "#ed7953"
             ],
             [
              0.7777777777777778,
              "#fb9f3a"
             ],
             [
              0.8888888888888888,
              "#fdca26"
             ],
             [
              1,
              "#f0f921"
             ]
            ],
            "type": "histogram2dcontour"
           }
          ],
          "mesh3d": [
           {
            "colorbar": {
             "outlinewidth": 0,
             "ticks": ""
            },
            "type": "mesh3d"
           }
          ],
          "parcoords": [
           {
            "line": {
             "colorbar": {
              "outlinewidth": 0,
              "ticks": ""
             }
            },
            "type": "parcoords"
           }
          ],
          "pie": [
           {
            "automargin": true,
            "type": "pie"
           }
          ],
          "scatter": [
           {
            "fillpattern": {
             "fillmode": "overlay",
             "size": 10,
             "solidity": 0.2
            },
            "type": "scatter"
           }
          ],
          "scatter3d": [
           {
            "line": {
             "colorbar": {
              "outlinewidth": 0,
              "ticks": ""
             }
            },
            "marker": {
             "colorbar": {
              "outlinewidth": 0,
              "ticks": ""
             }
            },
            "type": "scatter3d"
           }
          ],
          "scattercarpet": [
           {
            "marker": {
             "colorbar": {
              "outlinewidth": 0,
              "ticks": ""
             }
            },
            "type": "scattercarpet"
           }
          ],
          "scattergeo": [
           {
            "marker": {
             "colorbar": {
              "outlinewidth": 0,
              "ticks": ""
             }
            },
            "type": "scattergeo"
           }
          ],
          "scattergl": [
           {
            "marker": {
             "colorbar": {
              "outlinewidth": 0,
              "ticks": ""
             }
            },
            "type": "scattergl"
           }
          ],
          "scattermapbox": [
           {
            "marker": {
             "colorbar": {
              "outlinewidth": 0,
              "ticks": ""
             }
            },
            "type": "scattermapbox"
           }
          ],
          "scatterpolar": [
           {
            "marker": {
             "colorbar": {
              "outlinewidth": 0,
              "ticks": ""
             }
            },
            "type": "scatterpolar"
           }
          ],
          "scatterpolargl": [
           {
            "marker": {
             "colorbar": {
              "outlinewidth": 0,
              "ticks": ""
             }
            },
            "type": "scatterpolargl"
           }
          ],
          "scatterternary": [
           {
            "marker": {
             "colorbar": {
              "outlinewidth": 0,
              "ticks": ""
             }
            },
            "type": "scatterternary"
           }
          ],
          "surface": [
           {
            "colorbar": {
             "outlinewidth": 0,
             "ticks": ""
            },
            "colorscale": [
             [
              0,
              "#0d0887"
             ],
             [
              0.1111111111111111,
              "#46039f"
             ],
             [
              0.2222222222222222,
              "#7201a8"
             ],
             [
              0.3333333333333333,
              "#9c179e"
             ],
             [
              0.4444444444444444,
              "#bd3786"
             ],
             [
              0.5555555555555556,
              "#d8576b"
             ],
             [
              0.6666666666666666,
              "#ed7953"
             ],
             [
              0.7777777777777778,
              "#fb9f3a"
             ],
             [
              0.8888888888888888,
              "#fdca26"
             ],
             [
              1,
              "#f0f921"
             ]
            ],
            "type": "surface"
           }
          ],
          "table": [
           {
            "cells": {
             "fill": {
              "color": "#EBF0F8"
             },
             "line": {
              "color": "white"
             }
            },
            "header": {
             "fill": {
              "color": "#C8D4E3"
             },
             "line": {
              "color": "white"
             }
            },
            "type": "table"
           }
          ]
         },
         "layout": {
          "annotationdefaults": {
           "arrowcolor": "#2a3f5f",
           "arrowhead": 0,
           "arrowwidth": 1
          },
          "autotypenumbers": "strict",
          "coloraxis": {
           "colorbar": {
            "outlinewidth": 0,
            "ticks": ""
           }
          },
          "colorscale": {
           "diverging": [
            [
             0,
             "#8e0152"
            ],
            [
             0.1,
             "#c51b7d"
            ],
            [
             0.2,
             "#de77ae"
            ],
            [
             0.3,
             "#f1b6da"
            ],
            [
             0.4,
             "#fde0ef"
            ],
            [
             0.5,
             "#f7f7f7"
            ],
            [
             0.6,
             "#e6f5d0"
            ],
            [
             0.7,
             "#b8e186"
            ],
            [
             0.8,
             "#7fbc41"
            ],
            [
             0.9,
             "#4d9221"
            ],
            [
             1,
             "#276419"
            ]
           ],
           "sequential": [
            [
             0,
             "#0d0887"
            ],
            [
             0.1111111111111111,
             "#46039f"
            ],
            [
             0.2222222222222222,
             "#7201a8"
            ],
            [
             0.3333333333333333,
             "#9c179e"
            ],
            [
             0.4444444444444444,
             "#bd3786"
            ],
            [
             0.5555555555555556,
             "#d8576b"
            ],
            [
             0.6666666666666666,
             "#ed7953"
            ],
            [
             0.7777777777777778,
             "#fb9f3a"
            ],
            [
             0.8888888888888888,
             "#fdca26"
            ],
            [
             1,
             "#f0f921"
            ]
           ],
           "sequentialminus": [
            [
             0,
             "#0d0887"
            ],
            [
             0.1111111111111111,
             "#46039f"
            ],
            [
             0.2222222222222222,
             "#7201a8"
            ],
            [
             0.3333333333333333,
             "#9c179e"
            ],
            [
             0.4444444444444444,
             "#bd3786"
            ],
            [
             0.5555555555555556,
             "#d8576b"
            ],
            [
             0.6666666666666666,
             "#ed7953"
            ],
            [
             0.7777777777777778,
             "#fb9f3a"
            ],
            [
             0.8888888888888888,
             "#fdca26"
            ],
            [
             1,
             "#f0f921"
            ]
           ]
          },
          "colorway": [
           "#636efa",
           "#EF553B",
           "#00cc96",
           "#ab63fa",
           "#FFA15A",
           "#19d3f3",
           "#FF6692",
           "#B6E880",
           "#FF97FF",
           "#FECB52"
          ],
          "font": {
           "color": "#2a3f5f"
          },
          "geo": {
           "bgcolor": "white",
           "lakecolor": "white",
           "landcolor": "#E5ECF6",
           "showlakes": true,
           "showland": true,
           "subunitcolor": "white"
          },
          "hoverlabel": {
           "align": "left"
          },
          "hovermode": "closest",
          "mapbox": {
           "style": "light"
          },
          "paper_bgcolor": "white",
          "plot_bgcolor": "#E5ECF6",
          "polar": {
           "angularaxis": {
            "gridcolor": "white",
            "linecolor": "white",
            "ticks": ""
           },
           "bgcolor": "#E5ECF6",
           "radialaxis": {
            "gridcolor": "white",
            "linecolor": "white",
            "ticks": ""
           }
          },
          "scene": {
           "xaxis": {
            "backgroundcolor": "#E5ECF6",
            "gridcolor": "white",
            "gridwidth": 2,
            "linecolor": "white",
            "showbackground": true,
            "ticks": "",
            "zerolinecolor": "white"
           },
           "yaxis": {
            "backgroundcolor": "#E5ECF6",
            "gridcolor": "white",
            "gridwidth": 2,
            "linecolor": "white",
            "showbackground": true,
            "ticks": "",
            "zerolinecolor": "white"
           },
           "zaxis": {
            "backgroundcolor": "#E5ECF6",
            "gridcolor": "white",
            "gridwidth": 2,
            "linecolor": "white",
            "showbackground": true,
            "ticks": "",
            "zerolinecolor": "white"
           }
          },
          "shapedefaults": {
           "line": {
            "color": "#2a3f5f"
           }
          },
          "ternary": {
           "aaxis": {
            "gridcolor": "white",
            "linecolor": "white",
            "ticks": ""
           },
           "baxis": {
            "gridcolor": "white",
            "linecolor": "white",
            "ticks": ""
           },
           "bgcolor": "#E5ECF6",
           "caxis": {
            "gridcolor": "white",
            "linecolor": "white",
            "ticks": ""
           }
          },
          "title": {
           "x": 0.05
          },
          "xaxis": {
           "automargin": true,
           "gridcolor": "white",
           "linecolor": "white",
           "ticks": "",
           "title": {
            "standoff": 15
           },
           "zerolinecolor": "white",
           "zerolinewidth": 2
          },
          "yaxis": {
           "automargin": true,
           "gridcolor": "white",
           "linecolor": "white",
           "ticks": "",
           "title": {
            "standoff": 15
           },
           "zerolinecolor": "white",
           "zerolinewidth": 2
          }
         }
        },
        "xaxis": {
         "anchor": "y",
         "constrain": "domain",
         "domain": [
          0,
          1
         ],
         "scaleanchor": "y"
        },
        "yaxis": {
         "anchor": "x",
         "autorange": "reversed",
         "constrain": "domain",
         "domain": [
          0,
          1
         ]
        }
       }
      }
     },
     "metadata": {},
     "output_type": "display_data"
    }
   ],
   "source": [
    "##plotar correlação entre os seis fatores considerados usando plotly\n",
    "\n",
    "fig = px.imshow(correlation,text_auto=True,color_continuous_scale='RdBu_r')\n",
    "fig.show()"
   ]
  },
  {
   "cell_type": "markdown",
   "metadata": {},
   "source": [
    "### Construção de rankings baseados em outros fatores"
   ]
  },
  {
   "cell_type": "markdown",
   "metadata": {},
   "source": [
    "Função para criação de ranking de acordo com um dos seguintes indicadores:\n",
    " \n",
    " - Alumni\n",
    " - Award\n",
    " - Hi Ci\n",
    " - N&S\n",
    " - PUB   \n",
    " - PCP\n",
    "\n"
   ]
  },
  {
   "cell_type": "code",
   "execution_count": 50,
   "metadata": {},
   "outputs": [],
   "source": [
    "def ranking_fator_selecinado(dados,ano,fator,n_posicoes,overall_ranking='World Rank',\n",
    "                             coluna_ano='Year',name_universities='Institution',location='Country_Names',include_values=False):\n",
    "    '''\n",
    "    Função para gerar uma ranking para o fator desejado\n",
    "\n",
    "    Inputs:\n",
    "        dados             - Pandas dataframe com os rankings para os anos entre 2005 e 2018\n",
    "        ano               - (int) ano selecionado para o qual o ranking será criado. Deve ser um ano no intervalo [2005,2018].\n",
    "        fator             - (str) nome do fator considerado na contrucao do ranking. Fatores aceitos são: 'Alumni',\n",
    "                                  'Award','HiCi','N&S','PUB' e 'PCP'\n",
    "        n_posicoes        - (int) número de posições no ranking gerado. Serão incluídas desde a posição 1 até n_posicões\n",
    "        overall_ranking   - (str) nome da coluna do dataframe dados que contem a posição das universidade no ranking geral\n",
    "        name_universities - (str) nome da coluna do dataframe dados que contem o nome das universidade\n",
    "        location          - (str) nome da coluna no dataframe com os paises de origem das universidades\n",
    "        coluna_ano        - (str) nome da coluna com o ano do ranking\n",
    "        include_values    - (boolean) Se True o dataframe gerado conterá uma coluna com o fator selecionado.Caso False os\n",
    "                            valores do fator selecionado para cada universidade não serão incluídos\n",
    "    Output:\n",
    "        Pandas coluna com três colunas: uma delas com as universidades ordenadas de acordo com o fator selecionado, uma com a \n",
    "        posição da universidade no ranking geral e outra com os paises de origem das universidades. Caso include values=True\n",
    "        é adicionada uma quarta coluna com os valores fator selecionado\n",
    "\n",
    "    '''\n",
    "    #if ano not in np.arange(2005,2019,1):\n",
    "    #    raise Exception('Os rankings estão disponíveis para os anos de 2005 a 2018')\n",
    "\n",
    "    #if fator not in ['Alumni','Award','Hi Ci','N&S','PUB','PCP']:\n",
    "    #    raise Exception('Fator selecionador deve ser um dos seguintes: Alumni, Award, Hi Ci , N&S , PUB , PCP')\n",
    "    dados=dados.loc[dados[coluna_ano]==ano,:] #selecionar o ano\n",
    "    dados_ordenados=dados.sort_values(by=fator,ascending=False).reset_index(drop=True) #ordenar os valores de acordo com o fator selecionado\n",
    "    if include_values:\n",
    "        dados_ordenados=dados_ordenados.loc[:(n_posicoes-1),[overall_ranking,name_universities,fator,location]] \n",
    "    else:\n",
    "        dados_ordenados=dados_ordenados.loc[:(n_posicoes-1),[overall_ranking,name_universities,location]] \n",
    "    dados_ordenados.rename(columns={overall_ranking:'Ranking Geral',location:'Location',name_universities:'Top '+str(n_posicoes)+' '+fator},inplace=True)\n",
    "    dados_ordenados.index=np.arange(1,n_posicoes+1) #criando novo index para iniciar com valor 1\n",
    "    return dados_ordenados"
   ]
  },
  {
   "cell_type": "code",
   "execution_count": 51,
   "metadata": {},
   "outputs": [
    {
     "data": {
      "text/html": [
       "<div>\n",
       "<style scoped>\n",
       "    .dataframe tbody tr th:only-of-type {\n",
       "        vertical-align: middle;\n",
       "    }\n",
       "\n",
       "    .dataframe tbody tr th {\n",
       "        vertical-align: top;\n",
       "    }\n",
       "\n",
       "    .dataframe thead th {\n",
       "        text-align: right;\n",
       "    }\n",
       "</style>\n",
       "<table border=\"1\" class=\"dataframe\">\n",
       "  <thead>\n",
       "    <tr style=\"text-align: right;\">\n",
       "      <th></th>\n",
       "      <th>Ranking Geral</th>\n",
       "      <th>Top 20 HiCi</th>\n",
       "      <th>Location</th>\n",
       "    </tr>\n",
       "  </thead>\n",
       "  <tbody>\n",
       "    <tr>\n",
       "      <th>1</th>\n",
       "      <td>1</td>\n",
       "      <td>Harvard University</td>\n",
       "      <td>United States</td>\n",
       "    </tr>\n",
       "    <tr>\n",
       "      <th>2</th>\n",
       "      <td>2</td>\n",
       "      <td>Stanford University</td>\n",
       "      <td>United States</td>\n",
       "    </tr>\n",
       "    <tr>\n",
       "      <th>3</th>\n",
       "      <td>22</td>\n",
       "      <td>Tsinghua University</td>\n",
       "      <td>China</td>\n",
       "    </tr>\n",
       "    <tr>\n",
       "      <th>4</th>\n",
       "      <td>3</td>\n",
       "      <td>Massachusetts Institute of Technology (MIT)</td>\n",
       "      <td>United States</td>\n",
       "    </tr>\n",
       "    <tr>\n",
       "      <th>5</th>\n",
       "      <td>19</td>\n",
       "      <td>University of California, San Diego</td>\n",
       "      <td>United States</td>\n",
       "    </tr>\n",
       "    <tr>\n",
       "      <th>6</th>\n",
       "      <td>5</td>\n",
       "      <td>University of California, Berkeley</td>\n",
       "      <td>United States</td>\n",
       "    </tr>\n",
       "    <tr>\n",
       "      <th>7</th>\n",
       "      <td>14</td>\n",
       "      <td>University of Pennsylvania</td>\n",
       "      <td>United States</td>\n",
       "    </tr>\n",
       "    <tr>\n",
       "      <th>8</th>\n",
       "      <td>7</td>\n",
       "      <td>University of Oxford</td>\n",
       "      <td>United Kingdom</td>\n",
       "    </tr>\n",
       "    <tr>\n",
       "      <th>9</th>\n",
       "      <td>16</td>\n",
       "      <td>Johns Hopkins University</td>\n",
       "      <td>United States</td>\n",
       "    </tr>\n",
       "    <tr>\n",
       "      <th>10</th>\n",
       "      <td>8</td>\n",
       "      <td>Columbia University</td>\n",
       "      <td>United States</td>\n",
       "    </tr>\n",
       "    <tr>\n",
       "      <th>11</th>\n",
       "      <td>17</td>\n",
       "      <td>University College London</td>\n",
       "      <td>United Kingdom</td>\n",
       "    </tr>\n",
       "    <tr>\n",
       "      <th>12</th>\n",
       "      <td>25</td>\n",
       "      <td>Washington University in St. Louis</td>\n",
       "      <td>United States</td>\n",
       "    </tr>\n",
       "    <tr>\n",
       "      <th>13</th>\n",
       "      <td>11</td>\n",
       "      <td>Yale University</td>\n",
       "      <td>United States</td>\n",
       "    </tr>\n",
       "    <tr>\n",
       "      <th>14</th>\n",
       "      <td>4</td>\n",
       "      <td>University of Cambridge</td>\n",
       "      <td>United Kingdom</td>\n",
       "    </tr>\n",
       "    <tr>\n",
       "      <th>15</th>\n",
       "      <td>21</td>\n",
       "      <td>University of California, San Francisco</td>\n",
       "      <td>United States</td>\n",
       "    </tr>\n",
       "    <tr>\n",
       "      <th>16</th>\n",
       "      <td>51</td>\n",
       "      <td>The University of Queensland</td>\n",
       "      <td>Australia</td>\n",
       "    </tr>\n",
       "    <tr>\n",
       "      <th>17</th>\n",
       "      <td>13</td>\n",
       "      <td>University of California, Los Angeles</td>\n",
       "      <td>United States</td>\n",
       "    </tr>\n",
       "    <tr>\n",
       "      <th>18</th>\n",
       "      <td>12</td>\n",
       "      <td>Cornell University</td>\n",
       "      <td>United States</td>\n",
       "    </tr>\n",
       "    <tr>\n",
       "      <th>19</th>\n",
       "      <td>18</td>\n",
       "      <td>University of Washington</td>\n",
       "      <td>United States</td>\n",
       "    </tr>\n",
       "    <tr>\n",
       "      <th>20</th>\n",
       "      <td>93</td>\n",
       "      <td>Nanyang Technological University</td>\n",
       "      <td>Singapore</td>\n",
       "    </tr>\n",
       "  </tbody>\n",
       "</table>\n",
       "</div>"
      ],
      "text/plain": [
       "   Ranking Geral                                  Top 20 HiCi        Location\n",
       "1              1                           Harvard University   United States\n",
       "2              2                          Stanford University   United States\n",
       "3             22                          Tsinghua University           China\n",
       "4              3  Massachusetts Institute of Technology (MIT)   United States\n",
       "5             19          University of California, San Diego   United States\n",
       "6              5           University of California, Berkeley   United States\n",
       "7             14                   University of Pennsylvania   United States\n",
       "8              7                         University of Oxford  United Kingdom\n",
       "9             16                     Johns Hopkins University   United States\n",
       "10             8                          Columbia University   United States\n",
       "11            17                    University College London  United Kingdom\n",
       "12            25           Washington University in St. Louis   United States\n",
       "13            11                              Yale University   United States\n",
       "14             4                      University of Cambridge  United Kingdom\n",
       "15            21      University of California, San Francisco   United States\n",
       "16            51                 The University of Queensland       Australia\n",
       "17            13        University of California, Los Angeles   United States\n",
       "18            12                           Cornell University   United States\n",
       "19            18                     University of Washington   United States\n",
       "20            93             Nanyang Technological University       Singapore"
      ]
     },
     "execution_count": 51,
     "metadata": {},
     "output_type": "execute_result"
    }
   ],
   "source": [
    "#Exemplo: 20 melhores universidades de acordo com o número de pesquisadores com grande número de citações\n",
    "\n",
    "ranking_2023_award=ranking_fator_selecinado(df_dados,'2023','HiCi',20,include_values=False)\n",
    "ranking_2023_award"
   ]
  },
  {
   "cell_type": "markdown",
   "metadata": {},
   "source": [
    "Função para criação de um dataframe com universidades em cada coluna rankeadas de acordo com os seguintes fatores:\n",
    "\n",
    " - Overall\n",
    " - Alumni\n",
    " - Award\n",
    " - Hi Ci\n",
    " - N&S\n",
    " - PUB   \n",
    " - PCP"
   ]
  },
  {
   "cell_type": "code",
   "execution_count": 52,
   "metadata": {},
   "outputs": [],
   "source": [
    "def ranking_grupo_fatores(dados,ano,n_posicoes,fatores,coluna_names='Institution',coluna_ano='Year',overall_ranking='World Rank'):\n",
    "    \"\"\"\n",
    "    Função para criação de um dataframe com 6 colunas, em cala uma delas as universidade aparecem rankeadas de acordo com um fator especificado.\n",
    "        \n",
    "\n",
    "    Inputs:\n",
    "        dados        - Pandas dataframe com os rankings para todos os anos entre 2005 e 2018\n",
    "        ano          - (str) Ano em que o dataframe foi publicado.Deve ser um valor entre 2004 e 2023\n",
    "        n_posicoes   - (int) Número de posições que aparecerão no ranking\n",
    "        fatores      - (list) Lista com o nome dos fatores (strings) que serão usados na construção dos rankings\n",
    "        coluna_names - (str) Nome da coluna com o nome das universidades\n",
    "        coluna_ano   - (str) Nome da coluna onde estão os anos em que os rankings foram publicados\n",
    "        overall_ranking - (str) Nome da coluna com o ranking geral\n",
    "\n",
    "    Outpout:\n",
    "        Pandas dataframe no qual em cada coluna as universidades aparecem rankeadas de acordo com um fator\n",
    "    \"\"\"\n",
    "    #nome das colunas do dataframe original que serão usadas para criação dos rankings\n",
    "    dados_ano_selecionado=dados.loc[dados[coluna_ano]==ano,:] #seleção dos dados para o ano especificado\n",
    "\n",
    "   \n",
    "    #if ano not in np.arange(2005,2019,1):\n",
    "    #    raise Exception('Os rankings estão disponíveis para os anos de 2005 a 2018')\n",
    "    \n",
    "    ranking_fatores=[]\n",
    "    for fator in fatores:\n",
    "            if fator==overall_ranking:\n",
    "                dados_fator=dados_ano_selecionado.reset_index(drop=True) #os dados vem ordenados de acordo com a posição geral das universidades, não é necessário ordená-los\n",
    "                dados_fator=dados_fator.loc[:n_posicoes-1,[coluna_names]] #selecionar o número de posições desejadas\n",
    "                dados_fator.rename(columns={coluna_names:'Ranking '+'Geral'},inplace=True) #alterar o nome da coluna. Não segue o padrão das\n",
    "                                                                                    #demais em que é só adicionar Ranking ao nome do fator \n",
    "            else:\n",
    "            #nos fatores a ordenação deve ser do maior para o menor (nos fatores os valores são para as pontuações)\n",
    "                dados_fator=dados_ano_selecionado.sort_values(by=fator,ascending=False).reset_index(drop=True)\n",
    "                dados_fator=dados_fator.loc[:n_posicoes-1,[coluna_names]]\n",
    "                dados_fator.rename(columns={coluna_names:'Ranking '+fator},inplace=True)\n",
    "            ranking_fatores.append(dados_fator)\n",
    "    ranking_fatores=pd.concat(ranking_fatores,axis=1)\n",
    "    ranking_fatores.index=np.arange(1,n_posicoes+1)\n",
    "    \n",
    "    return ranking_fatores\n"
   ]
  },
  {
   "cell_type": "code",
   "execution_count": 53,
   "metadata": {},
   "outputs": [
    {
     "data": {
      "text/html": [
       "<div>\n",
       "<style scoped>\n",
       "    .dataframe tbody tr th:only-of-type {\n",
       "        vertical-align: middle;\n",
       "    }\n",
       "\n",
       "    .dataframe tbody tr th {\n",
       "        vertical-align: top;\n",
       "    }\n",
       "\n",
       "    .dataframe thead th {\n",
       "        text-align: right;\n",
       "    }\n",
       "</style>\n",
       "<table border=\"1\" class=\"dataframe\">\n",
       "  <thead>\n",
       "    <tr style=\"text-align: right;\">\n",
       "      <th></th>\n",
       "      <th>Ranking Geral</th>\n",
       "      <th>Ranking Alumni</th>\n",
       "      <th>Ranking Award</th>\n",
       "      <th>Ranking HiCi</th>\n",
       "      <th>Ranking N&amp;S</th>\n",
       "      <th>Ranking PUB</th>\n",
       "      <th>Ranking PCP</th>\n",
       "    </tr>\n",
       "  </thead>\n",
       "  <tbody>\n",
       "    <tr>\n",
       "      <th>1</th>\n",
       "      <td>Harvard University</td>\n",
       "      <td>Harvard University</td>\n",
       "      <td>Princeton University</td>\n",
       "      <td>Harvard University</td>\n",
       "      <td>Harvard University</td>\n",
       "      <td>Harvard University</td>\n",
       "      <td>California Institute of Technology</td>\n",
       "    </tr>\n",
       "    <tr>\n",
       "      <th>2</th>\n",
       "      <td>Stanford University</td>\n",
       "      <td>University of Cambridge</td>\n",
       "      <td>Harvard University</td>\n",
       "      <td>Stanford University</td>\n",
       "      <td>Stanford University</td>\n",
       "      <td>Zhejiang University</td>\n",
       "      <td>Harvard University</td>\n",
       "    </tr>\n",
       "    <tr>\n",
       "      <th>3</th>\n",
       "      <td>Massachusetts Institute of Technology (MIT)</td>\n",
       "      <td>Massachusetts Institute of Technology (MIT)</td>\n",
       "      <td>University of Cambridge</td>\n",
       "      <td>Tsinghua University</td>\n",
       "      <td>Massachusetts Institute of Technology (MIT)</td>\n",
       "      <td>Shanghai Jiao Tong University</td>\n",
       "      <td>Princeton University</td>\n",
       "    </tr>\n",
       "    <tr>\n",
       "      <th>4</th>\n",
       "      <td>University of Cambridge</td>\n",
       "      <td>University of California, Berkeley</td>\n",
       "      <td>Stanford University</td>\n",
       "      <td>Massachusetts Institute of Technology (MIT)</td>\n",
       "      <td>University of California, Berkeley</td>\n",
       "      <td>Peking University</td>\n",
       "      <td>Massachusetts Institute of Technology (MIT)</td>\n",
       "    </tr>\n",
       "    <tr>\n",
       "      <th>5</th>\n",
       "      <td>University of California, Berkeley</td>\n",
       "      <td>Princeton University</td>\n",
       "      <td>University of Chicago</td>\n",
       "      <td>University of California, San Diego</td>\n",
       "      <td>University of Cambridge</td>\n",
       "      <td>Sun Yat-sen University</td>\n",
       "      <td>University of Cambridge</td>\n",
       "    </tr>\n",
       "    <tr>\n",
       "      <th>6</th>\n",
       "      <td>Princeton University</td>\n",
       "      <td>Columbia University</td>\n",
       "      <td>Massachusetts Institute of Technology (MIT)</td>\n",
       "      <td>University of California, Berkeley</td>\n",
       "      <td>University of Oxford</td>\n",
       "      <td>University of Toronto</td>\n",
       "      <td>Stanford University</td>\n",
       "    </tr>\n",
       "    <tr>\n",
       "      <th>7</th>\n",
       "      <td>University of Oxford</td>\n",
       "      <td>University of Chicago</td>\n",
       "      <td>University of California, Berkeley</td>\n",
       "      <td>University of Pennsylvania</td>\n",
       "      <td>California Institute of Technology</td>\n",
       "      <td>Tsinghua University</td>\n",
       "      <td>University of California, Berkeley</td>\n",
       "    </tr>\n",
       "    <tr>\n",
       "      <th>8</th>\n",
       "      <td>Columbia University</td>\n",
       "      <td>California Institute of Technology</td>\n",
       "      <td>Paris-Saclay University</td>\n",
       "      <td>University of Oxford</td>\n",
       "      <td>Cornell University</td>\n",
       "      <td>Central South University</td>\n",
       "      <td>Karolinska Institute</td>\n",
       "    </tr>\n",
       "    <tr>\n",
       "      <th>9</th>\n",
       "      <td>California Institute of Technology</td>\n",
       "      <td>PSL University</td>\n",
       "      <td>California Institute of Technology</td>\n",
       "      <td>Johns Hopkins University</td>\n",
       "      <td>University of California, San Francisco</td>\n",
       "      <td>University College London</td>\n",
       "      <td>The University of Texas M. D. Anderson Cancer ...</td>\n",
       "    </tr>\n",
       "    <tr>\n",
       "      <th>10</th>\n",
       "      <td>University of Chicago</td>\n",
       "      <td>Yale University</td>\n",
       "      <td>Columbia University</td>\n",
       "      <td>Columbia University</td>\n",
       "      <td>ETH Zurich</td>\n",
       "      <td>Fudan University</td>\n",
       "      <td>Swiss Federal Institute of Technology Lausanne</td>\n",
       "    </tr>\n",
       "    <tr>\n",
       "      <th>11</th>\n",
       "      <td>Yale University</td>\n",
       "      <td>University of Oxford</td>\n",
       "      <td>University of Oxford</td>\n",
       "      <td>University College London</td>\n",
       "      <td>Yale University</td>\n",
       "      <td>Sichuan University</td>\n",
       "      <td>ETH Zurich</td>\n",
       "    </tr>\n",
       "    <tr>\n",
       "      <th>12</th>\n",
       "      <td>Cornell University</td>\n",
       "      <td>Stanford University</td>\n",
       "      <td>Rockefeller University</td>\n",
       "      <td>Washington University in St. Louis</td>\n",
       "      <td>University of Washington</td>\n",
       "      <td>Huazhong University of Science and Technology</td>\n",
       "      <td>University of Oxford</td>\n",
       "    </tr>\n",
       "    <tr>\n",
       "      <th>13</th>\n",
       "      <td>University of California, Los Angeles</td>\n",
       "      <td>Cornell University</td>\n",
       "      <td>Yale University</td>\n",
       "      <td>Yale University</td>\n",
       "      <td>Columbia University</td>\n",
       "      <td>University of Oxford</td>\n",
       "      <td>Cornell University</td>\n",
       "    </tr>\n",
       "    <tr>\n",
       "      <th>14</th>\n",
       "      <td>University of Pennsylvania</td>\n",
       "      <td>Moscow State University</td>\n",
       "      <td>PSL University</td>\n",
       "      <td>University of Cambridge</td>\n",
       "      <td>University of California, Los Angeles</td>\n",
       "      <td>Xi'an Jiaotong University</td>\n",
       "      <td>Weizmann Institute of Science</td>\n",
       "    </tr>\n",
       "    <tr>\n",
       "      <th>15</th>\n",
       "      <td>Paris-Saclay University</td>\n",
       "      <td>University of Geneva</td>\n",
       "      <td>University of California, Los Angeles</td>\n",
       "      <td>University of California, San Francisco</td>\n",
       "      <td>Princeton University</td>\n",
       "      <td>Johns Hopkins University</td>\n",
       "      <td>University of Chicago</td>\n",
       "    </tr>\n",
       "    <tr>\n",
       "      <th>16</th>\n",
       "      <td>Johns Hopkins University</td>\n",
       "      <td>University of Michigan-Ann Arbor</td>\n",
       "      <td>Cornell University</td>\n",
       "      <td>The University of Queensland</td>\n",
       "      <td>University of California, San Diego</td>\n",
       "      <td>University of Michigan-Ann Arbor</td>\n",
       "      <td>Scuola Normale Superiore - Pisa</td>\n",
       "    </tr>\n",
       "    <tr>\n",
       "      <th>17</th>\n",
       "      <td>University College London</td>\n",
       "      <td>Johns Hopkins University</td>\n",
       "      <td>ETH Zurich</td>\n",
       "      <td>University of California, Los Angeles</td>\n",
       "      <td>The University of Tokyo</td>\n",
       "      <td>The University of Melbourne</td>\n",
       "      <td>Humanitas University</td>\n",
       "    </tr>\n",
       "    <tr>\n",
       "      <th>18</th>\n",
       "      <td>University of Washington</td>\n",
       "      <td>The University of Tokyo</td>\n",
       "      <td>University of California, San Francisco</td>\n",
       "      <td>Cornell University</td>\n",
       "      <td>University of Pennsylvania</td>\n",
       "      <td>University of Sao Paulo</td>\n",
       "      <td>University of Pennsylvania</td>\n",
       "    </tr>\n",
       "    <tr>\n",
       "      <th>19</th>\n",
       "      <td>University of California, San Diego</td>\n",
       "      <td>Sorbonne University</td>\n",
       "      <td>Kyoto University</td>\n",
       "      <td>University of Washington</td>\n",
       "      <td>Tsinghua University</td>\n",
       "      <td>Stanford University</td>\n",
       "      <td>Stockholm School of Economics</td>\n",
       "    </tr>\n",
       "    <tr>\n",
       "      <th>20</th>\n",
       "      <td>ETH Zurich</td>\n",
       "      <td>Technical University of Munich</td>\n",
       "      <td>University of Geneva</td>\n",
       "      <td>Nanyang Technological University</td>\n",
       "      <td>University of Chicago</td>\n",
       "      <td>Shandong University</td>\n",
       "      <td>Imperial College London</td>\n",
       "    </tr>\n",
       "  </tbody>\n",
       "</table>\n",
       "</div>"
      ],
      "text/plain": [
       "                                  Ranking Geral  \\\n",
       "1                            Harvard University   \n",
       "2                           Stanford University   \n",
       "3   Massachusetts Institute of Technology (MIT)   \n",
       "4                       University of Cambridge   \n",
       "5            University of California, Berkeley   \n",
       "6                          Princeton University   \n",
       "7                          University of Oxford   \n",
       "8                           Columbia University   \n",
       "9            California Institute of Technology   \n",
       "10                        University of Chicago   \n",
       "11                              Yale University   \n",
       "12                           Cornell University   \n",
       "13        University of California, Los Angeles   \n",
       "14                   University of Pennsylvania   \n",
       "15                      Paris-Saclay University   \n",
       "16                     Johns Hopkins University   \n",
       "17                    University College London   \n",
       "18                     University of Washington   \n",
       "19          University of California, San Diego   \n",
       "20                                   ETH Zurich   \n",
       "\n",
       "                                 Ranking Alumni  \\\n",
       "1                            Harvard University   \n",
       "2                       University of Cambridge   \n",
       "3   Massachusetts Institute of Technology (MIT)   \n",
       "4            University of California, Berkeley   \n",
       "5                          Princeton University   \n",
       "6                           Columbia University   \n",
       "7                         University of Chicago   \n",
       "8            California Institute of Technology   \n",
       "9                                PSL University   \n",
       "10                              Yale University   \n",
       "11                         University of Oxford   \n",
       "12                          Stanford University   \n",
       "13                           Cornell University   \n",
       "14                      Moscow State University   \n",
       "15                         University of Geneva   \n",
       "16             University of Michigan-Ann Arbor   \n",
       "17                     Johns Hopkins University   \n",
       "18                      The University of Tokyo   \n",
       "19                          Sorbonne University   \n",
       "20               Technical University of Munich   \n",
       "\n",
       "                                  Ranking Award  \\\n",
       "1                          Princeton University   \n",
       "2                            Harvard University   \n",
       "3                       University of Cambridge   \n",
       "4                           Stanford University   \n",
       "5                         University of Chicago   \n",
       "6   Massachusetts Institute of Technology (MIT)   \n",
       "7            University of California, Berkeley   \n",
       "8                       Paris-Saclay University   \n",
       "9            California Institute of Technology   \n",
       "10                          Columbia University   \n",
       "11                         University of Oxford   \n",
       "12                       Rockefeller University   \n",
       "13                              Yale University   \n",
       "14                               PSL University   \n",
       "15        University of California, Los Angeles   \n",
       "16                           Cornell University   \n",
       "17                                   ETH Zurich   \n",
       "18      University of California, San Francisco   \n",
       "19                             Kyoto University   \n",
       "20                         University of Geneva   \n",
       "\n",
       "                                   Ranking HiCi  \\\n",
       "1                            Harvard University   \n",
       "2                           Stanford University   \n",
       "3                           Tsinghua University   \n",
       "4   Massachusetts Institute of Technology (MIT)   \n",
       "5           University of California, San Diego   \n",
       "6            University of California, Berkeley   \n",
       "7                    University of Pennsylvania   \n",
       "8                          University of Oxford   \n",
       "9                      Johns Hopkins University   \n",
       "10                          Columbia University   \n",
       "11                    University College London   \n",
       "12           Washington University in St. Louis   \n",
       "13                              Yale University   \n",
       "14                      University of Cambridge   \n",
       "15      University of California, San Francisco   \n",
       "16                 The University of Queensland   \n",
       "17        University of California, Los Angeles   \n",
       "18                           Cornell University   \n",
       "19                     University of Washington   \n",
       "20             Nanyang Technological University   \n",
       "\n",
       "                                    Ranking N&S  \\\n",
       "1                            Harvard University   \n",
       "2                           Stanford University   \n",
       "3   Massachusetts Institute of Technology (MIT)   \n",
       "4            University of California, Berkeley   \n",
       "5                       University of Cambridge   \n",
       "6                          University of Oxford   \n",
       "7            California Institute of Technology   \n",
       "8                            Cornell University   \n",
       "9       University of California, San Francisco   \n",
       "10                                   ETH Zurich   \n",
       "11                              Yale University   \n",
       "12                     University of Washington   \n",
       "13                          Columbia University   \n",
       "14        University of California, Los Angeles   \n",
       "15                         Princeton University   \n",
       "16          University of California, San Diego   \n",
       "17                      The University of Tokyo   \n",
       "18                   University of Pennsylvania   \n",
       "19                          Tsinghua University   \n",
       "20                        University of Chicago   \n",
       "\n",
       "                                      Ranking PUB  \\\n",
       "1                              Harvard University   \n",
       "2                             Zhejiang University   \n",
       "3                   Shanghai Jiao Tong University   \n",
       "4                               Peking University   \n",
       "5                          Sun Yat-sen University   \n",
       "6                           University of Toronto   \n",
       "7                             Tsinghua University   \n",
       "8                        Central South University   \n",
       "9                       University College London   \n",
       "10                               Fudan University   \n",
       "11                             Sichuan University   \n",
       "12  Huazhong University of Science and Technology   \n",
       "13                           University of Oxford   \n",
       "14                      Xi'an Jiaotong University   \n",
       "15                       Johns Hopkins University   \n",
       "16               University of Michigan-Ann Arbor   \n",
       "17                    The University of Melbourne   \n",
       "18                        University of Sao Paulo   \n",
       "19                            Stanford University   \n",
       "20                            Shandong University   \n",
       "\n",
       "                                          Ranking PCP  \n",
       "1                  California Institute of Technology  \n",
       "2                                  Harvard University  \n",
       "3                                Princeton University  \n",
       "4         Massachusetts Institute of Technology (MIT)  \n",
       "5                             University of Cambridge  \n",
       "6                                 Stanford University  \n",
       "7                  University of California, Berkeley  \n",
       "8                                Karolinska Institute  \n",
       "9   The University of Texas M. D. Anderson Cancer ...  \n",
       "10     Swiss Federal Institute of Technology Lausanne  \n",
       "11                                         ETH Zurich  \n",
       "12                               University of Oxford  \n",
       "13                                 Cornell University  \n",
       "14                      Weizmann Institute of Science  \n",
       "15                              University of Chicago  \n",
       "16                    Scuola Normale Superiore - Pisa  \n",
       "17                               Humanitas University  \n",
       "18                         University of Pennsylvania  \n",
       "19                      Stockholm School of Economics  \n",
       "20                            Imperial College London  "
      ]
     },
     "execution_count": 53,
     "metadata": {},
     "output_type": "execute_result"
    }
   ],
   "source": [
    "#Exemplo: Top 20 para o ano de 2023\n",
    "\n",
    "fatores=['World Rank','Alumni','Award','HiCi','N&S','PUB','PCP']\n",
    "\n",
    "\n",
    "top_20_2023=ranking_grupo_fatores(df_dados,'2023',20,fatores)\n",
    "top_20_2023"
   ]
  },
  {
   "cell_type": "markdown",
   "metadata": {},
   "source": [
    "## Universidades Brasileiras"
   ]
  },
  {
   "cell_type": "code",
   "execution_count": 54,
   "metadata": {},
   "outputs": [
    {
     "data": {
      "text/html": [
       "<div>\n",
       "<style scoped>\n",
       "    .dataframe tbody tr th:only-of-type {\n",
       "        vertical-align: middle;\n",
       "    }\n",
       "\n",
       "    .dataframe tbody tr th {\n",
       "        vertical-align: top;\n",
       "    }\n",
       "\n",
       "    .dataframe thead th {\n",
       "        text-align: right;\n",
       "    }\n",
       "</style>\n",
       "<table border=\"1\" class=\"dataframe\">\n",
       "  <thead>\n",
       "    <tr style=\"text-align: right;\">\n",
       "      <th></th>\n",
       "      <th>Institution</th>\n",
       "      <th>Year</th>\n",
       "      <th>World Rank</th>\n",
       "    </tr>\n",
       "  </thead>\n",
       "  <tbody>\n",
       "    <tr>\n",
       "      <th>0</th>\n",
       "      <td>University of Sao Paulo</td>\n",
       "      <td>2004</td>\n",
       "      <td>153-201</td>\n",
       "    </tr>\n",
       "    <tr>\n",
       "      <th>1</th>\n",
       "      <td>Federal University of Rio de Janeiro</td>\n",
       "      <td>2004</td>\n",
       "      <td>302-403</td>\n",
       "    </tr>\n",
       "    <tr>\n",
       "      <th>2</th>\n",
       "      <td>State University of Campinas</td>\n",
       "      <td>2004</td>\n",
       "      <td>302-403</td>\n",
       "    </tr>\n",
       "    <tr>\n",
       "      <th>3</th>\n",
       "      <td>Sao Paulo State University</td>\n",
       "      <td>2004</td>\n",
       "      <td>404-502</td>\n",
       "    </tr>\n",
       "    <tr>\n",
       "      <th>4</th>\n",
       "      <td>University of Sao Paulo</td>\n",
       "      <td>2005</td>\n",
       "      <td>101-152</td>\n",
       "    </tr>\n",
       "    <tr>\n",
       "      <th>...</th>\n",
       "      <td>...</td>\n",
       "      <td>...</td>\n",
       "      <td>...</td>\n",
       "    </tr>\n",
       "    <tr>\n",
       "      <th>208</th>\n",
       "      <td>Fluminense Federal University</td>\n",
       "      <td>2023</td>\n",
       "      <td>801-900</td>\n",
       "    </tr>\n",
       "    <tr>\n",
       "      <th>209</th>\n",
       "      <td>Federal University of Ceara</td>\n",
       "      <td>2023</td>\n",
       "      <td>901-1000</td>\n",
       "    </tr>\n",
       "    <tr>\n",
       "      <th>210</th>\n",
       "      <td>Federal University of Goiás</td>\n",
       "      <td>2023</td>\n",
       "      <td>901-1000</td>\n",
       "    </tr>\n",
       "    <tr>\n",
       "      <th>211</th>\n",
       "      <td>Federal University of Pernambuco</td>\n",
       "      <td>2023</td>\n",
       "      <td>901-1000</td>\n",
       "    </tr>\n",
       "    <tr>\n",
       "      <th>212</th>\n",
       "      <td>Universidade Federal de Pelotas</td>\n",
       "      <td>2023</td>\n",
       "      <td>901-1000</td>\n",
       "    </tr>\n",
       "  </tbody>\n",
       "</table>\n",
       "<p>213 rows × 3 columns</p>\n",
       "</div>"
      ],
      "text/plain": [
       "                              Institution  Year World Rank\n",
       "0                 University of Sao Paulo  2004    153-201\n",
       "1    Federal University of Rio de Janeiro  2004    302-403\n",
       "2            State University of Campinas  2004    302-403\n",
       "3              Sao Paulo State University  2004    404-502\n",
       "4                 University of Sao Paulo  2005    101-152\n",
       "..                                    ...   ...        ...\n",
       "208         Fluminense Federal University  2023    801-900\n",
       "209           Federal University of Ceara  2023   901-1000\n",
       "210           Federal University of Goiás  2023   901-1000\n",
       "211      Federal University of Pernambuco  2023   901-1000\n",
       "212       Universidade Federal de Pelotas  2023   901-1000\n",
       "\n",
       "[213 rows x 3 columns]"
      ]
     },
     "execution_count": 54,
     "metadata": {},
     "output_type": "execute_result"
    }
   ],
   "source": [
    "#dataframe somente com as universidades brasileiras\n",
    "\n",
    "df_universidades_brasileiras=df_dados[df_dados[\"Country_Names\"]==\"Brazil\"].loc[:,['Institution','Year','World Rank']]\n",
    "df_universidades_brasileiras.reset_index(drop=True,inplace=True)\n",
    "df_universidades_brasileiras"
   ]
  },
  {
   "cell_type": "markdown",
   "metadata": {},
   "source": [
    "### Número de universidades brasileiras nos rankings de cada ano"
   ]
  },
  {
   "cell_type": "code",
   "execution_count": 55,
   "metadata": {},
   "outputs": [
    {
     "data": {
      "text/html": [
       "<div>\n",
       "<style scoped>\n",
       "    .dataframe tbody tr th:only-of-type {\n",
       "        vertical-align: middle;\n",
       "    }\n",
       "\n",
       "    .dataframe tbody tr th {\n",
       "        vertical-align: top;\n",
       "    }\n",
       "\n",
       "    .dataframe thead th {\n",
       "        text-align: right;\n",
       "    }\n",
       "</style>\n",
       "<table border=\"1\" class=\"dataframe\">\n",
       "  <thead>\n",
       "    <tr style=\"text-align: right;\">\n",
       "      <th></th>\n",
       "      <th>Ano</th>\n",
       "      <th>Total Universidades</th>\n",
       "      <th>Universidades Brasileiras</th>\n",
       "    </tr>\n",
       "  </thead>\n",
       "  <tbody>\n",
       "    <tr>\n",
       "      <th>0</th>\n",
       "      <td>2004</td>\n",
       "      <td>502</td>\n",
       "      <td>4</td>\n",
       "    </tr>\n",
       "    <tr>\n",
       "      <th>1</th>\n",
       "      <td>2005</td>\n",
       "      <td>500</td>\n",
       "      <td>4</td>\n",
       "    </tr>\n",
       "    <tr>\n",
       "      <th>2</th>\n",
       "      <td>2006</td>\n",
       "      <td>500</td>\n",
       "      <td>4</td>\n",
       "    </tr>\n",
       "    <tr>\n",
       "      <th>3</th>\n",
       "      <td>2007</td>\n",
       "      <td>510</td>\n",
       "      <td>5</td>\n",
       "    </tr>\n",
       "    <tr>\n",
       "      <th>4</th>\n",
       "      <td>2008</td>\n",
       "      <td>503</td>\n",
       "      <td>6</td>\n",
       "    </tr>\n",
       "    <tr>\n",
       "      <th>5</th>\n",
       "      <td>2009</td>\n",
       "      <td>501</td>\n",
       "      <td>6</td>\n",
       "    </tr>\n",
       "    <tr>\n",
       "      <th>6</th>\n",
       "      <td>2010</td>\n",
       "      <td>500</td>\n",
       "      <td>6</td>\n",
       "    </tr>\n",
       "    <tr>\n",
       "      <th>7</th>\n",
       "      <td>2011</td>\n",
       "      <td>500</td>\n",
       "      <td>7</td>\n",
       "    </tr>\n",
       "    <tr>\n",
       "      <th>8</th>\n",
       "      <td>2012</td>\n",
       "      <td>500</td>\n",
       "      <td>6</td>\n",
       "    </tr>\n",
       "    <tr>\n",
       "      <th>9</th>\n",
       "      <td>2013</td>\n",
       "      <td>500</td>\n",
       "      <td>6</td>\n",
       "    </tr>\n",
       "    <tr>\n",
       "      <th>10</th>\n",
       "      <td>2014</td>\n",
       "      <td>500</td>\n",
       "      <td>6</td>\n",
       "    </tr>\n",
       "    <tr>\n",
       "      <th>11</th>\n",
       "      <td>2015</td>\n",
       "      <td>500</td>\n",
       "      <td>6</td>\n",
       "    </tr>\n",
       "    <tr>\n",
       "      <th>12</th>\n",
       "      <td>2016</td>\n",
       "      <td>500</td>\n",
       "      <td>6</td>\n",
       "    </tr>\n",
       "    <tr>\n",
       "      <th>13</th>\n",
       "      <td>2017</td>\n",
       "      <td>800</td>\n",
       "      <td>13</td>\n",
       "    </tr>\n",
       "    <tr>\n",
       "      <th>14</th>\n",
       "      <td>2018</td>\n",
       "      <td>1000</td>\n",
       "      <td>23</td>\n",
       "    </tr>\n",
       "    <tr>\n",
       "      <th>15</th>\n",
       "      <td>2019</td>\n",
       "      <td>1000</td>\n",
       "      <td>23</td>\n",
       "    </tr>\n",
       "    <tr>\n",
       "      <th>16</th>\n",
       "      <td>2020</td>\n",
       "      <td>1000</td>\n",
       "      <td>22</td>\n",
       "    </tr>\n",
       "    <tr>\n",
       "      <th>17</th>\n",
       "      <td>2021</td>\n",
       "      <td>1000</td>\n",
       "      <td>21</td>\n",
       "    </tr>\n",
       "    <tr>\n",
       "      <th>18</th>\n",
       "      <td>2022</td>\n",
       "      <td>1000</td>\n",
       "      <td>21</td>\n",
       "    </tr>\n",
       "    <tr>\n",
       "      <th>19</th>\n",
       "      <td>2023</td>\n",
       "      <td>1000</td>\n",
       "      <td>18</td>\n",
       "    </tr>\n",
       "  </tbody>\n",
       "</table>\n",
       "</div>"
      ],
      "text/plain": [
       "     Ano  Total Universidades  Universidades Brasileiras\n",
       "0   2004                  502                          4\n",
       "1   2005                  500                          4\n",
       "2   2006                  500                          4\n",
       "3   2007                  510                          5\n",
       "4   2008                  503                          6\n",
       "5   2009                  501                          6\n",
       "6   2010                  500                          6\n",
       "7   2011                  500                          7\n",
       "8   2012                  500                          6\n",
       "9   2013                  500                          6\n",
       "10  2014                  500                          6\n",
       "11  2015                  500                          6\n",
       "12  2016                  500                          6\n",
       "13  2017                  800                         13\n",
       "14  2018                 1000                         23\n",
       "15  2019                 1000                         23\n",
       "16  2020                 1000                         22\n",
       "17  2021                 1000                         21\n",
       "18  2022                 1000                         21\n",
       "19  2023                 1000                         18"
      ]
     },
     "execution_count": 55,
     "metadata": {},
     "output_type": "execute_result"
    }
   ],
   "source": [
    "#Número de universidades brasileiras que entraram no ranking\n",
    "#Dataframe com o número total de universidades no ranking de cada ano e quantas dessas são brasileiras\n",
    "\n",
    "num_brasileiras={'Ano':[],\n",
    "                'Total Universidades':[],\n",
    "                'Universidades Brasileiras':[]}\n",
    "for ano in df_dados[\"Year\"].unique():\n",
    "    num_brasileiras['Ano']+=[ano]\n",
    "    num_brasileiras['Total Universidades']+=[len(df_dados[df_dados['Year']==ano])]\n",
    "    try:\n",
    "        num_brasileiras['Universidades Brasileiras']+=[len(df_universidades_brasileiras[df_universidades_brasileiras['Year']==ano])]\n",
    "    except:\n",
    "        num_brasileiras['Universidades Brasileiras']+=[0]\n",
    "\n",
    "num_brasileiras=pd.DataFrame.from_dict(num_brasileiras)\n",
    "num_brasileiras\n",
    "\n",
    "                "
   ]
  },
  {
   "cell_type": "markdown",
   "metadata": {},
   "source": [
    "### Universidades brasileiras melhores colocadas"
   ]
  },
  {
   "cell_type": "code",
   "execution_count": 56,
   "metadata": {},
   "outputs": [],
   "source": [
    "#Criação de dataframe com as 3 universidades brasileiras melhores colocadas em cada ranking\n",
    "\n",
    "top_3_brasileiras={}\n",
    "for ano in df_universidades_brasileiras[\"Year\"].unique():\n",
    "    top_3_brasileiras[str(ano)]=df_universidades_brasileiras[df_universidades_brasileiras['Year']==ano].iloc[:3,0].reset_index(drop=True)"
   ]
  },
  {
   "cell_type": "code",
   "execution_count": 57,
   "metadata": {},
   "outputs": [
    {
     "data": {
      "text/html": [
       "<div>\n",
       "<style scoped>\n",
       "    .dataframe tbody tr th:only-of-type {\n",
       "        vertical-align: middle;\n",
       "    }\n",
       "\n",
       "    .dataframe tbody tr th {\n",
       "        vertical-align: top;\n",
       "    }\n",
       "\n",
       "    .dataframe thead th {\n",
       "        text-align: right;\n",
       "    }\n",
       "</style>\n",
       "<table border=\"1\" class=\"dataframe\">\n",
       "  <thead>\n",
       "    <tr style=\"text-align: right;\">\n",
       "      <th></th>\n",
       "      <th>2004</th>\n",
       "      <th>2005</th>\n",
       "      <th>2006</th>\n",
       "      <th>2007</th>\n",
       "      <th>2008</th>\n",
       "      <th>2009</th>\n",
       "      <th>2010</th>\n",
       "      <th>2011</th>\n",
       "      <th>2012</th>\n",
       "      <th>2013</th>\n",
       "      <th>2014</th>\n",
       "      <th>2015</th>\n",
       "      <th>2016</th>\n",
       "      <th>2017</th>\n",
       "      <th>2018</th>\n",
       "      <th>2019</th>\n",
       "      <th>2020</th>\n",
       "      <th>2021</th>\n",
       "      <th>2022</th>\n",
       "      <th>2023</th>\n",
       "    </tr>\n",
       "  </thead>\n",
       "  <tbody>\n",
       "    <tr>\n",
       "      <th>1</th>\n",
       "      <td>University of Sao Paulo</td>\n",
       "      <td>University of Sao Paulo</td>\n",
       "      <td>University of Sao Paulo</td>\n",
       "      <td>University of Sao Paulo</td>\n",
       "      <td>University of Sao Paulo</td>\n",
       "      <td>University of Sao Paulo</td>\n",
       "      <td>University of Sao Paulo</td>\n",
       "      <td>University of Sao Paulo</td>\n",
       "      <td>University of Sao Paulo</td>\n",
       "      <td>University of Sao Paulo</td>\n",
       "      <td>University of Sao Paulo</td>\n",
       "      <td>University of Sao Paulo</td>\n",
       "      <td>University of Sao Paulo</td>\n",
       "      <td>University of Sao Paulo</td>\n",
       "      <td>University of Sao Paulo</td>\n",
       "      <td>University of Sao Paulo</td>\n",
       "      <td>University of Sao Paulo</td>\n",
       "      <td>University of Sao Paulo</td>\n",
       "      <td>University of Sao Paulo</td>\n",
       "      <td>University of Sao Paulo</td>\n",
       "    </tr>\n",
       "    <tr>\n",
       "      <th>2</th>\n",
       "      <td>Federal University of Rio de Janeiro</td>\n",
       "      <td>State University of Campinas</td>\n",
       "      <td>Federal University of Rio de Janeiro</td>\n",
       "      <td>State University of Campinas</td>\n",
       "      <td>State University of Campinas</td>\n",
       "      <td>State University of Campinas</td>\n",
       "      <td>State University of Campinas</td>\n",
       "      <td>State University of Campinas</td>\n",
       "      <td>State University of Campinas</td>\n",
       "      <td>Federal University of Minas Gerais</td>\n",
       "      <td>Federal University of Minas Gerais</td>\n",
       "      <td>Federal University of Rio de Janeiro</td>\n",
       "      <td>Federal University of Minas Gerais</td>\n",
       "      <td>Federal University of Rio de Janeiro</td>\n",
       "      <td>Federal University of Rio de Janeiro</td>\n",
       "      <td>Federal University of Rio de Janeiro</td>\n",
       "      <td>UNESP</td>\n",
       "      <td>Federal University of Rio Grande do Sul</td>\n",
       "      <td>University of Campinas</td>\n",
       "      <td>UNESP</td>\n",
       "    </tr>\n",
       "    <tr>\n",
       "      <th>3</th>\n",
       "      <td>State University of Campinas</td>\n",
       "      <td>Federal University of Rio de Janeiro</td>\n",
       "      <td>State University of Campinas</td>\n",
       "      <td>Federal University of Rio de Janeiro</td>\n",
       "      <td>Federal University of Minas Gerais</td>\n",
       "      <td>Federal University of Minas Gerais</td>\n",
       "      <td>Federal University of Minas Gerais</td>\n",
       "      <td>Federal University of Minas Gerais</td>\n",
       "      <td>Federal University of Minas Gerais</td>\n",
       "      <td>Federal University of Rio de Janeiro</td>\n",
       "      <td>Federal University of Rio de Janeiro</td>\n",
       "      <td>UNESP</td>\n",
       "      <td>Federal University of Rio de Janeiro</td>\n",
       "      <td>UNESP</td>\n",
       "      <td>UNESP</td>\n",
       "      <td>UNESP</td>\n",
       "      <td>University of Campinas</td>\n",
       "      <td>UNESP</td>\n",
       "      <td>Federal University of Minas Gerais</td>\n",
       "      <td>Federal University of Minas Gerais</td>\n",
       "    </tr>\n",
       "  </tbody>\n",
       "</table>\n",
       "</div>"
      ],
      "text/plain": [
       "                                   2004                                  2005  \\\n",
       "1               University of Sao Paulo               University of Sao Paulo   \n",
       "2  Federal University of Rio de Janeiro          State University of Campinas   \n",
       "3          State University of Campinas  Federal University of Rio de Janeiro   \n",
       "\n",
       "                                   2006                                  2007  \\\n",
       "1               University of Sao Paulo               University of Sao Paulo   \n",
       "2  Federal University of Rio de Janeiro          State University of Campinas   \n",
       "3          State University of Campinas  Federal University of Rio de Janeiro   \n",
       "\n",
       "                                 2008                                2009  \\\n",
       "1             University of Sao Paulo             University of Sao Paulo   \n",
       "2        State University of Campinas        State University of Campinas   \n",
       "3  Federal University of Minas Gerais  Federal University of Minas Gerais   \n",
       "\n",
       "                                 2010                                2011  \\\n",
       "1             University of Sao Paulo             University of Sao Paulo   \n",
       "2        State University of Campinas        State University of Campinas   \n",
       "3  Federal University of Minas Gerais  Federal University of Minas Gerais   \n",
       "\n",
       "                                 2012                                  2013  \\\n",
       "1             University of Sao Paulo               University of Sao Paulo   \n",
       "2        State University of Campinas    Federal University of Minas Gerais   \n",
       "3  Federal University of Minas Gerais  Federal University of Rio de Janeiro   \n",
       "\n",
       "                                   2014                                  2015  \\\n",
       "1               University of Sao Paulo               University of Sao Paulo   \n",
       "2    Federal University of Minas Gerais  Federal University of Rio de Janeiro   \n",
       "3  Federal University of Rio de Janeiro                                 UNESP   \n",
       "\n",
       "                                   2016                                  2017  \\\n",
       "1               University of Sao Paulo               University of Sao Paulo   \n",
       "2    Federal University of Minas Gerais  Federal University of Rio de Janeiro   \n",
       "3  Federal University of Rio de Janeiro                                 UNESP   \n",
       "\n",
       "                                   2018                                  2019  \\\n",
       "1               University of Sao Paulo               University of Sao Paulo   \n",
       "2  Federal University of Rio de Janeiro  Federal University of Rio de Janeiro   \n",
       "3                                 UNESP                                 UNESP   \n",
       "\n",
       "                      2020                                     2021  \\\n",
       "1  University of Sao Paulo                  University of Sao Paulo   \n",
       "2                    UNESP  Federal University of Rio Grande do Sul   \n",
       "3   University of Campinas                                    UNESP   \n",
       "\n",
       "                                 2022                                2023  \n",
       "1             University of Sao Paulo             University of Sao Paulo  \n",
       "2              University of Campinas                               UNESP  \n",
       "3  Federal University of Minas Gerais  Federal University of Minas Gerais  "
      ]
     },
     "execution_count": 57,
     "metadata": {},
     "output_type": "execute_result"
    }
   ],
   "source": [
    "top_3_brasileiras=pd.DataFrame.from_dict(top_3_brasileiras)\n",
    "top_3_brasileiras.index=[1,2,3]\n",
    "top_3_brasileiras"
   ]
  },
  {
   "cell_type": "code",
   "execution_count": 58,
   "metadata": {},
   "outputs": [
    {
     "data": {
      "text/html": [
       "<div>\n",
       "<style scoped>\n",
       "    .dataframe tbody tr th:only-of-type {\n",
       "        vertical-align: middle;\n",
       "    }\n",
       "\n",
       "    .dataframe tbody tr th {\n",
       "        vertical-align: top;\n",
       "    }\n",
       "\n",
       "    .dataframe thead th {\n",
       "        text-align: right;\n",
       "    }\n",
       "</style>\n",
       "<table border=\"1\" class=\"dataframe\">\n",
       "  <thead>\n",
       "    <tr style=\"text-align: right;\">\n",
       "      <th></th>\n",
       "      <th>2004</th>\n",
       "      <th>2005</th>\n",
       "      <th>2006</th>\n",
       "      <th>2007</th>\n",
       "      <th>2008</th>\n",
       "      <th>2009</th>\n",
       "      <th>2010</th>\n",
       "      <th>2011</th>\n",
       "      <th>2012</th>\n",
       "      <th>2013</th>\n",
       "      <th>2014</th>\n",
       "      <th>2015</th>\n",
       "      <th>2016</th>\n",
       "      <th>2017</th>\n",
       "      <th>2018</th>\n",
       "      <th>2019</th>\n",
       "      <th>2020</th>\n",
       "      <th>2021</th>\n",
       "      <th>2022</th>\n",
       "      <th>2023</th>\n",
       "    </tr>\n",
       "  </thead>\n",
       "  <tbody>\n",
       "    <tr>\n",
       "      <th>1</th>\n",
       "      <td>153-201</td>\n",
       "      <td>101-152</td>\n",
       "      <td>102-150</td>\n",
       "      <td>102-150</td>\n",
       "      <td>101-151</td>\n",
       "      <td>101-151</td>\n",
       "      <td>101-150</td>\n",
       "      <td>102-150</td>\n",
       "      <td>101-150</td>\n",
       "      <td>101-150</td>\n",
       "      <td>101-150</td>\n",
       "      <td>101-150</td>\n",
       "      <td>101-150</td>\n",
       "      <td>151-200</td>\n",
       "      <td>151-200</td>\n",
       "      <td>101-150</td>\n",
       "      <td>101-150</td>\n",
       "      <td>101-150</td>\n",
       "      <td>101-150</td>\n",
       "      <td>101-150</td>\n",
       "    </tr>\n",
       "    <tr>\n",
       "      <th>2</th>\n",
       "      <td>302-403</td>\n",
       "      <td>203-300</td>\n",
       "      <td>301-400</td>\n",
       "      <td>203-304</td>\n",
       "      <td>201-302</td>\n",
       "      <td>201-302</td>\n",
       "      <td>201-300</td>\n",
       "      <td>201-300</td>\n",
       "      <td>201-300</td>\n",
       "      <td>301-400</td>\n",
       "      <td>301-400</td>\n",
       "      <td>301-400</td>\n",
       "      <td>301-400</td>\n",
       "      <td>301-400</td>\n",
       "      <td>301-400</td>\n",
       "      <td>301-400</td>\n",
       "      <td>301-400</td>\n",
       "      <td>301-400</td>\n",
       "      <td>301-400</td>\n",
       "      <td>301-400</td>\n",
       "    </tr>\n",
       "    <tr>\n",
       "      <th>3</th>\n",
       "      <td>302-403</td>\n",
       "      <td>301-400</td>\n",
       "      <td>301-400</td>\n",
       "      <td>305-402</td>\n",
       "      <td>303-401</td>\n",
       "      <td>303-401</td>\n",
       "      <td>301-400</td>\n",
       "      <td>301-400</td>\n",
       "      <td>301-400</td>\n",
       "      <td>301-400</td>\n",
       "      <td>301-400</td>\n",
       "      <td>301-400</td>\n",
       "      <td>301-400</td>\n",
       "      <td>301-400</td>\n",
       "      <td>301-400</td>\n",
       "      <td>301-400</td>\n",
       "      <td>301-400</td>\n",
       "      <td>301-400</td>\n",
       "      <td>401-500</td>\n",
       "      <td>401-500</td>\n",
       "    </tr>\n",
       "  </tbody>\n",
       "</table>\n",
       "</div>"
      ],
      "text/plain": [
       "      2004     2005     2006     2007     2008     2009     2010     2011  \\\n",
       "1  153-201  101-152  102-150  102-150  101-151  101-151  101-150  102-150   \n",
       "2  302-403  203-300  301-400  203-304  201-302  201-302  201-300  201-300   \n",
       "3  302-403  301-400  301-400  305-402  303-401  303-401  301-400  301-400   \n",
       "\n",
       "      2012     2013     2014     2015     2016     2017     2018     2019  \\\n",
       "1  101-150  101-150  101-150  101-150  101-150  151-200  151-200  101-150   \n",
       "2  201-300  301-400  301-400  301-400  301-400  301-400  301-400  301-400   \n",
       "3  301-400  301-400  301-400  301-400  301-400  301-400  301-400  301-400   \n",
       "\n",
       "      2020     2021     2022     2023  \n",
       "1  101-150  101-150  101-150  101-150  \n",
       "2  301-400  301-400  301-400  301-400  \n",
       "3  301-400  301-400  401-500  401-500  "
      ]
     },
     "execution_count": 58,
     "metadata": {},
     "output_type": "execute_result"
    }
   ],
   "source": [
    "#Posições da 3 brasileiras melhores colocada no ranking geral\n",
    "#Até o momento nenhuma universidade brasileira entrou no top 100 do ranking Shanghai\n",
    "\n",
    "melhores_posicoes_universidades_brasileiras={}\n",
    "for ano in df_universidades_brasileiras[\"Year\"].unique():\n",
    "    melhores_posicoes_universidades_brasileiras[str(ano)]=df_universidades_brasileiras[df_universidades_brasileiras['Year']==ano].iloc[:3,2].reset_index(drop=True)\n",
    "\n",
    "melhores_posicoes_universidades_brasileiras=pd.DataFrame.from_dict(melhores_posicoes_universidades_brasileiras)\n",
    "melhores_posicoes_universidades_brasileiras.index=[1,2,3]\n",
    "melhores_posicoes_universidades_brasileiras"
   ]
  },
  {
   "cell_type": "code",
   "execution_count": 59,
   "metadata": {},
   "outputs": [],
   "source": [
    "'''\n",
    "Unicamp aparece com dois nomes diferentes nos dados:\n",
    "University of Campinas\n",
    "State University of Campinas\n",
    "\n",
    "Alterando o nome para padronizar o nome da Unicamp\n",
    "'''\n",
    "df_dados.replace('State University of Campinas','University of Campinas',inplace=True)"
   ]
  },
  {
   "cell_type": "code",
   "execution_count": 60,
   "metadata": {},
   "outputs": [
    {
     "data": {
      "text/plain": [
       "Index(['Institution', 'Year', 'World Rank'], dtype='object')"
      ]
     },
     "execution_count": 60,
     "metadata": {},
     "output_type": "execute_result"
    }
   ],
   "source": [
    "df_universidades_brasileiras.columns"
   ]
  },
  {
   "cell_type": "code",
   "execution_count": 70,
   "metadata": {},
   "outputs": [
    {
     "data": {
      "text/html": [
       "<style type=\"text/css\">\n",
       "</style>\n",
       "<table id=\"T_fafe7\">\n",
       "  <thead>\n",
       "    <tr>\n",
       "      <th id=\"T_fafe7_level0_col0\" class=\"col_heading level0 col0\" >Universidade</th>\n",
       "      <th id=\"T_fafe7_level0_col1\" class=\"col_heading level0 col1\" >Posição no Ranking</th>\n",
       "    </tr>\n",
       "  </thead>\n",
       "  <tbody>\n",
       "    <tr>\n",
       "      <td id=\"T_fafe7_row0_col0\" class=\"data row0 col0\" >University of Sao Paulo</td>\n",
       "      <td id=\"T_fafe7_row0_col1\" class=\"data row0 col1\" >101-150</td>\n",
       "    </tr>\n",
       "    <tr>\n",
       "      <td id=\"T_fafe7_row1_col0\" class=\"data row1 col0\" >UNESP</td>\n",
       "      <td id=\"T_fafe7_row1_col1\" class=\"data row1 col1\" >301-400</td>\n",
       "    </tr>\n",
       "    <tr>\n",
       "      <td id=\"T_fafe7_row2_col0\" class=\"data row2 col0\" >Federal University of Minas Gerais</td>\n",
       "      <td id=\"T_fafe7_row2_col1\" class=\"data row2 col1\" >401-500</td>\n",
       "    </tr>\n",
       "    <tr>\n",
       "      <td id=\"T_fafe7_row3_col0\" class=\"data row3 col0\" >Federal University of Rio Grande do Sul</td>\n",
       "      <td id=\"T_fafe7_row3_col1\" class=\"data row3 col1\" >401-500</td>\n",
       "    </tr>\n",
       "    <tr>\n",
       "      <td id=\"T_fafe7_row4_col0\" class=\"data row4 col0\" >University of Campinas</td>\n",
       "      <td id=\"T_fafe7_row4_col1\" class=\"data row4 col1\" >401-500</td>\n",
       "    </tr>\n",
       "    <tr>\n",
       "      <td id=\"T_fafe7_row5_col0\" class=\"data row5 col0\" >Federal University of Rio de Janeiro</td>\n",
       "      <td id=\"T_fafe7_row5_col1\" class=\"data row5 col1\" >501-600</td>\n",
       "    </tr>\n",
       "    <tr>\n",
       "      <td id=\"T_fafe7_row6_col0\" class=\"data row6 col0\" >Federal University of Parana</td>\n",
       "      <td id=\"T_fafe7_row6_col1\" class=\"data row6 col1\" >701-800</td>\n",
       "    </tr>\n",
       "    <tr>\n",
       "      <td id=\"T_fafe7_row7_col0\" class=\"data row7 col0\" >Federal University of Santa Catarina</td>\n",
       "      <td id=\"T_fafe7_row7_col1\" class=\"data row7 col1\" >701-800</td>\n",
       "    </tr>\n",
       "    <tr>\n",
       "      <td id=\"T_fafe7_row8_col0\" class=\"data row8 col0\" >Federal University of Sao Paulo</td>\n",
       "      <td id=\"T_fafe7_row8_col1\" class=\"data row8 col1\" >701-800</td>\n",
       "    </tr>\n",
       "    <tr>\n",
       "      <td id=\"T_fafe7_row9_col0\" class=\"data row9 col0\" >University of Brasília</td>\n",
       "      <td id=\"T_fafe7_row9_col1\" class=\"data row9 col1\" >701-800</td>\n",
       "    </tr>\n",
       "  </tbody>\n",
       "</table>\n"
      ],
      "text/plain": [
       "<pandas.io.formats.style.Styler at 0x7f9edb58f2f0>"
      ]
     },
     "execution_count": 70,
     "metadata": {},
     "output_type": "execute_result"
    }
   ],
   "source": [
    "#Criação de dataframe com as 10 universidade brasileiras melhores colocadasno ranking de 2024\n",
    "#Dataframe será usado no readme do projeto\n",
    "\n",
    "'''\n",
    "path_to_save='/home/rodolfo/Insync/rodolfopcruz2@gmail.com/Google Drive/Estudo/Python_Projects/education_data/education_analysis/Shanghai World University Rankings/images/'\n",
    "x=df_universidades_brasileiras.loc[df_universidades_brasileiras['Year']=='2023',:]\n",
    "x=x.rename(columns={'World Rank':'Posição no Ranking','Institution':'Universidade'})\n",
    "x=x.iloc[:10,:]\n",
    "x.drop(columns='Year',inplace=True)\n",
    "x=x.style.format().hide(axis='index')\n",
    "dfi.export(x,path_to_save+'top_brasileiras.png')\n",
    "x\n",
    "'''"
   ]
  },
  {
   "cell_type": "markdown",
   "metadata": {},
   "source": [
    "### USP e Unicamp"
   ]
  },
  {
   "cell_type": "markdown",
   "metadata": {},
   "source": [
    "#### Comparativo com as 10 melhores colocadas\n"
   ]
  },
  {
   "cell_type": "code",
   "execution_count": 35,
   "metadata": {},
   "outputs": [],
   "source": [
    "#Comparativo para o ano de 2023 - último ranking publicado até o momento\n",
    "\n",
    "\n",
    "colunas_comparativo=['Institution','Country_Names','World Rank','Alumni', 'Award', 'HiCi', 'N&S', 'PUB', 'PCP'] #colunas_comparativo são as colunas que serão usadas no comparativo\n",
    "ranking_2023=df_dados.loc[df_dados[\"Year\"]=='2023',colunas_comparativo] #somente o ranking de 2023\n",
    "filtro=((ranking_2023['Institution']=='University of Sao Paulo') | (ranking_2023['Institution']=='University of Campinas')) #filtro para selecionar somente USP e Unicamp\n",
    "usp_unicamp=ranking_2023.loc[filtro,:] #dados para usp e unicamp\n",
    "top10_2023=ranking_2023.iloc[:9,:] #10 melhores colocadas\n",
    "\n"
   ]
  },
  {
   "cell_type": "code",
   "execution_count": 36,
   "metadata": {},
   "outputs": [
    {
     "data": {
      "text/html": [
       "<div>\n",
       "<style scoped>\n",
       "    .dataframe tbody tr th:only-of-type {\n",
       "        vertical-align: middle;\n",
       "    }\n",
       "\n",
       "    .dataframe tbody tr th {\n",
       "        vertical-align: top;\n",
       "    }\n",
       "\n",
       "    .dataframe thead th {\n",
       "        text-align: right;\n",
       "    }\n",
       "</style>\n",
       "<table border=\"1\" class=\"dataframe\">\n",
       "  <thead>\n",
       "    <tr style=\"text-align: right;\">\n",
       "      <th></th>\n",
       "      <th>Institution</th>\n",
       "      <th>Country_Names</th>\n",
       "      <th>World Rank</th>\n",
       "      <th>Alumni</th>\n",
       "      <th>Award</th>\n",
       "      <th>HiCi</th>\n",
       "      <th>N&amp;S</th>\n",
       "      <th>PUB</th>\n",
       "      <th>PCP</th>\n",
       "    </tr>\n",
       "  </thead>\n",
       "  <tbody>\n",
       "    <tr>\n",
       "      <th>12316</th>\n",
       "      <td>Harvard University</td>\n",
       "      <td>United States</td>\n",
       "      <td>1</td>\n",
       "      <td>100.0</td>\n",
       "      <td>92.6</td>\n",
       "      <td>100.0</td>\n",
       "      <td>100.0</td>\n",
       "      <td>100.0</td>\n",
       "      <td>86.7</td>\n",
       "    </tr>\n",
       "    <tr>\n",
       "      <th>12317</th>\n",
       "      <td>Stanford University</td>\n",
       "      <td>United States</td>\n",
       "      <td>2</td>\n",
       "      <td>45.6</td>\n",
       "      <td>88.1</td>\n",
       "      <td>73.6</td>\n",
       "      <td>82.8</td>\n",
       "      <td>67.5</td>\n",
       "      <td>58.0</td>\n",
       "    </tr>\n",
       "    <tr>\n",
       "      <th>12318</th>\n",
       "      <td>Massachusetts Institute of Technology (MIT)</td>\n",
       "      <td>United States</td>\n",
       "      <td>3</td>\n",
       "      <td>72.5</td>\n",
       "      <td>81.1</td>\n",
       "      <td>54.7</td>\n",
       "      <td>71.8</td>\n",
       "      <td>55.0</td>\n",
       "      <td>73.8</td>\n",
       "    </tr>\n",
       "    <tr>\n",
       "      <th>12319</th>\n",
       "      <td>University of Cambridge</td>\n",
       "      <td>United Kingdom</td>\n",
       "      <td>4</td>\n",
       "      <td>78.9</td>\n",
       "      <td>90.8</td>\n",
       "      <td>45.1</td>\n",
       "      <td>61.0</td>\n",
       "      <td>63.6</td>\n",
       "      <td>60.4</td>\n",
       "    </tr>\n",
       "    <tr>\n",
       "      <th>12320</th>\n",
       "      <td>University of California, Berkeley</td>\n",
       "      <td>United States</td>\n",
       "      <td>5</td>\n",
       "      <td>65.8</td>\n",
       "      <td>76.5</td>\n",
       "      <td>52.6</td>\n",
       "      <td>64.3</td>\n",
       "      <td>53.1</td>\n",
       "      <td>57.3</td>\n",
       "    </tr>\n",
       "    <tr>\n",
       "      <th>12321</th>\n",
       "      <td>Princeton University</td>\n",
       "      <td>United States</td>\n",
       "      <td>6</td>\n",
       "      <td>61.7</td>\n",
       "      <td>100.0</td>\n",
       "      <td>32.9</td>\n",
       "      <td>50.4</td>\n",
       "      <td>39.4</td>\n",
       "      <td>76.7</td>\n",
       "    </tr>\n",
       "    <tr>\n",
       "      <th>12322</th>\n",
       "      <td>University of Oxford</td>\n",
       "      <td>United Kingdom</td>\n",
       "      <td>7</td>\n",
       "      <td>49.9</td>\n",
       "      <td>59.7</td>\n",
       "      <td>51.4</td>\n",
       "      <td>57.6</td>\n",
       "      <td>71.4</td>\n",
       "      <td>48.5</td>\n",
       "    </tr>\n",
       "    <tr>\n",
       "      <th>12323</th>\n",
       "      <td>Columbia University</td>\n",
       "      <td>United States</td>\n",
       "      <td>8</td>\n",
       "      <td>58.5</td>\n",
       "      <td>60.9</td>\n",
       "      <td>47.0</td>\n",
       "      <td>52.3</td>\n",
       "      <td>63.1</td>\n",
       "      <td>32.1</td>\n",
       "    </tr>\n",
       "    <tr>\n",
       "      <th>12324</th>\n",
       "      <td>California Institute of Technology</td>\n",
       "      <td>United States</td>\n",
       "      <td>9</td>\n",
       "      <td>56.1</td>\n",
       "      <td>63.4</td>\n",
       "      <td>28.7</td>\n",
       "      <td>57.3</td>\n",
       "      <td>37.6</td>\n",
       "      <td>100.0</td>\n",
       "    </tr>\n",
       "  </tbody>\n",
       "</table>\n",
       "</div>"
      ],
      "text/plain": [
       "                                       Institution   Country_Names World Rank  \\\n",
       "12316                           Harvard University   United States          1   \n",
       "12317                          Stanford University   United States          2   \n",
       "12318  Massachusetts Institute of Technology (MIT)   United States          3   \n",
       "12319                      University of Cambridge  United Kingdom          4   \n",
       "12320           University of California, Berkeley   United States          5   \n",
       "12321                         Princeton University   United States          6   \n",
       "12322                         University of Oxford  United Kingdom          7   \n",
       "12323                          Columbia University   United States          8   \n",
       "12324           California Institute of Technology   United States          9   \n",
       "\n",
       "       Alumni  Award   HiCi    N&S    PUB    PCP  \n",
       "12316   100.0   92.6  100.0  100.0  100.0   86.7  \n",
       "12317    45.6   88.1   73.6   82.8   67.5   58.0  \n",
       "12318    72.5   81.1   54.7   71.8   55.0   73.8  \n",
       "12319    78.9   90.8   45.1   61.0   63.6   60.4  \n",
       "12320    65.8   76.5   52.6   64.3   53.1   57.3  \n",
       "12321    61.7  100.0   32.9   50.4   39.4   76.7  \n",
       "12322    49.9   59.7   51.4   57.6   71.4   48.5  \n",
       "12323    58.5   60.9   47.0   52.3   63.1   32.1  \n",
       "12324    56.1   63.4   28.7   57.3   37.6  100.0  "
      ]
     },
     "execution_count": 36,
     "metadata": {},
     "output_type": "execute_result"
    }
   ],
   "source": [
    "#Universidades no top 10 no ano de 2023\n",
    "top10_2023\n"
   ]
  },
  {
   "cell_type": "code",
   "execution_count": 37,
   "metadata": {},
   "outputs": [
    {
     "data": {
      "text/html": [
       "<div>\n",
       "<style scoped>\n",
       "    .dataframe tbody tr th:only-of-type {\n",
       "        vertical-align: middle;\n",
       "    }\n",
       "\n",
       "    .dataframe tbody tr th {\n",
       "        vertical-align: top;\n",
       "    }\n",
       "\n",
       "    .dataframe thead th {\n",
       "        text-align: right;\n",
       "    }\n",
       "</style>\n",
       "<table border=\"1\" class=\"dataframe\">\n",
       "  <thead>\n",
       "    <tr style=\"text-align: right;\">\n",
       "      <th></th>\n",
       "      <th>Institution</th>\n",
       "      <th>Country_Names</th>\n",
       "      <th>World Rank</th>\n",
       "      <th>Alumni</th>\n",
       "      <th>Award</th>\n",
       "      <th>HiCi</th>\n",
       "      <th>N&amp;S</th>\n",
       "      <th>PUB</th>\n",
       "      <th>PCP</th>\n",
       "    </tr>\n",
       "  </thead>\n",
       "  <tbody>\n",
       "    <tr>\n",
       "      <th>12460</th>\n",
       "      <td>University of Sao Paulo</td>\n",
       "      <td>Brazil</td>\n",
       "      <td>101-150</td>\n",
       "      <td>0.0</td>\n",
       "      <td>0.0</td>\n",
       "      <td>18.6</td>\n",
       "      <td>14.7</td>\n",
       "      <td>67.8</td>\n",
       "      <td>17.3</td>\n",
       "    </tr>\n",
       "    <tr>\n",
       "      <th>12778</th>\n",
       "      <td>University of Campinas</td>\n",
       "      <td>Brazil</td>\n",
       "      <td>401-500</td>\n",
       "      <td>0.0</td>\n",
       "      <td>0.0</td>\n",
       "      <td>6.6</td>\n",
       "      <td>5.9</td>\n",
       "      <td>38.4</td>\n",
       "      <td>17.0</td>\n",
       "    </tr>\n",
       "  </tbody>\n",
       "</table>\n",
       "</div>"
      ],
      "text/plain": [
       "                   Institution Country_Names World Rank  Alumni  Award  HiCi  \\\n",
       "12460  University of Sao Paulo        Brazil    101-150     0.0    0.0  18.6   \n",
       "12778   University of Campinas        Brazil    401-500     0.0    0.0   6.6   \n",
       "\n",
       "        N&S   PUB   PCP  \n",
       "12460  14.7  67.8  17.3  \n",
       "12778   5.9  38.4  17.0  "
      ]
     },
     "execution_count": 37,
     "metadata": {},
     "output_type": "execute_result"
    }
   ],
   "source": [
    "#dados para Usp e Unicamp para 2024\n",
    "usp_unicamp"
   ]
  },
  {
   "cell_type": "code",
   "execution_count": 38,
   "metadata": {},
   "outputs": [
    {
     "data": {
      "text/html": [
       "<div>\n",
       "<style scoped>\n",
       "    .dataframe tbody tr th:only-of-type {\n",
       "        vertical-align: middle;\n",
       "    }\n",
       "\n",
       "    .dataframe tbody tr th {\n",
       "        vertical-align: top;\n",
       "    }\n",
       "\n",
       "    .dataframe thead th {\n",
       "        text-align: right;\n",
       "    }\n",
       "</style>\n",
       "<table border=\"1\" class=\"dataframe\">\n",
       "  <thead>\n",
       "    <tr style=\"text-align: right;\">\n",
       "      <th></th>\n",
       "      <th>Alumni</th>\n",
       "      <th>Award</th>\n",
       "      <th>HiCi</th>\n",
       "      <th>N&amp;S</th>\n",
       "      <th>PUB</th>\n",
       "      <th>PCP</th>\n",
       "    </tr>\n",
       "  </thead>\n",
       "  <tbody>\n",
       "    <tr>\n",
       "      <th>USP</th>\n",
       "      <td>0.00</td>\n",
       "      <td>0.00</td>\n",
       "      <td>18.60</td>\n",
       "      <td>14.70</td>\n",
       "      <td>67.80</td>\n",
       "      <td>17.30</td>\n",
       "    </tr>\n",
       "    <tr>\n",
       "      <th>Unicamp</th>\n",
       "      <td>0.00</td>\n",
       "      <td>0.00</td>\n",
       "      <td>6.60</td>\n",
       "      <td>5.90</td>\n",
       "      <td>38.40</td>\n",
       "      <td>17.00</td>\n",
       "    </tr>\n",
       "    <tr>\n",
       "      <th>Máximo Top 10</th>\n",
       "      <td>100.00</td>\n",
       "      <td>100.00</td>\n",
       "      <td>100.00</td>\n",
       "      <td>100.00</td>\n",
       "      <td>100.00</td>\n",
       "      <td>100.00</td>\n",
       "    </tr>\n",
       "    <tr>\n",
       "      <th>Mínimo Top 10</th>\n",
       "      <td>45.60</td>\n",
       "      <td>59.70</td>\n",
       "      <td>28.70</td>\n",
       "      <td>50.40</td>\n",
       "      <td>37.60</td>\n",
       "      <td>32.10</td>\n",
       "    </tr>\n",
       "    <tr>\n",
       "      <th>Média Top 10</th>\n",
       "      <td>65.44</td>\n",
       "      <td>79.23</td>\n",
       "      <td>54.00</td>\n",
       "      <td>66.39</td>\n",
       "      <td>61.19</td>\n",
       "      <td>65.94</td>\n",
       "    </tr>\n",
       "    <tr>\n",
       "      <th>Mediana Top 10</th>\n",
       "      <td>61.70</td>\n",
       "      <td>81.10</td>\n",
       "      <td>51.40</td>\n",
       "      <td>61.00</td>\n",
       "      <td>63.10</td>\n",
       "      <td>60.40</td>\n",
       "    </tr>\n",
       "  </tbody>\n",
       "</table>\n",
       "</div>"
      ],
      "text/plain": [
       "                Alumni  Award   HiCi    N&S    PUB    PCP\n",
       "USP               0.00   0.00  18.60  14.70  67.80  17.30\n",
       "Unicamp           0.00   0.00   6.60   5.90  38.40  17.00\n",
       "Máximo Top 10   100.00 100.00 100.00 100.00 100.00 100.00\n",
       "Mínimo Top 10    45.60  59.70  28.70  50.40  37.60  32.10\n",
       "Média Top 10     65.44  79.23  54.00  66.39  61.19  65.94\n",
       "Mediana Top 10   61.70  81.10  51.40  61.00  63.10  60.40"
      ]
     },
     "execution_count": 38,
     "metadata": {},
     "output_type": "execute_result"
    }
   ],
   "source": [
    "#Criação deum dataframe com os valores de certos indicadores para Usp e Unicamp bem como dos valores máximos, mínimos, média e mediana desses mesmos indicadores para as universidades\n",
    "#no top 10\n",
    "comparativo_usp_unicamp_top10={'Alumni':[],'Award':[],'HiCi':[], #Dicionário que será convertido em dataframe com os indicadores selecionados\n",
    "            'N&S':[],'PUB':[],'PCP':[]}\n",
    "for key in comparativo_usp_unicamp_top10.keys():\n",
    "    comparativo_usp_unicamp_top10[key]+=[usp_unicamp.loc[usp_unicamp['Institution']=='University of Sao Paulo',key].item()] #dados para usp\n",
    "    comparativo_usp_unicamp_top10[key]+=[usp_unicamp.loc[usp_unicamp['Institution']=='University of Campinas',key].item()]  #dados para unicamp\n",
    "    comparativo_usp_unicamp_top10[key]+=[top10_2023.loc[:,key].max().item()] #maximo dentre universidades no top 10\n",
    "    comparativo_usp_unicamp_top10[key]+=[top10_2023.loc[:,key].min().item()] #mínimo dentre universidade no top 10\n",
    "    comparativo_usp_unicamp_top10[key]+=[top10_2023.loc[:,key].mean().item()] #média dentre universidade no top 10\n",
    "    comparativo_usp_unicamp_top10[key]+=[top10_2023.loc[:,key].median().item()] #mediana dentre universidades no top 10\n",
    "\n",
    "comparativo_usp_unicamp_top10=pd.DataFrame.from_dict(comparativo_usp_unicamp_top10)\n",
    "index_comparativo=['USP','Unicamp','Máximo Top 10','Mínimo Top 10', 'Média Top 10', 'Mediana Top 10'] #nome do index\n",
    "comparativo_usp_unicamp_top10.index=index_comparativo\n",
    "pd.options.display.float_format = '{:,.2f}'.format #mostrar os ddos no dataframe com somente dois algarismos depois da virgula\n",
    "comparativo_usp_unicamp_top10\n"
   ]
  },
  {
   "cell_type": "markdown",
   "metadata": {},
   "source": [
    "#### Evolução de indicadores da USP e da Unicamp\n"
   ]
  },
  {
   "cell_type": "code",
   "execution_count": 39,
   "metadata": {},
   "outputs": [],
   "source": [
    "#Indicadores que serão analisados\n",
    "indicadores=['Year','Alumni', 'Award',\n",
    "                     'HiCi', 'N&S', 'PUB', 'PCP'] #colunas_comparativo são as colunas que serão usadas no comparativo\n"
   ]
  },
  {
   "cell_type": "code",
   "execution_count": 40,
   "metadata": {},
   "outputs": [
    {
     "data": {
      "text/html": [
       "<div>\n",
       "<style scoped>\n",
       "    .dataframe tbody tr th:only-of-type {\n",
       "        vertical-align: middle;\n",
       "    }\n",
       "\n",
       "    .dataframe tbody tr th {\n",
       "        vertical-align: top;\n",
       "    }\n",
       "\n",
       "    .dataframe thead th {\n",
       "        text-align: right;\n",
       "    }\n",
       "</style>\n",
       "<table border=\"1\" class=\"dataframe\">\n",
       "  <thead>\n",
       "    <tr style=\"text-align: right;\">\n",
       "      <th></th>\n",
       "      <th>Year</th>\n",
       "      <th>Alumni</th>\n",
       "      <th>Award</th>\n",
       "      <th>HiCi</th>\n",
       "      <th>N&amp;S</th>\n",
       "      <th>PUB</th>\n",
       "      <th>PCP</th>\n",
       "    </tr>\n",
       "  </thead>\n",
       "  <tbody>\n",
       "    <tr>\n",
       "      <th>0</th>\n",
       "      <td>2004</td>\n",
       "      <td>0.00</td>\n",
       "      <td>0.00</td>\n",
       "      <td>8.70</td>\n",
       "      <td>6.40</td>\n",
       "      <td>37.90</td>\n",
       "      <td>11.80</td>\n",
       "    </tr>\n",
       "    <tr>\n",
       "      <th>1</th>\n",
       "      <td>2005</td>\n",
       "      <td>0.00</td>\n",
       "      <td>0.00</td>\n",
       "      <td>7.90</td>\n",
       "      <td>6.20</td>\n",
       "      <td>40.60</td>\n",
       "      <td>17.80</td>\n",
       "    </tr>\n",
       "    <tr>\n",
       "      <th>2</th>\n",
       "      <td>2006</td>\n",
       "      <td>0.00</td>\n",
       "      <td>0.00</td>\n",
       "      <td>7.70</td>\n",
       "      <td>4.10</td>\n",
       "      <td>41.00</td>\n",
       "      <td>19.10</td>\n",
       "    </tr>\n",
       "    <tr>\n",
       "      <th>3</th>\n",
       "      <td>2007</td>\n",
       "      <td>0.00</td>\n",
       "      <td>0.00</td>\n",
       "      <td>7.40</td>\n",
       "      <td>4.10</td>\n",
       "      <td>42.00</td>\n",
       "      <td>19.30</td>\n",
       "    </tr>\n",
       "    <tr>\n",
       "      <th>4</th>\n",
       "      <td>2008</td>\n",
       "      <td>0.00</td>\n",
       "      <td>0.00</td>\n",
       "      <td>7.30</td>\n",
       "      <td>6.30</td>\n",
       "      <td>41.80</td>\n",
       "      <td>14.30</td>\n",
       "    </tr>\n",
       "    <tr>\n",
       "      <th>5</th>\n",
       "      <td>2009</td>\n",
       "      <td>0.00</td>\n",
       "      <td>0.00</td>\n",
       "      <td>7.30</td>\n",
       "      <td>6.90</td>\n",
       "      <td>41.20</td>\n",
       "      <td>19.50</td>\n",
       "    </tr>\n",
       "    <tr>\n",
       "      <th>6</th>\n",
       "      <td>2010</td>\n",
       "      <td>0.00</td>\n",
       "      <td>0.00</td>\n",
       "      <td>7.20</td>\n",
       "      <td>7.80</td>\n",
       "      <td>44.30</td>\n",
       "      <td>19.90</td>\n",
       "    </tr>\n",
       "    <tr>\n",
       "      <th>7</th>\n",
       "      <td>2011</td>\n",
       "      <td>0.00</td>\n",
       "      <td>0.00</td>\n",
       "      <td>7.20</td>\n",
       "      <td>7.90</td>\n",
       "      <td>43.10</td>\n",
       "      <td>20.50</td>\n",
       "    </tr>\n",
       "    <tr>\n",
       "      <th>8</th>\n",
       "      <td>2012</td>\n",
       "      <td>0.00</td>\n",
       "      <td>0.00</td>\n",
       "      <td>7.20</td>\n",
       "      <td>8.00</td>\n",
       "      <td>42.00</td>\n",
       "      <td>18.70</td>\n",
       "    </tr>\n",
       "    <tr>\n",
       "      <th>9</th>\n",
       "      <td>2013</td>\n",
       "      <td>0.00</td>\n",
       "      <td>0.00</td>\n",
       "      <td>7.20</td>\n",
       "      <td>5.40</td>\n",
       "      <td>42.40</td>\n",
       "      <td>19.90</td>\n",
       "    </tr>\n",
       "    <tr>\n",
       "      <th>10</th>\n",
       "      <td>2014</td>\n",
       "      <td>0.00</td>\n",
       "      <td>0.00</td>\n",
       "      <td>3.60</td>\n",
       "      <td>4.60</td>\n",
       "      <td>42.60</td>\n",
       "      <td>20.00</td>\n",
       "    </tr>\n",
       "    <tr>\n",
       "      <th>11</th>\n",
       "      <td>2015</td>\n",
       "      <td>0.00</td>\n",
       "      <td>0.00</td>\n",
       "      <td>3.60</td>\n",
       "      <td>2.90</td>\n",
       "      <td>41.20</td>\n",
       "      <td>20.20</td>\n",
       "    </tr>\n",
       "    <tr>\n",
       "      <th>12</th>\n",
       "      <td>2016</td>\n",
       "      <td>0.00</td>\n",
       "      <td>0.00</td>\n",
       "      <td>0.00</td>\n",
       "      <td>3.70</td>\n",
       "      <td>41.60</td>\n",
       "      <td>20.60</td>\n",
       "    </tr>\n",
       "    <tr>\n",
       "      <th>13</th>\n",
       "      <td>2017</td>\n",
       "      <td>0.00</td>\n",
       "      <td>0.00</td>\n",
       "      <td>0.00</td>\n",
       "      <td>4.20</td>\n",
       "      <td>42.50</td>\n",
       "      <td>21.20</td>\n",
       "    </tr>\n",
       "    <tr>\n",
       "      <th>14</th>\n",
       "      <td>2018</td>\n",
       "      <td>0.00</td>\n",
       "      <td>0.00</td>\n",
       "      <td>0.00</td>\n",
       "      <td>5.70</td>\n",
       "      <td>45.20</td>\n",
       "      <td>22.30</td>\n",
       "    </tr>\n",
       "    <tr>\n",
       "      <th>15</th>\n",
       "      <td>2019</td>\n",
       "      <td>0.00</td>\n",
       "      <td>0.00</td>\n",
       "      <td>7.30</td>\n",
       "      <td>5.90</td>\n",
       "      <td>46.00</td>\n",
       "      <td>22.70</td>\n",
       "    </tr>\n",
       "    <tr>\n",
       "      <th>16</th>\n",
       "      <td>2020</td>\n",
       "      <td>0.00</td>\n",
       "      <td>0.00</td>\n",
       "      <td>7.00</td>\n",
       "      <td>6.60</td>\n",
       "      <td>46.50</td>\n",
       "      <td>18.70</td>\n",
       "    </tr>\n",
       "    <tr>\n",
       "      <th>17</th>\n",
       "      <td>2021</td>\n",
       "      <td>0.00</td>\n",
       "      <td>0.00</td>\n",
       "      <td>7.30</td>\n",
       "      <td>6.70</td>\n",
       "      <td>45.20</td>\n",
       "      <td>18.40</td>\n",
       "    </tr>\n",
       "    <tr>\n",
       "      <th>18</th>\n",
       "      <td>2022</td>\n",
       "      <td>0.00</td>\n",
       "      <td>0.00</td>\n",
       "      <td>9.70</td>\n",
       "      <td>6.70</td>\n",
       "      <td>45.20</td>\n",
       "      <td>19.50</td>\n",
       "    </tr>\n",
       "    <tr>\n",
       "      <th>19</th>\n",
       "      <td>2023</td>\n",
       "      <td>0.00</td>\n",
       "      <td>0.00</td>\n",
       "      <td>6.60</td>\n",
       "      <td>5.90</td>\n",
       "      <td>38.40</td>\n",
       "      <td>17.00</td>\n",
       "    </tr>\n",
       "  </tbody>\n",
       "</table>\n",
       "</div>"
      ],
      "text/plain": [
       "    Year  Alumni  Award  HiCi  N&S   PUB   PCP\n",
       "0   2004    0.00   0.00  8.70 6.40 37.90 11.80\n",
       "1   2005    0.00   0.00  7.90 6.20 40.60 17.80\n",
       "2   2006    0.00   0.00  7.70 4.10 41.00 19.10\n",
       "3   2007    0.00   0.00  7.40 4.10 42.00 19.30\n",
       "4   2008    0.00   0.00  7.30 6.30 41.80 14.30\n",
       "5   2009    0.00   0.00  7.30 6.90 41.20 19.50\n",
       "6   2010    0.00   0.00  7.20 7.80 44.30 19.90\n",
       "7   2011    0.00   0.00  7.20 7.90 43.10 20.50\n",
       "8   2012    0.00   0.00  7.20 8.00 42.00 18.70\n",
       "9   2013    0.00   0.00  7.20 5.40 42.40 19.90\n",
       "10  2014    0.00   0.00  3.60 4.60 42.60 20.00\n",
       "11  2015    0.00   0.00  3.60 2.90 41.20 20.20\n",
       "12  2016    0.00   0.00  0.00 3.70 41.60 20.60\n",
       "13  2017    0.00   0.00  0.00 4.20 42.50 21.20\n",
       "14  2018    0.00   0.00  0.00 5.70 45.20 22.30\n",
       "15  2019    0.00   0.00  7.30 5.90 46.00 22.70\n",
       "16  2020    0.00   0.00  7.00 6.60 46.50 18.70\n",
       "17  2021    0.00   0.00  7.30 6.70 45.20 18.40\n",
       "18  2022    0.00   0.00  9.70 6.70 45.20 19.50\n",
       "19  2023    0.00   0.00  6.60 5.90 38.40 17.00"
      ]
     },
     "execution_count": 40,
     "metadata": {},
     "output_type": "execute_result"
    }
   ],
   "source": [
    "#criação de um dataframe com os dados da unicamp\n",
    "unicamp=df_dados[(df_dados['Institution']=='University of Campinas')].loc[:,indicadores].reset_index(drop=True).sort_values(by='Year')\n",
    "unicamp"
   ]
  },
  {
   "cell_type": "code",
   "execution_count": 41,
   "metadata": {},
   "outputs": [
    {
     "data": {
      "text/html": [
       "<div>\n",
       "<style scoped>\n",
       "    .dataframe tbody tr th:only-of-type {\n",
       "        vertical-align: middle;\n",
       "    }\n",
       "\n",
       "    .dataframe tbody tr th {\n",
       "        vertical-align: top;\n",
       "    }\n",
       "\n",
       "    .dataframe thead th {\n",
       "        text-align: right;\n",
       "    }\n",
       "</style>\n",
       "<table border=\"1\" class=\"dataframe\">\n",
       "  <thead>\n",
       "    <tr style=\"text-align: right;\">\n",
       "      <th></th>\n",
       "      <th>Year</th>\n",
       "      <th>Alumni</th>\n",
       "      <th>Award</th>\n",
       "      <th>HiCi</th>\n",
       "      <th>N&amp;S</th>\n",
       "      <th>PUB</th>\n",
       "      <th>PCP</th>\n",
       "    </tr>\n",
       "  </thead>\n",
       "  <tbody>\n",
       "    <tr>\n",
       "      <th>0</th>\n",
       "      <td>2004</td>\n",
       "      <td>0.00</td>\n",
       "      <td>0.00</td>\n",
       "      <td>8.70</td>\n",
       "      <td>11.70</td>\n",
       "      <td>63.60</td>\n",
       "      <td>18.70</td>\n",
       "    </tr>\n",
       "    <tr>\n",
       "      <th>1</th>\n",
       "      <td>2005</td>\n",
       "      <td>0.00</td>\n",
       "      <td>0.00</td>\n",
       "      <td>11.10</td>\n",
       "      <td>11.00</td>\n",
       "      <td>63.50</td>\n",
       "      <td>27.80</td>\n",
       "    </tr>\n",
       "    <tr>\n",
       "      <th>2</th>\n",
       "      <td>2006</td>\n",
       "      <td>0.00</td>\n",
       "      <td>0.00</td>\n",
       "      <td>10.90</td>\n",
       "      <td>11.50</td>\n",
       "      <td>64.20</td>\n",
       "      <td>30.20</td>\n",
       "    </tr>\n",
       "    <tr>\n",
       "      <th>3</th>\n",
       "      <td>2007</td>\n",
       "      <td>0.00</td>\n",
       "      <td>0.00</td>\n",
       "      <td>10.50</td>\n",
       "      <td>13.10</td>\n",
       "      <td>65.30</td>\n",
       "      <td>30.40</td>\n",
       "    </tr>\n",
       "    <tr>\n",
       "      <th>4</th>\n",
       "      <td>2008</td>\n",
       "      <td>0.00</td>\n",
       "      <td>0.00</td>\n",
       "      <td>10.30</td>\n",
       "      <td>12.70</td>\n",
       "      <td>69.00</td>\n",
       "      <td>32.70</td>\n",
       "    </tr>\n",
       "    <tr>\n",
       "      <th>5</th>\n",
       "      <td>2009</td>\n",
       "      <td>0.00</td>\n",
       "      <td>0.00</td>\n",
       "      <td>10.30</td>\n",
       "      <td>12.60</td>\n",
       "      <td>69.30</td>\n",
       "      <td>32.70</td>\n",
       "    </tr>\n",
       "    <tr>\n",
       "      <th>6</th>\n",
       "      <td>2010</td>\n",
       "      <td>0.00</td>\n",
       "      <td>0.00</td>\n",
       "      <td>10.20</td>\n",
       "      <td>13.30</td>\n",
       "      <td>76.30</td>\n",
       "      <td>15.40</td>\n",
       "    </tr>\n",
       "    <tr>\n",
       "      <th>7</th>\n",
       "      <td>2011</td>\n",
       "      <td>0.00</td>\n",
       "      <td>0.00</td>\n",
       "      <td>10.20</td>\n",
       "      <td>12.50</td>\n",
       "      <td>73.70</td>\n",
       "      <td>14.60</td>\n",
       "    </tr>\n",
       "    <tr>\n",
       "      <th>8</th>\n",
       "      <td>2012</td>\n",
       "      <td>0.00</td>\n",
       "      <td>0.00</td>\n",
       "      <td>10.20</td>\n",
       "      <td>10.80</td>\n",
       "      <td>72.80</td>\n",
       "      <td>14.90</td>\n",
       "    </tr>\n",
       "    <tr>\n",
       "      <th>9</th>\n",
       "      <td>2013</td>\n",
       "      <td>0.00</td>\n",
       "      <td>0.00</td>\n",
       "      <td>10.20</td>\n",
       "      <td>11.60</td>\n",
       "      <td>72.70</td>\n",
       "      <td>14.70</td>\n",
       "    </tr>\n",
       "    <tr>\n",
       "      <th>10</th>\n",
       "      <td>2014</td>\n",
       "      <td>0.00</td>\n",
       "      <td>0.00</td>\n",
       "      <td>12.20</td>\n",
       "      <td>12.00</td>\n",
       "      <td>72.90</td>\n",
       "      <td>15.40</td>\n",
       "    </tr>\n",
       "    <tr>\n",
       "      <th>11</th>\n",
       "      <td>2015</td>\n",
       "      <td>0.00</td>\n",
       "      <td>0.00</td>\n",
       "      <td>12.20</td>\n",
       "      <td>12.10</td>\n",
       "      <td>72.00</td>\n",
       "      <td>15.50</td>\n",
       "    </tr>\n",
       "    <tr>\n",
       "      <th>12</th>\n",
       "      <td>2016</td>\n",
       "      <td>0.00</td>\n",
       "      <td>0.00</td>\n",
       "      <td>10.30</td>\n",
       "      <td>12.60</td>\n",
       "      <td>73.30</td>\n",
       "      <td>16.50</td>\n",
       "    </tr>\n",
       "    <tr>\n",
       "      <th>13</th>\n",
       "      <td>2017</td>\n",
       "      <td>0.00</td>\n",
       "      <td>0.00</td>\n",
       "      <td>0.00</td>\n",
       "      <td>14.20</td>\n",
       "      <td>75.10</td>\n",
       "      <td>16.90</td>\n",
       "    </tr>\n",
       "    <tr>\n",
       "      <th>14</th>\n",
       "      <td>2018</td>\n",
       "      <td>0.00</td>\n",
       "      <td>0.00</td>\n",
       "      <td>0.00</td>\n",
       "      <td>14.20</td>\n",
       "      <td>76.20</td>\n",
       "      <td>17.10</td>\n",
       "    </tr>\n",
       "    <tr>\n",
       "      <th>15</th>\n",
       "      <td>2019</td>\n",
       "      <td>0.00</td>\n",
       "      <td>0.00</td>\n",
       "      <td>14.70</td>\n",
       "      <td>13.70</td>\n",
       "      <td>77.50</td>\n",
       "      <td>17.30</td>\n",
       "    </tr>\n",
       "    <tr>\n",
       "      <th>16</th>\n",
       "      <td>2020</td>\n",
       "      <td>0.00</td>\n",
       "      <td>0.00</td>\n",
       "      <td>15.70</td>\n",
       "      <td>12.10</td>\n",
       "      <td>77.50</td>\n",
       "      <td>17.60</td>\n",
       "    </tr>\n",
       "    <tr>\n",
       "      <th>17</th>\n",
       "      <td>2021</td>\n",
       "      <td>0.00</td>\n",
       "      <td>0.00</td>\n",
       "      <td>19.30</td>\n",
       "      <td>14.30</td>\n",
       "      <td>76.90</td>\n",
       "      <td>17.90</td>\n",
       "    </tr>\n",
       "    <tr>\n",
       "      <th>18</th>\n",
       "      <td>2022</td>\n",
       "      <td>0.00</td>\n",
       "      <td>0.00</td>\n",
       "      <td>18.10</td>\n",
       "      <td>15.20</td>\n",
       "      <td>76.90</td>\n",
       "      <td>18.80</td>\n",
       "    </tr>\n",
       "    <tr>\n",
       "      <th>19</th>\n",
       "      <td>2023</td>\n",
       "      <td>0.00</td>\n",
       "      <td>0.00</td>\n",
       "      <td>18.60</td>\n",
       "      <td>14.70</td>\n",
       "      <td>67.80</td>\n",
       "      <td>17.30</td>\n",
       "    </tr>\n",
       "  </tbody>\n",
       "</table>\n",
       "</div>"
      ],
      "text/plain": [
       "    Year  Alumni  Award  HiCi   N&S   PUB   PCP\n",
       "0   2004    0.00   0.00  8.70 11.70 63.60 18.70\n",
       "1   2005    0.00   0.00 11.10 11.00 63.50 27.80\n",
       "2   2006    0.00   0.00 10.90 11.50 64.20 30.20\n",
       "3   2007    0.00   0.00 10.50 13.10 65.30 30.40\n",
       "4   2008    0.00   0.00 10.30 12.70 69.00 32.70\n",
       "5   2009    0.00   0.00 10.30 12.60 69.30 32.70\n",
       "6   2010    0.00   0.00 10.20 13.30 76.30 15.40\n",
       "7   2011    0.00   0.00 10.20 12.50 73.70 14.60\n",
       "8   2012    0.00   0.00 10.20 10.80 72.80 14.90\n",
       "9   2013    0.00   0.00 10.20 11.60 72.70 14.70\n",
       "10  2014    0.00   0.00 12.20 12.00 72.90 15.40\n",
       "11  2015    0.00   0.00 12.20 12.10 72.00 15.50\n",
       "12  2016    0.00   0.00 10.30 12.60 73.30 16.50\n",
       "13  2017    0.00   0.00  0.00 14.20 75.10 16.90\n",
       "14  2018    0.00   0.00  0.00 14.20 76.20 17.10\n",
       "15  2019    0.00   0.00 14.70 13.70 77.50 17.30\n",
       "16  2020    0.00   0.00 15.70 12.10 77.50 17.60\n",
       "17  2021    0.00   0.00 19.30 14.30 76.90 17.90\n",
       "18  2022    0.00   0.00 18.10 15.20 76.90 18.80\n",
       "19  2023    0.00   0.00 18.60 14.70 67.80 17.30"
      ]
     },
     "execution_count": 41,
     "metadata": {},
     "output_type": "execute_result"
    }
   ],
   "source": [
    "#criação de um dataframe com os dados da usp\n",
    "\n",
    "usp=df_dados[(df_dados['Institution']=='University of Sao Paulo')].loc[:,indicadores].reset_index(drop=True).sort_values(by='Year')\n",
    "usp"
   ]
  },
  {
   "cell_type": "code",
   "execution_count": 51,
   "metadata": {},
   "outputs": [
    {
     "data": {
      "image/png": "[encoded data removed]",
      "text/plain": [
       "<Figure size 1600x1500 with 6 Axes>"
      ]
     },
     "metadata": {},
     "output_type": "display_data"
    }
   ],
   "source": [
    "#Plotagem da evolução dos indicadores da Unicamp\n",
    "\n",
    "ncols=2\n",
    "nrows=3\n",
    "index_indicador=1\n",
    "fig,axs=plt.subplots(ncols=ncols,sharex=False,nrows=nrows,figsize=(16,15))\n",
    "fig.suptitle('Unicamp', fontsize=22) #adiciona um título geral para os subplots\n",
    "plt.subplots_adjust(top=0.96) #controla a distância entre o título geral dos subplots e os primeiros gráficos\n",
    "\n",
    "for row in range(nrows):\n",
    "    for col in range(ncols):\n",
    "        sns.lineplot(data=unicamp,x='Year',y=indicadores[index_indicador],ax=axs[row,col])\n",
    "        axs[row,col].tick_params('x', labelrotation=45) \n",
    "        index_indicador+=1\n",
    "#axs[3,0].tick_params('x', labelrotation=45) \n"
   ]
  },
  {
   "cell_type": "code",
   "execution_count": 52,
   "metadata": {},
   "outputs": [
    {
     "data": {
      "image/png": "[encoded data removed]",
      "text/plain": [
       "<Figure size 1600x1500 with 6 Axes>"
      ]
     },
     "metadata": {},
     "output_type": "display_data"
    }
   ],
   "source": [
    "#Plotagem da evolução dos indicadores da Usp\n",
    "\n",
    "ncols=2\n",
    "nrows=3\n",
    "index_indicador=1\n",
    "fig,axs=plt.subplots(ncols=ncols,sharex=False,nrows=nrows,figsize=(16,15))\n",
    "fig.suptitle('USP', fontsize=22) #adiciona um título geral para os subplots\n",
    "plt.subplots_adjust(top=0.96) #controla a distância entre o título geral dos subplots e os primeiros gráficos\n",
    "\n",
    "for row in range(nrows):\n",
    "    for col in range(ncols):\n",
    "        sns.lineplot(data=usp,x='Year',y=indicadores[index_indicador],ax=axs[row,col])\n",
    "        axs[row,col].tick_params('x', labelrotation=45) \n",
    "        index_indicador+=1\n",
    "#axs[3,0].tick_params('x', labelrotation=45) "
   ]
  },
  {
   "cell_type": "code",
   "execution_count": 42,
   "metadata": {},
   "outputs": [],
   "source": [
    "#Salvar dataframe para ser usado no comparativo\n",
    "\n",
    "path_to_save='/home/rodolfo/Insync/rodolfopcruz2@gmail.com/Google Drive/Estudo/Python_Projects/education_data/dados/Comparativo/Rankings/'\n",
    "\n",
    "df_dados.to_csv(path_to_save+'ranking_Shanghai.csv',index=False)"
   ]
  }
 ],
 "metadata": {
  "kernelspec": {
   "display_name": "estudo",
   "language": "python",
   "name": "python3"
  },
  "language_info": {
   "codemirror_mode": {
    "name": "ipython",
    "version": 3
   },
   "file_extension": ".py",
   "mimetype": "text/x-python",
   "name": "python",
   "nbconvert_exporter": "python",
   "pygments_lexer": "ipython3",
   "version": "3.12.4"
  }
 },
 "nbformat": 4,
 "nbformat_minor": 2
}
