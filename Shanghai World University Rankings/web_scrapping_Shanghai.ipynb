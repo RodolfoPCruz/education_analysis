{
 "cells": [
  {
   "cell_type": "code",
   "execution_count": 1,
   "metadata": {},
   "outputs": [],
   "source": [
    "from selenium import webdriver\n",
    "from selenium.webdriver.chrome.options import Options \n",
    "import time\n",
    "from selenium.webdriver.support.ui import Select"
   ]
  },
  {
   "cell_type": "markdown",
   "metadata": {},
   "source": [
    "# Academic Ranking of World Universities\n",
    "# Shanghai Ranking"
   ]
  },
  {
   "cell_type": "markdown",
   "metadata": {},
   "source": [
    "## Web scraping dos dados do ranking Shanghai"
   ]
  },
  {
   "cell_type": "markdown",
   "metadata": {},
   "source": [
    "PAra o web scraing dos dados será usada a biblioteca selenium"
   ]
  },
  {
   "cell_type": "code",
   "execution_count": 5,
   "metadata": {},
   "outputs": [],
   "source": [
    "website='https://www.shanghairanking.com/rankings/arwu/2023'\n",
    "driver = webdriver.Chrome()\n",
    "driver.get(website) #abre a pagina\n",
    "driver.maximize_window()  #maximizar a página"
   ]
  },
  {
   "cell_type": "markdown",
   "metadata": {},
   "source": [
    "Na primeira coluna da tabela estão os seguintes headers:\n",
    "\n",
    "- World Rank;\n",
    "- Institution;\n",
    "- Country/Region;\n",
    "- National/Regional Rank;\n",
    "- Total Score;\n",
    "- Menu com as feutures:\n",
    "    - Alumni;\n",
    "    - Award;\n",
    "    - HiCi;\n",
    "    - N&S;\n",
    "    - PUB;\n",
    "    - PCP.\n",
    "\n",
    "As features estão em um menu dropdown. Portanto durante o processo de scraping deverá ocorrer interação com esse menu para que ser possível coletar os dados para cada uma delas. Além disso, os dados para todas as universidades estão \n",
    "em diversas páginas, sendo assim será necessário interagir com a numeração das páginas para coletar os dados do completos do ranking\n"
   ]
  },
  {
   "cell_type": "code",
   "execution_count": 105,
   "metadata": {},
   "outputs": [],
   "source": [
    "features=[\"Alumni\",'Award','HiCi','N&S','PUB','PCP'] #features calculadas cada universidade. O significado de cada uma dela pode ser encontrado no notebook com a análise dos dados dos rankings\n",
    "\n",
    "#Dicionário que receberá os dados\n",
    "ranking_2023={'World Rank' :[],\n",
    "              'Institution':[],\n",
    "              'Country'    :[],\n",
    "              'Regional Rank':[],\n",
    "              'Total Score':[],\n",
    "                'Alumni': [],\n",
    "                'Award' : [],\n",
    "                'HiCi'  : [],\n",
    "                'N&S'  : [],\n",
    "                'PUB'   : [],\n",
    "                'PCP'   : []}\n",
    " "
   ]
  },
  {
   "cell_type": "code",
   "execution_count": 106,
   "metadata": {},
   "outputs": [
    {
     "data": {
      "text/plain": [
       "'34'"
      ]
     },
     "execution_count": 106,
     "metadata": {},
     "output_type": "execute_result"
    }
   ],
   "source": [
    "#número de páginas\n",
    "pagination=driver.find_element('xpath',\"//ul[contains(@class,'pagination')]\")\n",
    "paginas=pagination.find_elements('xpath','./li')\n",
    "num_paginas=paginas[-2].text\n",
    "num_paginas"
   ]
  },
  {
   "cell_type": "code",
   "execution_count": 109,
   "metadata": {},
   "outputs": [
    {
     "name": "stdout",
     "output_type": "stream",
     "text": [
      "1\n",
      "2\n",
      "3\n",
      "4\n",
      "5\n",
      "6\n",
      "7\n",
      "8\n",
      "9\n"
     ]
    },
    {
     "ename": "ElementClickInterceptedException",
     "evalue": "Message: element click intercepted: Element <img data-v-24ba571f=\"\" src=\"data:image/svg+xml;base64,PD94bWwgdmVyc2lvbj0iMS4wIiBlbmNvZGluZz0idXRmLTgiPz4KPCEtLSBHZW5lcmF0b3I6IEFkb2JlIElsbHVzdHJhdG9yIDI0LjAuMSwgU1ZHIEV4cG9ydCBQbHVnLUluIC4gU1ZHIFZlcnNpb246IDYuMDAgQnVpbGQgMCkgIC0tPgo8c3ZnIHZlcnNpb249IjEuMSIgaWQ9IuWbvuWxgl8xIiB4bWxucz0iaHR0cDovL3d3dy53My5vcmcvMjAwMC9zdmciIHhtbG5zOnhsaW5rPSJodHRwOi8vd3d3LnczLm9yZy8xOTk5L3hsaW5rIiB4PSIwcHgiIHk9IjBweCIKCSB2aWV3Qm94PSIwIDAgMTQgMTQiIHN0eWxlPSJlbmFibGUtYmFja2dyb3VuZDpuZXcgMCAwIDE0IDE0OyIgeG1sOnNwYWNlPSJwcmVzZXJ2ZSI+CjxzdHlsZSB0eXBlPSJ0ZXh0L2NzcyI+Cgkuc3Qwe2ZpbGw6I0FFQUVBRTt9Cjwvc3R5bGU+CjxwYXRoIGNsYXNzPSJzdDAiIGQ9Ik0xMC45LDUuM0w3LjcsOS4yYy0wLjQsMC40LTEsMC40LTEuNCwwTDMuMSw1LjNDMi45LDUsMy4xLDQuNSwzLjUsNC41aDcuMUMxMC45LDQuNSwxMS4xLDUsMTAuOSw1LjN6Ii8+Cjwvc3ZnPgo=\" alt=\"\" class=\"nav-icon\" style=\"right: 5px; top: 11px; width: 10px;\"> is not clickable at point (823, 5). Other element would receive the click: <a data-v-0e48617b=\"\" href=\"/rankings/arwu/2023\" aria-current=\"page\" class=\"nuxt-link-exact-active nuxt-link-active\">...</a>\n  (Session info: chrome=111.0.5563.64)\nStacktrace:\n#0 0x55bd24f5c243 <unknown>\n#1 0x55bd24d207a6 <unknown>\n#2 0x55bd24d6448f <unknown>\n#3 0x55bd24d623e6 <unknown>\n#4 0x55bd24d5fc9e <unknown>\n#5 0x55bd24d5ed18 <unknown>\n#6 0x55bd24d52a65 <unknown>\n#7 0x55bd24d7e082 <unknown>\n#8 0x55bd24d522e3 <unknown>\n#9 0x55bd24d7e24e <unknown>\n#10 0x55bd24d96932 <unknown>\n#11 0x55bd24d7de53 <unknown>\n#12 0x55bd24d509ea <unknown>\n#13 0x55bd24d51b2e <unknown>\n#14 0x55bd24fb0d5e <unknown>\n#15 0x55bd24fb4a80 <unknown>\n#16 0x55bd24f968b0 <unknown>\n#17 0x55bd24fb5b63 <unknown>\n#18 0x55bd24f87f75 <unknown>\n#19 0x55bd24fd8998 <unknown>\n#20 0x55bd24fd8b27 <unknown>\n#21 0x55bd24ff3c23 <unknown>\n#22 0x7f89cf694ac3 <unknown>\n",
     "output_type": "error",
     "traceback": [
      "\u001b[0;31m---------------------------------------------------------------------------\u001b[0m",
      "\u001b[0;31mElementClickInterceptedException\u001b[0m          Traceback (most recent call last)",
      "Cell \u001b[0;32mIn[109], line 19\u001b[0m\n\u001b[1;32m     17\u001b[0m first_feature\u001b[38;5;241m=\u001b[39m\u001b[38;5;28;01mTrue\u001b[39;00m\n\u001b[1;32m     18\u001b[0m \u001b[38;5;28;01mfor\u001b[39;00m feature \u001b[38;5;129;01min\u001b[39;00m features:       \n\u001b[0;32m---> 19\u001b[0m     \u001b[43mbotoes_header\u001b[49m\u001b[38;5;241;43m.\u001b[39;49m\u001b[43mclick\u001b[49m\u001b[43m(\u001b[49m\u001b[43m)\u001b[49m \u001b[38;5;66;03m#clicar no botão para abrir o menu dropdown\u001b[39;00m\n\u001b[1;32m     20\u001b[0m     time\u001b[38;5;241m.\u001b[39msleep(\u001b[38;5;241m1\u001b[39m)\n\u001b[1;32m     21\u001b[0m     \u001b[38;5;28;01mfor\u001b[39;00m opcao \u001b[38;5;129;01min\u001b[39;00m opcoes: \u001b[38;5;66;03m#cada opcao é uma das features no menu dropdown\u001b[39;00m\n",
      "File \u001b[0;32m~/anaconda3/envs/education/lib/python3.12/site-packages/selenium/webdriver/remote/webelement.py:94\u001b[0m, in \u001b[0;36mWebElement.click\u001b[0;34m(self)\u001b[0m\n\u001b[1;32m     92\u001b[0m \u001b[38;5;28;01mdef\u001b[39;00m \u001b[38;5;21mclick\u001b[39m(\u001b[38;5;28mself\u001b[39m) \u001b[38;5;241m-\u001b[39m\u001b[38;5;241m>\u001b[39m \u001b[38;5;28;01mNone\u001b[39;00m:\n\u001b[1;32m     93\u001b[0m \u001b[38;5;250m    \u001b[39m\u001b[38;5;124;03m\"\"\"Clicks the element.\"\"\"\u001b[39;00m\n\u001b[0;32m---> 94\u001b[0m     \u001b[38;5;28;43mself\u001b[39;49m\u001b[38;5;241;43m.\u001b[39;49m\u001b[43m_execute\u001b[49m\u001b[43m(\u001b[49m\u001b[43mCommand\u001b[49m\u001b[38;5;241;43m.\u001b[39;49m\u001b[43mCLICK_ELEMENT\u001b[49m\u001b[43m)\u001b[49m\n",
      "File \u001b[0;32m~/anaconda3/envs/education/lib/python3.12/site-packages/selenium/webdriver/remote/webelement.py:395\u001b[0m, in \u001b[0;36mWebElement._execute\u001b[0;34m(self, command, params)\u001b[0m\n\u001b[1;32m    393\u001b[0m     params \u001b[38;5;241m=\u001b[39m {}\n\u001b[1;32m    394\u001b[0m params[\u001b[38;5;124m\"\u001b[39m\u001b[38;5;124mid\u001b[39m\u001b[38;5;124m\"\u001b[39m] \u001b[38;5;241m=\u001b[39m \u001b[38;5;28mself\u001b[39m\u001b[38;5;241m.\u001b[39m_id\n\u001b[0;32m--> 395\u001b[0m \u001b[38;5;28;01mreturn\u001b[39;00m \u001b[38;5;28;43mself\u001b[39;49m\u001b[38;5;241;43m.\u001b[39;49m\u001b[43m_parent\u001b[49m\u001b[38;5;241;43m.\u001b[39;49m\u001b[43mexecute\u001b[49m\u001b[43m(\u001b[49m\u001b[43mcommand\u001b[49m\u001b[43m,\u001b[49m\u001b[43m \u001b[49m\u001b[43mparams\u001b[49m\u001b[43m)\u001b[49m\n",
      "File \u001b[0;32m~/anaconda3/envs/education/lib/python3.12/site-packages/selenium/webdriver/remote/webdriver.py:354\u001b[0m, in \u001b[0;36mWebDriver.execute\u001b[0;34m(self, driver_command, params)\u001b[0m\n\u001b[1;32m    352\u001b[0m response \u001b[38;5;241m=\u001b[39m \u001b[38;5;28mself\u001b[39m\u001b[38;5;241m.\u001b[39mcommand_executor\u001b[38;5;241m.\u001b[39mexecute(driver_command, params)\n\u001b[1;32m    353\u001b[0m \u001b[38;5;28;01mif\u001b[39;00m response:\n\u001b[0;32m--> 354\u001b[0m     \u001b[38;5;28;43mself\u001b[39;49m\u001b[38;5;241;43m.\u001b[39;49m\u001b[43merror_handler\u001b[49m\u001b[38;5;241;43m.\u001b[39;49m\u001b[43mcheck_response\u001b[49m\u001b[43m(\u001b[49m\u001b[43mresponse\u001b[49m\u001b[43m)\u001b[49m\n\u001b[1;32m    355\u001b[0m     response[\u001b[38;5;124m\"\u001b[39m\u001b[38;5;124mvalue\u001b[39m\u001b[38;5;124m\"\u001b[39m] \u001b[38;5;241m=\u001b[39m \u001b[38;5;28mself\u001b[39m\u001b[38;5;241m.\u001b[39m_unwrap_value(response\u001b[38;5;241m.\u001b[39mget(\u001b[38;5;124m\"\u001b[39m\u001b[38;5;124mvalue\u001b[39m\u001b[38;5;124m\"\u001b[39m, \u001b[38;5;28;01mNone\u001b[39;00m))\n\u001b[1;32m    356\u001b[0m     \u001b[38;5;28;01mreturn\u001b[39;00m response\n",
      "File \u001b[0;32m~/anaconda3/envs/education/lib/python3.12/site-packages/selenium/webdriver/remote/errorhandler.py:229\u001b[0m, in \u001b[0;36mErrorHandler.check_response\u001b[0;34m(self, response)\u001b[0m\n\u001b[1;32m    227\u001b[0m         alert_text \u001b[38;5;241m=\u001b[39m value[\u001b[38;5;124m\"\u001b[39m\u001b[38;5;124malert\u001b[39m\u001b[38;5;124m\"\u001b[39m]\u001b[38;5;241m.\u001b[39mget(\u001b[38;5;124m\"\u001b[39m\u001b[38;5;124mtext\u001b[39m\u001b[38;5;124m\"\u001b[39m)\n\u001b[1;32m    228\u001b[0m     \u001b[38;5;28;01mraise\u001b[39;00m exception_class(message, screen, stacktrace, alert_text)  \u001b[38;5;66;03m# type: ignore[call-arg]  # mypy is not smart enough here\u001b[39;00m\n\u001b[0;32m--> 229\u001b[0m \u001b[38;5;28;01mraise\u001b[39;00m exception_class(message, screen, stacktrace)\n",
      "\u001b[0;31mElementClickInterceptedException\u001b[0m: Message: element click intercepted: Element <img data-v-24ba571f=\"\" src=\"data:image/svg+xml;base64,PD94bWwgdmVyc2lvbj0iMS4wIiBlbmNvZGluZz0idXRmLTgiPz4KPCEtLSBHZW5lcmF0b3I6IEFkb2JlIElsbHVzdHJhdG9yIDI0LjAuMSwgU1ZHIEV4cG9ydCBQbHVnLUluIC4gU1ZHIFZlcnNpb246IDYuMDAgQnVpbGQgMCkgIC0tPgo8c3ZnIHZlcnNpb249IjEuMSIgaWQ9IuWbvuWxgl8xIiB4bWxucz0iaHR0cDovL3d3dy53My5vcmcvMjAwMC9zdmciIHhtbG5zOnhsaW5rPSJodHRwOi8vd3d3LnczLm9yZy8xOTk5L3hsaW5rIiB4PSIwcHgiIHk9IjBweCIKCSB2aWV3Qm94PSIwIDAgMTQgMTQiIHN0eWxlPSJlbmFibGUtYmFja2dyb3VuZDpuZXcgMCAwIDE0IDE0OyIgeG1sOnNwYWNlPSJwcmVzZXJ2ZSI+CjxzdHlsZSB0eXBlPSJ0ZXh0L2NzcyI+Cgkuc3Qwe2ZpbGw6I0FFQUVBRTt9Cjwvc3R5bGU+CjxwYXRoIGNsYXNzPSJzdDAiIGQ9Ik0xMC45LDUuM0w3LjcsOS4yYy0wLjQsMC40LTEsMC40LTEuNCwwTDMuMSw1LjNDMi45LDUsMy4xLDQuNSwzLjUsNC41aDcuMUMxMC45LDQuNSwxMS4xLDUsMTAuOSw1LjN6Ii8+Cjwvc3ZnPgo=\" alt=\"\" class=\"nav-icon\" style=\"right: 5px; top: 11px; width: 10px;\"> is not clickable at point (823, 5). Other element would receive the click: <a data-v-0e48617b=\"\" href=\"/rankings/arwu/2023\" aria-current=\"page\" class=\"nuxt-link-exact-active nuxt-link-active\">...</a>\n  (Session info: chrome=111.0.5563.64)\nStacktrace:\n#0 0x55bd24f5c243 <unknown>\n#1 0x55bd24d207a6 <unknown>\n#2 0x55bd24d6448f <unknown>\n#3 0x55bd24d623e6 <unknown>\n#4 0x55bd24d5fc9e <unknown>\n#5 0x55bd24d5ed18 <unknown>\n#6 0x55bd24d52a65 <unknown>\n#7 0x55bd24d7e082 <unknown>\n#8 0x55bd24d522e3 <unknown>\n#9 0x55bd24d7e24e <unknown>\n#10 0x55bd24d96932 <unknown>\n#11 0x55bd24d7de53 <unknown>\n#12 0x55bd24d509ea <unknown>\n#13 0x55bd24d51b2e <unknown>\n#14 0x55bd24fb0d5e <unknown>\n#15 0x55bd24fb4a80 <unknown>\n#16 0x55bd24f968b0 <unknown>\n#17 0x55bd24fb5b63 <unknown>\n#18 0x55bd24f87f75 <unknown>\n#19 0x55bd24fd8998 <unknown>\n#20 0x55bd24fd8b27 <unknown>\n#21 0x55bd24ff3c23 <unknown>\n#22 0x7f89cf694ac3 <unknown>\n"
     ]
    }
   ],
   "source": [
    "\n",
    "botao_next=pagination.find_element('xpath','//li[@class=\" ant-pagination-next\"]')\n",
    "time.sleep(3)\n",
    "\n",
    "pagina_atual=1\n",
    "while pagina_atual<int(num_paginas):\n",
    "\n",
    "    botoes_header=driver.find_elements(by='xpath',value='//th//img') #localizar botão dropdown. Ele está nos headers da tabela. Ao clicar nesse botão o menu dropdow é aberto\n",
    "    botoes_header=botoes_header[-1] #nos headers estão dois botões dropdown. O primeiro seleciona o país e o segundo a feature. O botão desejado é o segundo.\n",
    "        \n",
    "    opcoes=driver.find_elements(by='xpath',value='//th') #menus dropdown no header da tabela\n",
    "    opcoes=opcoes[-1] #segundo menu dropdown no header da tabela\n",
    "    opcoes=opcoes.find_elements('xpath','.//li') #pegar as opções contidas no menu dropdown. Opcoes é uma lista em que cada elemento corresponde a uma feature\n",
    "        \n",
    "    table=driver.find_element(by='xpath',value=\"//tbody\") #dados na tabela sem os header\n",
    "    table_rows=table.find_elements(by='xpath',value=\"./tr\") #rows da tabela\n",
    "\n",
    "    first_feature=True\n",
    "    for feature in features:       \n",
    "        botoes_header.click() #clicar no botão para abrir o menu dropdown\n",
    "        time.sleep(1)\n",
    "        for opcao in opcoes: #cada opcao é uma das features no menu dropdown\n",
    "            if opcao.text==feature: #opcao.text retorna o nome da feature. Seleciona a opção desejada da feature\n",
    "                opcao.click()\n",
    "                if first_feature:\n",
    "                    for row in table_rows: #loop por todas as linhas da tabela\n",
    "                        td=row.find_elements(by='xpath',value='./td') #td são as colunas da tabela.\n",
    "                        ranking_2023['World Rank'].append(td[0].text)#primeira coluna é a posicao no ranking mundial\n",
    "                        ranking_2023['Institution'].append(td[1].text)#primeira coluna é a posicao no ranking mundial\n",
    "                        codigo_pais=td[2].find_element(by='xpath',value='div[@class=\"region-img\"]')\n",
    "                        ranking_2023['Country'].append(codigo_pais.get_attribute(\"style\").split('/')[-1].split('.')[0])\n",
    "                        ranking_2023['Regional Rank'].append(td[3].text)\n",
    "                        ranking_2023['Total Score'].append(td[4].text)\n",
    "                        ranking_2023[feature].append(td[5].text)\n",
    "                        first_feature=False\n",
    "                else:\n",
    "                    for row in table_rows: #loop por todas as linhas da tabela\n",
    "                        td=row.find_elements(by='xpath',value='./td') #td são as colunas da tabela.\n",
    "                        ranking_2023[feature].append(td[5].text)\n",
    "                \n",
    "                time.sleep(5)\n",
    "                break\n",
    "    botao_next.click()\n",
    "    botao_top=driver.find_element('xpath','//div[@class=\"back-top\"]')\n",
    "    botao_top.click()\n",
    "    time.sleep(5)\n",
    "    print(pagina_atual)\n",
    "    pagina_atual+=1\n",
    "              \n"
   ]
  },
  {
   "cell_type": "code",
   "execution_count": 90,
   "metadata": {},
   "outputs": [],
   "source": [
    "botoes_header=driver.find_elements(by='xpath',value='//th//img') #localizar botão dropdown. Ele está nos headers da tabela. Ao clicar nesse botão o menu dropdow é aberto\n",
    "botoes_header=botoes_header[-1] #nos headers estão dois botões dropdown. O primeiro seleciona o país e o segundo a feature. O botão desejado é o segundo.\n",
    "        \n",
    "opcoes=driver.find_elements(by='xpath',value='//th') #menus dropdown no header da tabela\n",
    "opcoes=opcoes[-1] #segundo menu dropdown no header da tabela\n",
    "opcoes=opcoes.find_elements('xpath','.//li') #pegar as opções contidas no menu dropdown. Opcoes é uma lista em que cada elemento corresponde a uma feature\n",
    "    \n",
    "table=driver.find_element(by='xpath',value=\"//tbody\") #dados na tabela sem os header\n",
    "table_rows=table.find_elements(by='xpath',value=\"./tr\") #rows da tabela\n",
    "\n",
    "first_feature=True\n",
    "for feature in features:       \n",
    "    botoes_header=driver.find_elements(by='xpath',value='//th//img') #clicar no botão para abrir o menu dropdown\n",
    "    botoes_header=botoes_header[-1]\n",
    "    botoes_header.click()\n",
    "    time.sleep(2)\n",
    "    for opcao in opcoes: #cada opcao é uma das features no menu dropdown\n",
    "        if opcao.text==feature: #opcao.text retorna o nome da feature. Seleciona a opção desejada da feature\n",
    "            opcao.click()\n",
    "            if first_feature:\n",
    "                for row in table_rows: #loop por todas as linhas da tabela\n",
    "                    td=row.find_elements(by='xpath',value='./td') #td são as colunas da tabela.\n",
    "                    ranking_2023['World Rank'].append(td[0].text)#primeira coluna é a posicao no ranking mundial\n",
    "                    ranking_2023['Institution'].append(td[1].text)#primeira coluna é a posicao no ranking mundial\n",
    "                    codigo_pais=td[2].find_element(by='xpath',value='div[@class=\"region-img\"]')\n",
    "                    ranking_2023['Country'].append(codigo_pais.get_attribute(\"style\").split('/')[-1].split('.')[0])\n",
    "                    ranking_2023['Regional Rank'].append(td[3].text)\n",
    "                    ranking_2023['Total Score'].append(td[4].text)\n",
    "                    ranking_2023[feature].append(td[5].text)\n",
    "                    first_feature=False\n",
    "            else:\n",
    "                for row in table_rows: #loop por todas as linhas da tabela\n",
    "                    td=row.find_elements(by='xpath',value='./td') #td são as colunas da tabela.\n",
    "                    ranking_2023[feature].append(td[5].text)\n",
    "            \n",
    "            time.sleep(5)\n",
    "            break"
   ]
  },
  {
   "cell_type": "code",
   "execution_count": 41,
   "metadata": {},
   "outputs": [],
   "source": [
    "pagination=driver.find_element('xpath',\"//ul[contains(@class,'pagination')]\")"
   ]
  },
  {
   "cell_type": "code",
   "execution_count": 46,
   "metadata": {},
   "outputs": [],
   "source": [
    "botao_next=pagination.find_elements('xpath','./li[contains(@class,\"next\")]')"
   ]
  },
  {
   "cell_type": "code",
   "execution_count": 48,
   "metadata": {},
   "outputs": [
    {
     "data": {
      "text/plain": [
       "[<selenium.webdriver.remote.webelement.WebElement (session=\"7d5bffbbbbb7fab50e7e2c26aac77d30\", element=\"aa65c43a-d586-4183-8d46-d1e16b3c6b10\")>,\n",
       " <selenium.webdriver.remote.webelement.WebElement (session=\"7d5bffbbbbb7fab50e7e2c26aac77d30\", element=\"ad6b93e4-b109-4d1f-8692-dbb9de23eb87\")>,\n",
       " <selenium.webdriver.remote.webelement.WebElement (session=\"7d5bffbbbbb7fab50e7e2c26aac77d30\", element=\"665bc794-77b4-46b2-be6a-93b2a46aa527\")>]"
      ]
     },
     "execution_count": 48,
     "metadata": {},
     "output_type": "execute_result"
    }
   ],
   "source": [
    "botao_next"
   ]
  },
  {
   "cell_type": "code",
   "execution_count": 58,
   "metadata": {},
   "outputs": [],
   "source": [
    "botao_next[-1].click()"
   ]
  },
  {
   "cell_type": "code",
   "execution_count": 68,
   "metadata": {},
   "outputs": [],
   "source": [
    "botao_next=pagination.find_element('xpath','//li[@class=\" ant-pagination-next\"]')\n"
   ]
  },
  {
   "cell_type": "code",
   "execution_count": 70,
   "metadata": {},
   "outputs": [],
   "source": [
    "botao_next.click()"
   ]
  },
  {
   "cell_type": "code",
   "execution_count": 4,
   "metadata": {},
   "outputs": [
    {
     "ename": "NameError",
     "evalue": "name 'driver' is not defined",
     "output_type": "error",
     "traceback": [
      "\u001b[0;31m---------------------------------------------------------------------------\u001b[0m",
      "\u001b[0;31mNameError\u001b[0m                                 Traceback (most recent call last)",
      "Cell \u001b[0;32mIn[4], line 1\u001b[0m\n\u001b[0;32m----> 1\u001b[0m opcoes\u001b[38;5;241m=\u001b[39m\u001b[43mdriver\u001b[49m\u001b[38;5;241m.\u001b[39mfind_elements(by\u001b[38;5;241m=\u001b[39m\u001b[38;5;124m'\u001b[39m\u001b[38;5;124mxpath\u001b[39m\u001b[38;5;124m'\u001b[39m,value\u001b[38;5;241m=\u001b[39m\u001b[38;5;124m'\u001b[39m\u001b[38;5;124m//th\u001b[39m\u001b[38;5;124m'\u001b[39m) \u001b[38;5;66;03m#Opcoes contidas no menu dropdown\u001b[39;00m\n",
      "\u001b[0;31mNameError\u001b[0m: name 'driver' is not defined"
     ]
    }
   ],
   "source": [
    "for feature in features:       \n",
    "    botoes_header=driver.find_elements(by='xpath',value='//th//img')\n",
    "    botoes_header=botoes_header[-1]\n",
    "    botoes_header.click()\n",
    "\n",
    "    for opcao in opcoes:\n",
    "        if opcao.text==feature:\n",
    "            opcao.click()\n",
    "            break\n",
    "        time.sleep(5)\n",
    "    "
   ]
  },
  {
   "cell_type": "code",
   "execution_count": 104,
   "metadata": {},
   "outputs": [],
   "source": [
    "botao_top=driver.find_element('xpath','//div[@class=\"back-top\"]')\n",
    "botao_top\n",
    "botao_top.click()"
   ]
  },
  {
   "cell_type": "code",
   "execution_count": 10,
   "metadata": {},
   "outputs": [
    {
     "ename": "NameError",
     "evalue": "name 'box_tabela' is not defined",
     "output_type": "error",
     "traceback": [
      "\u001b[0;31m---------------------------------------------------------------------------\u001b[0m",
      "\u001b[0;31mNameError\u001b[0m                                 Traceback (most recent call last)",
      "Cell \u001b[0;32mIn[10], line 2\u001b[0m\n\u001b[1;32m      1\u001b[0m table\u001b[38;5;241m=\u001b[39mdriver\u001b[38;5;241m.\u001b[39mfind_element(by\u001b[38;5;241m=\u001b[39m\u001b[38;5;124m'\u001b[39m\u001b[38;5;124mxpath\u001b[39m\u001b[38;5;124m'\u001b[39m,value\u001b[38;5;241m=\u001b[39m\u001b[38;5;124m\"\u001b[39m\u001b[38;5;124m//tbody\u001b[39m\u001b[38;5;124m\"\u001b[39m) \u001b[38;5;66;03m#tabela\u001b[39;00m\n\u001b[0;32m----> 2\u001b[0m table_rows\u001b[38;5;241m=\u001b[39m\u001b[43mbox_tabela\u001b[49m\u001b[38;5;241m.\u001b[39mfind_elements(by\u001b[38;5;241m=\u001b[39m\u001b[38;5;124m'\u001b[39m\u001b[38;5;124mxpath\u001b[39m\u001b[38;5;124m'\u001b[39m,value\u001b[38;5;241m=\u001b[39m\u001b[38;5;124m\"\u001b[39m\u001b[38;5;124m./tr\u001b[39m\u001b[38;5;124m\"\u001b[39m) \u001b[38;5;66;03m#rows da tabela\u001b[39;00m\n",
      "\u001b[0;31mNameError\u001b[0m: name 'box_tabela' is not defined"
     ]
    }
   ],
   "source": [
    "\n",
    "table=driver.find_element(by='xpath',value=\"//tbody\") #dados na tabela sem os header\n",
    "table_rows=box_tabela.find_elements(by='xpath',value=\"./tr\") #rows da tabela"
   ]
  },
  {
   "cell_type": "code",
   "execution_count": null,
   "metadata": {},
   "outputs": [],
   "source": [
    "#rows da tabela\n",
    "table_rows=box_tabela.find_elements(by='xpath',value=\"./tr\")"
   ]
  },
  {
   "cell_type": "code",
   "execution_count": null,
   "metadata": {},
   "outputs": [
    {
     "data": {
      "text/plain": [
       "[<selenium.webdriver.remote.webelement.WebElement (session=\"e20d329ccd9cc21e81f1773b8f8713c7\", element=\"13f0c55b-9f41-4be0-a301-4d60ba4b1de5\")>,\n",
       " <selenium.webdriver.remote.webelement.WebElement (session=\"e20d329ccd9cc21e81f1773b8f8713c7\", element=\"ad921455-bb6d-4bc9-bd9a-3691ca3976f0\")>,\n",
       " <selenium.webdriver.remote.webelement.WebElement (session=\"e20d329ccd9cc21e81f1773b8f8713c7\", element=\"b4d56309-c553-43cc-9787-90b5fdd3def8\")>,\n",
       " <selenium.webdriver.remote.webelement.WebElement (session=\"e20d329ccd9cc21e81f1773b8f8713c7\", element=\"1b8095f1-d716-403f-8412-66234a6eb19b\")>,\n",
       " <selenium.webdriver.remote.webelement.WebElement (session=\"e20d329ccd9cc21e81f1773b8f8713c7\", element=\"40e41827-b963-4c1b-905a-e6210927bfbf\")>,\n",
       " <selenium.webdriver.remote.webelement.WebElement (session=\"e20d329ccd9cc21e81f1773b8f8713c7\", element=\"92021748-168f-4dba-9b25-676b67d237b3\")>]"
      ]
     },
     "execution_count": 17,
     "metadata": {},
     "output_type": "execute_result"
    }
   ],
   "source": [
    "td=table_rows[0].find_elements(by='xpath',value='./td')\n",
    "td"
   ]
  },
  {
   "cell_type": "code",
   "execution_count": null,
   "metadata": {},
   "outputs": [
    {
     "name": "stdout",
     "output_type": "stream",
     "text": [
      "1\n",
      "Harvard University\n",
      "us\n",
      "100.0\n",
      "100.0\n"
     ]
    }
   ],
   "source": [
    "print(td[0].text)\n",
    "print(td[1].text)\n",
    "x=td[2].find_element(by='xpath',value='div[@class=\"region-img\"]')\n",
    "print(x.get_attribute(\"style\").split('/')[-1].split('.')[0])\n",
    "print(td[4].text)\n",
    "print(td[5].text)\n",
    "\n"
   ]
  },
  {
   "cell_type": "code",
   "execution_count": 40,
   "metadata": {},
   "outputs": [],
   "source": [
    "botoes_header=driver.find_elements(by='xpath',value='//th//img')\n",
    "botoes_header=botoes_header[-1]"
   ]
  },
  {
   "cell_type": "code",
   "execution_count": 56,
   "metadata": {},
   "outputs": [],
   "source": [
    "features=[\"Alumni\",'Award','HiCi','N&S','PUB','PCP']"
   ]
  },
  {
   "cell_type": "code",
   "execution_count": 50,
   "metadata": {},
   "outputs": [
    {
     "data": {
      "text/plain": [
       "[<selenium.webdriver.remote.webelement.WebElement (session=\"497da787d7ea0eec099d4486245de22d\", element=\"7a97d66b-603a-4edc-98e0-ded286bcd02e\")>,\n",
       " <selenium.webdriver.remote.webelement.WebElement (session=\"497da787d7ea0eec099d4486245de22d\", element=\"cadf30c7-9fa3-412d-be05-40ccd9bf4a5d\")>,\n",
       " <selenium.webdriver.remote.webelement.WebElement (session=\"497da787d7ea0eec099d4486245de22d\", element=\"38c7e874-7a7e-46a8-a6ab-c878a0b1d6b2\")>,\n",
       " <selenium.webdriver.remote.webelement.WebElement (session=\"497da787d7ea0eec099d4486245de22d\", element=\"fe6f7beb-a819-4b6f-ab14-5be7b6870d4a\")>,\n",
       " <selenium.webdriver.remote.webelement.WebElement (session=\"497da787d7ea0eec099d4486245de22d\", element=\"84aca737-921a-48ec-b23f-67c37451758c\")>,\n",
       " <selenium.webdriver.remote.webelement.WebElement (session=\"497da787d7ea0eec099d4486245de22d\", element=\"a2a52de9-867f-4c29-9540-0b0c7a055571\")>]"
      ]
     },
     "execution_count": 50,
     "metadata": {},
     "output_type": "execute_result"
    }
   ],
   "source": [
    "opcoes=driver.find_elements(by='xpath',value='//th')\n",
    "opcoes=opcoes[-1]\n",
    "opcoes=opcoes.find_elements('xpath','.//li')\n",
    "opcoes"
   ]
  },
  {
   "cell_type": "code",
   "execution_count": 52,
   "metadata": {},
   "outputs": [
    {
     "data": {
      "text/plain": [
       "'Award'"
      ]
     },
     "execution_count": 52,
     "metadata": {},
     "output_type": "execute_result"
    }
   ],
   "source": [
    "opcoes[1].text"
   ]
  },
  {
   "cell_type": "code",
   "execution_count": 58,
   "metadata": {},
   "outputs": [],
   "source": [
    "features=[\"Alumni\",'Award','HiCi','N&S','PUB','PCP']\n",
    "opcoes=driver.find_elements(by='xpath',value='//th')\n",
    "opcoes=opcoes[-1]\n",
    "opcoes=opcoes.find_elements('xpath','.//li')\n",
    "opcoes\n",
    "\n",
    "for feature in features:       \n",
    "    botoes_header=driver.find_elements(by='xpath',value='//th//img')\n",
    "    botoes_header=botoes_header[-1]\n",
    "    botoes_header.click()\n",
    "\n",
    "    for opcao in opcoes:\n",
    "        if opcao.text==feature:\n",
    "            opcao.click()\n",
    "            break\n",
    "        time.sleep(5)\n",
    "    "
   ]
  }
 ],
 "metadata": {
  "kernelspec": {
   "display_name": "education",
   "language": "python",
   "name": "python3"
  },
  "language_info": {
   "codemirror_mode": {
    "name": "ipython",
    "version": 3
   },
   "file_extension": ".py",
   "mimetype": "text/x-python",
   "name": "python",
   "nbconvert_exporter": "python",
   "pygments_lexer": "ipython3",
   "version": "3.12.4"
  }
 },
 "nbformat": 4,
 "nbformat_minor": 2
}
